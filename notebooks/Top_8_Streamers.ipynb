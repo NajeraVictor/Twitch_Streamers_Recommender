{
 "cells": [
  {
   "cell_type": "code",
   "execution_count": 77,
   "metadata": {},
   "outputs": [],
   "source": [
    "import pandas as pd\n",
    "import numpy as np\n",
    "import datetime\n",
    "from datetime import date"
   ]
  },
  {
   "cell_type": "code",
   "execution_count": 53,
   "metadata": {},
   "outputs": [],
   "source": [
    "columns = ['timestamp', 'game_name', 'total_active_channels', 'total_active_viewers']\n",
    "sully_gnome = pd.read_csv('natasha.csv',names=columns, header=None)\n",
    "general_data = pd.read_csv('final_general_view_06_07_19.csv')"
   ]
  },
  {
   "cell_type": "code",
   "execution_count": 15,
   "metadata": {},
   "outputs": [
    {
     "data": {
      "text/html": [
       "<div>\n",
       "<style scoped>\n",
       "    .dataframe tbody tr th:only-of-type {\n",
       "        vertical-align: middle;\n",
       "    }\n",
       "\n",
       "    .dataframe tbody tr th {\n",
       "        vertical-align: top;\n",
       "    }\n",
       "\n",
       "    .dataframe thead th {\n",
       "        text-align: right;\n",
       "    }\n",
       "</style>\n",
       "<table border=\"1\" class=\"dataframe\">\n",
       "  <thead>\n",
       "    <tr style=\"text-align: right;\">\n",
       "      <th></th>\n",
       "      <th>timestamp</th>\n",
       "      <th>game_name</th>\n",
       "      <th>total_active_channels</th>\n",
       "      <th>total_active_viewers</th>\n",
       "    </tr>\n",
       "  </thead>\n",
       "  <tbody>\n",
       "    <tr>\n",
       "      <th>0</th>\n",
       "      <td>2019-04-22 00:00:00.000</td>\n",
       "      <td>League of Legends</td>\n",
       "      <td>3160</td>\n",
       "      <td>97898</td>\n",
       "    </tr>\n",
       "    <tr>\n",
       "      <th>1</th>\n",
       "      <td>2019-04-22 00:00:00.000</td>\n",
       "      <td>Counter-Strike: Global Offensive</td>\n",
       "      <td>1246</td>\n",
       "      <td>54330</td>\n",
       "    </tr>\n",
       "    <tr>\n",
       "      <th>2</th>\n",
       "      <td>2019-04-22 00:00:00.000</td>\n",
       "      <td>Ultra Street Fighter IV</td>\n",
       "      <td>2</td>\n",
       "      <td>144</td>\n",
       "    </tr>\n",
       "    <tr>\n",
       "      <th>3</th>\n",
       "      <td>2019-04-22 00:00:00.000</td>\n",
       "      <td>Hearthstone</td>\n",
       "      <td>224</td>\n",
       "      <td>33632</td>\n",
       "    </tr>\n",
       "    <tr>\n",
       "      <th>4</th>\n",
       "      <td>2019-04-22 00:00:00.000</td>\n",
       "      <td>Dota 2</td>\n",
       "      <td>467</td>\n",
       "      <td>27497</td>\n",
       "    </tr>\n",
       "  </tbody>\n",
       "</table>\n",
       "</div>"
      ],
      "text/plain": [
       "                 timestamp                         game_name  \\\n",
       "0  2019-04-22 00:00:00.000                 League of Legends   \n",
       "1  2019-04-22 00:00:00.000  Counter-Strike: Global Offensive   \n",
       "2  2019-04-22 00:00:00.000           Ultra Street Fighter IV   \n",
       "3  2019-04-22 00:00:00.000                       Hearthstone   \n",
       "4  2019-04-22 00:00:00.000                            Dota 2   \n",
       "\n",
       "   total_active_channels  total_active_viewers  \n",
       "0                   3160                 97898  \n",
       "1                   1246                 54330  \n",
       "2                      2                   144  \n",
       "3                    224                 33632  \n",
       "4                    467                 27497  "
      ]
     },
     "execution_count": 15,
     "metadata": {},
     "output_type": "execute_result"
    }
   ],
   "source": [
    "sully_gnome.head()"
   ]
  },
  {
   "cell_type": "code",
   "execution_count": 36,
   "metadata": {},
   "outputs": [],
   "source": [
    "#day of week\n",
    "day_of_week = []\n",
    "for item in sully_gnome['timestamp']:\n",
    "    day = datetime.datetime.strptime(item, \"%Y-%m-%d %H:%M:%S.%f\").strftime('%A')\n",
    "    day_of_week.append(day)\n",
    "    \n",
    "\n",
    "# datetime.datetime.strptime(sully_gnome['timestamp'][0], \"%Y-%m-%d %H:%M:%S.%f\").strftime('%A')"
   ]
  },
  {
   "cell_type": "code",
   "execution_count": 68,
   "metadata": {},
   "outputs": [],
   "source": [
    "#hour\n",
    "\n",
    "hours = []\n",
    "\n",
    "for item in sully_gnome['timestamp']:\n",
    "    hour = datetime.datetime.strptime(item, \"%Y-%m-%d %H:%M:%S.%f\").strftime('%H')\n",
    "    hours.append(int(hour))\n"
   ]
  },
  {
   "cell_type": "code",
   "execution_count": 32,
   "metadata": {},
   "outputs": [],
   "source": [
    "#viewers to channels ratio (SG doesn't give top streamers)\n",
    "(sully_gnome['total_active_viewers']/sully_gnome['total_active_channels'])\n"
   ]
  },
  {
   "cell_type": "code",
   "execution_count": 69,
   "metadata": {},
   "outputs": [],
   "source": [
    "#add all new columns to SG data\n",
    "sully_gnome['day_of_week'] = day_of_week\n",
    "sully_gnome['hour'] = hours\n",
    "sully_gnome['viewers_to_channels_ratio']=(sully_gnome['total_active_viewers']/sully_gnome['total_active_channels'])"
   ]
  },
  {
   "cell_type": "code",
   "execution_count": 70,
   "metadata": {},
   "outputs": [],
   "source": [
    "df_SG = sully_gnome[['game_name','day_of_week','hour','viewers_to_channels_ratio']]"
   ]
  },
  {
   "cell_type": "code",
   "execution_count": 71,
   "metadata": {},
   "outputs": [
    {
     "data": {
      "text/html": [
       "<div>\n",
       "<style scoped>\n",
       "    .dataframe tbody tr th:only-of-type {\n",
       "        vertical-align: middle;\n",
       "    }\n",
       "\n",
       "    .dataframe tbody tr th {\n",
       "        vertical-align: top;\n",
       "    }\n",
       "\n",
       "    .dataframe thead th {\n",
       "        text-align: right;\n",
       "    }\n",
       "</style>\n",
       "<table border=\"1\" class=\"dataframe\">\n",
       "  <thead>\n",
       "    <tr style=\"text-align: right;\">\n",
       "      <th></th>\n",
       "      <th>game_name</th>\n",
       "      <th>day_of_week</th>\n",
       "      <th>hour</th>\n",
       "      <th>viewers_to_channels_ratio</th>\n",
       "    </tr>\n",
       "  </thead>\n",
       "  <tbody>\n",
       "    <tr>\n",
       "      <th>0</th>\n",
       "      <td>League of Legends</td>\n",
       "      <td>Monday</td>\n",
       "      <td>0</td>\n",
       "      <td>30.980380</td>\n",
       "    </tr>\n",
       "    <tr>\n",
       "      <th>1</th>\n",
       "      <td>Counter-Strike: Global Offensive</td>\n",
       "      <td>Monday</td>\n",
       "      <td>0</td>\n",
       "      <td>43.603531</td>\n",
       "    </tr>\n",
       "    <tr>\n",
       "      <th>2</th>\n",
       "      <td>Ultra Street Fighter IV</td>\n",
       "      <td>Monday</td>\n",
       "      <td>0</td>\n",
       "      <td>72.000000</td>\n",
       "    </tr>\n",
       "    <tr>\n",
       "      <th>3</th>\n",
       "      <td>Hearthstone</td>\n",
       "      <td>Monday</td>\n",
       "      <td>0</td>\n",
       "      <td>150.142857</td>\n",
       "    </tr>\n",
       "    <tr>\n",
       "      <th>4</th>\n",
       "      <td>Dota 2</td>\n",
       "      <td>Monday</td>\n",
       "      <td>0</td>\n",
       "      <td>58.880086</td>\n",
       "    </tr>\n",
       "  </tbody>\n",
       "</table>\n",
       "</div>"
      ],
      "text/plain": [
       "                          game_name day_of_week  hour  \\\n",
       "0                 League of Legends      Monday     0   \n",
       "1  Counter-Strike: Global Offensive      Monday     0   \n",
       "2           Ultra Street Fighter IV      Monday     0   \n",
       "3                       Hearthstone      Monday     0   \n",
       "4                            Dota 2      Monday     0   \n",
       "\n",
       "   viewers_to_channels_ratio  \n",
       "0                  30.980380  \n",
       "1                  43.603531  \n",
       "2                  72.000000  \n",
       "3                 150.142857  \n",
       "4                  58.880086  "
      ]
     },
     "execution_count": 71,
     "metadata": {},
     "output_type": "execute_result"
    }
   ],
   "source": [
    "df_SG.head()"
   ]
  },
  {
   "cell_type": "code",
   "execution_count": 16,
   "metadata": {
    "scrolled": false
   },
   "outputs": [],
   "source": [
    "# general_data.head()\n",
    "#important columns: user_name, title, "
   ]
  },
  {
   "cell_type": "markdown",
   "metadata": {},
   "source": [
    "# What the focus is\n",
    "\n",
    "- Top 8 channels: (viewers in top 8 streamer's stream/viewers in game)\n",
    "- Useful data from Sully: timestamp (GameName, DayOfWeek, HourOfDay, MaxActiveViewers)\n",
    "- Useful data from Ours: (GameTitle, DayOfWeek, HourOfDay (rounded to match Sully), MaxActiveViewers)"
   ]
  },
  {
   "cell_type": "code",
   "execution_count": 137,
   "metadata": {},
   "outputs": [
    {
     "data": {
      "text/html": [
       "<div>\n",
       "<style scoped>\n",
       "    .dataframe tbody tr th:only-of-type {\n",
       "        vertical-align: middle;\n",
       "    }\n",
       "\n",
       "    .dataframe tbody tr th {\n",
       "        vertical-align: top;\n",
       "    }\n",
       "\n",
       "    .dataframe thead th {\n",
       "        text-align: right;\n",
       "    }\n",
       "</style>\n",
       "<table border=\"1\" class=\"dataframe\">\n",
       "  <thead>\n",
       "    <tr style=\"text-align: right;\">\n",
       "      <th></th>\n",
       "      <th>stream_id</th>\n",
       "      <th>user_id</th>\n",
       "      <th>user_name</th>\n",
       "      <th>game_id</th>\n",
       "      <th>stream_type</th>\n",
       "      <th>title</th>\n",
       "      <th>viewer_count</th>\n",
       "      <th>started_at</th>\n",
       "      <th>language</th>\n",
       "      <th>time_logged</th>\n",
       "      <th>game_name</th>\n",
       "      <th>pic_url</th>\n",
       "      <th>game_genres</th>\n",
       "    </tr>\n",
       "  </thead>\n",
       "  <tbody>\n",
       "    <tr>\n",
       "      <th>0</th>\n",
       "      <td>34424458080</td>\n",
       "      <td>169404114</td>\n",
       "      <td>exxtrem_tv</td>\n",
       "      <td>27546</td>\n",
       "      <td>live</td>\n",
       "      <td>World of Tanks [GER] Relax</td>\n",
       "      <td>2</td>\n",
       "      <td>2019-06-06 09:10:12</td>\n",
       "      <td>de</td>\n",
       "      <td>2019-06-06 10:03:24</td>\n",
       "      <td>World of Tanks</td>\n",
       "      <td>https://static-cdn.jtvnw.net/ttv-boxart/World%...</td>\n",
       "      <td>Action</td>\n",
       "    </tr>\n",
       "    <tr>\n",
       "      <th>1</th>\n",
       "      <td>34424458080</td>\n",
       "      <td>169404114</td>\n",
       "      <td>exxtrem_tv</td>\n",
       "      <td>27546</td>\n",
       "      <td>live</td>\n",
       "      <td>World of Tanks [GER] Relax</td>\n",
       "      <td>2</td>\n",
       "      <td>2019-06-06 09:10:12</td>\n",
       "      <td>de</td>\n",
       "      <td>2019-06-06 10:03:24</td>\n",
       "      <td>World of Tanks</td>\n",
       "      <td>https://static-cdn.jtvnw.net/ttv-boxart/World%...</td>\n",
       "      <td>Simulation</td>\n",
       "    </tr>\n",
       "    <tr>\n",
       "      <th>2</th>\n",
       "      <td>34424458080</td>\n",
       "      <td>169404114</td>\n",
       "      <td>exxtrem_tv</td>\n",
       "      <td>27546</td>\n",
       "      <td>live</td>\n",
       "      <td>World of Tanks [GER] Relax</td>\n",
       "      <td>2</td>\n",
       "      <td>2019-06-06 09:10:12</td>\n",
       "      <td>de</td>\n",
       "      <td>2019-06-06 10:03:24</td>\n",
       "      <td>World of Tanks</td>\n",
       "      <td>https://static-cdn.jtvnw.net/ttv-boxart/World%...</td>\n",
       "      <td>Action</td>\n",
       "    </tr>\n",
       "    <tr>\n",
       "      <th>3</th>\n",
       "      <td>34424458080</td>\n",
       "      <td>169404114</td>\n",
       "      <td>exxtrem_tv</td>\n",
       "      <td>27546</td>\n",
       "      <td>live</td>\n",
       "      <td>World of Tanks [GER] Relax</td>\n",
       "      <td>2</td>\n",
       "      <td>2019-06-06 09:10:12</td>\n",
       "      <td>de</td>\n",
       "      <td>2019-06-06 10:03:24</td>\n",
       "      <td>World of Tanks</td>\n",
       "      <td>https://static-cdn.jtvnw.net/ttv-boxart/World%...</td>\n",
       "      <td>Simulation</td>\n",
       "    </tr>\n",
       "    <tr>\n",
       "      <th>4</th>\n",
       "      <td>34424451472</td>\n",
       "      <td>415641747</td>\n",
       "      <td>ghcgroup</td>\n",
       "      <td>27546</td>\n",
       "      <td>live</td>\n",
       "      <td>Деды</td>\n",
       "      <td>2</td>\n",
       "      <td>2019-06-06 09:08:43</td>\n",
       "      <td>ru</td>\n",
       "      <td>2019-06-06 10:03:24</td>\n",
       "      <td>World of Tanks</td>\n",
       "      <td>https://static-cdn.jtvnw.net/ttv-boxart/World%...</td>\n",
       "      <td>Action</td>\n",
       "    </tr>\n",
       "  </tbody>\n",
       "</table>\n",
       "</div>"
      ],
      "text/plain": [
       "     stream_id    user_id   user_name  game_id stream_type  \\\n",
       "0  34424458080  169404114  exxtrem_tv    27546        live   \n",
       "1  34424458080  169404114  exxtrem_tv    27546        live   \n",
       "2  34424458080  169404114  exxtrem_tv    27546        live   \n",
       "3  34424458080  169404114  exxtrem_tv    27546        live   \n",
       "4  34424451472  415641747    ghcgroup    27546        live   \n",
       "\n",
       "                         title  viewer_count           started_at language  \\\n",
       "0  World of Tanks [GER] Relax              2  2019-06-06 09:10:12       de   \n",
       "1  World of Tanks [GER] Relax              2  2019-06-06 09:10:12       de   \n",
       "2  World of Tanks [GER] Relax              2  2019-06-06 09:10:12       de   \n",
       "3  World of Tanks [GER] Relax              2  2019-06-06 09:10:12       de   \n",
       "4                         Деды             2  2019-06-06 09:08:43       ru   \n",
       "\n",
       "           time_logged       game_name  \\\n",
       "0  2019-06-06 10:03:24  World of Tanks   \n",
       "1  2019-06-06 10:03:24  World of Tanks   \n",
       "2  2019-06-06 10:03:24  World of Tanks   \n",
       "3  2019-06-06 10:03:24  World of Tanks   \n",
       "4  2019-06-06 10:03:24  World of Tanks   \n",
       "\n",
       "                                             pic_url game_genres  \n",
       "0  https://static-cdn.jtvnw.net/ttv-boxart/World%...      Action  \n",
       "1  https://static-cdn.jtvnw.net/ttv-boxart/World%...  Simulation  \n",
       "2  https://static-cdn.jtvnw.net/ttv-boxart/World%...      Action  \n",
       "3  https://static-cdn.jtvnw.net/ttv-boxart/World%...  Simulation  \n",
       "4  https://static-cdn.jtvnw.net/ttv-boxart/World%...      Action  "
      ]
     },
     "execution_count": 137,
     "metadata": {},
     "output_type": "execute_result"
    }
   ],
   "source": [
    "general_data.head()"
   ]
  },
  {
   "cell_type": "code",
   "execution_count": null,
   "metadata": {},
   "outputs": [],
   "source": [
    "#need: user_name, game_name, time_logged (as day_of_week and hour), viewer_count, "
   ]
  },
  {
   "cell_type": "code",
   "execution_count": 117,
   "metadata": {},
   "outputs": [],
   "source": [
    "#round the hour to the nearest hour\n",
    "def round_time(dt=None, round_to=60):\n",
    "    if dt == None: \n",
    "        dt = datetime.datetime.now()\n",
    "    seconds = (dt - dt.min).seconds\n",
    "    rounding = (seconds+round_to/2) // round_to * round_to\n",
    "    return dt + datetime.timedelta(0,rounding-seconds,-dt.microsecond)"
   ]
  },
  {
   "cell_type": "code",
   "execution_count": 129,
   "metadata": {},
   "outputs": [
    {
     "data": {
      "text/plain": [
       "datetime.datetime(2019, 6, 6, 10, 3, 24)"
      ]
     },
     "execution_count": 129,
     "metadata": {},
     "output_type": "execute_result"
    }
   ],
   "source": [
    "#original datetime sample\n",
    "datetime.datetime.strptime(general_data['time_logged'][0],\"%Y-%m-%d %H:%M:%S\")"
   ]
  },
  {
   "cell_type": "code",
   "execution_count": 130,
   "metadata": {},
   "outputs": [
    {
     "data": {
      "text/plain": [
       "datetime.datetime(2019, 6, 6, 10, 0)"
      ]
     },
     "execution_count": 130,
     "metadata": {},
     "output_type": "execute_result"
    }
   ],
   "source": [
    "#rounded datetime sample\n",
    "round_time(datetime.datetime.strptime(general_data['time_logged'][0],\"%Y-%m-%d %H:%M:%S\"),round_to=60*60)"
   ]
  },
  {
   "cell_type": "code",
   "execution_count": 131,
   "metadata": {},
   "outputs": [
    {
     "data": {
      "text/plain": [
       "'10'"
      ]
     },
     "execution_count": 131,
     "metadata": {},
     "output_type": "execute_result"
    }
   ],
   "source": [
    "#hour only datetime\n",
    "round_time(datetime.datetime.strptime(general_data['time_logged'][0],\"%Y-%m-%d %H:%M:%S\"),round_to=60*60).strftime('%H')"
   ]
  },
  {
   "cell_type": "code",
   "execution_count": 134,
   "metadata": {},
   "outputs": [],
   "source": [
    "#day of week\n",
    "\n",
    "gen_day_of_week = []\n",
    "for item in general_data['time_logged']:\n",
    "    day = round_time(datetime.datetime.strptime(item,\"%Y-%m-%d %H:%M:%S\"),\\\n",
    "                     round_to=60*60).strftime('%A')\n",
    "    gen_day_of_week.append(day)"
   ]
  },
  {
   "cell_type": "code",
   "execution_count": 135,
   "metadata": {},
   "outputs": [],
   "source": [
    "#hour\n",
    "\n",
    "gen_hours = []\n",
    "\n",
    "for item in general_data['time_logged']:\n",
    "    hour = round_time(datetime.datetime.strptime(item,\"%Y-%m-%d %H:%M:%S\"),\\\n",
    "                     round_to=60*60).strftime('%H')\n",
    "    gen_hours.append(int(hour))\n"
   ]
  },
  {
   "cell_type": "code",
   "execution_count": 139,
   "metadata": {},
   "outputs": [
    {
     "name": "stdout",
     "output_type": "stream",
     "text": [
      "{'Thursday', 'Tuesday', 'Monday', 'Sunday', 'Saturday', 'Wednesday', 'Friday'}\n"
     ]
    }
   ],
   "source": [
    "#check if days of week are covered\n",
    "print(set(gen_day_of_week))"
   ]
  },
  {
   "cell_type": "code",
   "execution_count": 141,
   "metadata": {},
   "outputs": [
    {
     "name": "stdout",
     "output_type": "stream",
     "text": [
      "{0, 1, 2, 3, 4, 5, 6, 7, 8, 9, 10, 11, 12, 13, 14, 15, 16, 17, 18, 19, 20, 21, 22, 23}\n"
     ]
    }
   ],
   "source": [
    "#check to see if hours are covered\n",
    "print(set(gen_hours))"
   ]
  },
  {
   "cell_type": "code",
   "execution_count": 142,
   "metadata": {},
   "outputs": [
    {
     "data": {
      "text/plain": [
       "0"
      ]
     },
     "execution_count": 142,
     "metadata": {},
     "output_type": "execute_result"
    }
   ],
   "source": [
    "len(general_data) - len(gen_day_of_week)"
   ]
  },
  {
   "cell_type": "code",
   "execution_count": 144,
   "metadata": {},
   "outputs": [],
   "source": [
    "#add new data to general_data\n",
    "general_data['day_of_week'] = gen_day_of_week\n",
    "general_data['hour'] = gen_hours"
   ]
  },
  {
   "cell_type": "code",
   "execution_count": 145,
   "metadata": {},
   "outputs": [
    {
     "data": {
      "text/html": [
       "<div>\n",
       "<style scoped>\n",
       "    .dataframe tbody tr th:only-of-type {\n",
       "        vertical-align: middle;\n",
       "    }\n",
       "\n",
       "    .dataframe tbody tr th {\n",
       "        vertical-align: top;\n",
       "    }\n",
       "\n",
       "    .dataframe thead th {\n",
       "        text-align: right;\n",
       "    }\n",
       "</style>\n",
       "<table border=\"1\" class=\"dataframe\">\n",
       "  <thead>\n",
       "    <tr style=\"text-align: right;\">\n",
       "      <th></th>\n",
       "      <th>stream_id</th>\n",
       "      <th>user_id</th>\n",
       "      <th>user_name</th>\n",
       "      <th>game_id</th>\n",
       "      <th>stream_type</th>\n",
       "      <th>title</th>\n",
       "      <th>viewer_count</th>\n",
       "      <th>started_at</th>\n",
       "      <th>language</th>\n",
       "      <th>time_logged</th>\n",
       "      <th>game_name</th>\n",
       "      <th>pic_url</th>\n",
       "      <th>game_genres</th>\n",
       "      <th>day_of_week</th>\n",
       "      <th>hour</th>\n",
       "    </tr>\n",
       "  </thead>\n",
       "  <tbody>\n",
       "    <tr>\n",
       "      <th>0</th>\n",
       "      <td>34424458080</td>\n",
       "      <td>169404114</td>\n",
       "      <td>exxtrem_tv</td>\n",
       "      <td>27546</td>\n",
       "      <td>live</td>\n",
       "      <td>World of Tanks [GER] Relax</td>\n",
       "      <td>2</td>\n",
       "      <td>2019-06-06 09:10:12</td>\n",
       "      <td>de</td>\n",
       "      <td>2019-06-06 10:03:24</td>\n",
       "      <td>World of Tanks</td>\n",
       "      <td>https://static-cdn.jtvnw.net/ttv-boxart/World%...</td>\n",
       "      <td>Action</td>\n",
       "      <td>Thursday</td>\n",
       "      <td>10</td>\n",
       "    </tr>\n",
       "    <tr>\n",
       "      <th>1</th>\n",
       "      <td>34424458080</td>\n",
       "      <td>169404114</td>\n",
       "      <td>exxtrem_tv</td>\n",
       "      <td>27546</td>\n",
       "      <td>live</td>\n",
       "      <td>World of Tanks [GER] Relax</td>\n",
       "      <td>2</td>\n",
       "      <td>2019-06-06 09:10:12</td>\n",
       "      <td>de</td>\n",
       "      <td>2019-06-06 10:03:24</td>\n",
       "      <td>World of Tanks</td>\n",
       "      <td>https://static-cdn.jtvnw.net/ttv-boxart/World%...</td>\n",
       "      <td>Simulation</td>\n",
       "      <td>Thursday</td>\n",
       "      <td>10</td>\n",
       "    </tr>\n",
       "    <tr>\n",
       "      <th>2</th>\n",
       "      <td>34424458080</td>\n",
       "      <td>169404114</td>\n",
       "      <td>exxtrem_tv</td>\n",
       "      <td>27546</td>\n",
       "      <td>live</td>\n",
       "      <td>World of Tanks [GER] Relax</td>\n",
       "      <td>2</td>\n",
       "      <td>2019-06-06 09:10:12</td>\n",
       "      <td>de</td>\n",
       "      <td>2019-06-06 10:03:24</td>\n",
       "      <td>World of Tanks</td>\n",
       "      <td>https://static-cdn.jtvnw.net/ttv-boxart/World%...</td>\n",
       "      <td>Action</td>\n",
       "      <td>Thursday</td>\n",
       "      <td>10</td>\n",
       "    </tr>\n",
       "    <tr>\n",
       "      <th>3</th>\n",
       "      <td>34424458080</td>\n",
       "      <td>169404114</td>\n",
       "      <td>exxtrem_tv</td>\n",
       "      <td>27546</td>\n",
       "      <td>live</td>\n",
       "      <td>World of Tanks [GER] Relax</td>\n",
       "      <td>2</td>\n",
       "      <td>2019-06-06 09:10:12</td>\n",
       "      <td>de</td>\n",
       "      <td>2019-06-06 10:03:24</td>\n",
       "      <td>World of Tanks</td>\n",
       "      <td>https://static-cdn.jtvnw.net/ttv-boxart/World%...</td>\n",
       "      <td>Simulation</td>\n",
       "      <td>Thursday</td>\n",
       "      <td>10</td>\n",
       "    </tr>\n",
       "    <tr>\n",
       "      <th>4</th>\n",
       "      <td>34424451472</td>\n",
       "      <td>415641747</td>\n",
       "      <td>ghcgroup</td>\n",
       "      <td>27546</td>\n",
       "      <td>live</td>\n",
       "      <td>Деды</td>\n",
       "      <td>2</td>\n",
       "      <td>2019-06-06 09:08:43</td>\n",
       "      <td>ru</td>\n",
       "      <td>2019-06-06 10:03:24</td>\n",
       "      <td>World of Tanks</td>\n",
       "      <td>https://static-cdn.jtvnw.net/ttv-boxart/World%...</td>\n",
       "      <td>Action</td>\n",
       "      <td>Thursday</td>\n",
       "      <td>10</td>\n",
       "    </tr>\n",
       "  </tbody>\n",
       "</table>\n",
       "</div>"
      ],
      "text/plain": [
       "     stream_id    user_id   user_name  game_id stream_type  \\\n",
       "0  34424458080  169404114  exxtrem_tv    27546        live   \n",
       "1  34424458080  169404114  exxtrem_tv    27546        live   \n",
       "2  34424458080  169404114  exxtrem_tv    27546        live   \n",
       "3  34424458080  169404114  exxtrem_tv    27546        live   \n",
       "4  34424451472  415641747    ghcgroup    27546        live   \n",
       "\n",
       "                         title  viewer_count           started_at language  \\\n",
       "0  World of Tanks [GER] Relax              2  2019-06-06 09:10:12       de   \n",
       "1  World of Tanks [GER] Relax              2  2019-06-06 09:10:12       de   \n",
       "2  World of Tanks [GER] Relax              2  2019-06-06 09:10:12       de   \n",
       "3  World of Tanks [GER] Relax              2  2019-06-06 09:10:12       de   \n",
       "4                         Деды             2  2019-06-06 09:08:43       ru   \n",
       "\n",
       "           time_logged       game_name  \\\n",
       "0  2019-06-06 10:03:24  World of Tanks   \n",
       "1  2019-06-06 10:03:24  World of Tanks   \n",
       "2  2019-06-06 10:03:24  World of Tanks   \n",
       "3  2019-06-06 10:03:24  World of Tanks   \n",
       "4  2019-06-06 10:03:24  World of Tanks   \n",
       "\n",
       "                                             pic_url game_genres day_of_week  \\\n",
       "0  https://static-cdn.jtvnw.net/ttv-boxart/World%...      Action    Thursday   \n",
       "1  https://static-cdn.jtvnw.net/ttv-boxart/World%...  Simulation    Thursday   \n",
       "2  https://static-cdn.jtvnw.net/ttv-boxart/World%...      Action    Thursday   \n",
       "3  https://static-cdn.jtvnw.net/ttv-boxart/World%...  Simulation    Thursday   \n",
       "4  https://static-cdn.jtvnw.net/ttv-boxart/World%...      Action    Thursday   \n",
       "\n",
       "   hour  \n",
       "0    10  \n",
       "1    10  \n",
       "2    10  \n",
       "3    10  \n",
       "4    10  "
      ]
     },
     "execution_count": 145,
     "metadata": {},
     "output_type": "execute_result"
    }
   ],
   "source": [
    "general_data.head()"
   ]
  },
  {
   "cell_type": "code",
   "execution_count": 146,
   "metadata": {},
   "outputs": [],
   "source": [
    "df_GD = general_data[['game_name','user_name','viewer_count','day_of_week','hour']]"
   ]
  },
  {
   "cell_type": "code",
   "execution_count": 148,
   "metadata": {},
   "outputs": [
    {
     "data": {
      "text/html": [
       "<div>\n",
       "<style scoped>\n",
       "    .dataframe tbody tr th:only-of-type {\n",
       "        vertical-align: middle;\n",
       "    }\n",
       "\n",
       "    .dataframe tbody tr th {\n",
       "        vertical-align: top;\n",
       "    }\n",
       "\n",
       "    .dataframe thead th {\n",
       "        text-align: right;\n",
       "    }\n",
       "</style>\n",
       "<table border=\"1\" class=\"dataframe\">\n",
       "  <thead>\n",
       "    <tr style=\"text-align: right;\">\n",
       "      <th></th>\n",
       "      <th>game_name</th>\n",
       "      <th>user_name</th>\n",
       "      <th>viewer_count</th>\n",
       "      <th>day_of_week</th>\n",
       "      <th>hour</th>\n",
       "    </tr>\n",
       "  </thead>\n",
       "  <tbody>\n",
       "    <tr>\n",
       "      <th>0</th>\n",
       "      <td>World of Tanks</td>\n",
       "      <td>exxtrem_tv</td>\n",
       "      <td>2</td>\n",
       "      <td>Thursday</td>\n",
       "      <td>10</td>\n",
       "    </tr>\n",
       "    <tr>\n",
       "      <th>1</th>\n",
       "      <td>World of Tanks</td>\n",
       "      <td>exxtrem_tv</td>\n",
       "      <td>2</td>\n",
       "      <td>Thursday</td>\n",
       "      <td>10</td>\n",
       "    </tr>\n",
       "    <tr>\n",
       "      <th>2</th>\n",
       "      <td>World of Tanks</td>\n",
       "      <td>exxtrem_tv</td>\n",
       "      <td>2</td>\n",
       "      <td>Thursday</td>\n",
       "      <td>10</td>\n",
       "    </tr>\n",
       "    <tr>\n",
       "      <th>3</th>\n",
       "      <td>World of Tanks</td>\n",
       "      <td>exxtrem_tv</td>\n",
       "      <td>2</td>\n",
       "      <td>Thursday</td>\n",
       "      <td>10</td>\n",
       "    </tr>\n",
       "    <tr>\n",
       "      <th>4</th>\n",
       "      <td>World of Tanks</td>\n",
       "      <td>ghcgroup</td>\n",
       "      <td>2</td>\n",
       "      <td>Thursday</td>\n",
       "      <td>10</td>\n",
       "    </tr>\n",
       "  </tbody>\n",
       "</table>\n",
       "</div>"
      ],
      "text/plain": [
       "        game_name   user_name  viewer_count day_of_week  hour\n",
       "0  World of Tanks  exxtrem_tv             2    Thursday    10\n",
       "1  World of Tanks  exxtrem_tv             2    Thursday    10\n",
       "2  World of Tanks  exxtrem_tv             2    Thursday    10\n",
       "3  World of Tanks  exxtrem_tv             2    Thursday    10\n",
       "4  World of Tanks    ghcgroup             2    Thursday    10"
      ]
     },
     "execution_count": 148,
     "metadata": {},
     "output_type": "execute_result"
    }
   ],
   "source": [
    "\n",
    "df_GD.head()"
   ]
  },
  {
   "cell_type": "code",
   "execution_count": 149,
   "metadata": {},
   "outputs": [
    {
     "data": {
      "text/html": [
       "<div>\n",
       "<style scoped>\n",
       "    .dataframe tbody tr th:only-of-type {\n",
       "        vertical-align: middle;\n",
       "    }\n",
       "\n",
       "    .dataframe tbody tr th {\n",
       "        vertical-align: top;\n",
       "    }\n",
       "\n",
       "    .dataframe thead th {\n",
       "        text-align: right;\n",
       "    }\n",
       "</style>\n",
       "<table border=\"1\" class=\"dataframe\">\n",
       "  <thead>\n",
       "    <tr style=\"text-align: right;\">\n",
       "      <th></th>\n",
       "      <th>game_name</th>\n",
       "      <th>day_of_week</th>\n",
       "      <th>hour</th>\n",
       "      <th>viewers_to_channels_ratio</th>\n",
       "    </tr>\n",
       "  </thead>\n",
       "  <tbody>\n",
       "    <tr>\n",
       "      <th>0</th>\n",
       "      <td>League of Legends</td>\n",
       "      <td>Monday</td>\n",
       "      <td>0</td>\n",
       "      <td>30.980380</td>\n",
       "    </tr>\n",
       "    <tr>\n",
       "      <th>1</th>\n",
       "      <td>Counter-Strike: Global Offensive</td>\n",
       "      <td>Monday</td>\n",
       "      <td>0</td>\n",
       "      <td>43.603531</td>\n",
       "    </tr>\n",
       "    <tr>\n",
       "      <th>2</th>\n",
       "      <td>Ultra Street Fighter IV</td>\n",
       "      <td>Monday</td>\n",
       "      <td>0</td>\n",
       "      <td>72.000000</td>\n",
       "    </tr>\n",
       "    <tr>\n",
       "      <th>3</th>\n",
       "      <td>Hearthstone</td>\n",
       "      <td>Monday</td>\n",
       "      <td>0</td>\n",
       "      <td>150.142857</td>\n",
       "    </tr>\n",
       "    <tr>\n",
       "      <th>4</th>\n",
       "      <td>Dota 2</td>\n",
       "      <td>Monday</td>\n",
       "      <td>0</td>\n",
       "      <td>58.880086</td>\n",
       "    </tr>\n",
       "  </tbody>\n",
       "</table>\n",
       "</div>"
      ],
      "text/plain": [
       "                          game_name day_of_week  hour  \\\n",
       "0                 League of Legends      Monday     0   \n",
       "1  Counter-Strike: Global Offensive      Monday     0   \n",
       "2           Ultra Street Fighter IV      Monday     0   \n",
       "3                       Hearthstone      Monday     0   \n",
       "4                            Dota 2      Monday     0   \n",
       "\n",
       "   viewers_to_channels_ratio  \n",
       "0                  30.980380  \n",
       "1                  43.603531  \n",
       "2                  72.000000  \n",
       "3                 150.142857  \n",
       "4                  58.880086  "
      ]
     },
     "execution_count": 149,
     "metadata": {},
     "output_type": "execute_result"
    }
   ],
   "source": [
    "df_SG.head()"
   ]
  },
  {
   "cell_type": "code",
   "execution_count": null,
   "metadata": {},
   "outputs": [],
   "source": []
  },
  {
   "cell_type": "code",
   "execution_count": null,
   "metadata": {},
   "outputs": [],
   "source": []
  },
  {
   "cell_type": "code",
   "execution_count": null,
   "metadata": {},
   "outputs": [],
   "source": []
  },
  {
   "cell_type": "code",
   "execution_count": null,
   "metadata": {},
   "outputs": [],
   "source": []
  },
  {
   "cell_type": "code",
   "execution_count": null,
   "metadata": {},
   "outputs": [],
   "source": []
  },
  {
   "cell_type": "code",
   "execution_count": null,
   "metadata": {},
   "outputs": [],
   "source": []
  },
  {
   "cell_type": "code",
   "execution_count": null,
   "metadata": {},
   "outputs": [],
   "source": []
  },
  {
   "cell_type": "code",
   "execution_count": null,
   "metadata": {},
   "outputs": [],
   "source": []
  },
  {
   "cell_type": "code",
   "execution_count": null,
   "metadata": {},
   "outputs": [],
   "source": []
  },
  {
   "cell_type": "code",
   "execution_count": null,
   "metadata": {},
   "outputs": [],
   "source": []
  },
  {
   "cell_type": "code",
   "execution_count": null,
   "metadata": {},
   "outputs": [],
   "source": []
  },
  {
   "cell_type": "code",
   "execution_count": null,
   "metadata": {},
   "outputs": [],
   "source": []
  },
  {
   "cell_type": "code",
   "execution_count": null,
   "metadata": {},
   "outputs": [],
   "source": []
  },
  {
   "cell_type": "code",
   "execution_count": null,
   "metadata": {},
   "outputs": [],
   "source": []
  },
  {
   "cell_type": "code",
   "execution_count": null,
   "metadata": {},
   "outputs": [],
   "source": []
  },
  {
   "cell_type": "code",
   "execution_count": null,
   "metadata": {},
   "outputs": [],
   "source": []
  },
  {
   "cell_type": "code",
   "execution_count": null,
   "metadata": {},
   "outputs": [],
   "source": []
  },
  {
   "cell_type": "code",
   "execution_count": null,
   "metadata": {},
   "outputs": [],
   "source": []
  },
  {
   "cell_type": "code",
   "execution_count": null,
   "metadata": {},
   "outputs": [],
   "source": []
  },
  {
   "cell_type": "code",
   "execution_count": null,
   "metadata": {},
   "outputs": [],
   "source": []
  },
  {
   "cell_type": "code",
   "execution_count": null,
   "metadata": {},
   "outputs": [],
   "source": []
  },
  {
   "cell_type": "code",
   "execution_count": null,
   "metadata": {},
   "outputs": [],
   "source": []
  }
 ],
 "metadata": {
  "kernelspec": {
   "display_name": "Python 3",
   "language": "python",
   "name": "python3"
  },
  "language_info": {
   "codemirror_mode": {
    "name": "ipython",
    "version": 3
   },
   "file_extension": ".py",
   "mimetype": "text/x-python",
   "name": "python",
   "nbconvert_exporter": "python",
   "pygments_lexer": "ipython3",
   "version": "3.7.3"
  }
 },
 "nbformat": 4,
 "nbformat_minor": 2
}
