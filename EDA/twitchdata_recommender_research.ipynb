{
 "cells": [
  {
   "cell_type": "code",
   "execution_count": 1,
   "metadata": {},
   "outputs": [],
   "source": [
    "# Get pandas and postgres to work together\n",
    "import psycopg2 as pg\n",
    "import pandas as pd\n",
    "import pandas.io.sql as pd_sql\n",
    "\n",
    "# We are also going to do some basic viz\n",
    "import matplotlib.pyplot as plt\n",
    "%matplotlib inline"
   ]
  },
  {
   "cell_type": "code",
   "execution_count": 3,
   "metadata": {},
   "outputs": [],
   "source": [
    "# Postgres info to connect\n",
    "\n",
    "connection_args = {\n",
    "  \"host\": \"twitchdata.chd4n5ul8muk.us-east-2.rds.amazonaws.com\",\n",
    "  \"user\": \"postgres\",\n",
    "    \"password\":\"FwwBFmleh65qYxKxDVb9\",\n",
    "  \"port\": 5432,\n",
    "  \"dbname\": \"twitchdata\"\n",
    "}\n",
    "\n",
    "# We will talk about this magic Python trick!\n",
    "connection = pg.connect(**connection_args)"
   ]
  },
  {
   "cell_type": "code",
   "execution_count": 4,
   "metadata": {},
   "outputs": [
    {
     "data": {
      "text/html": [
       "<div>\n",
       "<style scoped>\n",
       "    .dataframe tbody tr th:only-of-type {\n",
       "        vertical-align: middle;\n",
       "    }\n",
       "\n",
       "    .dataframe tbody tr th {\n",
       "        vertical-align: top;\n",
       "    }\n",
       "\n",
       "    .dataframe thead th {\n",
       "        text-align: right;\n",
       "    }\n",
       "</style>\n",
       "<table border=\"1\" class=\"dataframe\">\n",
       "  <thead>\n",
       "    <tr style=\"text-align: right;\">\n",
       "      <th></th>\n",
       "      <th>count</th>\n",
       "    </tr>\n",
       "  </thead>\n",
       "  <tbody>\n",
       "    <tr>\n",
       "      <th>0</th>\n",
       "      <td>202178</td>\n",
       "    </tr>\n",
       "  </tbody>\n",
       "</table>\n",
       "</div>"
      ],
      "text/plain": [
       "    count\n",
       "0  202178"
      ]
     },
     "execution_count": 4,
     "metadata": {},
     "output_type": "execute_result"
    }
   ],
   "source": [
    "query = \"SELECT COUNT(DISTINCT(stream_id)) FROM stream_data;\"\n",
    "\n",
    "pd_sql.read_sql(query, connection)"
   ]
  },
  {
   "cell_type": "code",
   "execution_count": 5,
   "metadata": {},
   "outputs": [
    {
     "data": {
      "text/html": [
       "<div>\n",
       "<style scoped>\n",
       "    .dataframe tbody tr th:only-of-type {\n",
       "        vertical-align: middle;\n",
       "    }\n",
       "\n",
       "    .dataframe tbody tr th {\n",
       "        vertical-align: top;\n",
       "    }\n",
       "\n",
       "    .dataframe thead th {\n",
       "        text-align: right;\n",
       "    }\n",
       "</style>\n",
       "<table border=\"1\" class=\"dataframe\">\n",
       "  <thead>\n",
       "    <tr style=\"text-align: right;\">\n",
       "      <th></th>\n",
       "      <th>stream_id</th>\n",
       "      <th>user_id</th>\n",
       "      <th>user_name</th>\n",
       "      <th>game_id</th>\n",
       "      <th>stream_type</th>\n",
       "      <th>title</th>\n",
       "      <th>viewer_count</th>\n",
       "      <th>started_at</th>\n",
       "      <th>language</th>\n",
       "      <th>time_logged</th>\n",
       "    </tr>\n",
       "  </thead>\n",
       "  <tbody>\n",
       "    <tr>\n",
       "      <th>0</th>\n",
       "      <td>34366704544</td>\n",
       "      <td>190582624</td>\n",
       "      <td>gtzzzz</td>\n",
       "      <td>19619</td>\n",
       "      <td>live</td>\n",
       "      <td>THE REVENGE (http://fearless.nostalrius.com.br...</td>\n",
       "      <td>20</td>\n",
       "      <td>2019-06-01 20:02:46</td>\n",
       "      <td>pt</td>\n",
       "      <td>2019-06-01 23:03:24</td>\n",
       "    </tr>\n",
       "    <tr>\n",
       "      <th>1</th>\n",
       "      <td>34368684464</td>\n",
       "      <td>273702366</td>\n",
       "      <td>Soddrek</td>\n",
       "      <td>19619</td>\n",
       "      <td>live</td>\n",
       "      <td>HOJE TEM GAZ AS 20H (18+) !burro !loots !lutab...</td>\n",
       "      <td>18</td>\n",
       "      <td>2019-06-01 22:48:35</td>\n",
       "      <td>pt</td>\n",
       "      <td>2019-06-01 23:03:24</td>\n",
       "    </tr>\n",
       "    <tr>\n",
       "      <th>2</th>\n",
       "      <td>34365706032</td>\n",
       "      <td>117766148</td>\n",
       "      <td>kyllini</td>\n",
       "      <td>19619</td>\n",
       "      <td>live</td>\n",
       "      <td>PxG Emerald - Kyllini - #OldTimesClan</td>\n",
       "      <td>16</td>\n",
       "      <td>2019-06-01 18:48:01</td>\n",
       "      <td>pt</td>\n",
       "      <td>2019-06-01 23:03:24</td>\n",
       "    </tr>\n",
       "  </tbody>\n",
       "</table>\n",
       "</div>"
      ],
      "text/plain": [
       "     stream_id    user_id user_name game_id stream_type  \\\n",
       "0  34366704544  190582624    gtzzzz   19619        live   \n",
       "1  34368684464  273702366   Soddrek   19619        live   \n",
       "2  34365706032  117766148   kyllini   19619        live   \n",
       "\n",
       "                                               title  viewer_count  \\\n",
       "0  THE REVENGE (http://fearless.nostalrius.com.br...            20   \n",
       "1  HOJE TEM GAZ AS 20H (18+) !burro !loots !lutab...            18   \n",
       "2              PxG Emerald - Kyllini - #OldTimesClan            16   \n",
       "\n",
       "           started_at language         time_logged  \n",
       "0 2019-06-01 20:02:46       pt 2019-06-01 23:03:24  \n",
       "1 2019-06-01 22:48:35       pt 2019-06-01 23:03:24  \n",
       "2 2019-06-01 18:48:01       pt 2019-06-01 23:03:24  "
      ]
     },
     "execution_count": 5,
     "metadata": {},
     "output_type": "execute_result"
    }
   ],
   "source": [
    "query = \"SELECT * FROM stream_data LIMIT 3;\"\n",
    "\n",
    "pd_sql.read_sql(query, connection)"
   ]
  },
  {
   "cell_type": "code",
   "execution_count": 6,
   "metadata": {},
   "outputs": [
    {
     "data": {
      "text/html": [
       "<div>\n",
       "<style scoped>\n",
       "    .dataframe tbody tr th:only-of-type {\n",
       "        vertical-align: middle;\n",
       "    }\n",
       "\n",
       "    .dataframe tbody tr th {\n",
       "        vertical-align: top;\n",
       "    }\n",
       "\n",
       "    .dataframe thead th {\n",
       "        text-align: right;\n",
       "    }\n",
       "</style>\n",
       "<table border=\"1\" class=\"dataframe\">\n",
       "  <thead>\n",
       "    <tr style=\"text-align: right;\">\n",
       "      <th></th>\n",
       "      <th>count</th>\n",
       "    </tr>\n",
       "  </thead>\n",
       "  <tbody>\n",
       "    <tr>\n",
       "      <th>0</th>\n",
       "      <td>465</td>\n",
       "    </tr>\n",
       "  </tbody>\n",
       "</table>\n",
       "</div>"
      ],
      "text/plain": [
       "   count\n",
       "0    465"
      ]
     },
     "execution_count": 6,
     "metadata": {},
     "output_type": "execute_result"
    }
   ],
   "source": [
    "query = \"SELECT COUNT(DISTINCT(game_id)) FROM game_information;\"\n",
    "\n",
    "pd_sql.read_sql(query, connection)"
   ]
  },
  {
   "cell_type": "code",
   "execution_count": 12,
   "metadata": {},
   "outputs": [
    {
     "data": {
      "text/html": [
       "<div>\n",
       "<style scoped>\n",
       "    .dataframe tbody tr th:only-of-type {\n",
       "        vertical-align: middle;\n",
       "    }\n",
       "\n",
       "    .dataframe tbody tr th {\n",
       "        vertical-align: top;\n",
       "    }\n",
       "\n",
       "    .dataframe thead th {\n",
       "        text-align: right;\n",
       "    }\n",
       "</style>\n",
       "<table border=\"1\" class=\"dataframe\">\n",
       "  <thead>\n",
       "    <tr style=\"text-align: right;\">\n",
       "      <th></th>\n",
       "      <th>count</th>\n",
       "    </tr>\n",
       "  </thead>\n",
       "  <tbody>\n",
       "    <tr>\n",
       "      <th>0</th>\n",
       "      <td>1001</td>\n",
       "    </tr>\n",
       "  </tbody>\n",
       "</table>\n",
       "</div>"
      ],
      "text/plain": [
       "   count\n",
       "0   1001"
      ]
     },
     "execution_count": 12,
     "metadata": {},
     "output_type": "execute_result"
    }
   ],
   "source": [
    "query = \"SELECT COUNT(DISTINCT(game_name)) FROM game_genres;\"\n",
    "\n",
    "pd_sql.read_sql(query, connection)"
   ]
  },
  {
   "cell_type": "code",
   "execution_count": 13,
   "metadata": {},
   "outputs": [],
   "source": [
    "query = '''SELECT stream_id, user_id, user_name, stream_data.game_id, stream_type, title, viewer_count, started_at, language, time_logged, game_information.game_name, pic_url, game_genres.game_genres \n",
    "FROM stream_data \n",
    "LEFT JOIN game_information ON stream_data.game_id = game_information.game_id\n",
    "LEFT JOIN game_genres ON game_information.game_name = game_genres.game_name;'''\n",
    "\n",
    "data = pd_sql.read_sql(query, connection)"
   ]
  },
  {
   "cell_type": "code",
   "execution_count": 14,
   "metadata": {},
   "outputs": [
    {
     "data": {
      "text/html": [
       "<div>\n",
       "<style scoped>\n",
       "    .dataframe tbody tr th:only-of-type {\n",
       "        vertical-align: middle;\n",
       "    }\n",
       "\n",
       "    .dataframe tbody tr th {\n",
       "        vertical-align: top;\n",
       "    }\n",
       "\n",
       "    .dataframe thead th {\n",
       "        text-align: right;\n",
       "    }\n",
       "</style>\n",
       "<table border=\"1\" class=\"dataframe\">\n",
       "  <thead>\n",
       "    <tr style=\"text-align: right;\">\n",
       "      <th></th>\n",
       "      <th>stream_id</th>\n",
       "      <th>user_id</th>\n",
       "      <th>user_name</th>\n",
       "      <th>game_id</th>\n",
       "      <th>stream_type</th>\n",
       "      <th>title</th>\n",
       "      <th>viewer_count</th>\n",
       "      <th>started_at</th>\n",
       "      <th>language</th>\n",
       "      <th>time_logged</th>\n",
       "      <th>game_name</th>\n",
       "      <th>pic_url</th>\n",
       "      <th>game_genres</th>\n",
       "    </tr>\n",
       "  </thead>\n",
       "  <tbody>\n",
       "    <tr>\n",
       "      <th>0</th>\n",
       "      <td>34366704544</td>\n",
       "      <td>190582624</td>\n",
       "      <td>gtzzzz</td>\n",
       "      <td>19619</td>\n",
       "      <td>live</td>\n",
       "      <td>THE REVENGE (http://fearless.nostalrius.com.br...</td>\n",
       "      <td>20</td>\n",
       "      <td>2019-06-01 20:02:46</td>\n",
       "      <td>pt</td>\n",
       "      <td>2019-06-01 23:03:24</td>\n",
       "      <td>Tibia</td>\n",
       "      <td>https://static-cdn.jtvnw.net/ttv-boxart/Tibia-...</td>\n",
       "      <td>RPG</td>\n",
       "    </tr>\n",
       "    <tr>\n",
       "      <th>1</th>\n",
       "      <td>34366704544</td>\n",
       "      <td>190582624</td>\n",
       "      <td>gtzzzz</td>\n",
       "      <td>19619</td>\n",
       "      <td>live</td>\n",
       "      <td>THE REVENGE (http://fearless.nostalrius.com.br...</td>\n",
       "      <td>20</td>\n",
       "      <td>2019-06-01 20:02:46</td>\n",
       "      <td>pt</td>\n",
       "      <td>2019-06-01 23:03:24</td>\n",
       "      <td>Tibia</td>\n",
       "      <td>https://static-cdn.jtvnw.net/ttv-boxart/Tibia-...</td>\n",
       "      <td>Adventure Game</td>\n",
       "    </tr>\n",
       "    <tr>\n",
       "      <th>2</th>\n",
       "      <td>34366704544</td>\n",
       "      <td>190582624</td>\n",
       "      <td>gtzzzz</td>\n",
       "      <td>19619</td>\n",
       "      <td>live</td>\n",
       "      <td>THE REVENGE (http://fearless.nostalrius.com.br...</td>\n",
       "      <td>20</td>\n",
       "      <td>2019-06-01 20:02:46</td>\n",
       "      <td>pt</td>\n",
       "      <td>2019-06-01 23:03:24</td>\n",
       "      <td>Tibia</td>\n",
       "      <td>https://static-cdn.jtvnw.net/ttv-boxart/Tibia-...</td>\n",
       "      <td>MMORPG</td>\n",
       "    </tr>\n",
       "  </tbody>\n",
       "</table>\n",
       "</div>"
      ],
      "text/plain": [
       "     stream_id    user_id user_name game_id stream_type  \\\n",
       "0  34366704544  190582624    gtzzzz   19619        live   \n",
       "1  34366704544  190582624    gtzzzz   19619        live   \n",
       "2  34366704544  190582624    gtzzzz   19619        live   \n",
       "\n",
       "                                               title  viewer_count  \\\n",
       "0  THE REVENGE (http://fearless.nostalrius.com.br...            20   \n",
       "1  THE REVENGE (http://fearless.nostalrius.com.br...            20   \n",
       "2  THE REVENGE (http://fearless.nostalrius.com.br...            20   \n",
       "\n",
       "           started_at language         time_logged game_name  \\\n",
       "0 2019-06-01 20:02:46       pt 2019-06-01 23:03:24     Tibia   \n",
       "1 2019-06-01 20:02:46       pt 2019-06-01 23:03:24     Tibia   \n",
       "2 2019-06-01 20:02:46       pt 2019-06-01 23:03:24     Tibia   \n",
       "\n",
       "                                             pic_url     game_genres  \n",
       "0  https://static-cdn.jtvnw.net/ttv-boxart/Tibia-...             RPG  \n",
       "1  https://static-cdn.jtvnw.net/ttv-boxart/Tibia-...  Adventure Game  \n",
       "2  https://static-cdn.jtvnw.net/ttv-boxart/Tibia-...          MMORPG  "
      ]
     },
     "execution_count": 14,
     "metadata": {},
     "output_type": "execute_result"
    }
   ],
   "source": [
    "data.head(3)"
   ]
  },
  {
   "cell_type": "code",
   "execution_count": 15,
   "metadata": {},
   "outputs": [],
   "source": [
    "data.to_csv('tuesday_merged_data.csv')"
   ]
  },
  {
   "cell_type": "code",
   "execution_count": 3,
   "metadata": {},
   "outputs": [],
   "source": [
    "data = pd.read_csv('tuesday_merged_data.csv')"
   ]
  },
  {
   "cell_type": "code",
   "execution_count": 17,
   "metadata": {},
   "outputs": [
    {
     "data": {
      "text/plain": [
       "Index(['stream_id', 'user_id', 'user_name', 'game_id', 'stream_type', 'title',\n",
       "       'viewer_count', 'started_at', 'language', 'time_logged', 'game_name',\n",
       "       'pic_url', 'game_genres'],\n",
       "      dtype='object')"
      ]
     },
     "execution_count": 17,
     "metadata": {},
     "output_type": "execute_result"
    }
   ],
   "source": [
    "data.columns"
   ]
  },
  {
   "cell_type": "code",
   "execution_count": 18,
   "metadata": {},
   "outputs": [],
   "source": [
    "data = data.dropna()"
   ]
  },
  {
   "cell_type": "code",
   "execution_count": 19,
   "metadata": {},
   "outputs": [
    {
     "data": {
      "text/plain": [
       "(1719321, 13)"
      ]
     },
     "execution_count": 19,
     "metadata": {},
     "output_type": "execute_result"
    }
   ],
   "source": [
    "data.shape"
   ]
  },
  {
   "cell_type": "code",
   "execution_count": 20,
   "metadata": {},
   "outputs": [
    {
     "data": {
      "text/plain": [
       "331"
      ]
     },
     "execution_count": 20,
     "metadata": {},
     "output_type": "execute_result"
    }
   ],
   "source": [
    "data['game_id'].nunique()"
   ]
  },
  {
   "cell_type": "code",
   "execution_count": 21,
   "metadata": {},
   "outputs": [
    {
     "data": {
      "text/plain": [
       "122043"
      ]
     },
     "execution_count": 21,
     "metadata": {},
     "output_type": "execute_result"
    }
   ],
   "source": [
    "data['user_id'].nunique()"
   ]
  },
  {
   "cell_type": "code",
   "execution_count": 22,
   "metadata": {},
   "outputs": [
    {
     "data": {
      "text/plain": [
       "331"
      ]
     },
     "execution_count": 22,
     "metadata": {},
     "output_type": "execute_result"
    }
   ],
   "source": [
    "data['game_name'].nunique()"
   ]
  },
  {
   "cell_type": "code",
   "execution_count": 23,
   "metadata": {},
   "outputs": [
    {
     "data": {
      "text/plain": [
       "122220"
      ]
     },
     "execution_count": 23,
     "metadata": {},
     "output_type": "execute_result"
    }
   ],
   "source": [
    "data['user_name'].nunique()"
   ]
  },
  {
   "cell_type": "code",
   "execution_count": 24,
   "metadata": {},
   "outputs": [
    {
     "data": {
      "text/html": [
       "<div>\n",
       "<style scoped>\n",
       "    .dataframe tbody tr th:only-of-type {\n",
       "        vertical-align: middle;\n",
       "    }\n",
       "\n",
       "    .dataframe tbody tr th {\n",
       "        vertical-align: top;\n",
       "    }\n",
       "\n",
       "    .dataframe thead th {\n",
       "        text-align: right;\n",
       "    }\n",
       "</style>\n",
       "<table border=\"1\" class=\"dataframe\">\n",
       "  <thead>\n",
       "    <tr style=\"text-align: right;\">\n",
       "      <th></th>\n",
       "      <th>stream_id</th>\n",
       "      <th>user_id</th>\n",
       "      <th>user_name</th>\n",
       "      <th>game_id</th>\n",
       "      <th>stream_type</th>\n",
       "      <th>title</th>\n",
       "      <th>viewer_count</th>\n",
       "      <th>started_at</th>\n",
       "      <th>language</th>\n",
       "      <th>time_logged</th>\n",
       "      <th>game_name</th>\n",
       "      <th>pic_url</th>\n",
       "      <th>game_genres</th>\n",
       "    </tr>\n",
       "  </thead>\n",
       "  <tbody>\n",
       "    <tr>\n",
       "      <th>0</th>\n",
       "      <td>34366704544</td>\n",
       "      <td>190582624</td>\n",
       "      <td>gtzzzz</td>\n",
       "      <td>19619</td>\n",
       "      <td>live</td>\n",
       "      <td>THE REVENGE (http://fearless.nostalrius.com.br...</td>\n",
       "      <td>20</td>\n",
       "      <td>2019-06-01 20:02:46</td>\n",
       "      <td>pt</td>\n",
       "      <td>2019-06-01 23:03:24</td>\n",
       "      <td>Tibia</td>\n",
       "      <td>https://static-cdn.jtvnw.net/ttv-boxart/Tibia-...</td>\n",
       "      <td>RPG</td>\n",
       "    </tr>\n",
       "    <tr>\n",
       "      <th>1</th>\n",
       "      <td>34366704544</td>\n",
       "      <td>190582624</td>\n",
       "      <td>gtzzzz</td>\n",
       "      <td>19619</td>\n",
       "      <td>live</td>\n",
       "      <td>THE REVENGE (http://fearless.nostalrius.com.br...</td>\n",
       "      <td>20</td>\n",
       "      <td>2019-06-01 20:02:46</td>\n",
       "      <td>pt</td>\n",
       "      <td>2019-06-01 23:03:24</td>\n",
       "      <td>Tibia</td>\n",
       "      <td>https://static-cdn.jtvnw.net/ttv-boxart/Tibia-...</td>\n",
       "      <td>Adventure Game</td>\n",
       "    </tr>\n",
       "    <tr>\n",
       "      <th>2</th>\n",
       "      <td>34366704544</td>\n",
       "      <td>190582624</td>\n",
       "      <td>gtzzzz</td>\n",
       "      <td>19619</td>\n",
       "      <td>live</td>\n",
       "      <td>THE REVENGE (http://fearless.nostalrius.com.br...</td>\n",
       "      <td>20</td>\n",
       "      <td>2019-06-01 20:02:46</td>\n",
       "      <td>pt</td>\n",
       "      <td>2019-06-01 23:03:24</td>\n",
       "      <td>Tibia</td>\n",
       "      <td>https://static-cdn.jtvnw.net/ttv-boxart/Tibia-...</td>\n",
       "      <td>MMORPG</td>\n",
       "    </tr>\n",
       "  </tbody>\n",
       "</table>\n",
       "</div>"
      ],
      "text/plain": [
       "     stream_id    user_id user_name game_id stream_type  \\\n",
       "0  34366704544  190582624    gtzzzz   19619        live   \n",
       "1  34366704544  190582624    gtzzzz   19619        live   \n",
       "2  34366704544  190582624    gtzzzz   19619        live   \n",
       "\n",
       "                                               title  viewer_count  \\\n",
       "0  THE REVENGE (http://fearless.nostalrius.com.br...            20   \n",
       "1  THE REVENGE (http://fearless.nostalrius.com.br...            20   \n",
       "2  THE REVENGE (http://fearless.nostalrius.com.br...            20   \n",
       "\n",
       "           started_at language         time_logged game_name  \\\n",
       "0 2019-06-01 20:02:46       pt 2019-06-01 23:03:24     Tibia   \n",
       "1 2019-06-01 20:02:46       pt 2019-06-01 23:03:24     Tibia   \n",
       "2 2019-06-01 20:02:46       pt 2019-06-01 23:03:24     Tibia   \n",
       "\n",
       "                                             pic_url     game_genres  \n",
       "0  https://static-cdn.jtvnw.net/ttv-boxart/Tibia-...             RPG  \n",
       "1  https://static-cdn.jtvnw.net/ttv-boxart/Tibia-...  Adventure Game  \n",
       "2  https://static-cdn.jtvnw.net/ttv-boxart/Tibia-...          MMORPG  "
      ]
     },
     "execution_count": 24,
     "metadata": {},
     "output_type": "execute_result"
    }
   ],
   "source": [
    "data.head(3)"
   ]
  },
  {
   "cell_type": "code",
   "execution_count": 9,
   "metadata": {},
   "outputs": [
    {
     "data": {
      "text/plain": [
       "72"
      ]
     },
     "execution_count": 9,
     "metadata": {},
     "output_type": "execute_result"
    }
   ],
   "source": [
    "del data\n",
    "import gc\n",
    "gc.collect()"
   ]
  },
  {
   "cell_type": "code",
   "execution_count": 30,
   "metadata": {},
   "outputs": [],
   "source": [
    "#data.pivot_table(index='user_id', columns='game_id', values='user_id', aggfunc=len, fill_value=0)"
   ]
  },
  {
   "cell_type": "code",
   "execution_count": 5,
   "metadata": {},
   "outputs": [],
   "source": [
    "grid = pd.crosstab(data.user_id, data.game_id)"
   ]
  },
  {
   "cell_type": "code",
   "execution_count": 11,
   "metadata": {},
   "outputs": [],
   "source": [
    "grid = grid.astype('float16')"
   ]
  },
  {
   "cell_type": "code",
   "execution_count": 12,
   "metadata": {},
   "outputs": [
    {
     "name": "stdout",
     "output_type": "stream",
     "text": [
      "<class 'pandas.core.frame.DataFrame'>\n",
      "Int64Index: 122605 entries, 6410 to 439730780\n",
      "Columns: 465 entries, 104 to 512812\n",
      "dtypes: float16(465)\n",
      "memory usage: 109.7 MB\n"
     ]
    }
   ],
   "source": [
    "grid.info()"
   ]
  },
  {
   "cell_type": "code",
   "execution_count": 28,
   "metadata": {},
   "outputs": [],
   "source": [
    "grid.to_csv('grid.csv')"
   ]
  },
  {
   "cell_type": "code",
   "execution_count": 27,
   "metadata": {},
   "outputs": [],
   "source": [
    "names = pd.crosstab(data.user_name, data.game_name)"
   ]
  },
  {
   "cell_type": "code",
   "execution_count": 29,
   "metadata": {},
   "outputs": [],
   "source": [
    "names.to_csv('names.csv')"
   ]
  },
  {
   "cell_type": "code",
   "execution_count": 13,
   "metadata": {},
   "outputs": [],
   "source": [
    "import pandas as pd\n",
    "from surprise import SVD\n",
    "from surprise import Dataset\n",
    "from surprise.model_selection import cross_validate, train_test_split\n",
    "from surprise import accuracy"
   ]
  },
  {
   "cell_type": "code",
   "execution_count": null,
   "metadata": {},
   "outputs": [],
   "source": [
    "from scipy.linalg import svd\n",
    "\n",
    "U, Sigma, VT = svd(grid)"
   ]
  },
  {
   "cell_type": "code",
   "execution_count": null,
   "metadata": {},
   "outputs": [],
   "source": [
    "VT = VT[:3,:]\n",
    "pd.DataFrame(VT)"
   ]
  },
  {
   "cell_type": "code",
   "execution_count": null,
   "metadata": {},
   "outputs": [],
   "source": []
  }
 ],
 "metadata": {
  "kernelspec": {
   "display_name": "Python 3",
   "language": "python",
   "name": "python3"
  },
  "language_info": {
   "codemirror_mode": {
    "name": "ipython",
    "version": 3
   },
   "file_extension": ".py",
   "mimetype": "text/x-python",
   "name": "python",
   "nbconvert_exporter": "python",
   "pygments_lexer": "ipython3",
   "version": "3.7.3"
  }
 },
 "nbformat": 4,
 "nbformat_minor": 2
}
