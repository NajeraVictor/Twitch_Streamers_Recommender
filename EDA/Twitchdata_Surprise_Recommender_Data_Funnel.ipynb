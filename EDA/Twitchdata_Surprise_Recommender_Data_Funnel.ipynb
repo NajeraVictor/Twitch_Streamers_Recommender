{
 "cells": [
  {
   "cell_type": "code",
   "execution_count": 4,
   "metadata": {},
   "outputs": [],
   "source": [
    "# Get pandas and postgres to work together\n",
    "import psycopg2 as pg\n",
    "import pandas as pd\n",
    "import pandas.io.sql as pd_sql"
   ]
  },
  {
   "cell_type": "code",
   "execution_count": 5,
   "metadata": {},
   "outputs": [],
   "source": [
    "# Postgres info to connect\n",
    "\n",
    "connection_args = {\n",
    "  \"host\": \"twitchdata.chd4n5ul8muk.us-east-2.rds.amazonaws.com\",\n",
    "  \"user\": \"postgres\",\n",
    "    \"password\":\"FwwBFmleh65qYxKxDVb9\",\n",
    "  \"port\": 5432,\n",
    "  \"dbname\": \"twitchdata\"\n",
    "}\n",
    "\n",
    "\n",
    "connection = pg.connect(**connection_args)"
   ]
  },
  {
   "cell_type": "code",
   "execution_count": 6,
   "metadata": {},
   "outputs": [
    {
     "data": {
      "text/html": [
       "<div>\n",
       "<style scoped>\n",
       "    .dataframe tbody tr th:only-of-type {\n",
       "        vertical-align: middle;\n",
       "    }\n",
       "\n",
       "    .dataframe tbody tr th {\n",
       "        vertical-align: top;\n",
       "    }\n",
       "\n",
       "    .dataframe thead th {\n",
       "        text-align: right;\n",
       "    }\n",
       "</style>\n",
       "<table border=\"1\" class=\"dataframe\">\n",
       "  <thead>\n",
       "    <tr style=\"text-align: right;\">\n",
       "      <th></th>\n",
       "      <th>count</th>\n",
       "    </tr>\n",
       "  </thead>\n",
       "  <tbody>\n",
       "    <tr>\n",
       "      <th>0</th>\n",
       "      <td>214100</td>\n",
       "    </tr>\n",
       "  </tbody>\n",
       "</table>\n",
       "</div>"
      ],
      "text/plain": [
       "    count\n",
       "0  214100"
      ]
     },
     "execution_count": 6,
     "metadata": {},
     "output_type": "execute_result"
    }
   ],
   "source": [
    "query = \"SELECT COUNT(DISTINCT(stream_id)) FROM stream_data;\"\n",
    "\n",
    "pd_sql.read_sql(query, connection)"
   ]
  },
  {
   "cell_type": "code",
   "execution_count": 6,
   "metadata": {},
   "outputs": [
    {
     "data": {
      "text/html": [
       "<div>\n",
       "<style scoped>\n",
       "    .dataframe tbody tr th:only-of-type {\n",
       "        vertical-align: middle;\n",
       "    }\n",
       "\n",
       "    .dataframe tbody tr th {\n",
       "        vertical-align: top;\n",
       "    }\n",
       "\n",
       "    .dataframe thead th {\n",
       "        text-align: right;\n",
       "    }\n",
       "</style>\n",
       "<table border=\"1\" class=\"dataframe\">\n",
       "  <thead>\n",
       "    <tr style=\"text-align: right;\">\n",
       "      <th></th>\n",
       "      <th>count</th>\n",
       "    </tr>\n",
       "  </thead>\n",
       "  <tbody>\n",
       "    <tr>\n",
       "      <th>0</th>\n",
       "      <td>465</td>\n",
       "    </tr>\n",
       "  </tbody>\n",
       "</table>\n",
       "</div>"
      ],
      "text/plain": [
       "   count\n",
       "0    465"
      ]
     },
     "execution_count": 6,
     "metadata": {},
     "output_type": "execute_result"
    }
   ],
   "source": [
    "query = \"SELECT COUNT(DISTINCT(game_id)) FROM game_information;\"\n",
    "\n",
    "pd_sql.read_sql(query, connection)"
   ]
  },
  {
   "cell_type": "code",
   "execution_count": 11,
   "metadata": {
    "scrolled": true
   },
   "outputs": [
    {
     "data": {
      "text/html": [
       "<div>\n",
       "<style scoped>\n",
       "    .dataframe tbody tr th:only-of-type {\n",
       "        vertical-align: middle;\n",
       "    }\n",
       "\n",
       "    .dataframe tbody tr th {\n",
       "        vertical-align: top;\n",
       "    }\n",
       "\n",
       "    .dataframe thead th {\n",
       "        text-align: right;\n",
       "    }\n",
       "</style>\n",
       "<table border=\"1\" class=\"dataframe\">\n",
       "  <thead>\n",
       "    <tr style=\"text-align: right;\">\n",
       "      <th></th>\n",
       "      <th>count</th>\n",
       "    </tr>\n",
       "  </thead>\n",
       "  <tbody>\n",
       "    <tr>\n",
       "      <th>0</th>\n",
       "      <td>1001</td>\n",
       "    </tr>\n",
       "  </tbody>\n",
       "</table>\n",
       "</div>"
      ],
      "text/plain": [
       "   count\n",
       "0   1001"
      ]
     },
     "execution_count": 11,
     "metadata": {},
     "output_type": "execute_result"
    }
   ],
   "source": [
    "query = \"SELECT COUNT(DISTINCT(game_name)) FROM game_genres;\"\n",
    "\n",
    "pd_sql.read_sql(query, connection)"
   ]
  },
  {
   "cell_type": "markdown",
   "metadata": {},
   "source": [
    "### Getting the data for surprise recommender in the format needed to be funneled into the \"surprise_test\" notebook. ###"
   ]
  },
  {
   "cell_type": "code",
   "execution_count": 7,
   "metadata": {},
   "outputs": [],
   "source": [
    "query = '''SELECT user_name, game_name, max(viewer_count)\n",
    "FROM general_view\n",
    "GROUP BY user_name, game_name\n",
    "ORDER BY user_name DESC, max DESC'''\n",
    "\n",
    "surprise_grid = pd_sql.read_sql(query, connection)"
   ]
  },
  {
   "cell_type": "code",
   "execution_count": 9,
   "metadata": {},
   "outputs": [],
   "source": [
    "#surprise_grid.to_csv('user_game_grid.csv', index = False)"
   ]
  },
  {
   "cell_type": "markdown",
   "metadata": {},
   "source": [
    "### Querying the complete dataset for EDA as the new data comes in throughout the day. ###"
   ]
  },
  {
   "cell_type": "code",
   "execution_count": 13,
   "metadata": {},
   "outputs": [],
   "source": [
    "query = '''SELECT stream_id, user_id, user_name, stream_data.game_id, stream_type, title, viewer_count, started_at, language, time_logged, game_information.game_name, pic_url, game_genres.game_genres \n",
    "FROM stream_data \n",
    "LEFT JOIN game_information ON stream_data.game_id = game_information.game_id\n",
    "LEFT JOIN game_genres ON game_information.game_name = game_genres.game_name;'''\n",
    "\n",
    "complete_data = pd_sql.read_sql(query, connection)"
   ]
  },
  {
   "cell_type": "code",
   "execution_count": 14,
   "metadata": {},
   "outputs": [
    {
     "data": {
      "text/html": [
       "<div>\n",
       "<style scoped>\n",
       "    .dataframe tbody tr th:only-of-type {\n",
       "        vertical-align: middle;\n",
       "    }\n",
       "\n",
       "    .dataframe tbody tr th {\n",
       "        vertical-align: top;\n",
       "    }\n",
       "\n",
       "    .dataframe thead th {\n",
       "        text-align: right;\n",
       "    }\n",
       "</style>\n",
       "<table border=\"1\" class=\"dataframe\">\n",
       "  <thead>\n",
       "    <tr style=\"text-align: right;\">\n",
       "      <th></th>\n",
       "      <th>stream_id</th>\n",
       "      <th>user_id</th>\n",
       "      <th>user_name</th>\n",
       "      <th>game_id</th>\n",
       "      <th>stream_type</th>\n",
       "      <th>title</th>\n",
       "      <th>viewer_count</th>\n",
       "      <th>started_at</th>\n",
       "      <th>language</th>\n",
       "      <th>time_logged</th>\n",
       "      <th>game_name</th>\n",
       "      <th>pic_url</th>\n",
       "      <th>game_genres</th>\n",
       "    </tr>\n",
       "  </thead>\n",
       "  <tbody>\n",
       "    <tr>\n",
       "      <th>0</th>\n",
       "      <td>34366704544</td>\n",
       "      <td>190582624</td>\n",
       "      <td>gtzzzz</td>\n",
       "      <td>19619</td>\n",
       "      <td>live</td>\n",
       "      <td>THE REVENGE (http://fearless.nostalrius.com.br...</td>\n",
       "      <td>20</td>\n",
       "      <td>2019-06-01 20:02:46</td>\n",
       "      <td>pt</td>\n",
       "      <td>2019-06-01 23:03:24</td>\n",
       "      <td>Tibia</td>\n",
       "      <td>https://static-cdn.jtvnw.net/ttv-boxart/Tibia-...</td>\n",
       "      <td>RPG</td>\n",
       "    </tr>\n",
       "    <tr>\n",
       "      <th>1</th>\n",
       "      <td>34366704544</td>\n",
       "      <td>190582624</td>\n",
       "      <td>gtzzzz</td>\n",
       "      <td>19619</td>\n",
       "      <td>live</td>\n",
       "      <td>THE REVENGE (http://fearless.nostalrius.com.br...</td>\n",
       "      <td>20</td>\n",
       "      <td>2019-06-01 20:02:46</td>\n",
       "      <td>pt</td>\n",
       "      <td>2019-06-01 23:03:24</td>\n",
       "      <td>Tibia</td>\n",
       "      <td>https://static-cdn.jtvnw.net/ttv-boxart/Tibia-...</td>\n",
       "      <td>Adventure Game</td>\n",
       "    </tr>\n",
       "    <tr>\n",
       "      <th>2</th>\n",
       "      <td>34366704544</td>\n",
       "      <td>190582624</td>\n",
       "      <td>gtzzzz</td>\n",
       "      <td>19619</td>\n",
       "      <td>live</td>\n",
       "      <td>THE REVENGE (http://fearless.nostalrius.com.br...</td>\n",
       "      <td>20</td>\n",
       "      <td>2019-06-01 20:02:46</td>\n",
       "      <td>pt</td>\n",
       "      <td>2019-06-01 23:03:24</td>\n",
       "      <td>Tibia</td>\n",
       "      <td>https://static-cdn.jtvnw.net/ttv-boxart/Tibia-...</td>\n",
       "      <td>MMORPG</td>\n",
       "    </tr>\n",
       "  </tbody>\n",
       "</table>\n",
       "</div>"
      ],
      "text/plain": [
       "     stream_id    user_id user_name game_id stream_type  \\\n",
       "0  34366704544  190582624    gtzzzz   19619        live   \n",
       "1  34366704544  190582624    gtzzzz   19619        live   \n",
       "2  34366704544  190582624    gtzzzz   19619        live   \n",
       "\n",
       "                                               title  viewer_count  \\\n",
       "0  THE REVENGE (http://fearless.nostalrius.com.br...            20   \n",
       "1  THE REVENGE (http://fearless.nostalrius.com.br...            20   \n",
       "2  THE REVENGE (http://fearless.nostalrius.com.br...            20   \n",
       "\n",
       "           started_at language         time_logged game_name  \\\n",
       "0 2019-06-01 20:02:46       pt 2019-06-01 23:03:24     Tibia   \n",
       "1 2019-06-01 20:02:46       pt 2019-06-01 23:03:24     Tibia   \n",
       "2 2019-06-01 20:02:46       pt 2019-06-01 23:03:24     Tibia   \n",
       "\n",
       "                                             pic_url     game_genres  \n",
       "0  https://static-cdn.jtvnw.net/ttv-boxart/Tibia-...             RPG  \n",
       "1  https://static-cdn.jtvnw.net/ttv-boxart/Tibia-...  Adventure Game  \n",
       "2  https://static-cdn.jtvnw.net/ttv-boxart/Tibia-...          MMORPG  "
      ]
     },
     "execution_count": 14,
     "metadata": {},
     "output_type": "execute_result"
    }
   ],
   "source": [
    "data.info()"
   ]
  },
  {
   "cell_type": "code",
   "execution_count": 15,
   "metadata": {},
   "outputs": [],
   "source": [
    "#complete_data.to_csv('<date>_merged_data.csv')"
   ]
  },
  {
   "cell_type": "code",
   "execution_count": 3,
   "metadata": {},
   "outputs": [],
   "source": [
    "#complete_data = pd.read_csv('<date>_merged_data.csv')"
   ]
  }
 ],
 "metadata": {
  "kernelspec": {
   "display_name": "Python 3",
   "language": "python",
   "name": "python3"
  },
  "language_info": {
   "codemirror_mode": {
    "name": "ipython",
    "version": 3
   },
   "file_extension": ".py",
   "mimetype": "text/x-python",
   "name": "python",
   "nbconvert_exporter": "python",
   "pygments_lexer": "ipython3",
   "version": "3.7.3"
  }
 },
 "nbformat": 4,
 "nbformat_minor": 2
}
