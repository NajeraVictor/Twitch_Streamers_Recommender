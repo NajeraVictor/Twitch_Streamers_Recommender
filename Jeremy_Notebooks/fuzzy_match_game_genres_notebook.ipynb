{
 "cells": [
  {
   "cell_type": "markdown",
   "metadata": {},
   "source": [
    "# Game Genres Notebook"
   ]
  },
  {
   "cell_type": "code",
   "execution_count": 1,
   "metadata": {},
   "outputs": [],
   "source": [
    "import pandas as pd\n",
    "from sqlalchemy import create_engine\n",
    "import psycopg2 as pg\n",
    "import pandas.io.sql as pd_sql\n",
    "from copy import deepcopy\n",
    "import numpy as np\n",
    "\n",
    "from fuzzywuzzy import process"
   ]
  },
  {
   "cell_type": "code",
   "execution_count": 2,
   "metadata": {},
   "outputs": [],
   "source": [
    "# Postgres info to connect\n",
    "\n",
    "connection_args = {\n",
    " \"host\": \"twitchdata.chd4n5ul8muk.us-east-2.rds.amazonaws.com\",\n",
    " \"user\": \"postgres\",\n",
    "   \"password\":\"FwwBFmleh65qYxKxDVb9\",\n",
    " \"port\": 5432,\n",
    " \"dbname\": \"twitchdata\"\n",
    "}\n",
    "\n",
    "# We will talk about this magic Python trick!\n",
    "connection = pg.connect(**connection_args)"
   ]
  },
  {
   "cell_type": "code",
   "execution_count": null,
   "metadata": {},
   "outputs": [],
   "source": []
  },
  {
   "cell_type": "code",
   "execution_count": 3,
   "metadata": {},
   "outputs": [],
   "source": [
    "query = '''\n",
    "SELECT * FROM game_genres ORDER BY game_name;\n",
    "'''\n",
    "df=pd_sql.read_sql(query, connection)"
   ]
  },
  {
   "cell_type": "code",
   "execution_count": 4,
   "metadata": {},
   "outputs": [
    {
     "name": "stdout",
     "output_type": "stream",
     "text": [
      "Index(['game_name', 'game_genres'], dtype='object')\n"
     ]
    },
    {
     "data": {
      "text/plain": [
       "(2173, 2)"
      ]
     },
     "execution_count": 4,
     "metadata": {},
     "output_type": "execute_result"
    }
   ],
   "source": [
    "print(df.columns)\n",
    "df.shape"
   ]
  },
  {
   "cell_type": "code",
   "execution_count": 5,
   "metadata": {},
   "outputs": [],
   "source": [
    "df.drop_duplicates(inplace = True)"
   ]
  },
  {
   "cell_type": "code",
   "execution_count": 6,
   "metadata": {},
   "outputs": [],
   "source": [
    "genres = df['game_genres'].unique()"
   ]
  },
  {
   "cell_type": "code",
   "execution_count": 7,
   "metadata": {},
   "outputs": [
    {
     "data": {
      "text/plain": [
       "array(['Rhythm & Music Game', 'Platformer', 'Adventure Game',\n",
       "       'Simulation', 'Shooter', 'FPS', 'Strategy', 'RTS', 'NONE',\n",
       "       'Indie Game', 'MMORPG', 'Horror', 'Action', 'Open World',\n",
       "       'Driving/Racing Game', 'Puzzle', 'RPG', 'Stealth', 'Sports Game',\n",
       "       'MOBA', 'Creative', 'Card & Board Game', 'Survival', 'IRL',\n",
       "       \"Shoot 'Em Up\", 'Roguelike', 'Fighting', 'Compilation',\n",
       "       'Hidden Objects', 'Series: Souls', 'Visual Novel',\n",
       "       'Flight Simulator', 'Metroidvania', 'Educational Game',\n",
       "       'Point and Click', 'RETROGAMEPLACEHOLDER', 'Pinball',\n",
       "       'Gambling Game'], dtype=object)"
      ]
     },
     "execution_count": 7,
     "metadata": {},
     "output_type": "execute_result"
    }
   ],
   "source": [
    "genres"
   ]
  },
  {
   "cell_type": "code",
   "execution_count": 10,
   "metadata": {},
   "outputs": [
    {
     "data": {
      "text/html": [
       "<div>\n",
       "<style scoped>\n",
       "    .dataframe tbody tr th:only-of-type {\n",
       "        vertical-align: middle;\n",
       "    }\n",
       "\n",
       "    .dataframe tbody tr th {\n",
       "        vertical-align: top;\n",
       "    }\n",
       "\n",
       "    .dataframe thead th {\n",
       "        text-align: right;\n",
       "    }\n",
       "</style>\n",
       "<table border=\"1\" class=\"dataframe\">\n",
       "  <thead>\n",
       "    <tr style=\"text-align: right;\">\n",
       "      <th></th>\n",
       "      <th>game_name</th>\n",
       "      <th>game_genres</th>\n",
       "    </tr>\n",
       "  </thead>\n",
       "  <tbody>\n",
       "    <tr>\n",
       "      <th>8</th>\n",
       "      <td>Agar.io</td>\n",
       "      <td>NONE</td>\n",
       "    </tr>\n",
       "    <tr>\n",
       "      <th>29</th>\n",
       "      <td>Always On</td>\n",
       "      <td>NONE</td>\n",
       "    </tr>\n",
       "    <tr>\n",
       "      <th>47</th>\n",
       "      <td>Anime Land</td>\n",
       "      <td>NONE</td>\n",
       "    </tr>\n",
       "    <tr>\n",
       "      <th>61</th>\n",
       "      <td>A Plague Tale: Innocence</td>\n",
       "      <td>NONE</td>\n",
       "    </tr>\n",
       "    <tr>\n",
       "      <th>64</th>\n",
       "      <td>Arena of Evolution: Red Tides</td>\n",
       "      <td>NONE</td>\n",
       "    </tr>\n",
       "    <tr>\n",
       "      <th>117</th>\n",
       "      <td>Atelier Lulua: The Scion of Arland</td>\n",
       "      <td>NONE</td>\n",
       "    </tr>\n",
       "    <tr>\n",
       "      <th>126</th>\n",
       "      <td>Auto Chess Mobile</td>\n",
       "      <td>NONE</td>\n",
       "    </tr>\n",
       "    <tr>\n",
       "      <th>196</th>\n",
       "      <td>Blackjack</td>\n",
       "      <td>NONE</td>\n",
       "    </tr>\n",
       "    <tr>\n",
       "      <th>267</th>\n",
       "      <td>Call of Duty: Modern Warfare Remastered</td>\n",
       "      <td>NONE</td>\n",
       "    </tr>\n",
       "    <tr>\n",
       "      <th>354</th>\n",
       "      <td>Crossout</td>\n",
       "      <td>NONE</td>\n",
       "    </tr>\n",
       "    <tr>\n",
       "      <th>541</th>\n",
       "      <td>DragonBall Z: Dokkan Battle</td>\n",
       "      <td>NONE</td>\n",
       "    </tr>\n",
       "    <tr>\n",
       "      <th>553</th>\n",
       "      <td>Dreams</td>\n",
       "      <td>NONE</td>\n",
       "    </tr>\n",
       "    <tr>\n",
       "      <th>714</th>\n",
       "      <td>Frostborn</td>\n",
       "      <td>NONE</td>\n",
       "    </tr>\n",
       "    <tr>\n",
       "      <th>744</th>\n",
       "      <td>Getting Over It</td>\n",
       "      <td>NONE</td>\n",
       "    </tr>\n",
       "    <tr>\n",
       "      <th>808</th>\n",
       "      <td>GTA Online</td>\n",
       "      <td>NONE</td>\n",
       "    </tr>\n",
       "    <tr>\n",
       "      <th>867</th>\n",
       "      <td>HITMAN</td>\n",
       "      <td>NONE</td>\n",
       "    </tr>\n",
       "    <tr>\n",
       "      <th>868</th>\n",
       "      <td>Hitman 2</td>\n",
       "      <td>NONE</td>\n",
       "    </tr>\n",
       "    <tr>\n",
       "      <th>895</th>\n",
       "      <td>Icarus Online</td>\n",
       "      <td>NONE</td>\n",
       "    </tr>\n",
       "    <tr>\n",
       "      <th>928</th>\n",
       "      <td>Jump King</td>\n",
       "      <td>NONE</td>\n",
       "    </tr>\n",
       "    <tr>\n",
       "      <th>979</th>\n",
       "      <td>KovaaK's FPS Aim Trainer</td>\n",
       "      <td>NONE</td>\n",
       "    </tr>\n",
       "    <tr>\n",
       "      <th>983</th>\n",
       "      <td>KurtzPel</td>\n",
       "      <td>NONE</td>\n",
       "    </tr>\n",
       "    <tr>\n",
       "      <th>1005</th>\n",
       "      <td>Leisure Suit Larry: Wet Dreams Don't Dry</td>\n",
       "      <td>NONE</td>\n",
       "    </tr>\n",
       "    <tr>\n",
       "      <th>1028</th>\n",
       "      <td>LoupsGarous.fr</td>\n",
       "      <td>NONE</td>\n",
       "    </tr>\n",
       "    <tr>\n",
       "      <th>1056</th>\n",
       "      <td>Marbles On Stream</td>\n",
       "      <td>NONE</td>\n",
       "    </tr>\n",
       "    <tr>\n",
       "      <th>1099</th>\n",
       "      <td>Metal Gear: Ghost Babel</td>\n",
       "      <td>NONE</td>\n",
       "    </tr>\n",
       "    <tr>\n",
       "      <th>1201</th>\n",
       "      <td>Mystery Science Theater 3000</td>\n",
       "      <td>NONE</td>\n",
       "    </tr>\n",
       "    <tr>\n",
       "      <th>1274</th>\n",
       "      <td>Overhit</td>\n",
       "      <td>NONE</td>\n",
       "    </tr>\n",
       "    <tr>\n",
       "      <th>1285</th>\n",
       "      <td>Pac-Man</td>\n",
       "      <td>NONE</td>\n",
       "    </tr>\n",
       "    <tr>\n",
       "      <th>1296</th>\n",
       "      <td>Pathfinder</td>\n",
       "      <td>NONE</td>\n",
       "    </tr>\n",
       "    <tr>\n",
       "      <th>1324</th>\n",
       "      <td>Phoenix Wright: Ace Attorney Trilogy</td>\n",
       "      <td>NONE</td>\n",
       "    </tr>\n",
       "    <tr>\n",
       "      <th>...</th>\n",
       "      <td>...</td>\n",
       "      <td>...</td>\n",
       "    </tr>\n",
       "    <tr>\n",
       "      <th>1415</th>\n",
       "      <td>Pump It Up XX: 20th Anniversary Edition</td>\n",
       "      <td>NONE</td>\n",
       "    </tr>\n",
       "    <tr>\n",
       "      <th>1431</th>\n",
       "      <td>Ragnarok M: Eternal Love</td>\n",
       "      <td>NONE</td>\n",
       "    </tr>\n",
       "    <tr>\n",
       "      <th>1454</th>\n",
       "      <td>Rescue HQ - The Tycoon</td>\n",
       "      <td>NONE</td>\n",
       "    </tr>\n",
       "    <tr>\n",
       "      <th>1480</th>\n",
       "      <td>Retro</td>\n",
       "      <td>NONE</td>\n",
       "    </tr>\n",
       "    <tr>\n",
       "      <th>1584</th>\n",
       "      <td>skribbl.io</td>\n",
       "      <td>NONE</td>\n",
       "    </tr>\n",
       "    <tr>\n",
       "      <th>1593</th>\n",
       "      <td>Smile For Me</td>\n",
       "      <td>NONE</td>\n",
       "    </tr>\n",
       "    <tr>\n",
       "      <th>1616</th>\n",
       "      <td>Spacelords</td>\n",
       "      <td>NONE</td>\n",
       "    </tr>\n",
       "    <tr>\n",
       "      <th>1621</th>\n",
       "      <td>Spellbreak</td>\n",
       "      <td>NONE</td>\n",
       "    </tr>\n",
       "    <tr>\n",
       "      <th>1716</th>\n",
       "      <td>Super Bunny Man</td>\n",
       "      <td>NONE</td>\n",
       "    </tr>\n",
       "    <tr>\n",
       "      <th>1765</th>\n",
       "      <td>Tales Of Wind</td>\n",
       "      <td>NONE</td>\n",
       "    </tr>\n",
       "    <tr>\n",
       "      <th>1768</th>\n",
       "      <td>Tamashii</td>\n",
       "      <td>NONE</td>\n",
       "    </tr>\n",
       "    <tr>\n",
       "      <th>1839</th>\n",
       "      <td>The Joy of Creation</td>\n",
       "      <td>NONE</td>\n",
       "    </tr>\n",
       "    <tr>\n",
       "      <th>1855</th>\n",
       "      <td>The Legend of Zelda: Majora's Mask 3D</td>\n",
       "      <td>NONE</td>\n",
       "    </tr>\n",
       "    <tr>\n",
       "      <th>1857</th>\n",
       "      <td>The Legend of Zelda: Ocarina of Time 3D</td>\n",
       "      <td>NONE</td>\n",
       "    </tr>\n",
       "    <tr>\n",
       "      <th>1892</th>\n",
       "      <td>The Stanley Parable</td>\n",
       "      <td>NONE</td>\n",
       "    </tr>\n",
       "    <tr>\n",
       "      <th>1932</th>\n",
       "      <td>Tomb Raider (1996)</td>\n",
       "      <td>NONE</td>\n",
       "    </tr>\n",
       "    <tr>\n",
       "      <th>1963</th>\n",
       "      <td>Totally Accurate Battle Simulator</td>\n",
       "      <td>NONE</td>\n",
       "    </tr>\n",
       "    <tr>\n",
       "      <th>1973</th>\n",
       "      <td>Touhou</td>\n",
       "      <td>NONE</td>\n",
       "    </tr>\n",
       "    <tr>\n",
       "      <th>1994</th>\n",
       "      <td>Trover Saves the Universe</td>\n",
       "      <td>NONE</td>\n",
       "    </tr>\n",
       "    <tr>\n",
       "      <th>1999</th>\n",
       "      <td>TV and Cinema 101: Trivia from Talkies to Trek...</td>\n",
       "      <td>NONE</td>\n",
       "    </tr>\n",
       "    <tr>\n",
       "      <th>2000</th>\n",
       "      <td>Twitch Plays</td>\n",
       "      <td>NONE</td>\n",
       "    </tr>\n",
       "    <tr>\n",
       "      <th>2014</th>\n",
       "      <td>Unreal Engine</td>\n",
       "      <td>NONE</td>\n",
       "    </tr>\n",
       "    <tr>\n",
       "      <th>2029</th>\n",
       "      <td>Varius</td>\n",
       "      <td>NONE</td>\n",
       "    </tr>\n",
       "    <tr>\n",
       "      <th>2067</th>\n",
       "      <td>Warhammer</td>\n",
       "      <td>NONE</td>\n",
       "    </tr>\n",
       "    <tr>\n",
       "      <th>2094</th>\n",
       "      <td>WGT Golf</td>\n",
       "      <td>NONE</td>\n",
       "    </tr>\n",
       "    <tr>\n",
       "      <th>2117</th>\n",
       "      <td>World of Tanks Console</td>\n",
       "      <td>NONE</td>\n",
       "    </tr>\n",
       "    <tr>\n",
       "      <th>2124</th>\n",
       "      <td>World of Warships: Legends</td>\n",
       "      <td>NONE</td>\n",
       "    </tr>\n",
       "    <tr>\n",
       "      <th>2126</th>\n",
       "      <td>World War Z</td>\n",
       "      <td>NONE</td>\n",
       "    </tr>\n",
       "    <tr>\n",
       "      <th>2129</th>\n",
       "      <td>Wrestling</td>\n",
       "      <td>NONE</td>\n",
       "    </tr>\n",
       "    <tr>\n",
       "      <th>2161</th>\n",
       "      <td>Yu-Gi-Oh! TRADING CARD GAME</td>\n",
       "      <td>NONE</td>\n",
       "    </tr>\n",
       "  </tbody>\n",
       "</table>\n",
       "<p>61 rows × 2 columns</p>\n",
       "</div>"
      ],
      "text/plain": [
       "                                              game_name game_genres\n",
       "8                                               Agar.io        NONE\n",
       "29                                            Always On        NONE\n",
       "47                                           Anime Land        NONE\n",
       "61                             A Plague Tale: Innocence        NONE\n",
       "64                        Arena of Evolution: Red Tides        NONE\n",
       "117                  Atelier Lulua: The Scion of Arland        NONE\n",
       "126                                   Auto Chess Mobile        NONE\n",
       "196                                           Blackjack        NONE\n",
       "267             Call of Duty: Modern Warfare Remastered        NONE\n",
       "354                                            Crossout        NONE\n",
       "541                         DragonBall Z: Dokkan Battle        NONE\n",
       "553                                              Dreams        NONE\n",
       "714                                           Frostborn        NONE\n",
       "744                                     Getting Over It        NONE\n",
       "808                                          GTA Online        NONE\n",
       "867                                              HITMAN        NONE\n",
       "868                                            Hitman 2        NONE\n",
       "895                                       Icarus Online        NONE\n",
       "928                                           Jump King        NONE\n",
       "979                            KovaaK's FPS Aim Trainer        NONE\n",
       "983                                            KurtzPel        NONE\n",
       "1005           Leisure Suit Larry: Wet Dreams Don't Dry        NONE\n",
       "1028                                     LoupsGarous.fr        NONE\n",
       "1056                                  Marbles On Stream        NONE\n",
       "1099                            Metal Gear: Ghost Babel        NONE\n",
       "1201                       Mystery Science Theater 3000        NONE\n",
       "1274                                            Overhit        NONE\n",
       "1285                                            Pac-Man        NONE\n",
       "1296                                         Pathfinder        NONE\n",
       "1324               Phoenix Wright: Ace Attorney Trilogy        NONE\n",
       "...                                                 ...         ...\n",
       "1415            Pump It Up XX: 20th Anniversary Edition        NONE\n",
       "1431                           Ragnarok M: Eternal Love        NONE\n",
       "1454                             Rescue HQ - The Tycoon        NONE\n",
       "1480                                              Retro        NONE\n",
       "1584                                         skribbl.io        NONE\n",
       "1593                                       Smile For Me        NONE\n",
       "1616                                         Spacelords        NONE\n",
       "1621                                         Spellbreak        NONE\n",
       "1716                                    Super Bunny Man        NONE\n",
       "1765                                      Tales Of Wind        NONE\n",
       "1768                                           Tamashii        NONE\n",
       "1839                                The Joy of Creation        NONE\n",
       "1855              The Legend of Zelda: Majora's Mask 3D        NONE\n",
       "1857            The Legend of Zelda: Ocarina of Time 3D        NONE\n",
       "1892                                The Stanley Parable        NONE\n",
       "1932                                 Tomb Raider (1996)        NONE\n",
       "1963                  Totally Accurate Battle Simulator        NONE\n",
       "1973                                             Touhou        NONE\n",
       "1994                          Trover Saves the Universe        NONE\n",
       "1999  TV and Cinema 101: Trivia from Talkies to Trek...        NONE\n",
       "2000                                       Twitch Plays        NONE\n",
       "2014                                      Unreal Engine        NONE\n",
       "2029                                             Varius        NONE\n",
       "2067                                          Warhammer        NONE\n",
       "2094                                           WGT Golf        NONE\n",
       "2117                             World of Tanks Console        NONE\n",
       "2124                         World of Warships: Legends        NONE\n",
       "2126                                        World War Z        NONE\n",
       "2129                                          Wrestling        NONE\n",
       "2161                        Yu-Gi-Oh! TRADING CARD GAME        NONE\n",
       "\n",
       "[61 rows x 2 columns]"
      ]
     },
     "execution_count": 10,
     "metadata": {},
     "output_type": "execute_result"
    }
   ],
   "source": [
    "df.loc[df['game_genres'] == 'NONE']"
   ]
  },
  {
   "cell_type": "markdown",
   "metadata": {},
   "source": [
    "# Goal:\n",
    "Given a string first:\n",
    "- Fuzzy match any titles\n",
    "    - if title matches, show game and related games\n",
    "- if string does not fuzzy match any titles\n",
    "    - find similarity of string to all genres\n",
    "    - take the top 3 similarities and show them?\n",
    "    "
   ]
  },
  {
   "cell_type": "code",
   "execution_count": 50,
   "metadata": {},
   "outputs": [],
   "source": [
    "# query = '''SELECT DISTINCT(game_name) FROM game_genres ORDER BY game_name;'''\n",
    "# df=pd_sql.read_sql(query, connection)"
   ]
  },
  {
   "cell_type": "code",
   "execution_count": 20,
   "metadata": {},
   "outputs": [],
   "source": [
    "# df.drop_duplicates(inplace = True)"
   ]
  },
  {
   "cell_type": "code",
   "execution_count": null,
   "metadata": {},
   "outputs": [],
   "source": [
    "x.loc[x['game_genres']].apply(lambda x: type(x) == None)"
   ]
  },
  {
   "cell_type": "code",
   "execution_count": 22,
   "metadata": {},
   "outputs": [
    {
     "data": {
      "text/html": [
       "<div>\n",
       "<style scoped>\n",
       "    .dataframe tbody tr th:only-of-type {\n",
       "        vertical-align: middle;\n",
       "    }\n",
       "\n",
       "    .dataframe tbody tr th {\n",
       "        vertical-align: top;\n",
       "    }\n",
       "\n",
       "    .dataframe thead th {\n",
       "        text-align: right;\n",
       "    }\n",
       "</style>\n",
       "<table border=\"1\" class=\"dataframe\">\n",
       "  <thead>\n",
       "    <tr style=\"text-align: right;\">\n",
       "      <th></th>\n",
       "      <th>game_name</th>\n",
       "    </tr>\n",
       "  </thead>\n",
       "  <tbody>\n",
       "    <tr>\n",
       "      <th>0</th>\n",
       "      <td>140</td>\n",
       "    </tr>\n",
       "    <tr>\n",
       "      <th>1</th>\n",
       "      <td>2Dark</td>\n",
       "    </tr>\n",
       "    <tr>\n",
       "      <th>2</th>\n",
       "      <td>7 Days to Die</td>\n",
       "    </tr>\n",
       "    <tr>\n",
       "      <th>3</th>\n",
       "      <td>8-Bit Armies</td>\n",
       "    </tr>\n",
       "    <tr>\n",
       "      <th>4</th>\n",
       "      <td>Agar.io</td>\n",
       "    </tr>\n",
       "  </tbody>\n",
       "</table>\n",
       "</div>"
      ],
      "text/plain": [
       "       game_name\n",
       "0            140\n",
       "1          2Dark\n",
       "2  7 Days to Die\n",
       "3   8-Bit Armies\n",
       "4        Agar.io"
      ]
     },
     "execution_count": 22,
     "metadata": {},
     "output_type": "execute_result"
    }
   ],
   "source": [
    "df.head()"
   ]
  },
  {
   "cell_type": "code",
   "execution_count": 28,
   "metadata": {},
   "outputs": [
    {
     "data": {
      "text/plain": [
       "\"Shoot 'Em Up\""
      ]
     },
     "execution_count": 28,
     "metadata": {},
     "output_type": "execute_result"
    }
   ],
   "source": [
    "token2match = \"Shoot 'em Up\"\n",
    "match_genre(token2match,genres)[0][0]"
   ]
  },
  {
   "cell_type": "code",
   "execution_count": 22,
   "metadata": {},
   "outputs": [],
   "source": [
    "def match_genre(input_token,genre_list):\n",
    "    genre_ratios = process.extract(input_token,genre_list,limit=10)\n",
    "    return genre_ratios"
   ]
  },
  {
   "cell_type": "code",
   "execution_count": 16,
   "metadata": {},
   "outputs": [],
   "source": [
    "genres= list(genres)"
   ]
  },
  {
   "cell_type": "code",
   "execution_count": 14,
   "metadata": {},
   "outputs": [
    {
     "data": {
      "text/plain": [
       "['Action', 'Stealth', \"Shoot 'em Up \"]"
      ]
     },
     "execution_count": 14,
     "metadata": {},
     "output_type": "execute_result"
    }
   ],
   "source": [
    "\n",
    "\n",
    "streamer_genres_split\n",
    "# streamer_games_split = list(streamer_games.split(', '))"
   ]
  },
  {
   "cell_type": "code",
   "execution_count": 71,
   "metadata": {},
   "outputs": [],
   "source": [
    "streamer_genres = \"Action, Stealth, Shoot 'em Up, spo, other \"\n",
    "streamer_genres_split = list(streamer_genres.split(', '))"
   ]
  },
  {
   "cell_type": "code",
   "execution_count": 74,
   "metadata": {},
   "outputs": [],
   "source": [
    "def parse_user_genre_list(user_input_list,genres):\n",
    "    fuzzy_parsed = list()\n",
    "    user_input_split = list(user_input_list.split(', '))\n",
    "    for token in user_input_split:\n",
    "        if token.lower() in [x.lower() for x in genres]:\n",
    "            fuzzy_parsed.append(token)\n",
    "        else:\n",
    "            first_match = match_genre(token,genres)\n",
    "            if first_match[0][1] > 70:\n",
    "                fuzzy_parsed.append(match_genre(token,genres)[0][0])\n",
    "    return fuzzy_parsed"
   ]
  },
  {
   "cell_type": "code",
   "execution_count": 66,
   "metadata": {},
   "outputs": [
    {
     "data": {
      "text/plain": [
       "[('Shooter', 67),\n",
       " ('Platformer', 54),\n",
       " (\"Shoot 'Em Up\", 54),\n",
       " ('RETROGAMEPLACEHOLDER', 54),\n",
       " ('NONE', 44),\n",
       " ('Open World', 40),\n",
       " ('Sports Game', 38),\n",
       " ('Rhythm & Music Game', 36),\n",
       " ('Adventure Game', 36),\n",
       " ('Strategy', 36)]"
      ]
     },
     "execution_count": 66,
     "metadata": {},
     "output_type": "execute_result"
    }
   ],
   "source": [
    "match_genre('other',genres)"
   ]
  },
  {
   "cell_type": "code",
   "execution_count": 94,
   "metadata": {},
   "outputs": [],
   "source": [
    "def match_string(str2Match):\n",
    "    \n",
    "    strOptions = list(df['game_name'])\n",
    "    game_ratios = process.extract(str2Match,strOptions,limit=10)\n",
    "    print(\"Game ratios: \", game_ratios)\n",
    "    # You can also select the string with the highest matching percentage\n",
    "    # highest = process.extractOne(str2Match,strOptions)\n",
    "    strOptions = list(genres)\n",
    "\n",
    "    genre_ratios = process.extract(str2Match,strOptions,limit=10)\n",
    "    print(\"Genre ratios: \", genre_ratios)\n",
    "    return game_ratios,genre_ratios"
   ]
  },
  {
   "cell_type": "code",
   "execution_count": 96,
   "metadata": {},
   "outputs": [
    {
     "name": "stdout",
     "output_type": "stream",
     "text": [
      "Game ratios:  [('Albion Online', 68), ('A Plague Tale: Innocence', 68), ('Assetto Corsa Competizione', 68), ('Assetto Corsa Competizione', 68), ('Astroneer', 68), ('Astroneer', 68), ('Bloodborne', 68), ('Bloodborne', 68), ('Bloodborne', 68), ('Clone Drone in the Danger Zone', 68)]\n",
      "Str2match:  None\n",
      "Genre ratios:  [('NONE', 100), ('Visual Novel', 68), ('Simulation', 51), ('Action', 51), ('Platformer', 45), ('Shooter', 45), ('Indie Game', 45), ('Open World', 45), ('Compilation', 45), ('Hidden Objects', 45)]\n"
     ]
    },
    {
     "data": {
      "text/plain": [
       "([('Albion Online', 68),\n",
       "  ('A Plague Tale: Innocence', 68),\n",
       "  ('Assetto Corsa Competizione', 68),\n",
       "  ('Assetto Corsa Competizione', 68),\n",
       "  ('Astroneer', 68),\n",
       "  ('Astroneer', 68),\n",
       "  ('Bloodborne', 68),\n",
       "  ('Bloodborne', 68),\n",
       "  ('Bloodborne', 68),\n",
       "  ('Clone Drone in the Danger Zone', 68)],\n",
       " [('NONE', 100),\n",
       "  ('Visual Novel', 68),\n",
       "  ('Simulation', 51),\n",
       "  ('Action', 51),\n",
       "  ('Platformer', 45),\n",
       "  ('Shooter', 45),\n",
       "  ('Indie Game', 45),\n",
       "  ('Open World', 45),\n",
       "  ('Compilation', 45),\n",
       "  ('Hidden Objects', 45)])"
      ]
     },
     "execution_count": 96,
     "metadata": {},
     "output_type": "execute_result"
    }
   ],
   "source": [
    "match_string('None')"
   ]
  },
  {
   "cell_type": "code",
   "execution_count": null,
   "metadata": {},
   "outputs": [],
   "source": []
  }
 ],
 "metadata": {
  "kernelspec": {
   "display_name": "Python 3",
   "language": "python",
   "name": "python3"
  },
  "language_info": {
   "codemirror_mode": {
    "name": "ipython",
    "version": 3
   },
   "file_extension": ".py",
   "mimetype": "text/x-python",
   "name": "python",
   "nbconvert_exporter": "python",
   "pygments_lexer": "ipython3",
   "version": "3.7.3"
  }
 },
 "nbformat": 4,
 "nbformat_minor": 2
}
