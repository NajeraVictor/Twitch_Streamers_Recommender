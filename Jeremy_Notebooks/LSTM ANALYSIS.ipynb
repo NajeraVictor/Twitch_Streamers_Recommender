{
 "cells": [
  {
   "cell_type": "code",
   "execution_count": 1,
   "metadata": {},
   "outputs": [],
   "source": [
    "import pandas as pd\n",
    "import numpy as np\n",
    "import matplotlib.pyplot as plt\n",
    "import seaborn as sns\n",
    "from numpy import inf"
   ]
  },
  {
   "cell_type": "code",
   "execution_count": 2,
   "metadata": {},
   "outputs": [
    {
     "name": "stderr",
     "output_type": "stream",
     "text": [
      "Using TensorFlow backend.\n"
     ]
    }
   ],
   "source": [
    "from keras.models import Sequential\n",
    "from keras.layers import Dense, LSTM, Flatten, Dropout\n",
    "from keras.preprocessing.sequence import TimeseriesGenerator\n",
    "from sklearn.preprocessing import MinMaxScaler\n",
    "from sklearn.metrics import mean_squared_error"
   ]
  },
  {
   "cell_type": "code",
   "execution_count": 3,
   "metadata": {},
   "outputs": [],
   "source": [
    "colnames=['timestamp', 'game_name', 'num_channels', 'num_viewers']"
   ]
  },
  {
   "cell_type": "code",
   "execution_count": 4,
   "metadata": {},
   "outputs": [],
   "source": [
    "df=pd.read_csv('Natasha.csv',header =None, names = colnames)"
   ]
  },
  {
   "cell_type": "code",
   "execution_count": 5,
   "metadata": {},
   "outputs": [],
   "source": [
    "df['timestamp'] = pd.to_datetime(df['timestamp'])"
   ]
  },
  {
   "cell_type": "code",
   "execution_count": 6,
   "metadata": {},
   "outputs": [],
   "source": [
    "df=df.sort_values(by=['game_name','timestamp'])"
   ]
  },
  {
   "cell_type": "code",
   "execution_count": 7,
   "metadata": {},
   "outputs": [],
   "source": [
    "df.reset_index(inplace = True)"
   ]
  },
  {
   "cell_type": "code",
   "execution_count": 8,
   "metadata": {},
   "outputs": [],
   "source": [
    "df.drop(columns='index',inplace = True)"
   ]
  },
  {
   "cell_type": "markdown",
   "metadata": {},
   "source": [
    "# Smart \"Diff()\" to only find diff if game names are equivalent"
   ]
  },
  {
   "cell_type": "code",
   "execution_count": 9,
   "metadata": {},
   "outputs": [],
   "source": [
    "#\n",
    "# df['diff_channels'] = df['num_channels']\n",
    "# df['diff_viewers'] = df['num_viewers']\n",
    "# for row_index in range(1,df.shape[0]):\n",
    "#     # 0 - time_logged\n",
    "#     # 1 - game_name\n",
    "#     # 2 - num_channels\n",
    "#     # 3 - num_viewers\n",
    "#     # 4 - diff_channels\n",
    "#     # 5 - diff_viewers\n",
    "    \n",
    "    \n",
    "#     # Check if game_name of this row and previous row are the same\n",
    "#     if df.iloc[row_index,1] == df.iloc[row_index-1,1]:\n",
    "#         df.iloc[row_index,4] = int(df.iloc[row_index,2] - df.iloc[row_index-1,2])\n",
    "#         df.iloc[row_index,5] = int(df.iloc[row_index,3] - df.iloc[row_index-1,3])\n",
    "#     else:\n",
    "#     # If the game names are different, the difference between metrics is invalid, fill with NaN\n",
    "#         df.iloc[row_index,4] = np.NaN\n",
    "#         df.iloc[row_index,5] = np.NaN"
   ]
  },
  {
   "cell_type": "code",
   "execution_count": 10,
   "metadata": {},
   "outputs": [],
   "source": [
    "df['diff_channels'] = df['num_channels']\n",
    "df['diff_viewers'] = df['num_viewers']"
   ]
  },
  {
   "cell_type": "code",
   "execution_count": 11,
   "metadata": {},
   "outputs": [],
   "source": [
    "df_values =  df.values"
   ]
  },
  {
   "cell_type": "code",
   "execution_count": 12,
   "metadata": {},
   "outputs": [
    {
     "data": {
      "text/plain": [
       "' F1 2019'"
      ]
     },
     "execution_count": 12,
     "metadata": {},
     "output_type": "execute_result"
    }
   ],
   "source": [
    "df_values[4,1]"
   ]
  },
  {
   "cell_type": "code",
   "execution_count": 13,
   "metadata": {},
   "outputs": [],
   "source": [
    "for row_index in range(1,df.shape[0]):\n",
    "    # 0 - time_logged\n",
    "    # 1 - game_name\n",
    "    # 2 - num_channels\n",
    "    # 3 - num_viewers\n",
    "    # 4 - diff_channels\n",
    "    # 5 - diff_viewers\n",
    "    \n",
    "    \n",
    "    # Check if game_name of this row and previous row are the same\n",
    "    if df_values[row_index,1] == df_values[row_index-1,1]:\n",
    "        df_values[row_index,4] = int(df_values[row_index,2] - df_values[row_index-1,2])\n",
    "        df_values[row_index,5] = int(df_values[row_index,3] - df_values[row_index-1,3])\n",
    "    else:\n",
    "    # If the game names are different, the difference between metrics is invalid, fill with NaN\n",
    "        df_values[row_index,4] = np.NaN\n",
    "        df_values[row_index,5] = np.NaN"
   ]
  },
  {
   "cell_type": "code",
   "execution_count": 14,
   "metadata": {},
   "outputs": [],
   "source": [
    "diff_df=pd.DataFrame(df_values).rename(columns={0: 'timestamp',\n",
    "                                                1: 'game_name',\n",
    "                                                2: 'num_channels',\n",
    "                                                3: 'num_viewers',\n",
    "                                                4: 'diff_channels',\n",
    "                                                5: 'diff_viewers'})"
   ]
  },
  {
   "cell_type": "code",
   "execution_count": 15,
   "metadata": {},
   "outputs": [],
   "source": [
    "diff_df.to_pickle('./sully_df_differences.pkl',compression = 'zip')"
   ]
  },
  {
   "cell_type": "code",
   "execution_count": 16,
   "metadata": {},
   "outputs": [],
   "source": [
    "df=pd.read_pickle('./sully_df_differences.pkl',compression = 'zip')"
   ]
  },
  {
   "cell_type": "code",
   "execution_count": 17,
   "metadata": {},
   "outputs": [
    {
     "data": {
      "text/plain": [
       "(2092036, 6)"
      ]
     },
     "execution_count": 17,
     "metadata": {},
     "output_type": "execute_result"
    }
   ],
   "source": [
    "df.shape"
   ]
  },
  {
   "cell_type": "code",
   "execution_count": 21,
   "metadata": {},
   "outputs": [],
   "source": [
    "LoL=df.loc[df['game_name'] == 'League of Legends']"
   ]
  },
  {
   "cell_type": "code",
   "execution_count": 22,
   "metadata": {},
   "outputs": [
    {
     "data": {
      "text/html": [
       "<div>\n",
       "<style scoped>\n",
       "    .dataframe tbody tr th:only-of-type {\n",
       "        vertical-align: middle;\n",
       "    }\n",
       "\n",
       "    .dataframe tbody tr th {\n",
       "        vertical-align: top;\n",
       "    }\n",
       "\n",
       "    .dataframe thead th {\n",
       "        text-align: right;\n",
       "    }\n",
       "</style>\n",
       "<table border=\"1\" class=\"dataframe\">\n",
       "  <thead>\n",
       "    <tr style=\"text-align: right;\">\n",
       "      <th></th>\n",
       "      <th>diff_channels</th>\n",
       "      <th>diff_viewers</th>\n",
       "    </tr>\n",
       "  </thead>\n",
       "  <tbody>\n",
       "    <tr>\n",
       "      <th>938390</th>\n",
       "      <td>NaN</td>\n",
       "      <td>NaN</td>\n",
       "    </tr>\n",
       "    <tr>\n",
       "      <th>938391</th>\n",
       "      <td>-376</td>\n",
       "      <td>-16775</td>\n",
       "    </tr>\n",
       "    <tr>\n",
       "      <th>938392</th>\n",
       "      <td>-83</td>\n",
       "      <td>3915</td>\n",
       "    </tr>\n",
       "    <tr>\n",
       "      <th>938393</th>\n",
       "      <td>-14</td>\n",
       "      <td>6393</td>\n",
       "    </tr>\n",
       "    <tr>\n",
       "      <th>938394</th>\n",
       "      <td>-201</td>\n",
       "      <td>18045</td>\n",
       "    </tr>\n",
       "    <tr>\n",
       "      <th>938395</th>\n",
       "      <td>-216</td>\n",
       "      <td>-10105</td>\n",
       "    </tr>\n",
       "    <tr>\n",
       "      <th>938396</th>\n",
       "      <td>-259</td>\n",
       "      <td>330</td>\n",
       "    </tr>\n",
       "    <tr>\n",
       "      <th>938397</th>\n",
       "      <td>-227</td>\n",
       "      <td>-19222</td>\n",
       "    </tr>\n",
       "    <tr>\n",
       "      <th>938398</th>\n",
       "      <td>-142</td>\n",
       "      <td>3021</td>\n",
       "    </tr>\n",
       "    <tr>\n",
       "      <th>938399</th>\n",
       "      <td>49</td>\n",
       "      <td>-736</td>\n",
       "    </tr>\n",
       "    <tr>\n",
       "      <th>938400</th>\n",
       "      <td>113</td>\n",
       "      <td>19632</td>\n",
       "    </tr>\n",
       "    <tr>\n",
       "      <th>938401</th>\n",
       "      <td>253</td>\n",
       "      <td>36388</td>\n",
       "    </tr>\n",
       "    <tr>\n",
       "      <th>938402</th>\n",
       "      <td>310</td>\n",
       "      <td>14703</td>\n",
       "    </tr>\n",
       "    <tr>\n",
       "      <th>938403</th>\n",
       "      <td>287</td>\n",
       "      <td>12576</td>\n",
       "    </tr>\n",
       "    <tr>\n",
       "      <th>938404</th>\n",
       "      <td>280</td>\n",
       "      <td>-2183</td>\n",
       "    </tr>\n",
       "    <tr>\n",
       "      <th>938405</th>\n",
       "      <td>122</td>\n",
       "      <td>18823</td>\n",
       "    </tr>\n",
       "    <tr>\n",
       "      <th>938406</th>\n",
       "      <td>134</td>\n",
       "      <td>19357</td>\n",
       "    </tr>\n",
       "    <tr>\n",
       "      <th>938407</th>\n",
       "      <td>131</td>\n",
       "      <td>-19171</td>\n",
       "    </tr>\n",
       "    <tr>\n",
       "      <th>938408</th>\n",
       "      <td>205</td>\n",
       "      <td>-26498</td>\n",
       "    </tr>\n",
       "    <tr>\n",
       "      <th>938409</th>\n",
       "      <td>86</td>\n",
       "      <td>-19929</td>\n",
       "    </tr>\n",
       "    <tr>\n",
       "      <th>938410</th>\n",
       "      <td>-38</td>\n",
       "      <td>3488</td>\n",
       "    </tr>\n",
       "    <tr>\n",
       "      <th>938411</th>\n",
       "      <td>-81</td>\n",
       "      <td>-1870</td>\n",
       "    </tr>\n",
       "    <tr>\n",
       "      <th>938412</th>\n",
       "      <td>-168</td>\n",
       "      <td>-8783</td>\n",
       "    </tr>\n",
       "    <tr>\n",
       "      <th>938413</th>\n",
       "      <td>-128</td>\n",
       "      <td>-14016</td>\n",
       "    </tr>\n",
       "    <tr>\n",
       "      <th>938414</th>\n",
       "      <td>-3</td>\n",
       "      <td>-10594</td>\n",
       "    </tr>\n",
       "    <tr>\n",
       "      <th>938415</th>\n",
       "      <td>43</td>\n",
       "      <td>-249</td>\n",
       "    </tr>\n",
       "    <tr>\n",
       "      <th>938416</th>\n",
       "      <td>79</td>\n",
       "      <td>1963</td>\n",
       "    </tr>\n",
       "    <tr>\n",
       "      <th>938417</th>\n",
       "      <td>-217</td>\n",
       "      <td>-4754</td>\n",
       "    </tr>\n",
       "    <tr>\n",
       "      <th>938418</th>\n",
       "      <td>-296</td>\n",
       "      <td>-3637</td>\n",
       "    </tr>\n",
       "    <tr>\n",
       "      <th>938419</th>\n",
       "      <td>-363</td>\n",
       "      <td>-5092</td>\n",
       "    </tr>\n",
       "    <tr>\n",
       "      <th>...</th>\n",
       "      <td>...</td>\n",
       "      <td>...</td>\n",
       "    </tr>\n",
       "    <tr>\n",
       "      <th>939297</th>\n",
       "      <td>224</td>\n",
       "      <td>-352</td>\n",
       "    </tr>\n",
       "    <tr>\n",
       "      <th>939298</th>\n",
       "      <td>45</td>\n",
       "      <td>355</td>\n",
       "    </tr>\n",
       "    <tr>\n",
       "      <th>939299</th>\n",
       "      <td>-22</td>\n",
       "      <td>-547</td>\n",
       "    </tr>\n",
       "    <tr>\n",
       "      <th>939300</th>\n",
       "      <td>-7</td>\n",
       "      <td>1791</td>\n",
       "    </tr>\n",
       "    <tr>\n",
       "      <th>939301</th>\n",
       "      <td>-155</td>\n",
       "      <td>-7412</td>\n",
       "    </tr>\n",
       "    <tr>\n",
       "      <th>939302</th>\n",
       "      <td>-119</td>\n",
       "      <td>-18716</td>\n",
       "    </tr>\n",
       "    <tr>\n",
       "      <th>939303</th>\n",
       "      <td>-132</td>\n",
       "      <td>-651</td>\n",
       "    </tr>\n",
       "    <tr>\n",
       "      <th>939304</th>\n",
       "      <td>-64</td>\n",
       "      <td>-2607</td>\n",
       "    </tr>\n",
       "    <tr>\n",
       "      <th>939305</th>\n",
       "      <td>-203</td>\n",
       "      <td>1315</td>\n",
       "    </tr>\n",
       "    <tr>\n",
       "      <th>939306</th>\n",
       "      <td>-208</td>\n",
       "      <td>-1066</td>\n",
       "    </tr>\n",
       "    <tr>\n",
       "      <th>939307</th>\n",
       "      <td>-350</td>\n",
       "      <td>-7564</td>\n",
       "    </tr>\n",
       "    <tr>\n",
       "      <th>939308</th>\n",
       "      <td>-332</td>\n",
       "      <td>-8464</td>\n",
       "    </tr>\n",
       "    <tr>\n",
       "      <th>939309</th>\n",
       "      <td>-301</td>\n",
       "      <td>-5531</td>\n",
       "    </tr>\n",
       "    <tr>\n",
       "      <th>939310</th>\n",
       "      <td>-148</td>\n",
       "      <td>-1989</td>\n",
       "    </tr>\n",
       "    <tr>\n",
       "      <th>939311</th>\n",
       "      <td>-90</td>\n",
       "      <td>15967</td>\n",
       "    </tr>\n",
       "    <tr>\n",
       "      <th>939312</th>\n",
       "      <td>104</td>\n",
       "      <td>14194</td>\n",
       "    </tr>\n",
       "    <tr>\n",
       "      <th>939313</th>\n",
       "      <td>335</td>\n",
       "      <td>11545</td>\n",
       "    </tr>\n",
       "    <tr>\n",
       "      <th>939314</th>\n",
       "      <td>447</td>\n",
       "      <td>16400</td>\n",
       "    </tr>\n",
       "    <tr>\n",
       "      <th>939315</th>\n",
       "      <td>429</td>\n",
       "      <td>12992</td>\n",
       "    </tr>\n",
       "    <tr>\n",
       "      <th>939316</th>\n",
       "      <td>253</td>\n",
       "      <td>24593</td>\n",
       "    </tr>\n",
       "    <tr>\n",
       "      <th>939317</th>\n",
       "      <td>106</td>\n",
       "      <td>-1828</td>\n",
       "    </tr>\n",
       "    <tr>\n",
       "      <th>939318</th>\n",
       "      <td>60</td>\n",
       "      <td>-7600</td>\n",
       "    </tr>\n",
       "    <tr>\n",
       "      <th>939319</th>\n",
       "      <td>138</td>\n",
       "      <td>-5150</td>\n",
       "    </tr>\n",
       "    <tr>\n",
       "      <th>939320</th>\n",
       "      <td>148</td>\n",
       "      <td>-4606</td>\n",
       "    </tr>\n",
       "    <tr>\n",
       "      <th>939321</th>\n",
       "      <td>65</td>\n",
       "      <td>-9197</td>\n",
       "    </tr>\n",
       "    <tr>\n",
       "      <th>939322</th>\n",
       "      <td>30</td>\n",
       "      <td>-2008</td>\n",
       "    </tr>\n",
       "    <tr>\n",
       "      <th>939323</th>\n",
       "      <td>-67</td>\n",
       "      <td>-17702</td>\n",
       "    </tr>\n",
       "    <tr>\n",
       "      <th>939324</th>\n",
       "      <td>-134</td>\n",
       "      <td>27638</td>\n",
       "    </tr>\n",
       "    <tr>\n",
       "      <th>939325</th>\n",
       "      <td>-184</td>\n",
       "      <td>-25122</td>\n",
       "    </tr>\n",
       "    <tr>\n",
       "      <th>939326</th>\n",
       "      <td>-32</td>\n",
       "      <td>-27817</td>\n",
       "    </tr>\n",
       "  </tbody>\n",
       "</table>\n",
       "<p>937 rows × 2 columns</p>\n",
       "</div>"
      ],
      "text/plain": [
       "       diff_channels diff_viewers\n",
       "938390           NaN          NaN\n",
       "938391          -376       -16775\n",
       "938392           -83         3915\n",
       "938393           -14         6393\n",
       "938394          -201        18045\n",
       "938395          -216       -10105\n",
       "938396          -259          330\n",
       "938397          -227       -19222\n",
       "938398          -142         3021\n",
       "938399            49         -736\n",
       "938400           113        19632\n",
       "938401           253        36388\n",
       "938402           310        14703\n",
       "938403           287        12576\n",
       "938404           280        -2183\n",
       "938405           122        18823\n",
       "938406           134        19357\n",
       "938407           131       -19171\n",
       "938408           205       -26498\n",
       "938409            86       -19929\n",
       "938410           -38         3488\n",
       "938411           -81        -1870\n",
       "938412          -168        -8783\n",
       "938413          -128       -14016\n",
       "938414            -3       -10594\n",
       "938415            43         -249\n",
       "938416            79         1963\n",
       "938417          -217        -4754\n",
       "938418          -296        -3637\n",
       "938419          -363        -5092\n",
       "...              ...          ...\n",
       "939297           224         -352\n",
       "939298            45          355\n",
       "939299           -22         -547\n",
       "939300            -7         1791\n",
       "939301          -155        -7412\n",
       "939302          -119       -18716\n",
       "939303          -132         -651\n",
       "939304           -64        -2607\n",
       "939305          -203         1315\n",
       "939306          -208        -1066\n",
       "939307          -350        -7564\n",
       "939308          -332        -8464\n",
       "939309          -301        -5531\n",
       "939310          -148        -1989\n",
       "939311           -90        15967\n",
       "939312           104        14194\n",
       "939313           335        11545\n",
       "939314           447        16400\n",
       "939315           429        12992\n",
       "939316           253        24593\n",
       "939317           106        -1828\n",
       "939318            60        -7600\n",
       "939319           138        -5150\n",
       "939320           148        -4606\n",
       "939321            65        -9197\n",
       "939322            30        -2008\n",
       "939323           -67       -17702\n",
       "939324          -134        27638\n",
       "939325          -184       -25122\n",
       "939326           -32       -27817\n",
       "\n",
       "[937 rows x 2 columns]"
      ]
     },
     "execution_count": 22,
     "metadata": {},
     "output_type": "execute_result"
    }
   ],
   "source": [
    "LoL.drop(columns = ['timestamp','game_name', 'num_channels','num_viewers'])"
   ]
  },
  {
   "cell_type": "code",
   "execution_count": 23,
   "metadata": {},
   "outputs": [],
   "source": [
    "# timeseries_to_supervised(df)"
   ]
  },
  {
   "cell_type": "markdown",
   "metadata": {},
   "source": [
    "# Jason Brownlee\n",
    "\n",
    "LSTM Code\n",
    "\n",
    "https://machinelearningmastery.com/use-features-lstm-networks-time-series-forecasting/"
   ]
  },
  {
   "cell_type": "markdown",
   "metadata": {},
   "source": [
    "# Inspired by Tony's Code"
   ]
  },
  {
   "cell_type": "code",
   "execution_count": 25,
   "metadata": {},
   "outputs": [
    {
     "data": {
      "text/html": [
       "<div>\n",
       "<style scoped>\n",
       "    .dataframe tbody tr th:only-of-type {\n",
       "        vertical-align: middle;\n",
       "    }\n",
       "\n",
       "    .dataframe tbody tr th {\n",
       "        vertical-align: top;\n",
       "    }\n",
       "\n",
       "    .dataframe thead th {\n",
       "        text-align: right;\n",
       "    }\n",
       "</style>\n",
       "<table border=\"1\" class=\"dataframe\">\n",
       "  <thead>\n",
       "    <tr style=\"text-align: right;\">\n",
       "      <th></th>\n",
       "      <th>timestamp</th>\n",
       "      <th>game_name</th>\n",
       "      <th>num_channels</th>\n",
       "      <th>num_viewers</th>\n",
       "      <th>diff_channels</th>\n",
       "      <th>diff_viewers</th>\n",
       "    </tr>\n",
       "  </thead>\n",
       "  <tbody>\n",
       "    <tr>\n",
       "      <th>938390</th>\n",
       "      <td>2019-04-22 00:00:00</td>\n",
       "      <td>League of Legends</td>\n",
       "      <td>3160</td>\n",
       "      <td>97898</td>\n",
       "      <td>NaN</td>\n",
       "      <td>NaN</td>\n",
       "    </tr>\n",
       "    <tr>\n",
       "      <th>938391</th>\n",
       "      <td>2019-04-22 01:00:00</td>\n",
       "      <td>League of Legends</td>\n",
       "      <td>2784</td>\n",
       "      <td>81123</td>\n",
       "      <td>-376</td>\n",
       "      <td>-16775</td>\n",
       "    </tr>\n",
       "    <tr>\n",
       "      <th>938392</th>\n",
       "      <td>2019-04-22 02:00:00</td>\n",
       "      <td>League of Legends</td>\n",
       "      <td>2701</td>\n",
       "      <td>85038</td>\n",
       "      <td>-83</td>\n",
       "      <td>3915</td>\n",
       "    </tr>\n",
       "    <tr>\n",
       "      <th>938393</th>\n",
       "      <td>2019-04-22 03:00:00</td>\n",
       "      <td>League of Legends</td>\n",
       "      <td>2687</td>\n",
       "      <td>91431</td>\n",
       "      <td>-14</td>\n",
       "      <td>6393</td>\n",
       "    </tr>\n",
       "    <tr>\n",
       "      <th>938394</th>\n",
       "      <td>2019-04-22 04:00:00</td>\n",
       "      <td>League of Legends</td>\n",
       "      <td>2486</td>\n",
       "      <td>109476</td>\n",
       "      <td>-201</td>\n",
       "      <td>18045</td>\n",
       "    </tr>\n",
       "  </tbody>\n",
       "</table>\n",
       "</div>"
      ],
      "text/plain": [
       "                  timestamp          game_name num_channels num_viewers  \\\n",
       "938390  2019-04-22 00:00:00  League of Legends         3160       97898   \n",
       "938391  2019-04-22 01:00:00  League of Legends         2784       81123   \n",
       "938392  2019-04-22 02:00:00  League of Legends         2701       85038   \n",
       "938393  2019-04-22 03:00:00  League of Legends         2687       91431   \n",
       "938394  2019-04-22 04:00:00  League of Legends         2486      109476   \n",
       "\n",
       "       diff_channels diff_viewers  \n",
       "938390           NaN          NaN  \n",
       "938391          -376       -16775  \n",
       "938392           -83         3915  \n",
       "938393           -14         6393  \n",
       "938394          -201        18045  "
      ]
     },
     "execution_count": 25,
     "metadata": {},
     "output_type": "execute_result"
    }
   ],
   "source": [
    "LoL.head()"
   ]
  },
  {
   "cell_type": "code",
   "execution_count": 170,
   "metadata": {},
   "outputs": [
    {
     "name": "stderr",
     "output_type": "stream",
     "text": [
      "/anaconda3/envs/twitchrecommender/lib/python3.7/site-packages/ipykernel_launcher.py:2: SettingWithCopyWarning: \n",
      "A value is trying to be set on a copy of a slice from a DataFrame\n",
      "\n",
      "See the caveats in the documentation: http://pandas.pydata.org/pandas-docs/stable/indexing.html#indexing-view-versus-copy\n",
      "  \n"
     ]
    }
   ],
   "source": [
    "# Necessary to prevent NaN loss function\n",
    "LoL.dropna(inplace = True)"
   ]
  },
  {
   "cell_type": "code",
   "execution_count": null,
   "metadata": {},
   "outputs": [],
   "source": []
  },
  {
   "cell_type": "code",
   "execution_count": 175,
   "metadata": {},
   "outputs": [],
   "source": [
    "# pd.DataFrame(train_sample)"
   ]
  },
  {
   "cell_type": "code",
   "execution_count": 163,
   "metadata": {},
   "outputs": [],
   "source": [
    "def slice_data(train_ratio,data_df, column_name ):\n",
    "    # Divide into train set by cutting up dataframe using train_len\n",
    "    true_test_size = 100\n",
    "    train_len = int(data_df.shape[0] * (train_ratio))\n",
    "    \n",
    "    \n",
    "    # Train data set (index 0 to the training length)\n",
    "    train = data_df[column_name][1:train_len].copy()\n",
    "    train.reset_index(inplace=True, drop=True)\n",
    "\n",
    "    # Validation data set (index of end of training data up to the 'true test')\n",
    "    test = data_df[column_name][train_len:-true_test_size].copy()\n",
    "    test.reset_index(inplace=True, drop=True)\n",
    "    \n",
    "    # True test data set (index of end of validation dataset to end of entire dataset)\n",
    "    true_test = data_df[column_name][-true_test_size:].copy()\n",
    "    true_test.reset_index(inplace=True, drop=True)\n",
    "\n",
    "    return train, test, true_test"
   ]
  },
  {
   "cell_type": "code",
   "execution_count": null,
   "metadata": {},
   "outputs": [],
   "source": [
    "scaler-MinMaxScaler()"
   ]
  },
  {
   "cell_type": "code",
   "execution_count": 30,
   "metadata": {},
   "outputs": [
    {
     "name": "stdout",
     "output_type": "stream",
     "text": [
      "MinMaxScaler(copy=True, feature_range=(0, 1))\n"
     ]
    }
   ],
   "source": [
    "scaler=MinMaxScaler()\n",
    "diff_data = LoL[['diff_channels','diff_viewers']].values\n",
    "print(scaler.fit(diff_data))"
   ]
  },
  {
   "cell_type": "code",
   "execution_count": 31,
   "metadata": {},
   "outputs": [
    {
     "name": "stderr",
     "output_type": "stream",
     "text": [
      "/anaconda3/envs/twitchrecommender/lib/python3.7/site-packages/ipykernel_launcher.py:1: SettingWithCopyWarning: \n",
      "A value is trying to be set on a copy of a slice from a DataFrame.\n",
      "Try using .loc[row_indexer,col_indexer] = value instead\n",
      "\n",
      "See the caveats in the documentation: http://pandas.pydata.org/pandas-docs/stable/indexing.html#indexing-view-versus-copy\n",
      "  \"\"\"Entry point for launching an IPython kernel.\n",
      "/anaconda3/envs/twitchrecommender/lib/python3.7/site-packages/ipykernel_launcher.py:2: SettingWithCopyWarning: \n",
      "A value is trying to be set on a copy of a slice from a DataFrame.\n",
      "Try using .loc[row_indexer,col_indexer] = value instead\n",
      "\n",
      "See the caveats in the documentation: http://pandas.pydata.org/pandas-docs/stable/indexing.html#indexing-view-versus-copy\n",
      "  \n"
     ]
    }
   ],
   "source": [
    "LoL['diff_channels_scaled']=scaler.transform(diff_data)[:,0]\n",
    "LoL['diff_viewers_scaled']=scaler.transform(diff_data)[:,1]"
   ]
  },
  {
   "cell_type": "code",
   "execution_count": 33,
   "metadata": {},
   "outputs": [
    {
     "data": {
      "text/html": [
       "<div>\n",
       "<style scoped>\n",
       "    .dataframe tbody tr th:only-of-type {\n",
       "        vertical-align: middle;\n",
       "    }\n",
       "\n",
       "    .dataframe tbody tr th {\n",
       "        vertical-align: top;\n",
       "    }\n",
       "\n",
       "    .dataframe thead th {\n",
       "        text-align: right;\n",
       "    }\n",
       "</style>\n",
       "<table border=\"1\" class=\"dataframe\">\n",
       "  <thead>\n",
       "    <tr style=\"text-align: right;\">\n",
       "      <th></th>\n",
       "      <th>timestamp</th>\n",
       "      <th>game_name</th>\n",
       "      <th>num_channels</th>\n",
       "      <th>num_viewers</th>\n",
       "      <th>diff_channels</th>\n",
       "      <th>diff_viewers</th>\n",
       "      <th>diff_channels_scaled</th>\n",
       "      <th>diff_viewers_scaled</th>\n",
       "    </tr>\n",
       "  </thead>\n",
       "  <tbody>\n",
       "    <tr>\n",
       "      <th>938391</th>\n",
       "      <td>2019-04-22 01:00:00</td>\n",
       "      <td>League of Legends</td>\n",
       "      <td>2784</td>\n",
       "      <td>81123</td>\n",
       "      <td>-376</td>\n",
       "      <td>-16775</td>\n",
       "      <td>0.139108</td>\n",
       "      <td>0.536666</td>\n",
       "    </tr>\n",
       "    <tr>\n",
       "      <th>938392</th>\n",
       "      <td>2019-04-22 02:00:00</td>\n",
       "      <td>League of Legends</td>\n",
       "      <td>2701</td>\n",
       "      <td>85038</td>\n",
       "      <td>-83</td>\n",
       "      <td>3915</td>\n",
       "      <td>0.395451</td>\n",
       "      <td>0.570331</td>\n",
       "    </tr>\n",
       "    <tr>\n",
       "      <th>938393</th>\n",
       "      <td>2019-04-22 03:00:00</td>\n",
       "      <td>League of Legends</td>\n",
       "      <td>2687</td>\n",
       "      <td>91431</td>\n",
       "      <td>-14</td>\n",
       "      <td>6393</td>\n",
       "      <td>0.455818</td>\n",
       "      <td>0.574362</td>\n",
       "    </tr>\n",
       "    <tr>\n",
       "      <th>938394</th>\n",
       "      <td>2019-04-22 04:00:00</td>\n",
       "      <td>League of Legends</td>\n",
       "      <td>2486</td>\n",
       "      <td>109476</td>\n",
       "      <td>-201</td>\n",
       "      <td>18045</td>\n",
       "      <td>0.292213</td>\n",
       "      <td>0.593321</td>\n",
       "    </tr>\n",
       "    <tr>\n",
       "      <th>938395</th>\n",
       "      <td>2019-04-22 05:00:00</td>\n",
       "      <td>League of Legends</td>\n",
       "      <td>2270</td>\n",
       "      <td>99371</td>\n",
       "      <td>-216</td>\n",
       "      <td>-10105</td>\n",
       "      <td>0.279090</td>\n",
       "      <td>0.547519</td>\n",
       "    </tr>\n",
       "  </tbody>\n",
       "</table>\n",
       "</div>"
      ],
      "text/plain": [
       "                  timestamp          game_name num_channels num_viewers  \\\n",
       "938391  2019-04-22 01:00:00  League of Legends         2784       81123   \n",
       "938392  2019-04-22 02:00:00  League of Legends         2701       85038   \n",
       "938393  2019-04-22 03:00:00  League of Legends         2687       91431   \n",
       "938394  2019-04-22 04:00:00  League of Legends         2486      109476   \n",
       "938395  2019-04-22 05:00:00  League of Legends         2270       99371   \n",
       "\n",
       "       diff_channels diff_viewers  diff_channels_scaled  diff_viewers_scaled  \n",
       "938391          -376       -16775              0.139108             0.536666  \n",
       "938392           -83         3915              0.395451             0.570331  \n",
       "938393           -14         6393              0.455818             0.574362  \n",
       "938394          -201        18045              0.292213             0.593321  \n",
       "938395          -216       -10105              0.279090             0.547519  "
      ]
     },
     "execution_count": 33,
     "metadata": {},
     "output_type": "execute_result"
    }
   ],
   "source": [
    "LoL.head()\n"
   ]
  },
  {
   "cell_type": "code",
   "execution_count": 34,
   "metadata": {},
   "outputs": [],
   "source": [
    "def make_variables(dataset, lags, look_back, predict_window):\n",
    "    ''' dataset = np.matrix\n",
    "        lags = integer, number of previous rows to include as features for predicting next\n",
    "        look_back = integer, number of previous MODELS\n",
    "        predict_window = integer, number of rows to predict ahead\n",
    "    '''\n",
    "    num_features = lags+1\n",
    "    # starting index - Start at a point where we still have int(look_back) number of rows to look back\n",
    "    start = look_back\n",
    "    \n",
    "    # total length - num previous rows to look at - num rows to predict\n",
    "    stop = len(dataset) - lags - predict_window\n",
    "\n",
    "    lstm_in_X = np.zeros(shape=(stop-start, look_back+1, num_features))\n",
    "    lstm_in_Y = np.zeros(shape=(stop-start, look_back+1))\n",
    "\n",
    "    iter_list = [num for num in range(look_back+1)][::-1]\n",
    "    \n",
    "    # Generating the features for the model (based on lags and look back)\n",
    "    for i in range(start, stop):\n",
    "        for index, j in enumerate(iter_list):\n",
    "            X = dataset[i-j : i-j+lags+1, -1]\n",
    "            lstm_in_X[i-start, index] = np.ravel(X)\n",
    "            Y = dataset[i-j+lags+1, -1]\n",
    "            lstm_in_Y[i-start, index] = Y\n",
    "    return lstm_in_X, lstm_in_Y, num_features"
   ]
  },
  {
   "cell_type": "code",
   "execution_count": 103,
   "metadata": {},
   "outputs": [],
   "source": [
    "test_in_X, test_in_Y,test_features = make_variables(np.matrix(LoL[['diff_channels_scaled']]), lags, look_back,predict_window)"
   ]
  },
  {
   "cell_type": "code",
   "execution_count": 153,
   "metadata": {},
   "outputs": [
    {
     "data": {
      "text/plain": [
       "51"
      ]
     },
     "execution_count": 153,
     "metadata": {},
     "output_type": "execute_result"
    }
   ],
   "source": [
    "len(test_in_X[0][0])"
   ]
  },
  {
   "cell_type": "code",
   "execution_count": 141,
   "metadata": {},
   "outputs": [],
   "source": [
    "def train_lstm(train, feature_names, lags,\n",
    "               look_back, predict_window,\n",
    "               lstm_neurons, dense_layers\n",
    "               , epochs = 100, batch_size = 10):\n",
    "    dataset = np.matrix(train[feature_names])\n",
    "    lstm_in_X, lstm_in_Y, features = make_variables(dataset, lags, look_back, predict_window)\n",
    "    train_X = lstm_in_X\n",
    "    train_Y = lstm_in_Y\n",
    "    \n",
    "    # Inputs travel from one layer to next\n",
    "    model = Sequential()\n",
    "    # LSTM layer \n",
    "    model.add(LSTM(lstm_neurons, input_shape=(look_back+1, features)))\n",
    "    # Dropout of 20% to prevent overfitting\n",
    "    model.add(Dropout(0.2))\n",
    "    # Add linear stacked modeling layers with dropout \n",
    "    for neurons in dense_layers:\n",
    "        model.add(Dense(neurons))\n",
    "        model.add(Dropout(0.2))\n",
    "    \n",
    "    # For output, we need to output the number of previous models and our current model\n",
    "    model.add(Dense(look_back+1))\n",
    "    \n",
    "    # Choose loss function and optimizer\n",
    "    model.compile(loss='mean_squared_error', optimizer='adam')\n",
    "\n",
    "    model.fit(train_X, train_Y,batch_size = batch_size, epochs = epochs, verbose=1)\n",
    "    \n",
    "    pred_Y_train = model.predict(train_X)\n",
    "    # Every look back model is outputting a prediction for the next day, so we look at the LAST one to\n",
    "    # get the predictions for days that are out of that batch\n",
    "    predictions = pred_Y_train[:,-1]\n",
    "    \n",
    "    actuals = train_Y[:,-1]\n",
    "    \n",
    "    print(model.summary())\n",
    "    \n",
    "    return model, dataset, train_X, train_Y, predictions, actuals"
   ]
  },
  {
   "cell_type": "code",
   "execution_count": 251,
   "metadata": {},
   "outputs": [],
   "source": [
    "def test_lstm(test_df, feature_names, model, predict_window = predict_window): \n",
    "    dataset = np.matrix(test_df[feature_names])\n",
    "    lstm_in_X, lstm_in_Y, features = make_variables(dataset, lags, look_back, predict_window)\n",
    "    pred_Y_train = model.predict(lstm_in_X)\n",
    "    # Every look back model is outputting a prediction for the next day, so we look at the LAST one to\n",
    "    # get the predictions for days that are out of that batch\n",
    "    predictions = pred_Y_train[:,-1]\n",
    "    actuals = lstm_in_Y[:,-1]\n",
    "    return predictions, actuals\n"
   ]
  },
  {
   "cell_type": "code",
   "execution_count": 222,
   "metadata": {},
   "outputs": [],
   "source": [
    "# Main - for running the pipeline\n",
    "\n",
    "train_perc = 0.40\n",
    "# How many points to look back - 168 = 24 hours/day * 7 days / week \n",
    "lags = 50\n",
    "look_back = 24       # 0 is a look_back of 1, 1 is a look_back of 2, etc.\n",
    "predict_window = 1\n",
    "\n",
    "# Neural net parameters\n",
    "lstm_neurons = 128\n",
    "# List of integers, each corresponding to the number of neurons in N dense layers,\n",
    "# where N is the number of integers\n",
    "dense_layers = []\n",
    "epochs= 1000\n",
    "batch_size = 10"
   ]
  },
  {
   "cell_type": "code",
   "execution_count": 176,
   "metadata": {},
   "outputs": [],
   "source": [
    "train_sample,test_sample,true_test_sample = slice_data(.7,LoL,['diff_channels'])"
   ]
  },
  {
   "cell_type": "code",
   "execution_count": 232,
   "metadata": {},
   "outputs": [],
   "source": [
    "test_predictions, test_actuals = test_lstm(test_sample,['diff_channels'],model)"
   ]
  },
  {
   "cell_type": "markdown",
   "metadata": {},
   "source": [
    "# Prediction of 1 Step for Channel Difference"
   ]
  },
  {
   "cell_type": "code",
   "execution_count": null,
   "metadata": {},
   "outputs": [
    {
     "name": "stdout",
     "output_type": "stream",
     "text": [
      "Epoch 1/300\n",
      "579/579 [==============================] - 10s 18ms/step - loss: 39933.5635\n",
      "Epoch 2/300\n",
      "579/579 [==============================] - 3s 6ms/step - loss: 39433.0723\n",
      "Epoch 3/300\n",
      "579/579 [==============================] - 4s 6ms/step - loss: 38852.1105\n",
      "Epoch 4/300\n",
      "579/579 [==============================] - 4s 7ms/step - loss: 38259.8020\n",
      "Epoch 5/300\n",
      "579/579 [==============================] - 4s 6ms/step - loss: 37618.9465\n",
      "Epoch 6/300\n",
      "579/579 [==============================] - 4s 6ms/step - loss: 37013.4363\n",
      "Epoch 7/300\n",
      "579/579 [==============================] - 4s 6ms/step - loss: 36401.6859\n",
      "Epoch 8/300\n",
      "579/579 [==============================] - 3s 6ms/step - loss: 35803.9125\n",
      "Epoch 9/300\n",
      "579/579 [==============================] - 4s 6ms/step - loss: 35243.6696\n",
      "Epoch 10/300\n",
      "579/579 [==============================] - 4s 6ms/step - loss: 34631.1616\n",
      "Epoch 11/300\n",
      "579/579 [==============================] - 3s 6ms/step - loss: 34032.2559\n",
      "Epoch 12/300\n",
      "579/579 [==============================] - 4s 6ms/step - loss: 33452.7167\n",
      "Epoch 13/300\n",
      "579/579 [==============================] - 4s 6ms/step - loss: 32944.8834\n",
      "Epoch 14/300\n",
      "579/579 [==============================] - 4s 6ms/step - loss: 32389.8720\n",
      "Epoch 15/300\n",
      "579/579 [==============================] - 3s 6ms/step - loss: 31877.2664\n",
      "Epoch 16/300\n",
      "579/579 [==============================] - 4s 6ms/step - loss: 31351.6875\n",
      "Epoch 17/300\n",
      "579/579 [==============================] - 4s 6ms/step - loss: 30892.2652\n",
      "Epoch 18/300\n",
      "579/579 [==============================] - 4s 7ms/step - loss: 30348.6097\n",
      "Epoch 19/300\n",
      "579/579 [==============================] - 3s 6ms/step - loss: 29950.9515\n",
      "Epoch 20/300\n",
      "579/579 [==============================] - 4s 6ms/step - loss: 29418.3071\n",
      "Epoch 21/300\n",
      "579/579 [==============================] - 4s 6ms/step - loss: 29059.1644\n",
      "Epoch 22/300\n",
      "579/579 [==============================] - 4s 6ms/step - loss: 28571.7511\n",
      "Epoch 23/300\n",
      "579/579 [==============================] - 3s 6ms/step - loss: 28189.0599\n",
      "Epoch 24/300\n",
      "579/579 [==============================] - 4s 6ms/step - loss: 27756.0531\n",
      "Epoch 25/300\n",
      "579/579 [==============================] - 4s 6ms/step - loss: 27334.8591\n",
      "Epoch 26/300\n",
      "579/579 [==============================] - 4s 6ms/step - loss: 26974.5574\n",
      "Epoch 27/300\n",
      "579/579 [==============================] - 3s 6ms/step - loss: 26562.8456\n",
      "Epoch 28/300\n",
      "579/579 [==============================] - 4s 6ms/step - loss: 26155.1335\n",
      "Epoch 29/300\n",
      "579/579 [==============================] - 4s 6ms/step - loss: 25787.5364\n",
      "Epoch 30/300\n",
      "579/579 [==============================] - 4s 6ms/step - loss: 25465.4090\n",
      "Epoch 31/300\n",
      "579/579 [==============================] - 3s 6ms/step - loss: 25172.6879\n",
      "Epoch 32/300\n",
      "579/579 [==============================] - 4s 6ms/step - loss: 24726.8640\n",
      "Epoch 33/300\n",
      "579/579 [==============================] - 4s 7ms/step - loss: 24436.7927\n",
      "Epoch 34/300\n",
      "579/579 [==============================] - 4s 6ms/step - loss: 24093.4261\n",
      "Epoch 35/300\n",
      "579/579 [==============================] - 3s 6ms/step - loss: 23841.7235\n",
      "Epoch 36/300\n",
      "579/579 [==============================] - 4s 6ms/step - loss: 23409.3330\n",
      "Epoch 37/300\n",
      "579/579 [==============================] - 4s 6ms/step - loss: 23187.4341\n",
      "Epoch 38/300\n",
      "579/579 [==============================] - 4s 6ms/step - loss: 22865.3433\n",
      "Epoch 39/300\n",
      "579/579 [==============================] - 4s 6ms/step - loss: 22597.1242\n",
      "Epoch 40/300\n",
      "579/579 [==============================] - 4s 6ms/step - loss: 22342.8466\n",
      "Epoch 41/300\n",
      "579/579 [==============================] - 4s 6ms/step - loss: 22067.5906\n",
      "Epoch 42/300\n",
      "579/579 [==============================] - 4s 6ms/step - loss: 21709.6690\n",
      "Epoch 43/300\n",
      "579/579 [==============================] - 4s 6ms/step - loss: 21437.6685\n",
      "Epoch 44/300\n",
      "579/579 [==============================] - 4s 6ms/step - loss: 21282.4687\n",
      "Epoch 45/300\n",
      "579/579 [==============================] - 4s 6ms/step - loss: 21001.9971\n",
      "Epoch 46/300\n",
      "579/579 [==============================] - 4s 6ms/step - loss: 20739.4099\n",
      "Epoch 47/300\n",
      "579/579 [==============================] - 3s 6ms/step - loss: 20565.8707\n",
      "Epoch 48/300\n",
      "579/579 [==============================] - 4s 6ms/step - loss: 20330.9175\n",
      "Epoch 49/300\n",
      "579/579 [==============================] - 4s 6ms/step - loss: 20018.6713\n",
      "Epoch 50/300\n",
      "579/579 [==============================] - 4s 6ms/step - loss: 19878.0292\n",
      "Epoch 51/300\n",
      "579/579 [==============================] - 3s 6ms/step - loss: 19682.1469\n",
      "Epoch 52/300\n",
      "579/579 [==============================] - 4s 6ms/step - loss: 19531.0310\n",
      "Epoch 53/300\n",
      "579/579 [==============================] - 4s 6ms/step - loss: 19285.7919\n",
      "Epoch 54/300\n",
      "579/579 [==============================] - 4s 6ms/step - loss: 18987.3025\n",
      "Epoch 55/300\n",
      "579/579 [==============================] - 4s 6ms/step - loss: 18817.4510\n",
      "Epoch 56/300\n",
      "579/579 [==============================] - 4s 6ms/step - loss: 18562.7745\n",
      "Epoch 57/300\n",
      "579/579 [==============================] - 4s 6ms/step - loss: 18476.8661\n",
      "Epoch 58/300\n",
      "579/579 [==============================] - 4s 6ms/step - loss: 18212.0786\n",
      "Epoch 59/300\n",
      "579/579 [==============================] - 3s 6ms/step - loss: 18095.7378\n",
      "Epoch 60/300\n",
      "579/579 [==============================] - 4s 6ms/step - loss: 17969.5984\n",
      "Epoch 61/300\n",
      "579/579 [==============================] - 4s 6ms/step - loss: 17748.8537\n",
      "Epoch 62/300\n",
      "579/579 [==============================] - 4s 6ms/step - loss: 17599.1307\n",
      "Epoch 63/300\n",
      "579/579 [==============================] - 3s 6ms/step - loss: 17464.5469\n",
      "Epoch 64/300\n",
      "579/579 [==============================] - 4s 6ms/step - loss: 17272.1078\n",
      "Epoch 65/300\n",
      "579/579 [==============================] - 4s 6ms/step - loss: 17049.1008\n",
      "Epoch 66/300\n",
      "579/579 [==============================] - 4s 6ms/step - loss: 16924.4098\n",
      "Epoch 67/300\n",
      "579/579 [==============================] - 3s 6ms/step - loss: 16906.4973\n",
      "Epoch 68/300\n",
      "579/579 [==============================] - 4s 6ms/step - loss: 16627.9430\n",
      "Epoch 69/300\n",
      "579/579 [==============================] - 4s 6ms/step - loss: 16543.2103\n",
      "Epoch 70/300\n",
      "579/579 [==============================] - 3s 6ms/step - loss: 16385.1721\n",
      "Epoch 71/300\n",
      "579/579 [==============================] - 4s 6ms/step - loss: 16251.0706\n",
      "Epoch 72/300\n",
      "579/579 [==============================] - 4s 6ms/step - loss: 16153.6493\n",
      "Epoch 73/300\n",
      "579/579 [==============================] - 4s 6ms/step - loss: 16004.4674\n",
      "Epoch 74/300\n",
      "579/579 [==============================] - 3s 6ms/step - loss: 15858.5371\n",
      "Epoch 75/300\n",
      "579/579 [==============================] - 4s 6ms/step - loss: 15769.3438\n",
      "Epoch 76/300\n",
      "579/579 [==============================] - 4s 6ms/step - loss: 15615.7926\n",
      "Epoch 77/300\n",
      "579/579 [==============================] - 3s 6ms/step - loss: 15564.7936\n",
      "Epoch 78/300\n",
      "579/579 [==============================] - 4s 6ms/step - loss: 15459.9992\n",
      "Epoch 79/300\n",
      "579/579 [==============================] - 4s 6ms/step - loss: 15312.5118\n",
      "Epoch 80/300\n",
      "579/579 [==============================] - 4s 6ms/step - loss: 15141.6724\n",
      "Epoch 81/300\n",
      "579/579 [==============================] - 4s 7ms/step - loss: 15096.7213\n",
      "Epoch 82/300\n",
      "579/579 [==============================] - 4s 6ms/step - loss: 14999.1554\n",
      "Epoch 83/300\n",
      "579/579 [==============================] - 4s 6ms/step - loss: 14944.7971\n",
      "Epoch 84/300\n",
      "579/579 [==============================] - 4s 7ms/step - loss: 14829.8978\n",
      "Epoch 85/300\n",
      "579/579 [==============================] - 5s 8ms/step - loss: 14715.0803\n",
      "Epoch 86/300\n",
      "579/579 [==============================] - 4s 7ms/step - loss: 14677.5363\n",
      "Epoch 87/300\n",
      "579/579 [==============================] - 3s 5ms/step - loss: 14545.2293\n",
      "Epoch 88/300\n",
      "579/579 [==============================] - 3s 6ms/step - loss: 14436.9400\n",
      "Epoch 89/300\n",
      "579/579 [==============================] - 3s 6ms/step - loss: 14407.6321\n",
      "Epoch 90/300\n",
      "579/579 [==============================] - 3s 6ms/step - loss: 14300.2705\n",
      "Epoch 91/300\n",
      "579/579 [==============================] - 3s 6ms/step - loss: 14303.1345\n",
      "Epoch 92/300\n",
      "579/579 [==============================] - 3s 5ms/step - loss: 14146.1920\n",
      "Epoch 93/300\n",
      "579/579 [==============================] - 3s 6ms/step - loss: 14047.9733\n",
      "Epoch 94/300\n",
      "579/579 [==============================] - 3s 5ms/step - loss: 14045.8022\n",
      "Epoch 95/300\n"
     ]
    },
    {
     "name": "stdout",
     "output_type": "stream",
     "text": [
      "579/579 [==============================] - 4s 7ms/step - loss: 13906.5493\n",
      "Epoch 96/300\n",
      "579/579 [==============================] - 4s 6ms/step - loss: 13871.6506\n",
      "Epoch 97/300\n",
      "579/579 [==============================] - 4s 6ms/step - loss: 13768.2189\n",
      "Epoch 98/300\n",
      "579/579 [==============================] - 3s 6ms/step - loss: 13696.5712\n",
      "Epoch 99/300\n",
      "579/579 [==============================] - 4s 6ms/step - loss: 13643.0200\n",
      "Epoch 100/300\n",
      "579/579 [==============================] - 3s 6ms/step - loss: 13574.8785\n",
      "Epoch 101/300\n",
      "579/579 [==============================] - 3s 6ms/step - loss: 13455.2353\n",
      "Epoch 102/300\n",
      "579/579 [==============================] - 3s 6ms/step - loss: 13378.4406\n",
      "Epoch 103/300\n",
      "579/579 [==============================] - 3s 6ms/step - loss: 13317.3005\n",
      "Epoch 104/300\n",
      "579/579 [==============================] - 4s 6ms/step - loss: 13308.4964\n",
      "Epoch 105/300\n",
      "579/579 [==============================] - 4s 6ms/step - loss: 13225.9745\n",
      "Epoch 106/300\n",
      "579/579 [==============================] - 3s 6ms/step - loss: 13187.1012\n",
      "Epoch 107/300\n",
      " 30/579 [>.............................] - ETA: 2s - loss: 13033.0898"
     ]
    }
   ],
   "source": [
    "model, dataset, train_X, train_Y, predictions, actuals = \\\n",
    "train_lstm(train_sample,['diff_channels'],lags, look_back,predict_window,lstm_neurons,dense_layers,epochs,batch_size)"
   ]
  },
  {
   "cell_type": "code",
   "execution_count": 215,
   "metadata": {
    "scrolled": true
   },
   "outputs": [
    {
     "data": {
      "text/plain": [
       "598"
      ]
     },
     "execution_count": 215,
     "metadata": {},
     "output_type": "execute_result"
    }
   ],
   "source": [
    "len(predictions)"
   ]
  },
  {
   "cell_type": "code",
   "execution_count": 261,
   "metadata": {},
   "outputs": [
    {
     "data": {
      "image/png": "[encoded data removed]",
      "text/plain": [
       "<Figure size 576x432 with 1 Axes>"
      ]
     },
     "metadata": {},
     "output_type": "display_data"
    }
   ],
   "source": [
    "plot_lstm(predictions,actuals,\n",
    "          'Predict_Window of 1, In Sample',\n",
    "          'Hour Number',\n",
    "          'Hourly Difference in Number of Channels',\n",
    "         lower_lim_index=500)"
   ]
  },
  {
   "cell_type": "code",
   "execution_count": 263,
   "metadata": {},
   "outputs": [
    {
     "data": {
      "image/png": "[encoded data removed]",
      "text/plain": [
       "<Figure size 576x432 with 1 Axes>"
      ]
     },
     "metadata": {},
     "output_type": "display_data"
    }
   ],
   "source": [
    "plot_lstm(test_predictions, test_actuals,\n",
    "          'Predict_Window of 1, Out of Sample',\n",
    "          'Hour Number',\n",
    "          'Hourly Difference in Number of Channels',\n",
    "         lower_lim_index=500)"
   ]
  },
  {
   "cell_type": "code",
   "execution_count": 265,
   "metadata": {},
   "outputs": [],
   "source": [
    "def rmse(predicted,actuals):\n",
    "    assert len(predicted) == len(actuals)\n",
    "    residuals = predicted-actuals\n",
    "    return np.sqrt(np.sum(np.square(residuals)) / len(residuals))"
   ]
  },
  {
   "cell_type": "code",
   "execution_count": 266,
   "metadata": {},
   "outputs": [
    {
     "data": {
      "text/plain": [
       "80.74147114486877"
      ]
     },
     "execution_count": 266,
     "metadata": {},
     "output_type": "execute_result"
    }
   ],
   "source": [
    "rmse(predictions,actuals)"
   ]
  },
  {
   "cell_type": "code",
   "execution_count": 246,
   "metadata": {},
   "outputs": [],
   "source": [
    "# model.save('./channel_diff_prediction_lstm')"
   ]
  },
  {
   "cell_type": "markdown",
   "metadata": {},
   "source": [
    "# Increasing Prediction Window"
   ]
  },
  {
   "cell_type": "code",
   "execution_count": null,
   "metadata": {},
   "outputs": [],
   "source": [
    "day_prediction_model, day_prediction_dataset, day_prediction_train_X, day_prediction_train_Y, day_predictions, day_actuals = \\\n",
    "train_lstm(train_sample,['diff_channels'],lags, look_back,24,lstm_neurons,dense_layers,epochs,batch_size)"
   ]
  },
  {
   "cell_type": "code",
   "execution_count": 267,
   "metadata": {},
   "outputs": [
    {
     "data": {
      "text/plain": [
       "86.37640504808562"
      ]
     },
     "execution_count": 267,
     "metadata": {},
     "output_type": "execute_result"
    }
   ],
   "source": [
    "rmse(day_predictions,day_actuals)"
   ]
  },
  {
   "cell_type": "code",
   "execution_count": 252,
   "metadata": {},
   "outputs": [],
   "source": [
    "day_test_predictions, day_test_actuals = test_lstm(test_sample,['diff_channels'],model,predict_window = 24)"
   ]
  },
  {
   "cell_type": "code",
   "execution_count": 269,
   "metadata": {},
   "outputs": [
    {
     "data": {
      "text/plain": [
       "81.96535541894787"
      ]
     },
     "execution_count": 269,
     "metadata": {},
     "output_type": "execute_result"
    }
   ],
   "source": [
    "rmse(day_test_predictions,day_test_actuals)"
   ]
  },
  {
   "cell_type": "code",
   "execution_count": 268,
   "metadata": {},
   "outputs": [],
   "source": [
    "def plot_lstm(predictions, actuals, title , xlabel ,ylabel, lower_lim_index=0,upper_lim_index = len(predictions)):\n",
    "    lower_lim = lower_lim_index\n",
    "    upper_lim = upper_lim_index\n",
    "    fig, ax = plt.subplots(figsize=(8,6))\n",
    "    # Set background of area behind axis labels\n",
    "    fig.patch.set_facecolor('white')\n",
    "    ax.set_xlabel('Hour Number', fontsize=16)\n",
    "    ax.set_ylabel('Hourly Difference in Number of Channels',fontsize=16)\n",
    "    plt.tight_layout()\n",
    "    plt.plot(day_predictions[lower_lim:upper_lim]);\n",
    "    plt.plot(day_actuals[lower_lim:upper_lim]);\n",
    "    # plt.plot(actuals)\n",
    "    plt.title('Predict_Window of 24, In Sample')\n",
    "    plt.axhline(y=0, color='black');\n",
    "    plt.legend(['predictions','actual'])\n",
    "    plt.show()"
   ]
  },
  {
   "cell_type": "code",
   "execution_count": 259,
   "metadata": {},
   "outputs": [
    {
     "data": {
      "image/png": "[encoded data removed]",
      "text/plain": [
       "<Figure size 576x432 with 1 Axes>"
      ]
     },
     "metadata": {},
     "output_type": "display_data"
    }
   ],
   "source": [
    "plot_lstm(day_predictions,day_actuals,\n",
    "          'Predict_Window of 24, In Sample',\n",
    "          'Hour Number',\n",
    "          'Hourly Difference in Number of Channels',\n",
    "         lower_lim_index=500)"
   ]
  },
  {
   "cell_type": "code",
   "execution_count": 260,
   "metadata": {},
   "outputs": [
    {
     "data": {
      "image/png": "[encoded data removed]",
      "text/plain": [
       "<Figure size 576x432 with 1 Axes>"
      ]
     },
     "metadata": {},
     "output_type": "display_data"
    }
   ],
   "source": [
    "plot_lstm(day_test_predictions,day_test_actuals,\n",
    "          'Predict_Window of 24, Out of Sample',\n",
    "          'Hour Number',\n",
    "          'Hourly Difference in Number of Channels',\n",
    "         lower_lim_index=500)"
   ]
  },
  {
   "cell_type": "code",
   "execution_count": null,
   "metadata": {},
   "outputs": [],
   "source": []
  }
 ],
 "metadata": {
  "kernelspec": {
   "display_name": "Python 3",
   "language": "python",
   "name": "python3"
  },
  "language_info": {
   "codemirror_mode": {
    "name": "ipython",
    "version": 3
   },
   "file_extension": ".py",
   "mimetype": "text/x-python",
   "name": "python",
   "nbconvert_exporter": "python",
   "pygments_lexer": "ipython3",
   "version": "3.7.3"
  }
 },
 "nbformat": 4,
 "nbformat_minor": 2
}
