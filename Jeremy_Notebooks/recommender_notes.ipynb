{
 "cells": [
  {
   "cell_type": "markdown",
   "metadata": {},
   "source": [
    "# Recommender Notes Notebook"
   ]
  },
  {
   "cell_type": "markdown",
   "metadata": {},
   "source": [
    "To generate user ratings grid given twitch data:\n",
    "\n",
    "```pd.crosstab(data.user_name, data.game_name)```"
   ]
  },
  {
   "cell_type": "markdown",
   "metadata": {},
   "source": [
    "Surprise needs numeric ratings between 1-5 for every streamer and game they've played. When we tried to make a _user x game_ matrix (something in the ballpark of 122,000 users by 400 games), this matrix was too big to operate on locallly.\n",
    "\n",
    "To solve this, we needed to make a \n",
    "\n",
    "\n",
    "To give ratings, we look at the **MAX** viewers the streamer has had a in one stream session in a particular game across all time periods\n",
    "\n",
    "This is done using this query:\n",
    "~~~~SQL\n",
    "\n",
    "SELECT user_name, game_name, max(viewer_count)\n",
    "FROM general_view\n",
    "GROUP BY user_name, game_name\n",
    "ORDER BY user_name DESC, max DESC\n",
    "\n",
    "~~~~\n",
    "We then"
   ]
  },
  {
   "cell_type": "code",
   "execution_count": null,
   "metadata": {},
   "outputs": [],
   "source": []
  }
 ],
 "metadata": {
  "kernelspec": {
   "display_name": "Python 3",
   "language": "python",
   "name": "python3"
  },
  "language_info": {
   "codemirror_mode": {
    "name": "ipython",
    "version": 3
   },
   "file_extension": ".py",
   "mimetype": "text/x-python",
   "name": "python",
   "nbconvert_exporter": "python",
   "pygments_lexer": "ipython3",
   "version": "3.7.3"
  }
 },
 "nbformat": 4,
 "nbformat_minor": 2
}
