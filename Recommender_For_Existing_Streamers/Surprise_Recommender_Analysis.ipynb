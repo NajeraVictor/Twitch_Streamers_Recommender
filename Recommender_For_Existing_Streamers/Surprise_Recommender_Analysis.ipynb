{
 "cells": [
  {
   "cell_type": "code",
   "execution_count": 2,
   "metadata": {},
   "outputs": [],
   "source": [
    "import pandas as pd\n",
    "import numpy as np"
   ]
  },
  {
   "cell_type": "code",
   "execution_count": 2,
   "metadata": {},
   "outputs": [],
   "source": [
    "grid = pd.read_csv('./Data/final_game_user_grid_06_07_19.csv')"
   ]
  },
  {
   "cell_type": "code",
   "execution_count": 3,
   "metadata": {},
   "outputs": [
    {
     "name": "stdout",
     "output_type": "stream",
     "text": [
      "<class 'pandas.core.frame.DataFrame'>\n",
      "RangeIndex: 1387492 entries, 0 to 1387491\n",
      "Data columns (total 7 columns):\n",
      "user_name       1387492 non-null object\n",
      "game_name       1385813 non-null object\n",
      "game_genres     1383564 non-null object\n",
      "language        1387490 non-null object\n",
      "started_at      1387492 non-null object\n",
      "viewer_count    1387492 non-null int64\n",
      "max             1387492 non-null int64\n",
      "dtypes: int64(2), object(5)\n",
      "memory usage: 74.1+ MB\n"
     ]
    }
   ],
   "source": [
    "grid.info()"
   ]
  },
  {
   "cell_type": "code",
   "execution_count": 4,
   "metadata": {},
   "outputs": [],
   "source": [
    "grid = grid.dropna()"
   ]
  },
  {
   "cell_type": "code",
   "execution_count": 5,
   "metadata": {},
   "outputs": [],
   "source": [
    "grid = grid.dropna(how='any',axis=0) "
   ]
  },
  {
   "cell_type": "code",
   "execution_count": 6,
   "metadata": {
    "scrolled": true
   },
   "outputs": [
    {
     "name": "stderr",
     "output_type": "stream",
     "text": [
      "/anaconda3/lib/python3.7/site-packages/ipykernel_launcher.py:2: SettingWithCopyWarning: \n",
      "A value is trying to be set on a copy of a slice from a DataFrame\n",
      "\n",
      "See the caveats in the documentation: http://pandas.pydata.org/pandas-docs/stable/indexing.html#indexing-view-versus-copy\n",
      "  \n",
      "/anaconda3/lib/python3.7/site-packages/ipykernel_launcher.py:3: SettingWithCopyWarning: \n",
      "A value is trying to be set on a copy of a slice from a DataFrame\n",
      "\n",
      "See the caveats in the documentation: http://pandas.pydata.org/pandas-docs/stable/indexing.html#indexing-view-versus-copy\n",
      "  This is separate from the ipykernel package so we can avoid doing imports until\n",
      "/anaconda3/lib/python3.7/site-packages/ipykernel_launcher.py:4: SettingWithCopyWarning: \n",
      "A value is trying to be set on a copy of a slice from a DataFrame\n",
      "\n",
      "See the caveats in the documentation: http://pandas.pydata.org/pandas-docs/stable/indexing.html#indexing-view-versus-copy\n",
      "  after removing the cwd from sys.path.\n"
     ]
    }
   ],
   "source": [
    "x = grid\n",
    "x['game_genres'][x['game_genres'].str.contains('NONE') == True] = 'Other'\n",
    "x['game_genres'][x['game_genres'].isnull()] = 'Other'\n",
    "x['game_genres'][x['game_genres'].str.contains('RETROGAMEPLACEHOLDER')] = 'Other'"
   ]
  },
  {
   "cell_type": "code",
   "execution_count": 7,
   "metadata": {},
   "outputs": [],
   "source": [
    "grid = x"
   ]
  },
  {
   "cell_type": "code",
   "execution_count": 15,
   "metadata": {},
   "outputs": [],
   "source": [
    "# To begin, we're calculating the metric we'll be using to compare users and games. Since we're focused on the streamers, we don't have the traditional \"I like this movie so I will rate it a 4.5 out of 5.0\" ratings. Instead we're calculating how many viewers each streamer attracted with a particular game compared to their max viewer potential over the last week. For each user, one game is their ultimate streaming \"5 out of 5\" benchmark, and all other games they play are compared to that one, and normalized to ratings between 1 and 5. We are also using all the genres for each game to pinpoint how successful various genres and games have been for each streamer."
   ]
  },
  {
   "cell_type": "code",
   "execution_count": 8,
   "metadata": {},
   "outputs": [],
   "source": [
    "max_value_username = pd.DataFrame(grid.groupby('user_name')['max'].max().reset_index())"
   ]
  },
  {
   "cell_type": "code",
   "execution_count": 9,
   "metadata": {},
   "outputs": [],
   "source": [
    "max_val_dict = max_value_username.groupby('user_name')['max'].apply(list).to_dict()"
   ]
  },
  {
   "cell_type": "code",
   "execution_count": 10,
   "metadata": {},
   "outputs": [],
   "source": [
    "grid['max_game'] = grid['user_name'].map(max_val_dict)"
   ]
  },
  {
   "cell_type": "code",
   "execution_count": 11,
   "metadata": {},
   "outputs": [],
   "source": [
    "grid['max_game_int'] = grid.max_game.str[0].astype(int)\n",
    "grid = grid.drop('max_game', axis = 1)"
   ]
  },
  {
   "cell_type": "code",
   "execution_count": 12,
   "metadata": {},
   "outputs": [],
   "source": [
    "grid['score'] = grid['max']/grid['max_game_int']"
   ]
  },
  {
   "cell_type": "code",
   "execution_count": 13,
   "metadata": {},
   "outputs": [],
   "source": [
    "from sklearn.preprocessing import minmax_scale\n",
    "grid['scaled_score'] = minmax_scale(grid['score'], feature_range=(1, 5))"
   ]
  },
  {
   "cell_type": "code",
   "execution_count": 14,
   "metadata": {},
   "outputs": [],
   "source": [
    "grid = grid.dropna()"
   ]
  },
  {
   "cell_type": "code",
   "execution_count": 13,
   "metadata": {},
   "outputs": [],
   "source": [
    "# now we have a listing for each user pairing them with each game they play, what genre it belongs to, and how many people watched them play each game compared to the max viewers they ever got for a stream during the week we examined."
   ]
  },
  {
   "cell_type": "code",
   "execution_count": 15,
   "metadata": {},
   "outputs": [
    {
     "data": {
      "text/html": [
       "<div>\n",
       "<style scoped>\n",
       "    .dataframe tbody tr th:only-of-type {\n",
       "        vertical-align: middle;\n",
       "    }\n",
       "\n",
       "    .dataframe tbody tr th {\n",
       "        vertical-align: top;\n",
       "    }\n",
       "\n",
       "    .dataframe thead th {\n",
       "        text-align: right;\n",
       "    }\n",
       "</style>\n",
       "<table border=\"1\" class=\"dataframe\">\n",
       "  <thead>\n",
       "    <tr style=\"text-align: right;\">\n",
       "      <th></th>\n",
       "      <th>user_name</th>\n",
       "      <th>scaled_score</th>\n",
       "    </tr>\n",
       "  </thead>\n",
       "  <tbody>\n",
       "    <tr>\n",
       "      <th>27473</th>\n",
       "      <td>Fonbet_RocketLeague</td>\n",
       "      <td>378</td>\n",
       "    </tr>\n",
       "    <tr>\n",
       "      <th>77300</th>\n",
       "      <td>StreamerHouse</td>\n",
       "      <td>375</td>\n",
       "    </tr>\n",
       "    <tr>\n",
       "      <th>123375</th>\n",
       "      <td>luke4316live</td>\n",
       "      <td>333</td>\n",
       "    </tr>\n",
       "    <tr>\n",
       "      <th>110114</th>\n",
       "      <td>gaules</td>\n",
       "      <td>315</td>\n",
       "    </tr>\n",
       "    <tr>\n",
       "      <th>27472</th>\n",
       "      <td>Fonbet_RLH</td>\n",
       "      <td>270</td>\n",
       "    </tr>\n",
       "  </tbody>\n",
       "</table>\n",
       "</div>"
      ],
      "text/plain": [
       "                  user_name  scaled_score\n",
       "27473   Fonbet_RocketLeague           378\n",
       "77300         StreamerHouse           375\n",
       "123375         luke4316live           333\n",
       "110114               gaules           315\n",
       "27472            Fonbet_RLH           270"
      ]
     },
     "execution_count": 15,
     "metadata": {},
     "output_type": "execute_result"
    }
   ],
   "source": [
    "grid.groupby('user_name')['scaled_score'].count().reset_index().sort_values('scaled_score', ascending=False)[:5]"
   ]
  },
  {
   "cell_type": "code",
   "execution_count": 16,
   "metadata": {
    "scrolled": true
   },
   "outputs": [
    {
     "data": {
      "text/html": [
       "<div>\n",
       "<style scoped>\n",
       "    .dataframe tbody tr th:only-of-type {\n",
       "        vertical-align: middle;\n",
       "    }\n",
       "\n",
       "    .dataframe tbody tr th {\n",
       "        vertical-align: top;\n",
       "    }\n",
       "\n",
       "    .dataframe thead th {\n",
       "        text-align: right;\n",
       "    }\n",
       "</style>\n",
       "<table border=\"1\" class=\"dataframe\">\n",
       "  <thead>\n",
       "    <tr style=\"text-align: right;\">\n",
       "      <th></th>\n",
       "      <th>game_genres</th>\n",
       "      <th>scaled_score</th>\n",
       "    </tr>\n",
       "  </thead>\n",
       "  <tbody>\n",
       "    <tr>\n",
       "      <th>0</th>\n",
       "      <td>Action</td>\n",
       "      <td>211633</td>\n",
       "    </tr>\n",
       "    <tr>\n",
       "      <th>28</th>\n",
       "      <td>Shooter</td>\n",
       "      <td>165931</td>\n",
       "    </tr>\n",
       "    <tr>\n",
       "      <th>7</th>\n",
       "      <td>FPS</td>\n",
       "      <td>131286</td>\n",
       "    </tr>\n",
       "    <tr>\n",
       "      <th>23</th>\n",
       "      <td>RPG</td>\n",
       "      <td>118595</td>\n",
       "    </tr>\n",
       "    <tr>\n",
       "      <th>15</th>\n",
       "      <td>MMORPG</td>\n",
       "      <td>88901</td>\n",
       "    </tr>\n",
       "  </tbody>\n",
       "</table>\n",
       "</div>"
      ],
      "text/plain": [
       "   game_genres  scaled_score\n",
       "0       Action        211633\n",
       "28     Shooter        165931\n",
       "7          FPS        131286\n",
       "23         RPG        118595\n",
       "15      MMORPG         88901"
      ]
     },
     "execution_count": 16,
     "metadata": {},
     "output_type": "execute_result"
    }
   ],
   "source": [
    "grid.groupby('game_genres')['scaled_score'].count().reset_index().sort_values('scaled_score', ascending=False)[:5]"
   ]
  },
  {
   "cell_type": "code",
   "execution_count": 17,
   "metadata": {},
   "outputs": [
    {
     "data": {
      "text/html": [
       "<div>\n",
       "<style scoped>\n",
       "    .dataframe tbody tr th:only-of-type {\n",
       "        vertical-align: middle;\n",
       "    }\n",
       "\n",
       "    .dataframe tbody tr th {\n",
       "        vertical-align: top;\n",
       "    }\n",
       "\n",
       "    .dataframe thead th {\n",
       "        text-align: right;\n",
       "    }\n",
       "</style>\n",
       "<table border=\"1\" class=\"dataframe\">\n",
       "  <thead>\n",
       "    <tr style=\"text-align: right;\">\n",
       "      <th></th>\n",
       "      <th>game_name</th>\n",
       "      <th>scaled_score</th>\n",
       "    </tr>\n",
       "  </thead>\n",
       "  <tbody>\n",
       "    <tr>\n",
       "      <th>128</th>\n",
       "      <td>Grand Theft Auto V</td>\n",
       "      <td>37860</td>\n",
       "    </tr>\n",
       "    <tr>\n",
       "      <th>180</th>\n",
       "      <td>Minecraft</td>\n",
       "      <td>35715</td>\n",
       "    </tr>\n",
       "    <tr>\n",
       "      <th>243</th>\n",
       "      <td>Rocket League</td>\n",
       "      <td>35043</td>\n",
       "    </tr>\n",
       "    <tr>\n",
       "      <th>37</th>\n",
       "      <td>Black Desert Online</td>\n",
       "      <td>33723</td>\n",
       "    </tr>\n",
       "    <tr>\n",
       "      <th>97</th>\n",
       "      <td>Escape From Tarkov</td>\n",
       "      <td>33366</td>\n",
       "    </tr>\n",
       "  </tbody>\n",
       "</table>\n",
       "</div>"
      ],
      "text/plain": [
       "               game_name  scaled_score\n",
       "128   Grand Theft Auto V         37860\n",
       "180            Minecraft         35715\n",
       "243        Rocket League         35043\n",
       "37   Black Desert Online         33723\n",
       "97    Escape From Tarkov         33366"
      ]
     },
     "execution_count": 17,
     "metadata": {},
     "output_type": "execute_result"
    }
   ],
   "source": [
    "grid.groupby('game_name')['scaled_score'].count().reset_index().sort_values('scaled_score', ascending=False)[:5]"
   ]
  },
  {
   "cell_type": "code",
   "execution_count": 18,
   "metadata": {},
   "outputs": [],
   "source": [
    "min_number_scores = 5\n",
    "filter_users = grid['user_name'].value_counts() > min_number_scores\n",
    "filter_users = filter_users[filter_users].index.tolist()"
   ]
  },
  {
   "cell_type": "code",
   "execution_count": 19,
   "metadata": {},
   "outputs": [
    {
     "name": "stdout",
     "output_type": "stream",
     "text": [
      "The original data frame shape:\t(1364027, 10)\n",
      "The new data frame shape:\t(1137673, 10)\n"
     ]
    }
   ],
   "source": [
    "grid_new = grid[(grid['user_name'].isin(filter_users))]\n",
    "print('The original data frame shape:\\t{}'.format(grid.shape))\n",
    "print('The new data frame shape:\\t{}'.format(grid_new.shape))"
   ]
  },
  {
   "cell_type": "code",
   "execution_count": 20,
   "metadata": {},
   "outputs": [],
   "source": [
    "# After reshaping the grid, we are going to extract the recommendations for game genre, game titles, and games similar to those already rated by the streamers as a three-pronged recommender approach."
   ]
  },
  {
   "cell_type": "code",
   "execution_count": 4,
   "metadata": {},
   "outputs": [],
   "source": [
    "import pickle"
   ]
  },
  {
   "cell_type": "code",
   "execution_count": 22,
   "metadata": {},
   "outputs": [],
   "source": [
    "pickle.dump(grid_new, open(\"./Data/final_grid_06_07_19.pkl\", \"wb\" ) )"
   ]
  },
  {
   "cell_type": "code",
   "execution_count": 5,
   "metadata": {},
   "outputs": [],
   "source": [
    "grid_new = pickle.load( open( \"./Data/final_grid_06_07_19.pkl\", \"rb\" ) )"
   ]
  },
  {
   "cell_type": "code",
   "execution_count": 11,
   "metadata": {},
   "outputs": [],
   "source": [
    "# preparing for genre recommendations based on viewership scores:"
   ]
  },
  {
   "cell_type": "code",
   "execution_count": 6,
   "metadata": {
    "scrolled": true
   },
   "outputs": [],
   "source": [
    "genres = grid_new.groupby(by = ['user_name', 'game_genres'])['scaled_score'].agg([np.mean])\n",
    "games = grid_new.groupby(by = ['user_name', 'game_name'])['scaled_score'].agg([np.mean])"
   ]
  },
  {
   "cell_type": "code",
   "execution_count": 25,
   "metadata": {},
   "outputs": [
    {
     "data": {
      "text/html": [
       "<div>\n",
       "<style scoped>\n",
       "    .dataframe tbody tr th:only-of-type {\n",
       "        vertical-align: middle;\n",
       "    }\n",
       "\n",
       "    .dataframe tbody tr th {\n",
       "        vertical-align: top;\n",
       "    }\n",
       "\n",
       "    .dataframe thead th {\n",
       "        text-align: right;\n",
       "    }\n",
       "</style>\n",
       "<table border=\"1\" class=\"dataframe\">\n",
       "  <thead>\n",
       "    <tr style=\"text-align: right;\">\n",
       "      <th></th>\n",
       "      <th></th>\n",
       "      <th>mean</th>\n",
       "    </tr>\n",
       "    <tr>\n",
       "      <th>user_name</th>\n",
       "      <th>game_genres</th>\n",
       "      <th></th>\n",
       "    </tr>\n",
       "  </thead>\n",
       "  <tbody>\n",
       "    <tr>\n",
       "      <th rowspan=\"4\" valign=\"top\">00NothingLabs</th>\n",
       "      <th>Fighting</th>\n",
       "      <td>2.421053</td>\n",
       "    </tr>\n",
       "    <tr>\n",
       "      <th>Open World</th>\n",
       "      <td>1.578947</td>\n",
       "    </tr>\n",
       "    <tr>\n",
       "      <th>RPG</th>\n",
       "      <td>1.578947</td>\n",
       "    </tr>\n",
       "    <tr>\n",
       "      <th>Shooter</th>\n",
       "      <td>1.578947</td>\n",
       "    </tr>\n",
       "    <tr>\n",
       "      <th>00elu00</th>\n",
       "      <th>Action</th>\n",
       "      <td>4.000000</td>\n",
       "    </tr>\n",
       "  </tbody>\n",
       "</table>\n",
       "</div>"
      ],
      "text/plain": [
       "                               mean\n",
       "user_name     game_genres          \n",
       "00NothingLabs Fighting     2.421053\n",
       "              Open World   1.578947\n",
       "              RPG          1.578947\n",
       "              Shooter      1.578947\n",
       "00elu00       Action       4.000000"
      ]
     },
     "execution_count": 25,
     "metadata": {},
     "output_type": "execute_result"
    }
   ],
   "source": [
    "genres.head(5)"
   ]
  },
  {
   "cell_type": "code",
   "execution_count": 26,
   "metadata": {},
   "outputs": [
    {
     "data": {
      "text/html": [
       "<div>\n",
       "<style scoped>\n",
       "    .dataframe tbody tr th:only-of-type {\n",
       "        vertical-align: middle;\n",
       "    }\n",
       "\n",
       "    .dataframe tbody tr th {\n",
       "        vertical-align: top;\n",
       "    }\n",
       "\n",
       "    .dataframe thead th {\n",
       "        text-align: right;\n",
       "    }\n",
       "</style>\n",
       "<table border=\"1\" class=\"dataframe\">\n",
       "  <thead>\n",
       "    <tr style=\"text-align: right;\">\n",
       "      <th></th>\n",
       "      <th></th>\n",
       "      <th>mean</th>\n",
       "    </tr>\n",
       "    <tr>\n",
       "      <th>user_name</th>\n",
       "      <th>game_name</th>\n",
       "      <th></th>\n",
       "    </tr>\n",
       "  </thead>\n",
       "  <tbody>\n",
       "    <tr>\n",
       "      <th rowspan=\"2\" valign=\"top\">00NothingLabs</th>\n",
       "      <th>Mortal Kombat 11</th>\n",
       "      <td>2.421053</td>\n",
       "    </tr>\n",
       "    <tr>\n",
       "      <th>Tom Clancy's The Division 2</th>\n",
       "      <td>1.578947</td>\n",
       "    </tr>\n",
       "    <tr>\n",
       "      <th rowspan=\"2\" valign=\"top\">00elu00</th>\n",
       "      <th>Dead by Daylight</th>\n",
       "      <td>4.666667</td>\n",
       "    </tr>\n",
       "    <tr>\n",
       "      <th>Deathgarden</th>\n",
       "      <td>2.000000</td>\n",
       "    </tr>\n",
       "    <tr>\n",
       "      <th>01joga</th>\n",
       "      <th>PUBG MOBILE</th>\n",
       "      <td>3.750000</td>\n",
       "    </tr>\n",
       "  </tbody>\n",
       "</table>\n",
       "</div>"
      ],
      "text/plain": [
       "                                               mean\n",
       "user_name     game_name                            \n",
       "00NothingLabs Mortal Kombat 11             2.421053\n",
       "              Tom Clancy's The Division 2  1.578947\n",
       "00elu00       Dead by Daylight             4.666667\n",
       "              Deathgarden                  2.000000\n",
       "01joga        PUBG MOBILE                  3.750000"
      ]
     },
     "execution_count": 26,
     "metadata": {},
     "output_type": "execute_result"
    }
   ],
   "source": [
    "games.head(5)"
   ]
  },
  {
   "cell_type": "code",
   "execution_count": 7,
   "metadata": {},
   "outputs": [],
   "source": [
    "genres.columns = genres.columns.map(''.join)\n",
    "games.columns = games.columns.map(''.join)"
   ]
  },
  {
   "cell_type": "code",
   "execution_count": 8,
   "metadata": {},
   "outputs": [],
   "source": [
    "genres = genres.reset_index()\n",
    "games = games.reset_index()"
   ]
  },
  {
   "cell_type": "code",
   "execution_count": 29,
   "metadata": {},
   "outputs": [
    {
     "name": "stdout",
     "output_type": "stream",
     "text": [
      "<class 'pandas.core.frame.DataFrame'>\n",
      "RangeIndex: 181215 entries, 0 to 181214\n",
      "Data columns (total 3 columns):\n",
      "user_name      181215 non-null object\n",
      "game_genres    181215 non-null object\n",
      "mean           181215 non-null float64\n",
      "dtypes: float64(1), object(2)\n",
      "memory usage: 4.1+ MB\n"
     ]
    }
   ],
   "source": [
    "genres.info()"
   ]
  },
  {
   "cell_type": "code",
   "execution_count": 30,
   "metadata": {},
   "outputs": [
    {
     "name": "stdout",
     "output_type": "stream",
     "text": [
      "<class 'pandas.core.frame.DataFrame'>\n",
      "RangeIndex: 93606 entries, 0 to 93605\n",
      "Data columns (total 3 columns):\n",
      "user_name    93606 non-null object\n",
      "game_name    93606 non-null object\n",
      "mean         93606 non-null float64\n",
      "dtypes: float64(1), object(2)\n",
      "memory usage: 2.1+ MB\n"
     ]
    }
   ],
   "source": [
    "games.info()"
   ]
  },
  {
   "cell_type": "code",
   "execution_count": 31,
   "metadata": {
    "scrolled": true
   },
   "outputs": [
    {
     "data": {
      "text/html": [
       "<div>\n",
       "<style scoped>\n",
       "    .dataframe tbody tr th:only-of-type {\n",
       "        vertical-align: middle;\n",
       "    }\n",
       "\n",
       "    .dataframe tbody tr th {\n",
       "        vertical-align: top;\n",
       "    }\n",
       "\n",
       "    .dataframe thead th {\n",
       "        text-align: right;\n",
       "    }\n",
       "</style>\n",
       "<table border=\"1\" class=\"dataframe\">\n",
       "  <thead>\n",
       "    <tr style=\"text-align: right;\">\n",
       "      <th></th>\n",
       "      <th>user_name</th>\n",
       "      <th>game_genres</th>\n",
       "      <th>mean</th>\n",
       "    </tr>\n",
       "  </thead>\n",
       "  <tbody>\n",
       "    <tr>\n",
       "      <th>0</th>\n",
       "      <td>00NothingLabs</td>\n",
       "      <td>Fighting</td>\n",
       "      <td>2.421053</td>\n",
       "    </tr>\n",
       "    <tr>\n",
       "      <th>1</th>\n",
       "      <td>00NothingLabs</td>\n",
       "      <td>Open World</td>\n",
       "      <td>1.578947</td>\n",
       "    </tr>\n",
       "    <tr>\n",
       "      <th>2</th>\n",
       "      <td>00NothingLabs</td>\n",
       "      <td>RPG</td>\n",
       "      <td>1.578947</td>\n",
       "    </tr>\n",
       "    <tr>\n",
       "      <th>3</th>\n",
       "      <td>00NothingLabs</td>\n",
       "      <td>Shooter</td>\n",
       "      <td>1.578947</td>\n",
       "    </tr>\n",
       "    <tr>\n",
       "      <th>4</th>\n",
       "      <td>00elu00</td>\n",
       "      <td>Action</td>\n",
       "      <td>4.000000</td>\n",
       "    </tr>\n",
       "  </tbody>\n",
       "</table>\n",
       "</div>"
      ],
      "text/plain": [
       "       user_name game_genres      mean\n",
       "0  00NothingLabs    Fighting  2.421053\n",
       "1  00NothingLabs  Open World  1.578947\n",
       "2  00NothingLabs         RPG  1.578947\n",
       "3  00NothingLabs     Shooter  1.578947\n",
       "4        00elu00      Action  4.000000"
      ]
     },
     "execution_count": 31,
     "metadata": {},
     "output_type": "execute_result"
    }
   ],
   "source": [
    "genres.head(5)"
   ]
  },
  {
   "cell_type": "code",
   "execution_count": 32,
   "metadata": {},
   "outputs": [
    {
     "data": {
      "text/html": [
       "<div>\n",
       "<style scoped>\n",
       "    .dataframe tbody tr th:only-of-type {\n",
       "        vertical-align: middle;\n",
       "    }\n",
       "\n",
       "    .dataframe tbody tr th {\n",
       "        vertical-align: top;\n",
       "    }\n",
       "\n",
       "    .dataframe thead th {\n",
       "        text-align: right;\n",
       "    }\n",
       "</style>\n",
       "<table border=\"1\" class=\"dataframe\">\n",
       "  <thead>\n",
       "    <tr style=\"text-align: right;\">\n",
       "      <th></th>\n",
       "      <th>user_name</th>\n",
       "      <th>game_name</th>\n",
       "      <th>mean</th>\n",
       "    </tr>\n",
       "  </thead>\n",
       "  <tbody>\n",
       "    <tr>\n",
       "      <th>0</th>\n",
       "      <td>00NothingLabs</td>\n",
       "      <td>Mortal Kombat 11</td>\n",
       "      <td>2.421053</td>\n",
       "    </tr>\n",
       "    <tr>\n",
       "      <th>1</th>\n",
       "      <td>00NothingLabs</td>\n",
       "      <td>Tom Clancy's The Division 2</td>\n",
       "      <td>1.578947</td>\n",
       "    </tr>\n",
       "    <tr>\n",
       "      <th>2</th>\n",
       "      <td>00elu00</td>\n",
       "      <td>Dead by Daylight</td>\n",
       "      <td>4.666667</td>\n",
       "    </tr>\n",
       "    <tr>\n",
       "      <th>3</th>\n",
       "      <td>00elu00</td>\n",
       "      <td>Deathgarden</td>\n",
       "      <td>2.000000</td>\n",
       "    </tr>\n",
       "    <tr>\n",
       "      <th>4</th>\n",
       "      <td>01joga</td>\n",
       "      <td>PUBG MOBILE</td>\n",
       "      <td>3.750000</td>\n",
       "    </tr>\n",
       "  </tbody>\n",
       "</table>\n",
       "</div>"
      ],
      "text/plain": [
       "       user_name                    game_name      mean\n",
       "0  00NothingLabs             Mortal Kombat 11  2.421053\n",
       "1  00NothingLabs  Tom Clancy's The Division 2  1.578947\n",
       "2        00elu00             Dead by Daylight  4.666667\n",
       "3        00elu00                  Deathgarden  2.000000\n",
       "4         01joga                  PUBG MOBILE  3.750000"
      ]
     },
     "execution_count": 32,
     "metadata": {},
     "output_type": "execute_result"
    }
   ],
   "source": [
    "games.head(5)"
   ]
  },
  {
   "cell_type": "code",
   "execution_count": 33,
   "metadata": {},
   "outputs": [],
   "source": [
    "#using Surprise to predict genres/games for a streamer based on their existing genre ratings:"
   ]
  },
  {
   "cell_type": "code",
   "execution_count": 9,
   "metadata": {},
   "outputs": [],
   "source": [
    "import surprise\n",
    "from surprise import Dataset, accuracy, Reader, NMF, NormalPredictor, BaselineOnly, CoClustering, SlopeOne, SVD, KNNBaseline\n",
    "from surprise.model_selection import GridSearchCV, cross_validate, train_test_split"
   ]
  },
  {
   "cell_type": "code",
   "execution_count": 10,
   "metadata": {},
   "outputs": [],
   "source": [
    "reader = Reader(rating_scale=(1, 5))\n",
    "genre_data = Dataset.load_from_df(genres[['user_name', 'game_genres', 'mean']], reader)"
   ]
  },
  {
   "cell_type": "code",
   "execution_count": 11,
   "metadata": {},
   "outputs": [],
   "source": [
    "game_data = Dataset.load_from_df(games[['user_name', 'game_name', 'mean']], reader)"
   ]
  },
  {
   "cell_type": "markdown",
   "metadata": {},
   "source": [
    "Now it is time to select the algorithms we will use to generate recommendations for our streamers based on their existing behavior and also on how similar the games they already stream are to those they do not yet stream. \n",
    "\n",
    "The first step is to evaluate various algorithms available in Surprise to see which produce the lowest RMSE and are computationally friendly so we can use them in a dynamic app and recommend things on the fly. We perform cross validation on all fast algorithms to see which performs best with either of our datasets, genres and games."
   ]
  },
  {
   "cell_type": "code",
   "execution_count": 12,
   "metadata": {
    "scrolled": true
   },
   "outputs": [
    {
     "name": "stdout",
     "output_type": "stream",
     "text": [
      "Evaluating RMSE of algorithm SlopeOne on 5 split(s).\n",
      "\n",
      "                  Fold 1  Fold 2  Fold 3  Fold 4  Fold 5  Mean    Std     \n",
      "RMSE (testset)    0.5829  0.5851  0.5824  0.5794  0.5870  0.5833  0.0026  \n",
      "RMSE (trainset)   0.3760  0.3753  0.3760  0.3765  0.3752  0.3758  0.0005  \n",
      "Fit time          0.52    0.56    0.56    0.62    0.57    0.57    0.03    \n",
      "Test time         0.39    0.35    0.36    0.36    0.43    0.38    0.03    \n",
      "Evaluating RMSE of algorithm NormalPredictor on 5 split(s).\n",
      "\n",
      "                  Fold 1  Fold 2  Fold 3  Fold 4  Fold 5  Mean    Std     \n",
      "RMSE (testset)    1.1031  1.1006  1.1056  1.1024  1.1099  1.1043  0.0032  \n",
      "RMSE (trainset)   1.1030  1.1078  1.1075  1.1037  1.1042  1.1052  0.0020  \n",
      "Fit time          0.32    0.26    0.21    0.21    0.22    0.25    0.04    \n",
      "Test time         0.39    0.20    0.28    0.30    0.20    0.28    0.07    \n",
      "Estimating biases using als...\n",
      "Estimating biases using als...\n",
      "Estimating biases using als...\n",
      "Estimating biases using als...\n",
      "Estimating biases using als...\n",
      "Evaluating RMSE of algorithm BaselineOnly on 5 split(s).\n",
      "\n",
      "                  Fold 1  Fold 2  Fold 3  Fold 4  Fold 5  Mean    Std     \n",
      "RMSE (testset)    0.7349  0.7358  0.7364  0.7322  0.7407  0.7360  0.0028  \n",
      "RMSE (trainset)   0.6953  0.6953  0.6950  0.6958  0.6941  0.6951  0.0006  \n",
      "Fit time          0.45    0.47    0.45    0.44    0.48    0.46    0.01    \n",
      "Test time         0.19    0.17    0.29    0.30    0.31    0.25    0.06    \n",
      "Evaluating RMSE of algorithm NMF on 5 split(s).\n",
      "\n",
      "                  Fold 1  Fold 2  Fold 3  Fold 4  Fold 5  Mean    Std     \n",
      "RMSE (testset)    0.7090  0.6875  0.6370  0.6446  0.6378  0.6632  0.0295  \n",
      "RMSE (trainset)   0.1441  0.1406  0.1439  0.1471  0.1398  0.1431  0.0026  \n",
      "Fit time          12.15   11.60   11.79   11.84   11.53   11.78   0.21    \n",
      "Test time         0.19    0.18    0.39    0.19    0.21    0.23    0.08    \n",
      "Evaluating RMSE of algorithm CoClustering on 5 split(s).\n",
      "\n",
      "                  Fold 1  Fold 2  Fold 3  Fold 4  Fold 5  Mean    Std     \n",
      "RMSE (testset)    0.7615  0.7699  0.7493  0.7586  0.7566  0.7592  0.0067  \n",
      "RMSE (trainset)   0.6283  0.6251  0.6329  0.6214  0.6330  0.6281  0.0045  \n",
      "Fit time          8.50    7.94    7.55    7.92    7.96    7.97    0.30    \n",
      "Test time         0.19    0.17    0.18    0.18    0.25    0.19    0.03    \n",
      "Evaluating RMSE of algorithm SVD on 5 split(s).\n",
      "\n",
      "                  Fold 1  Fold 2  Fold 3  Fold 4  Fold 5  Mean    Std     \n",
      "RMSE (testset)    0.6854  0.6863  0.6795  0.6912  0.6781  0.6841  0.0048  \n",
      "RMSE (trainset)   0.5503  0.5503  0.5462  0.5536  0.5433  0.5488  0.0036  \n",
      "Fit time          7.91    8.06    8.27    8.12    8.08    8.09    0.12    \n",
      "Test time         0.23    0.21    0.24    0.44    0.23    0.27    0.09    \n"
     ]
    },
    {
     "data": {
      "text/html": [
       "<div>\n",
       "<style scoped>\n",
       "    .dataframe tbody tr th:only-of-type {\n",
       "        vertical-align: middle;\n",
       "    }\n",
       "\n",
       "    .dataframe tbody tr th {\n",
       "        vertical-align: top;\n",
       "    }\n",
       "\n",
       "    .dataframe thead th {\n",
       "        text-align: right;\n",
       "    }\n",
       "</style>\n",
       "<table border=\"1\" class=\"dataframe\">\n",
       "  <thead>\n",
       "    <tr style=\"text-align: right;\">\n",
       "      <th></th>\n",
       "      <th>test_rmse</th>\n",
       "      <th>train_rmse</th>\n",
       "      <th>fit_time</th>\n",
       "      <th>test_time</th>\n",
       "    </tr>\n",
       "    <tr>\n",
       "      <th>Algorithm</th>\n",
       "      <th></th>\n",
       "      <th></th>\n",
       "      <th></th>\n",
       "      <th></th>\n",
       "    </tr>\n",
       "  </thead>\n",
       "  <tbody>\n",
       "    <tr>\n",
       "      <th>SlopeOne</th>\n",
       "      <td>0.583346</td>\n",
       "      <td>0.375794</td>\n",
       "      <td>0.565539</td>\n",
       "      <td>0.378328</td>\n",
       "    </tr>\n",
       "    <tr>\n",
       "      <th>NMF</th>\n",
       "      <td>0.663177</td>\n",
       "      <td>0.143120</td>\n",
       "      <td>11.781459</td>\n",
       "      <td>0.232531</td>\n",
       "    </tr>\n",
       "    <tr>\n",
       "      <th>SVD</th>\n",
       "      <td>0.684103</td>\n",
       "      <td>0.548758</td>\n",
       "      <td>8.086810</td>\n",
       "      <td>0.270559</td>\n",
       "    </tr>\n",
       "    <tr>\n",
       "      <th>BaselineOnly</th>\n",
       "      <td>0.736001</td>\n",
       "      <td>0.695091</td>\n",
       "      <td>0.460336</td>\n",
       "      <td>0.252608</td>\n",
       "    </tr>\n",
       "    <tr>\n",
       "      <th>CoClustering</th>\n",
       "      <td>0.759168</td>\n",
       "      <td>0.628109</td>\n",
       "      <td>7.972136</td>\n",
       "      <td>0.194265</td>\n",
       "    </tr>\n",
       "    <tr>\n",
       "      <th>NormalPredictor</th>\n",
       "      <td>1.104331</td>\n",
       "      <td>1.105233</td>\n",
       "      <td>0.245939</td>\n",
       "      <td>0.276477</td>\n",
       "    </tr>\n",
       "  </tbody>\n",
       "</table>\n",
       "</div>"
      ],
      "text/plain": [
       "                 test_rmse  train_rmse   fit_time  test_time\n",
       "Algorithm                                                   \n",
       "SlopeOne          0.583346    0.375794   0.565539   0.378328\n",
       "NMF               0.663177    0.143120  11.781459   0.232531\n",
       "SVD               0.684103    0.548758   8.086810   0.270559\n",
       "BaselineOnly      0.736001    0.695091   0.460336   0.252608\n",
       "CoClustering      0.759168    0.628109   7.972136   0.194265\n",
       "NormalPredictor   1.104331    1.105233   0.245939   0.276477"
      ]
     },
     "execution_count": 12,
     "metadata": {},
     "output_type": "execute_result"
    }
   ],
   "source": [
    "benchmark = []\n",
    "# Iterate over all algorithms\n",
    "for algorithm in [SlopeOne(), NormalPredictor(), BaselineOnly(), NMF(), CoClustering(), SVD()]:\n",
    "\n",
    "\n",
    "    # Perform cross validation\n",
    "    results = cross_validate(algorithm, genre_data, measures=['RMSE'], return_train_measures=True, cv=5, verbose=True)\n",
    "    \n",
    "    # Get results & append algorithm name\n",
    "    tmp = pd.DataFrame.from_dict(results).mean(axis=0)\n",
    "    tmp = tmp.append(pd.Series([str(algorithm).split(' ')[0].split('.')[-1]], index=['Algorithm']))\n",
    "    benchmark.append(tmp)\n",
    "    \n",
    "pd.DataFrame(benchmark).set_index('Algorithm').sort_values('test_rmse')  "
   ]
  },
  {
   "cell_type": "markdown",
   "metadata": {},
   "source": [
    "For genre data, the SlopeOne seems to do the best algorithm. To drastically reduce overfitting, improve performance and ease implementation, the Slope One family of easily implemented Item-based Rating-Based collaborative filtering algorithms was proposed. Essentially, instead of using linear regression from one item's ratings to another item's ratings ( {\\displaystyle f(x)=ax+b} f(x)=ax+b), it uses a simpler form of regression with a single free parameter ( {\\displaystyle f(x)=x+b} f(x)=x+b). The free parameter is then simply the average difference between the two items' ratings. It was shown to be much more accurate than linear regression in some instances, and it takes half the storage or less."
   ]
  },
  {
   "cell_type": "code",
   "execution_count": 13,
   "metadata": {},
   "outputs": [
    {
     "name": "stdout",
     "output_type": "stream",
     "text": [
      "Evaluating RMSE of algorithm SlopeOne on 5 split(s).\n",
      "\n",
      "                  Fold 1  Fold 2  Fold 3  Fold 4  Fold 5  Mean    Std     \n",
      "RMSE (testset)    0.9728  0.9633  0.9585  0.9623  0.9628  0.9639  0.0047  \n",
      "RMSE (trainset)   0.3340  0.3371  0.3367  0.3366  0.3368  0.3363  0.0011  \n",
      "Fit time          0.46    0.51    0.50    0.53    0.57    0.51    0.03    \n",
      "Test time         0.13    0.18    0.13    0.13    0.18    0.15    0.02    \n",
      "Evaluating RMSE of algorithm NormalPredictor on 5 split(s).\n",
      "\n",
      "                  Fold 1  Fold 2  Fold 3  Fold 4  Fold 5  Mean    Std     \n",
      "RMSE (testset)    1.1564  1.1550  1.1517  1.1554  1.1559  1.1549  0.0017  \n",
      "RMSE (trainset)   1.1569  1.1535  1.1571  1.1519  1.1501  1.1539  0.0027  \n",
      "Fit time          0.09    0.11    0.13    0.11    0.11    0.11    0.01    \n",
      "Test time         0.10    0.10    0.13    0.11    0.10    0.11    0.01    \n",
      "Estimating biases using als...\n",
      "Estimating biases using als...\n",
      "Estimating biases using als...\n",
      "Estimating biases using als...\n",
      "Estimating biases using als...\n",
      "Evaluating RMSE of algorithm BaselineOnly on 5 split(s).\n",
      "\n",
      "                  Fold 1  Fold 2  Fold 3  Fold 4  Fold 5  Mean    Std     \n",
      "RMSE (testset)    0.7902  0.8001  0.8038  0.8016  0.7981  0.7988  0.0046  \n",
      "RMSE (trainset)   0.7504  0.7485  0.7474  0.7481  0.7489  0.7487  0.0010  \n",
      "Fit time          0.25    0.28    0.27    0.27    0.27    0.27    0.01    \n",
      "Test time         0.18    0.09    0.09    0.17    0.09    0.13    0.04    \n",
      "Evaluating RMSE of algorithm NMF on 5 split(s).\n",
      "\n",
      "                  Fold 1  Fold 2  Fold 3  Fold 4  Fold 5  Mean    Std     \n",
      "RMSE (testset)    0.9806  0.9807  0.9749  0.9717  0.9797  0.9775  0.0036  \n",
      "RMSE (trainset)   0.1001  0.1015  0.1039  0.1016  0.1031  0.1021  0.0013  \n",
      "Fit time          7.37    8.02    7.53    7.44    7.76    7.62    0.24    \n",
      "Test time         0.17    0.15    0.10    0.10    0.11    0.12    0.03    \n",
      "Evaluating RMSE of algorithm CoClustering on 5 split(s).\n",
      "\n",
      "                  Fold 1  Fold 2  Fold 3  Fold 4  Fold 5  Mean    Std     \n",
      "RMSE (testset)    1.0280  1.0205  1.0376  1.0328  1.0375  1.0313  0.0064  \n",
      "RMSE (trainset)   0.6671  0.6933  0.6603  0.6860  0.6757  0.6765  0.0120  \n",
      "Fit time          6.52    5.81    7.01    5.90    5.72    6.19    0.50    \n",
      "Test time         0.12    0.09    0.09    0.21    0.10    0.12    0.05    \n",
      "Evaluating RMSE of algorithm SVD on 5 split(s).\n",
      "\n",
      "                  Fold 1  Fold 2  Fold 3  Fold 4  Fold 5  Mean    Std     \n",
      "RMSE (testset)    0.7985  0.8034  0.8015  0.8058  0.8083  0.8035  0.0034  \n",
      "RMSE (trainset)   0.6002  0.6007  0.5973  0.5989  0.5990  0.5992  0.0012  \n",
      "Fit time          4.32    4.35    4.21    4.20    4.57    4.33    0.13    \n",
      "Test time         0.29    0.12    0.11    0.10    0.12    0.15    0.07    \n"
     ]
    },
    {
     "data": {
      "text/html": [
       "<div>\n",
       "<style scoped>\n",
       "    .dataframe tbody tr th:only-of-type {\n",
       "        vertical-align: middle;\n",
       "    }\n",
       "\n",
       "    .dataframe tbody tr th {\n",
       "        vertical-align: top;\n",
       "    }\n",
       "\n",
       "    .dataframe thead th {\n",
       "        text-align: right;\n",
       "    }\n",
       "</style>\n",
       "<table border=\"1\" class=\"dataframe\">\n",
       "  <thead>\n",
       "    <tr style=\"text-align: right;\">\n",
       "      <th></th>\n",
       "      <th>test_rmse</th>\n",
       "      <th>train_rmse</th>\n",
       "      <th>fit_time</th>\n",
       "      <th>test_time</th>\n",
       "    </tr>\n",
       "    <tr>\n",
       "      <th>Algorithm</th>\n",
       "      <th></th>\n",
       "      <th></th>\n",
       "      <th></th>\n",
       "      <th></th>\n",
       "    </tr>\n",
       "  </thead>\n",
       "  <tbody>\n",
       "    <tr>\n",
       "      <th>BaselineOnly</th>\n",
       "      <td>0.798761</td>\n",
       "      <td>0.748669</td>\n",
       "      <td>0.267839</td>\n",
       "      <td>0.127457</td>\n",
       "    </tr>\n",
       "    <tr>\n",
       "      <th>SVD</th>\n",
       "      <td>0.803507</td>\n",
       "      <td>0.599217</td>\n",
       "      <td>4.330534</td>\n",
       "      <td>0.147899</td>\n",
       "    </tr>\n",
       "    <tr>\n",
       "      <th>SlopeOne</th>\n",
       "      <td>0.963917</td>\n",
       "      <td>0.336254</td>\n",
       "      <td>0.514620</td>\n",
       "      <td>0.151804</td>\n",
       "    </tr>\n",
       "    <tr>\n",
       "      <th>NMF</th>\n",
       "      <td>0.977529</td>\n",
       "      <td>0.102057</td>\n",
       "      <td>7.623752</td>\n",
       "      <td>0.124938</td>\n",
       "    </tr>\n",
       "    <tr>\n",
       "      <th>CoClustering</th>\n",
       "      <td>1.031269</td>\n",
       "      <td>0.676456</td>\n",
       "      <td>6.193704</td>\n",
       "      <td>0.123336</td>\n",
       "    </tr>\n",
       "    <tr>\n",
       "      <th>NormalPredictor</th>\n",
       "      <td>1.154859</td>\n",
       "      <td>1.153893</td>\n",
       "      <td>0.108619</td>\n",
       "      <td>0.106389</td>\n",
       "    </tr>\n",
       "  </tbody>\n",
       "</table>\n",
       "</div>"
      ],
      "text/plain": [
       "                 test_rmse  train_rmse  fit_time  test_time\n",
       "Algorithm                                                  \n",
       "BaselineOnly      0.798761    0.748669  0.267839   0.127457\n",
       "SVD               0.803507    0.599217  4.330534   0.147899\n",
       "SlopeOne          0.963917    0.336254  0.514620   0.151804\n",
       "NMF               0.977529    0.102057  7.623752   0.124938\n",
       "CoClustering      1.031269    0.676456  6.193704   0.123336\n",
       "NormalPredictor   1.154859    1.153893  0.108619   0.106389"
      ]
     },
     "execution_count": 13,
     "metadata": {},
     "output_type": "execute_result"
    }
   ],
   "source": [
    "benchmark = []\n",
    "# Iterate over all algorithms\n",
    "for algorithm in [SlopeOne(), NormalPredictor(), BaselineOnly(), NMF(), CoClustering(), SVD()]:\n",
    "\n",
    "\n",
    "    # Perform cross validation\n",
    "    results = cross_validate(algorithm, game_data, measures=['RMSE'], return_train_measures=True, cv=5, verbose=True)\n",
    "    \n",
    "    # Get results & append algorithm name\n",
    "    tmp = pd.DataFrame.from_dict(results).mean(axis=0)\n",
    "    tmp = tmp.append(pd.Series([str(algorithm).split(' ')[0].split('.')[-1]], index=['Algorithm']))\n",
    "    benchmark.append(tmp)\n",
    "    \n",
    "pd.DataFrame(benchmark).set_index('Algorithm').sort_values('test_rmse')  "
   ]
  },
  {
   "cell_type": "markdown",
   "metadata": {},
   "source": [
    "For the game data, we are going to use the BaselineOnly algorithm which produces the lowest test RMSE."
   ]
  },
  {
   "cell_type": "markdown",
   "metadata": {},
   "source": [
    "Based on the results of the algorithm selector, we will proceed with SlopeOne for genre predictions and with the Baseline algorithm for game predictions. More information about SlopeOne can be found here: https://arxiv.org/abs/cs/0702144"
   ]
  },
  {
   "cell_type": "markdown",
   "metadata": {},
   "source": [
    "Next we perform cross-validation to see how our chosen algorithms perform:"
   ]
  },
  {
   "cell_type": "code",
   "execution_count": 56,
   "metadata": {},
   "outputs": [
    {
     "name": "stdout",
     "output_type": "stream",
     "text": [
      "Evaluating RMSE of algorithm SlopeOne on 7 split(s).\n",
      "\n",
      "                  Fold 1  Fold 2  Fold 3  Fold 4  Fold 5  Fold 6  Fold 7  Mean    Std     \n",
      "RMSE (testset)    0.5882  0.5934  0.5916  0.5873  0.5844  0.5948  0.5797  0.5885  0.0049  \n",
      "Fit time          0.54    0.69    0.70    0.77    0.73    0.69    0.69    0.69    0.07    \n",
      "Test time         0.31    0.24    0.22    0.24    0.22    0.23    0.24    0.24    0.03    \n"
     ]
    },
    {
     "data": {
      "text/plain": [
       "{'test_rmse': array([0.58820224, 0.59338724, 0.59159793, 0.58734185, 0.58436884,\n",
       "        0.59476135, 0.57966551]),\n",
       " 'fit_time': (0.5381171703338623,\n",
       "  0.6905372142791748,\n",
       "  0.7029690742492676,\n",
       "  0.7682769298553467,\n",
       "  0.7282760143280029,\n",
       "  0.6883859634399414,\n",
       "  0.6933460235595703),\n",
       " 'test_time': (0.31470394134521484,\n",
       "  0.24323701858520508,\n",
       "  0.2221078872680664,\n",
       "  0.2357029914855957,\n",
       "  0.21745991706848145,\n",
       "  0.23285627365112305,\n",
       "  0.23707890510559082)}"
      ]
     },
     "execution_count": 56,
     "metadata": {},
     "output_type": "execute_result"
    }
   ],
   "source": [
    "algo_genre = SlopeOne()\n",
    "cross_validate(algo_genre, genre_data, measures=['RMSE'], cv=7, verbose=True)"
   ]
  },
  {
   "cell_type": "code",
   "execution_count": 57,
   "metadata": {
    "scrolled": true
   },
   "outputs": [
    {
     "name": "stdout",
     "output_type": "stream",
     "text": [
      "Estimating biases using als...\n",
      "Estimating biases using als...\n",
      "Estimating biases using als...\n",
      "Estimating biases using als...\n",
      "Estimating biases using als...\n",
      "Estimating biases using als...\n",
      "Estimating biases using als...\n",
      "Evaluating RMSE of algorithm BaselineOnly on 7 split(s).\n",
      "\n",
      "                  Fold 1  Fold 2  Fold 3  Fold 4  Fold 5  Fold 6  Fold 7  Mean    Std     \n",
      "RMSE (testset)    0.8005  0.8045  0.8100  0.7963  0.7992  0.7942  0.7925  0.7996  0.0056  \n",
      "Fit time          0.27    0.38    0.30    0.29    0.41    0.31    0.27    0.32    0.05    \n",
      "Test time         0.07    0.06    0.06    0.07    0.08    0.14    0.07    0.08    0.02    \n"
     ]
    },
    {
     "data": {
      "text/plain": [
       "{'test_rmse': array([0.80052949, 0.80450176, 0.80995651, 0.79629228, 0.79922829,\n",
       "        0.79415421, 0.7925107 ]),\n",
       " 'fit_time': (0.2749178409576416,\n",
       "  0.37617993354797363,\n",
       "  0.3001220226287842,\n",
       "  0.28711390495300293,\n",
       "  0.41249704360961914,\n",
       "  0.31096720695495605,\n",
       "  0.2670562267303467),\n",
       " 'test_time': (0.06943488121032715,\n",
       "  0.059584856033325195,\n",
       "  0.06414794921875,\n",
       "  0.0724940299987793,\n",
       "  0.07842302322387695,\n",
       "  0.13653993606567383,\n",
       "  0.06610488891601562)}"
      ]
     },
     "execution_count": 57,
     "metadata": {},
     "output_type": "execute_result"
    }
   ],
   "source": [
    "bsl_options = {'method': 'als',\n",
    "               'n_epochs': 10,\n",
    "               'reg_u': 12,\n",
    "               'reg_i': 5\n",
    "               }\n",
    "algo_games = BaselineOnly(bsl_options=bsl_options)\n",
    "cross_validate(algo_games, game_data, measures=['RMSE'], cv=7, verbose=True)"
   ]
  },
  {
   "cell_type": "markdown",
   "metadata": {},
   "source": [
    "Now we split the data into train and test sets to produce the predictions for genres and games streamers would like. Our RMSE is low for both algorithms, lower for the genres which makes sense since each genre includes many games which produces more observations for each genres than for each individual game."
   ]
  },
  {
   "cell_type": "code",
   "execution_count": 54,
   "metadata": {},
   "outputs": [
    {
     "name": "stdout",
     "output_type": "stream",
     "text": [
      "RMSE: 0.6224\n"
     ]
    },
    {
     "data": {
      "text/plain": [
       "0.6224159298329438"
      ]
     },
     "execution_count": 54,
     "metadata": {},
     "output_type": "execute_result"
    }
   ],
   "source": [
    "genre_trainset, genre_testset = train_test_split(genre_data, test_size=0.25)\n",
    "algo_genre = SlopeOne()\n",
    "genre_predictions = algo_genre.fit(genre_trainset).test(genre_testset)\n",
    "accuracy.rmse(genre_predictions)"
   ]
  },
  {
   "cell_type": "code",
   "execution_count": 58,
   "metadata": {},
   "outputs": [
    {
     "name": "stdout",
     "output_type": "stream",
     "text": [
      "Estimating biases using als...\n",
      "RMSE: 0.7994\n"
     ]
    },
    {
     "data": {
      "text/plain": [
       "0.7994108918220522"
      ]
     },
     "execution_count": 58,
     "metadata": {},
     "output_type": "execute_result"
    }
   ],
   "source": [
    "game_trainset, game_testset = train_test_split(game_data, test_size=0.25)\n",
    "algo_games = BaselineOnly(bsl_options=bsl_options)\n",
    "game_predictions = algo_games.fit(game_trainset).test(game_testset)\n",
    "accuracy.rmse(game_predictions)"
   ]
  },
  {
   "cell_type": "markdown",
   "metadata": {},
   "source": [
    "Saving the models and predictions to use in the predictor app:"
   ]
  },
  {
   "cell_type": "code",
   "execution_count": 48,
   "metadata": {},
   "outputs": [],
   "source": [
    "pickle.dump(algo_genre, open(\"./Data/SlopeOne_genre_model.pkl\", \"wb\" ) )\n",
    "algo_genre = pickle.load( open( \"./Data/SlopeOne_genre_model.pkl\", \"rb\" ) )"
   ]
  },
  {
   "cell_type": "code",
   "execution_count": 49,
   "metadata": {},
   "outputs": [],
   "source": [
    "pickle.dump(algo_games, open(\"./Data/BaselineOnly_game_model.pkl\", \"wb\" ) )\n",
    "algo_games = pickle.load( open( \"./Data/BaselineOnly_game_model.pkl\", \"rb\" ) )"
   ]
  },
  {
   "cell_type": "code",
   "execution_count": 50,
   "metadata": {},
   "outputs": [],
   "source": [
    "pickle.dump(genre_predictions, open(\"./Data/SlopeOne_genre_model_predictions.pkl\", \"wb\" ) )\n",
    "genre_predictions = pickle.load( open( \"./Data/SlopeOne_genre_model_predictions.pkl\", \"rb\" ) )"
   ]
  },
  {
   "cell_type": "code",
   "execution_count": 51,
   "metadata": {},
   "outputs": [],
   "source": [
    "pickle.dump(game_predictions, open(\"./Data/BaselineOnly_game_model_predictions.pkl\", \"wb\" ) )\n",
    "game_predictions = pickle.load( open( \"./Data/BaselineOnly_game_model_predictions.pkl\", \"rb\" ) )"
   ]
  },
  {
   "cell_type": "code",
   "execution_count": 52,
   "metadata": {},
   "outputs": [],
   "source": [
    "pickle.dump(genres, open(\"./Data/genres.pkl\", \"wb\" ) )\n",
    "genres = pickle.load( open( \"./Data/genres.pkl\", \"rb\" ) )"
   ]
  },
  {
   "cell_type": "code",
   "execution_count": 53,
   "metadata": {},
   "outputs": [],
   "source": [
    "pickle.dump(games, open(\"./Data/games.pkl\", \"wb\" ) )\n",
    "games = pickle.load( open( \"./Data/games.pkl\", \"rb\" ) )"
   ]
  },
  {
   "cell_type": "markdown",
   "metadata": {},
   "source": [
    "Taking the inputs from the user:"
   ]
  },
  {
   "cell_type": "code",
   "execution_count": 41,
   "metadata": {},
   "outputs": [
    {
     "name": "stdout",
     "output_type": "stream",
     "text": [
      "What is your streamer name? Ninja\n",
      "Which game genres do you currently stream? Action\n",
      "Which games do you currently steam? Fortnite\n"
     ]
    }
   ],
   "source": [
    "streamer_name = input('What is your streamer name? ')\n",
    "streamer_genres = list(input ('Which game genres do you currently stream? ').split(', '))\n",
    "streamer_games = list(input ('Which games do you currently steam? ').split(', '))"
   ]
  },
  {
   "cell_type": "code",
   "execution_count": 42,
   "metadata": {},
   "outputs": [
    {
     "data": {
      "text/plain": [
       "('Ninja', ['Action'], ['Fortnite'])"
      ]
     },
     "execution_count": 42,
     "metadata": {},
     "output_type": "execute_result"
    }
   ],
   "source": [
    "streamer_name, streamer_genres, streamer_games"
   ]
  },
  {
   "cell_type": "markdown",
   "metadata": {},
   "source": [
    "Making a list of streamers' current genres and games by combining any information we already have in our dataset and their own inputs into the app:"
   ]
  },
  {
   "cell_type": "code",
   "execution_count": 43,
   "metadata": {},
   "outputs": [
    {
     "data": {
      "text/html": [
       "<div>\n",
       "<style scoped>\n",
       "    .dataframe tbody tr th:only-of-type {\n",
       "        vertical-align: middle;\n",
       "    }\n",
       "\n",
       "    .dataframe tbody tr th {\n",
       "        vertical-align: top;\n",
       "    }\n",
       "\n",
       "    .dataframe thead th {\n",
       "        text-align: right;\n",
       "    }\n",
       "</style>\n",
       "<table border=\"1\" class=\"dataframe\">\n",
       "  <thead>\n",
       "    <tr style=\"text-align: right;\">\n",
       "      <th></th>\n",
       "      <th>user_name</th>\n",
       "      <th>game_genres</th>\n",
       "      <th>mean</th>\n",
       "    </tr>\n",
       "  </thead>\n",
       "  <tbody>\n",
       "    <tr>\n",
       "      <th>0</th>\n",
       "      <td>00NothingLabs</td>\n",
       "      <td>Fighting</td>\n",
       "      <td>2.421053</td>\n",
       "    </tr>\n",
       "    <tr>\n",
       "      <th>1</th>\n",
       "      <td>00NothingLabs</td>\n",
       "      <td>Open World</td>\n",
       "      <td>1.578947</td>\n",
       "    </tr>\n",
       "    <tr>\n",
       "      <th>2</th>\n",
       "      <td>00NothingLabs</td>\n",
       "      <td>RPG</td>\n",
       "      <td>1.578947</td>\n",
       "    </tr>\n",
       "    <tr>\n",
       "      <th>3</th>\n",
       "      <td>00NothingLabs</td>\n",
       "      <td>Shooter</td>\n",
       "      <td>1.578947</td>\n",
       "    </tr>\n",
       "    <tr>\n",
       "      <th>4</th>\n",
       "      <td>00elu00</td>\n",
       "      <td>Action</td>\n",
       "      <td>4.000000</td>\n",
       "    </tr>\n",
       "  </tbody>\n",
       "</table>\n",
       "</div>"
      ],
      "text/plain": [
       "       user_name game_genres      mean\n",
       "0  00NothingLabs    Fighting  2.421053\n",
       "1  00NothingLabs  Open World  1.578947\n",
       "2  00NothingLabs         RPG  1.578947\n",
       "3  00NothingLabs     Shooter  1.578947\n",
       "4        00elu00      Action  4.000000"
      ]
     },
     "execution_count": 43,
     "metadata": {},
     "output_type": "execute_result"
    }
   ],
   "source": [
    "genres.head()"
   ]
  },
  {
   "cell_type": "code",
   "execution_count": 44,
   "metadata": {},
   "outputs": [
    {
     "data": {
      "text/plain": [
       "{'Action', 'IRL', 'MOBA', 'Shooter'}"
      ]
     },
     "execution_count": 44,
     "metadata": {},
     "output_type": "execute_result"
    }
   ],
   "source": [
    "def display_current_genres(streamer_name):\n",
    "    user_genres = list(genres[genres['user_name']==streamer_name]['game_genres'])\n",
    "    return user_genres\n",
    "recorder_genres_list = display_current_genres(streamer_name)\n",
    "full_genres = set(recorder_genres_list + streamer_genres)\n",
    "full_genres"
   ]
  },
  {
   "cell_type": "code",
   "execution_count": 45,
   "metadata": {},
   "outputs": [
    {
     "data": {
      "text/plain": [
       "{'Brawl Stars', 'Fortnite', 'Just Chatting'}"
      ]
     },
     "execution_count": 45,
     "metadata": {},
     "output_type": "execute_result"
    }
   ],
   "source": [
    "def display_current_games(streamer_name):\n",
    "    user_games = list(games[games['user_name']==streamer_name]['game_name'])\n",
    "    return user_games\n",
    "recorder_games_list = display_current_games(streamer_name)\n",
    "full_games = set(recorder_games_list + streamer_games)\n",
    "full_games"
   ]
  },
  {
   "cell_type": "markdown",
   "metadata": {},
   "source": [
    "####  Predicting Genres for Streamers (user-based similarities) ####"
   ]
  },
  {
   "cell_type": "code",
   "execution_count": 46,
   "metadata": {},
   "outputs": [],
   "source": [
    "from collections import defaultdict"
   ]
  },
  {
   "cell_type": "code",
   "execution_count": 47,
   "metadata": {},
   "outputs": [],
   "source": [
    "def get_top_n(predictions, n=10):\n",
    "    top_n = defaultdict(list)\n",
    "    for uid, iid, true_r, est, _ in predictions:\n",
    "        top_n[uid].append((iid, est))\n",
    "\n",
    "    # Then sort the predictions for the user and retrieve the k highest ones.\n",
    "    for uid, user_ratings in top_n.items():\n",
    "        user_ratings.sort(key=lambda x: x[1], reverse=True)\n",
    "        top_n[uid] = user_ratings[:n]\n",
    "\n",
    "    return top_n"
   ]
  },
  {
   "cell_type": "markdown",
   "metadata": {},
   "source": [
    "Setting the inner ids for genres and games to be able to identify them in Surprise nomenclature. The results are all the genres and games the user has not had exposure to:"
   ]
  },
  {
   "cell_type": "code",
   "execution_count": 48,
   "metadata": {},
   "outputs": [],
   "source": [
    "iids_genre = genres['game_genres'].unique()\n",
    "iids_genre_to_predict = np.setdiff1d(iids_genre, full_genres)"
   ]
  },
  {
   "cell_type": "code",
   "execution_count": 49,
   "metadata": {},
   "outputs": [],
   "source": [
    "iids_game = games['game_name'].unique()\n",
    "iids_game_to_predict = np.setdiff1d(iids_game, full_games)"
   ]
  },
  {
   "cell_type": "code",
   "execution_count": 50,
   "metadata": {},
   "outputs": [
    {
     "data": {
      "text/plain": [
       "array(['Action', 'Adventure Game', 'Card & Board Game', 'Compilation',\n",
       "       'Creative', 'Driving/Racing Game', 'Educational Game', 'FPS',\n",
       "       'Fighting', 'Flight Simulator', 'Gambling Game', 'Hidden Objects',\n",
       "       'Horror', 'IRL', 'Indie Game', 'MMORPG', 'MOBA', 'Metroidvania',\n",
       "       'Open World', 'Other', 'Platformer', 'Point and Click', 'Puzzle',\n",
       "       'RPG', 'RTS', 'Rhythm & Music Game', 'Roguelike', 'Series: Souls',\n",
       "       'Shooter', 'Simulation', 'Sports Game', 'Stealth', 'Strategy',\n",
       "       'Survival', 'Visual Novel'], dtype=object)"
      ]
     },
     "execution_count": 50,
     "metadata": {},
     "output_type": "execute_result"
    }
   ],
   "source": [
    "iids_genre_to_predict"
   ]
  },
  {
   "cell_type": "code",
   "execution_count": 51,
   "metadata": {},
   "outputs": [
    {
     "data": {
      "text/plain": [
       "array(['7 Days to Die', 'A Hat in Time', 'A Plague Tale: Innocence',\n",
       "       'A Way Out', 'ARK', 'ASMR', 'ATLAS', 'Agar.io',\n",
       "       'Age of Empires II', 'Age of Mythology', 'Albion Online',\n",
       "       'Alien: Isolation', 'Always On', 'American Truck Simulator',\n",
       "       'Anno 1800', 'Apex Legends', 'Arena of Valor', 'Arma 3', 'Art',\n",
       "       \"Assassin's Creed II\", \"Assassin's Creed III\",\n",
       "       \"Assassin's Creed Odyssey\", 'Assetto Corsa Competizione',\n",
       "       'Astroneer', 'Auto Chess', 'BaBa Is You', 'Bad North',\n",
       "       'Banjo-Kazooie', 'Barotrauma', 'Battalion 1944', 'Battle Brothers',\n",
       "       'Battlefield 1', 'Battlefield 4', 'Battlefield V', 'Beat Saber',\n",
       "       'BioShock', 'Black Desert Online', 'Blackjack', 'Blood & Truth',\n",
       "       'Bloodborne', 'Borderlands 2', 'Brawl Stars', 'Brawlhalla',\n",
       "       'Call of Duty: Black Ops 4', 'Call of Duty: Black Ops II',\n",
       "       'Call of Duty: Black Ops III', 'Call of Duty: Modern Warfare 3',\n",
       "       'Call of Duty: Modern Warfare Remastered', 'Call of Duty: WWII',\n",
       "       'Chess', 'Choice Chamber', 'Cities: Skylines', 'City of Brass',\n",
       "       'Clash Royale', 'Code Vein', 'Conan Exiles', 'Conan Unconquered',\n",
       "       \"Conqueror's Blade\", 'Cooking Simulator',\n",
       "       'Counter-Strike: Global Offensive', 'Cuphead',\n",
       "       'Danganronpa: Trigger Happy Havoc', 'Dark Souls', 'Dark Souls II',\n",
       "       'Dark Souls III', 'Darkest Dungeon', 'Dauntless', 'DayZ',\n",
       "       'Days Gone', 'Dead by Daylight', 'Deathgarden', 'Destiny 2',\n",
       "       'Detroit: Become Human', 'Devil May Cry 5', 'Diablo',\n",
       "       'Diablo II: Lord of Destruction', 'Diablo III: Reaper of Souls',\n",
       "       'Dirt Rally 2.0', 'Divinity: Original Sin II', 'Dofus',\n",
       "       'Doki Doki Literature Club', \"Don't Starve Together\",\n",
       "       'Donkey Kong Country: Tropical Freeze', 'Doom',\n",
       "       'Doom II: Hell on Earth', 'Dota 2', 'Dragon Ball FighterZ',\n",
       "       'Dragon Ball Legends', 'Draugen', 'Dreams', 'Dungeons & Dragons',\n",
       "       'Dying Light', 'Enter the Gungeon', 'Epic Seven',\n",
       "       'Escape From Tarkov', 'Eternal', 'Euro Truck Simulator 2',\n",
       "       'Europa Universalis IV', 'F1 2018', 'FIFA 19',\n",
       "       'FINAL FANTASY XIV Online', 'FTL: Faster Than Light', 'Fallout 76',\n",
       "       'Fallout: New Vegas', 'Farming Simulator 19', 'Final Fantasy VII',\n",
       "       'Final Fantasy X', \"Five Nights at Freddy's\",\n",
       "       \"Five Nights at Freddy's VR: Help Wanted\", 'Food & Drink',\n",
       "       'Football Manager 2019', 'Forager', 'Fortnite', 'Frostpunk',\n",
       "       'Games + Demos', \"Garry's Mod\", 'Gato Roboto', 'Gears of War 4',\n",
       "       'GeoGuessr', 'Getting Over It', 'God of War',\n",
       "       'Golf With Your Friends', 'Granblue Fantasy: Versus',\n",
       "       'Grand Theft Auto V', 'Grand Theft Auto: San Andreas',\n",
       "       'Guild Wars 2', 'Gwent: The Witcher Card Game', 'Half-Life 2',\n",
       "       'Halo: The Master Chief Collection', 'Hearthstone',\n",
       "       'Hearts of Iron IV', 'Heavy Rain',\n",
       "       'Heroes of Might and Magic III: The Shadow of Death',\n",
       "       'Heroes of the Storm', 'Hitman 2', 'Hollow Knight',\n",
       "       'House Flipper', 'Human: Fall Flat', 'Hunt: Showdown', 'Inside',\n",
       "       'It Lurks Below', 'Jump King', 'Just Chatting', 'Just Dance 2019',\n",
       "       'Kantai Collection', 'Kao the Kangaroo Round 2', 'Katana Zero',\n",
       "       'Kerbal Space Program', 'Kingdom Come: Deliverance',\n",
       "       'Kingdom Hearts III', 'Layers of Fear', 'Layers of Fear 2',\n",
       "       'League of Legends', 'Left 4 Dead 2', 'Life Is Strange 2',\n",
       "       'Lineage II', 'Little Nightmares', 'Lost Ark Online',\n",
       "       'MLB The Show 19', 'Madden NFL 19', 'Magic: The Gathering',\n",
       "       'Makers & Crafting', 'MapleStory', 'Marbles On Stream',\n",
       "       'Mario Kart 8', 'Mega Man 11', 'Mega Man X',\n",
       "       'Metal Gear Rising: Revengeance', 'Metal Gear Solid',\n",
       "       'Metal Gear Solid 3: Snake Eater', 'Metin 2', 'Metro Exodus',\n",
       "       'Microsoft Flight Simulator X', 'Minecraft', 'Minion Masters',\n",
       "       'Modern Warfare 2', 'Monopoly Plus', 'Monster Hunter World',\n",
       "       'Mordhau', 'Mortal Kombat 11', 'Mount & Blade: Warband',\n",
       "       'Music & Performing Arts', 'My Summer Car', 'My Time at Portia',\n",
       "       'NBA 2K19', 'NHL 19', 'Observation', 'Old School RuneScape',\n",
       "       'Ori and the Blind Forest', 'Outer Wilds', 'Outlast', 'Outlast 2',\n",
       "       'Overwatch', 'Oxygen Not Included',\n",
       "       \"PLAYERUNKNOWN'S BATTLEGROUNDS\", 'PUBG MOBILE', 'Paladins',\n",
       "       'Parasite Eve II', 'Path of Exile', 'Penumbra: Black Plague',\n",
       "       'Persona 5', 'Phoenix Wright: Ace Attorney Trilogy HD', 'PixARK',\n",
       "       'Plants vs. Zombies: Garden Warfare 2',\n",
       "       \"Pokemon: Let's Go, Pikachu!/Eevee!\", 'Poker',\n",
       "       'Pokémon Black/White Version 2', 'Pokémon Emerald',\n",
       "       'Pokémon HeartGold/SoulSilver', 'Pokémon Stadium',\n",
       "       'Pokémon Ultra Sun/Ultra Moon',\n",
       "       'Post Scriptum: The Bloody Seventh', 'Princess Connect! Re: Dive',\n",
       "       'Project CARS 2', 'Project Winter', 'Project Zomboid',\n",
       "       'Prominence Poker', 'Pummel Party', 'Quake Champions', 'Quiplash',\n",
       "       'ROBLOX', 'Raft', 'Rage 2', 'Realm Royale',\n",
       "       'Red Dead Redemption 2', 'Rescue HQ - The Tycoon',\n",
       "       'Resident Evil 2', 'Resident Evil 3: Nemesis',\n",
       "       'Resident Evil: Code: Veronica X', 'Retro', 'RimWorld',\n",
       "       'Ring Of Elysium', 'Rising Storm 2: Vietnam', 'Risk of Rain 2',\n",
       "       'Rocket League', 'RuneScape', 'Rust', 'SCUM', 'Satisfactory',\n",
       "       'Science & Technology', 'Sea of Thieves',\n",
       "       'Sekiro: Shadows Die Twice', 'Shadowverse',\n",
       "       \"Sid Meier's Civilization V\", 'Silent Hill', 'Silent Hill 2',\n",
       "       'Slay the Spire', 'Slots', 'Smite', 'Sonic Adventure 2: Battle',\n",
       "       'Sonic Mania', 'Sonic the Hedgehog', 'Soulcalibur VI',\n",
       "       'Special Events', 'Spellbreak', 'Spelunky',\n",
       "       'Splitgate: Arena Warfare',\n",
       "       'SpongeBob SquarePants: Battle for Bikini Bottom',\n",
       "       'Sports & Fitness', 'Spyro Reignited Trilogy', 'Squad',\n",
       "       'Star Citizen', 'StarCraft', 'StarCraft II',\n",
       "       'SteamWorld Quest: Hand of Gilgamech', 'Stellaris',\n",
       "       'Street Fighter V', 'Subnautica', 'Summoners War: Sky Arena',\n",
       "       'Super Animal Royale', 'Super Bunny Man', 'Super Mario 64',\n",
       "       'Super Mario Maker', 'Super Mario World', 'Super Seducer',\n",
       "       'Super Smash Bros. Melee', 'Super Smash Bros. Ultimate',\n",
       "       'Tabletop RPGs', 'Tabletop Simulator', 'Talk Shows & Podcasts',\n",
       "       'Team Fortress 2', 'Tekken 7', 'Tera', 'Terraria', 'Tetris 99',\n",
       "       'The Binding of Isaac: Afterbirth',\n",
       "       'The Elder Scrolls III: Morrowind',\n",
       "       'The Elder Scrolls IV: Oblivion', 'The Elder Scrolls Online',\n",
       "       'The Elder Scrolls V: Skyrim', 'The Forest',\n",
       "       'The Jackbox Party Pack 3', 'The Jackbox Party Pack 4',\n",
       "       'The Jackbox Party Pack 5', 'The Joy of Creation',\n",
       "       'The King of Fighters All Star', 'The Last of Us',\n",
       "       'The Legend of Zelda: A Link to the Past',\n",
       "       'The Legend of Zelda: Breath of the Wild',\n",
       "       \"The Legend of Zelda: Link's Awakening DX\",\n",
       "       \"The Legend of Zelda: Majora's Mask\",\n",
       "       'The Legend of Zelda: Ocarina of Time',\n",
       "       'The Legend of Zelda: Skyward Sword',\n",
       "       'The Lord of the Rings Online', 'The Sims 4', 'The Witcher',\n",
       "       'The Witcher 3: Wild Hunt', 'They Are Billions', 'Tibia',\n",
       "       'Titanfall 2', \"Tom Clancy's Rainbow Six: Siege\",\n",
       "       \"Tom Clancy's The Division 2\", 'Total War: Three Kingdoms',\n",
       "       'Total War: Warhammer II', 'Tower Unite', 'TrackMania² Stadium',\n",
       "       'Transference', 'Travel & Outdoors', 'Trials Rising',\n",
       "       'Trover Saves the Universe', 'Twitch Plays', 'Twitch Sings',\n",
       "       \"Uncharted 4: A Thief's End\", 'Under Night In-Birth Exe:Late[st]',\n",
       "       'Use Your Words', 'VRChat', 'Vampire: The Masquerade', 'Visage',\n",
       "       'Void Bastards', 'WWE 2K19', 'Warcraft III: Reign of Chaos',\n",
       "       'Warcraft III: The Frozen Throne', 'Warface', 'Warframe',\n",
       "       'Warhammer: Chaosbane', 'Welcome to the Game II', 'World War Z',\n",
       "       'World of Tanks', 'World of Warcraft', 'World of Warships',\n",
       "       'Worms W.M.D', 'Wrestling', 'XERA: Survival', 'Yakuza 0',\n",
       "       'Yakuza Kiwami 2', 'Yu-Gi-Oh! Duel Links',\n",
       "       'Yu-Gi-Oh! Legacy of the Duelist', 'Yu-Gi-Oh! TRADING CARD GAME',\n",
       "       'iRacing.com', 'osu!', 'skribbl.io', 'theHunter: Call of the Wild'],\n",
       "      dtype=object)"
      ]
     },
     "execution_count": 51,
     "metadata": {},
     "output_type": "execute_result"
    }
   ],
   "source": [
    "iids_game_to_predict"
   ]
  },
  {
   "cell_type": "markdown",
   "metadata": {},
   "source": [
    "Making a personal testset for the user, populating same base rating as true since the actuals are not known and we are trying to predict the expected rating:"
   ]
  },
  {
   "cell_type": "code",
   "execution_count": 222,
   "metadata": {},
   "outputs": [],
   "source": [
    "genre_testset_personal = [[streamer_name, iid, 0.] for iid in iids_genre_to_predict]\n",
    "game_testset_personal = [[streamer_name, iid, 0.] for iid in iids_game_to_predict]"
   ]
  },
  {
   "cell_type": "markdown",
   "metadata": {},
   "source": [
    "Producing a list of predictions based on the inputs:"
   ]
  },
  {
   "cell_type": "code",
   "execution_count": 225,
   "metadata": {},
   "outputs": [],
   "source": [
    "personal_genre_predictions = algo_genre.test(genre_testset_personal)\n",
    "personal_game_predictions = algo_games.test(game_testset_personal)"
   ]
  },
  {
   "cell_type": "code",
   "execution_count": 234,
   "metadata": {
    "scrolled": true
   },
   "outputs": [],
   "source": [
    "personal_genre_df = pd.DataFrame(personal_genre_predictions, columns=['uid', 'iid', 'rui', 'est', 'details'])    "
   ]
  },
  {
   "cell_type": "code",
   "execution_count": 233,
   "metadata": {},
   "outputs": [],
   "source": [
    "personal_genre_pred = personal_genre_df[['iid', 'est']]"
   ]
  },
  {
   "cell_type": "code",
   "execution_count": 235,
   "metadata": {},
   "outputs": [],
   "source": [
    "personal_game_df = pd.DataFrame(personal_game_predictions, columns=['uid', 'iid', 'rui', 'est', 'details'])    "
   ]
  },
  {
   "cell_type": "code",
   "execution_count": 236,
   "metadata": {},
   "outputs": [],
   "source": [
    "personal_game_pred = personal_genre_df[['iid', 'est']]"
   ]
  },
  {
   "cell_type": "code",
   "execution_count": 237,
   "metadata": {},
   "outputs": [],
   "source": [
    "top_n_genres = get_top_n(genre_predictions)\n",
    "top_n_games = get_top_n(game_predictions)"
   ]
  },
  {
   "cell_type": "code",
   "execution_count": 238,
   "metadata": {},
   "outputs": [
    {
     "data": {
      "text/plain": [
       "defaultdict(list,\n",
       "            {'Ninja': [('Hidden Objects', 3.3662984761001553),\n",
       "              ('Gambling Game', 2.485279957581637),\n",
       "              ('Driving/Racing Game', 2.074400611260335),\n",
       "              ('Visual Novel', 2.0662984761001555),\n",
       "              ('Flight Simulator', 2.032965142766822),\n",
       "              ('Creative', 2.0244588217737034),\n",
       "              ('Simulation', 2.002190288611624),\n",
       "              ('Sports Game', 1.9230060172042245),\n",
       "              ('Other', 1.9129250126203088),\n",
       "              ('Rhythm & Music Game', 1.9057413327389472)]})"
      ]
     },
     "execution_count": 238,
     "metadata": {},
     "output_type": "execute_result"
    }
   ],
   "source": [
    "top_n_genres"
   ]
  },
  {
   "cell_type": "code",
   "execution_count": 239,
   "metadata": {},
   "outputs": [
    {
     "data": {
      "text/plain": [
       "defaultdict(list,\n",
       "            {'Ninja': [(\"Don't Starve Together\", 3.724568448679777),\n",
       "              ('Visage', 3.715993292343966),\n",
       "              ('Hollow Knight', 3.6960702010365023),\n",
       "              ('The Jackbox Party Pack 3', 3.6805546202429182),\n",
       "              ('Minecraft', 3.6799964801474587),\n",
       "              ('The Elder Scrolls IV: Oblivion', 3.674633065883794),\n",
       "              ('Silent Hill', 3.6573610845932816),\n",
       "              ('Rocket League', 3.646182971664347),\n",
       "              ('Diablo', 3.6426478761692964),\n",
       "              ('Trials Rising', 3.639944942411428)]})"
      ]
     },
     "execution_count": 239,
     "metadata": {},
     "output_type": "execute_result"
    }
   ],
   "source": [
    "top_n_games"
   ]
  },
  {
   "cell_type": "code",
   "execution_count": 240,
   "metadata": {},
   "outputs": [
    {
     "name": "stdout",
     "output_type": "stream",
     "text": [
      "For Ninja, the recommended genres are:['Hidden Objects', 'Gambling Game', 'Driving/Racing Game', 'Visual Novel', 'Flight Simulator', 'Creative', 'Simulation', 'Sports Game', 'Other', 'Rhythm & Music Game']\n"
     ]
    }
   ],
   "source": [
    "for uid, user_ratings in top_n_genres.items():\n",
    "    print('For ' + uid + ', the recommended genres are:'+ str([iid for (iid, _) in user_ratings]))\n",
    "genre_user_based_list = [iid for (iid, _) in user_ratings]"
   ]
  },
  {
   "cell_type": "code",
   "execution_count": 241,
   "metadata": {},
   "outputs": [
    {
     "name": "stdout",
     "output_type": "stream",
     "text": [
      "For Ninja, the recommended games are:[\"Don't Starve Together\", 'Visage', 'Hollow Knight', 'The Jackbox Party Pack 3', 'Minecraft', 'The Elder Scrolls IV: Oblivion', 'Silent Hill', 'Rocket League', 'Diablo', 'Trials Rising']\n"
     ]
    }
   ],
   "source": [
    "for uid, user_ratings in top_n_games.items():\n",
    "    print('For ' + uid + ', the recommended games are:'+ str([iid for (iid, _) in user_ratings]))"
   ]
  },
  {
   "cell_type": "code",
   "execution_count": 242,
   "metadata": {},
   "outputs": [
    {
     "data": {
      "text/plain": [
       "[\"Don't Starve Together\",\n",
       " 'Visage',\n",
       " 'Hollow Knight',\n",
       " 'The Jackbox Party Pack 3',\n",
       " 'Minecraft',\n",
       " 'The Elder Scrolls IV: Oblivion',\n",
       " 'Silent Hill',\n",
       " 'Rocket League',\n",
       " 'Diablo',\n",
       " 'Trials Rising']"
      ]
     },
     "execution_count": 242,
     "metadata": {},
     "output_type": "execute_result"
    }
   ],
   "source": [
    "game_user_based_list = [iid for (iid, _) in user_ratings]\n",
    "game_user_based_list"
   ]
  },
  {
   "cell_type": "markdown",
   "metadata": {},
   "source": [
    "#### Predicting Similar Genres Based on Current Genre/Game (item-based similarity) #### "
   ]
  },
  {
   "cell_type": "code",
   "execution_count": 59,
   "metadata": {},
   "outputs": [],
   "source": [
    "from surprise import KNNBaseline\n",
    "from surprise import Dataset\n",
    "from surprise import get_dataset_dir"
   ]
  },
  {
   "cell_type": "code",
   "execution_count": 60,
   "metadata": {
    "scrolled": true
   },
   "outputs": [],
   "source": [
    "genre_group = grid_new.groupby(by = ['game_genres', 'user_name'])['scaled_score'].agg([np.mean])\n",
    "game_group = grid_new.groupby(by = ['game_name', 'user_name'])['scaled_score'].agg([np.mean])"
   ]
  },
  {
   "cell_type": "code",
   "execution_count": 61,
   "metadata": {},
   "outputs": [],
   "source": [
    "genre_group = genre_group.reset_index()\n",
    "game_group = game_group.reset_index()"
   ]
  },
  {
   "cell_type": "code",
   "execution_count": 57,
   "metadata": {},
   "outputs": [],
   "source": [
    "pickle.dump(genre_group, open(\"./Data/genre_group.pkl\", \"wb\" ) )\n",
    "genre_group = pickle.load( open( \"./Data/genre_group.pkl\", \"rb\" ) )\n",
    "\n",
    "pickle.dump(game_group, open(\"./Data/game_group.pkl\", \"wb\" ) )\n",
    "game_group = pickle.load( open( \"./Data/game_group.pkl\", \"rb\" ) )"
   ]
  },
  {
   "cell_type": "code",
   "execution_count": 27,
   "metadata": {},
   "outputs": [],
   "source": [
    "genre_group = pickle.load( open( \"./Data/genre_group.pkl\", \"rb\" ) )\n",
    "reader = Reader(rating_scale=(1, 5))\n",
    "genre_data = Dataset.load_from_df(genre_group[['user_name', 'game_genres', 'mean']], reader)\n",
    "\n",
    "game_group = pickle.load( open( \"./Data/game_group.pkl\", \"rb\" ) )\n",
    "reader = Reader(rating_scale=(1, 5))\n",
    "game_data = Dataset.load_from_df(game_group[['user_name', 'game_name', 'mean']], reader)"
   ]
  },
  {
   "cell_type": "markdown",
   "metadata": {},
   "source": [
    "We're using the KNNBaseline algorithm to choose the genres and games with the highest similarity to those already streamed, as it was the fastest of the KNN algorithms available and can be quickly used in the app to make on the spot predictions. We now perform the grid search to find the optimal parameters and then use those algorithms on our data."
   ]
  },
  {
   "cell_type": "code",
   "execution_count": 158,
   "metadata": {},
   "outputs": [
    {
     "name": "stdout",
     "output_type": "stream",
     "text": [
      "Grid Search...\n",
      "Estimating biases using als...\n",
      "Computing the msd similarity matrix...\n",
      "Done computing similarity matrix.\n",
      "Estimating biases using als...\n",
      "Computing the msd similarity matrix...\n",
      "Done computing similarity matrix.\n",
      "Estimating biases using als...\n",
      "Computing the msd similarity matrix...\n",
      "Done computing similarity matrix.\n",
      "Estimating biases using als...\n",
      "Computing the msd similarity matrix...\n",
      "Done computing similarity matrix.\n",
      "Estimating biases using als...\n",
      "Computing the msd similarity matrix...\n",
      "Done computing similarity matrix.\n",
      "Estimating biases using als...\n",
      "Computing the msd similarity matrix...\n",
      "Done computing similarity matrix.\n",
      "Estimating biases using als...\n",
      "Computing the cosine similarity matrix...\n",
      "Done computing similarity matrix.\n",
      "Estimating biases using als...\n",
      "Computing the cosine similarity matrix...\n",
      "Done computing similarity matrix.\n",
      "Estimating biases using als...\n",
      "Computing the cosine similarity matrix...\n",
      "Done computing similarity matrix.\n",
      "Estimating biases using als...\n",
      "Computing the cosine similarity matrix...\n",
      "Done computing similarity matrix.\n",
      "Estimating biases using als...\n",
      "Computing the cosine similarity matrix...\n",
      "Done computing similarity matrix.\n",
      "Estimating biases using als...\n",
      "Computing the cosine similarity matrix...\n",
      "Done computing similarity matrix.\n",
      "Estimating biases using als...\n",
      "Computing the msd similarity matrix...\n",
      "Done computing similarity matrix.\n",
      "Estimating biases using als...\n",
      "Computing the msd similarity matrix...\n",
      "Done computing similarity matrix.\n",
      "Estimating biases using als...\n",
      "Computing the msd similarity matrix...\n",
      "Done computing similarity matrix.\n",
      "Estimating biases using als...\n",
      "Computing the msd similarity matrix...\n",
      "Done computing similarity matrix.\n",
      "Estimating biases using als...\n",
      "Computing the msd similarity matrix...\n",
      "Done computing similarity matrix.\n",
      "Estimating biases using als...\n",
      "Computing the msd similarity matrix...\n",
      "Done computing similarity matrix.\n",
      "Estimating biases using als...\n",
      "Computing the cosine similarity matrix...\n",
      "Done computing similarity matrix.\n",
      "Estimating biases using als...\n",
      "Computing the cosine similarity matrix...\n",
      "Done computing similarity matrix.\n",
      "Estimating biases using als...\n",
      "Computing the cosine similarity matrix...\n",
      "Done computing similarity matrix.\n",
      "Estimating biases using als...\n",
      "Computing the cosine similarity matrix...\n",
      "Done computing similarity matrix.\n",
      "Estimating biases using als...\n",
      "Computing the cosine similarity matrix...\n",
      "Done computing similarity matrix.\n",
      "Estimating biases using als...\n",
      "Computing the cosine similarity matrix...\n",
      "Done computing similarity matrix.\n",
      "Estimating biases using als...\n",
      "Computing the msd similarity matrix...\n",
      "Done computing similarity matrix.\n",
      "Estimating biases using als...\n",
      "Computing the msd similarity matrix...\n",
      "Done computing similarity matrix.\n",
      "Estimating biases using als...\n",
      "Computing the msd similarity matrix...\n",
      "Done computing similarity matrix.\n",
      "Estimating biases using als...\n",
      "Computing the msd similarity matrix...\n",
      "Done computing similarity matrix.\n",
      "Estimating biases using als...\n",
      "Computing the msd similarity matrix...\n",
      "Done computing similarity matrix.\n",
      "Estimating biases using als...\n",
      "Computing the msd similarity matrix...\n",
      "Done computing similarity matrix.\n",
      "Estimating biases using als...\n",
      "Computing the cosine similarity matrix...\n",
      "Done computing similarity matrix.\n",
      "Estimating biases using als...\n",
      "Computing the cosine similarity matrix...\n",
      "Done computing similarity matrix.\n",
      "Estimating biases using als...\n",
      "Computing the cosine similarity matrix...\n",
      "Done computing similarity matrix.\n",
      "Estimating biases using als...\n",
      "Computing the cosine similarity matrix...\n",
      "Done computing similarity matrix.\n",
      "Estimating biases using als...\n",
      "Computing the cosine similarity matrix...\n",
      "Done computing similarity matrix.\n",
      "Estimating biases using als...\n",
      "Computing the cosine similarity matrix...\n",
      "Done computing similarity matrix.\n",
      "Estimating biases using als...\n",
      "Computing the msd similarity matrix...\n",
      "Done computing similarity matrix.\n",
      "Estimating biases using als...\n",
      "Computing the msd similarity matrix...\n",
      "Done computing similarity matrix.\n",
      "Estimating biases using als...\n",
      "Computing the msd similarity matrix...\n",
      "Done computing similarity matrix.\n",
      "Estimating biases using als...\n",
      "Computing the msd similarity matrix...\n",
      "Done computing similarity matrix.\n",
      "Estimating biases using als...\n",
      "Computing the msd similarity matrix...\n",
      "Done computing similarity matrix.\n",
      "Estimating biases using als...\n",
      "Computing the msd similarity matrix...\n",
      "Done computing similarity matrix.\n",
      "Estimating biases using als...\n",
      "Computing the cosine similarity matrix...\n",
      "Done computing similarity matrix.\n",
      "Estimating biases using als...\n",
      "Computing the cosine similarity matrix...\n",
      "Done computing similarity matrix.\n",
      "Estimating biases using als...\n",
      "Computing the cosine similarity matrix...\n",
      "Done computing similarity matrix.\n",
      "Estimating biases using als...\n",
      "Computing the cosine similarity matrix...\n",
      "Done computing similarity matrix.\n",
      "Estimating biases using als...\n",
      "Computing the cosine similarity matrix...\n",
      "Done computing similarity matrix.\n",
      "Estimating biases using als...\n",
      "Computing the cosine similarity matrix...\n",
      "Done computing similarity matrix.\n",
      "Estimating biases using sgd...\n",
      "Computing the msd similarity matrix...\n",
      "Done computing similarity matrix.\n",
      "Estimating biases using sgd...\n",
      "Computing the msd similarity matrix...\n",
      "Done computing similarity matrix.\n",
      "Estimating biases using sgd...\n",
      "Computing the msd similarity matrix...\n",
      "Done computing similarity matrix.\n",
      "Estimating biases using sgd...\n",
      "Computing the msd similarity matrix...\n",
      "Done computing similarity matrix.\n",
      "Estimating biases using sgd...\n",
      "Computing the msd similarity matrix...\n",
      "Done computing similarity matrix.\n",
      "Estimating biases using sgd...\n",
      "Computing the msd similarity matrix...\n",
      "Done computing similarity matrix.\n",
      "Estimating biases using sgd...\n",
      "Computing the cosine similarity matrix...\n",
      "Done computing similarity matrix.\n",
      "Estimating biases using sgd...\n",
      "Computing the cosine similarity matrix...\n",
      "Done computing similarity matrix.\n",
      "Estimating biases using sgd...\n",
      "Computing the cosine similarity matrix...\n",
      "Done computing similarity matrix.\n",
      "Estimating biases using sgd...\n",
      "Computing the cosine similarity matrix...\n",
      "Done computing similarity matrix.\n",
      "Estimating biases using sgd...\n",
      "Computing the cosine similarity matrix...\n",
      "Done computing similarity matrix.\n",
      "Estimating biases using sgd...\n",
      "Computing the cosine similarity matrix...\n",
      "Done computing similarity matrix.\n",
      "Estimating biases using sgd...\n",
      "Computing the msd similarity matrix...\n",
      "Done computing similarity matrix.\n",
      "Estimating biases using sgd...\n",
      "Computing the msd similarity matrix...\n",
      "Done computing similarity matrix.\n",
      "Estimating biases using sgd...\n",
      "Computing the msd similarity matrix...\n",
      "Done computing similarity matrix.\n",
      "Estimating biases using sgd...\n",
      "Computing the msd similarity matrix...\n",
      "Done computing similarity matrix.\n",
      "Estimating biases using sgd...\n",
      "Computing the msd similarity matrix...\n",
      "Done computing similarity matrix.\n",
      "Estimating biases using sgd...\n",
      "Computing the msd similarity matrix...\n",
      "Done computing similarity matrix.\n",
      "Estimating biases using sgd...\n",
      "Computing the cosine similarity matrix...\n",
      "Done computing similarity matrix.\n",
      "Estimating biases using sgd...\n",
      "Computing the cosine similarity matrix...\n",
      "Done computing similarity matrix.\n",
      "Estimating biases using sgd...\n",
      "Computing the cosine similarity matrix...\n",
      "Done computing similarity matrix.\n",
      "Estimating biases using sgd...\n",
      "Computing the cosine similarity matrix...\n",
      "Done computing similarity matrix.\n",
      "Estimating biases using sgd...\n",
      "Computing the cosine similarity matrix...\n",
      "Done computing similarity matrix.\n",
      "Estimating biases using sgd...\n",
      "Computing the cosine similarity matrix...\n",
      "Done computing similarity matrix.\n",
      "Estimating biases using sgd...\n",
      "Computing the msd similarity matrix...\n",
      "Done computing similarity matrix.\n",
      "Estimating biases using sgd...\n",
      "Computing the msd similarity matrix...\n",
      "Done computing similarity matrix.\n",
      "Estimating biases using sgd...\n",
      "Computing the msd similarity matrix...\n",
      "Done computing similarity matrix.\n",
      "Estimating biases using sgd...\n",
      "Computing the msd similarity matrix...\n",
      "Done computing similarity matrix.\n",
      "Estimating biases using sgd...\n",
      "Computing the msd similarity matrix...\n",
      "Done computing similarity matrix.\n",
      "Estimating biases using sgd...\n",
      "Computing the msd similarity matrix...\n",
      "Done computing similarity matrix.\n"
     ]
    },
    {
     "name": "stdout",
     "output_type": "stream",
     "text": [
      "Estimating biases using sgd...\n",
      "Computing the cosine similarity matrix...\n",
      "Done computing similarity matrix.\n",
      "Estimating biases using sgd...\n",
      "Computing the cosine similarity matrix...\n",
      "Done computing similarity matrix.\n",
      "Estimating biases using sgd...\n",
      "Computing the cosine similarity matrix...\n",
      "Done computing similarity matrix.\n",
      "Estimating biases using sgd...\n",
      "Computing the cosine similarity matrix...\n",
      "Done computing similarity matrix.\n",
      "Estimating biases using sgd...\n",
      "Computing the cosine similarity matrix...\n",
      "Done computing similarity matrix.\n",
      "Estimating biases using sgd...\n",
      "Computing the cosine similarity matrix...\n",
      "Done computing similarity matrix.\n",
      "Estimating biases using sgd...\n",
      "Computing the msd similarity matrix...\n",
      "Done computing similarity matrix.\n",
      "Estimating biases using sgd...\n",
      "Computing the msd similarity matrix...\n",
      "Done computing similarity matrix.\n",
      "Estimating biases using sgd...\n",
      "Computing the msd similarity matrix...\n",
      "Done computing similarity matrix.\n",
      "Estimating biases using sgd...\n",
      "Computing the msd similarity matrix...\n",
      "Done computing similarity matrix.\n",
      "Estimating biases using sgd...\n",
      "Computing the msd similarity matrix...\n",
      "Done computing similarity matrix.\n",
      "Estimating biases using sgd...\n",
      "Computing the msd similarity matrix...\n",
      "Done computing similarity matrix.\n",
      "Estimating biases using sgd...\n",
      "Computing the cosine similarity matrix...\n",
      "Done computing similarity matrix.\n",
      "Estimating biases using sgd...\n",
      "Computing the cosine similarity matrix...\n",
      "Done computing similarity matrix.\n",
      "Estimating biases using sgd...\n",
      "Computing the cosine similarity matrix...\n",
      "Done computing similarity matrix.\n",
      "Estimating biases using sgd...\n",
      "Computing the cosine similarity matrix...\n",
      "Done computing similarity matrix.\n",
      "Estimating biases using sgd...\n",
      "Computing the cosine similarity matrix...\n",
      "Done computing similarity matrix.\n",
      "Estimating biases using sgd...\n",
      "Computing the cosine similarity matrix...\n",
      "Done computing similarity matrix.\n",
      "Estimating biases using als...\n",
      "Computing the msd similarity matrix...\n",
      "Done computing similarity matrix.\n",
      "Biased accuracy on A,   RMSE: 0.1849\n",
      "Unbiased accuracy on B, RMSE: 0.5818\n"
     ]
    },
    {
     "data": {
      "text/plain": [
       "0.5817957159484195"
      ]
     },
     "execution_count": 158,
     "metadata": {},
     "output_type": "execute_result"
    }
   ],
   "source": [
    "import random\n",
    "\n",
    "from surprise.model_selection import GridSearchCV\n",
    "\n",
    "\n",
    "# Load the full dataset.\n",
    "data = genre_data\n",
    "raw_ratings = data.raw_ratings\n",
    "\n",
    "# shuffle ratings if you want\n",
    "random.shuffle(raw_ratings)\n",
    "\n",
    "# A = 90% of the data, B = 10% of the data\n",
    "threshold = int(.9 * len(raw_ratings))\n",
    "A_raw_ratings = raw_ratings[:threshold]\n",
    "B_raw_ratings = raw_ratings[threshold:]\n",
    "\n",
    "data.raw_ratings = A_raw_ratings  # data is now the set A\n",
    "\n",
    "# Select your best algo with grid search.\n",
    "print('Grid Search...')\n",
    "param_grid = {'bsl_options': {'method': ['als', 'sgd'],\n",
    "                              'reg': [1, 2]},\n",
    "              'k': [2,3],\n",
    "              'sim_options': {'name': ['msd', 'cosine'],\n",
    "                              'min_support': [1, 5],\n",
    "                              'user_based': [False]}\n",
    "              }\n",
    "grid_search = GridSearchCV(KNNBaseline, param_grid, measures=['rmse'], cv=3)\n",
    "grid_search.fit(data)\n",
    "\n",
    "KNN_genre_algo = grid_search.best_estimator['rmse']\n",
    "\n",
    "# retrain on the whole set A\n",
    "trainset = data.build_full_trainset()\n",
    "KNN_genre_algo.fit(trainset)\n",
    "\n",
    "# Compute biased accuracy on A\n",
    "predictions = KNN_genre_algo.test(trainset.build_testset())\n",
    "print('Biased accuracy on A,', end='   ')\n",
    "accuracy.rmse(predictions)\n",
    "\n",
    "# Compute unbiased accuracy on B\n",
    "testset = data.construct_testset(B_raw_ratings)  # testset is now the set B\n",
    "genre_predictions = KNN_genre_algo.test(testset)\n",
    "print('Unbiased accuracy on B,', end=' ')\n",
    "accuracy.rmse(genre_predictions)\n"
   ]
  },
  {
   "cell_type": "code",
   "execution_count": 75,
   "metadata": {},
   "outputs": [
    {
     "name": "stdout",
     "output_type": "stream",
     "text": [
      "Grid Search...\n",
      "Estimating biases using als...\n",
      "Computing the msd similarity matrix...\n",
      "Done computing similarity matrix.\n",
      "Estimating biases using als...\n",
      "Computing the msd similarity matrix...\n",
      "Done computing similarity matrix.\n",
      "Estimating biases using als...\n",
      "Computing the msd similarity matrix...\n",
      "Done computing similarity matrix.\n",
      "Estimating biases using als...\n",
      "Computing the msd similarity matrix...\n",
      "Done computing similarity matrix.\n",
      "Estimating biases using als...\n",
      "Computing the msd similarity matrix...\n",
      "Done computing similarity matrix.\n",
      "Estimating biases using als...\n",
      "Computing the msd similarity matrix...\n",
      "Done computing similarity matrix.\n",
      "Estimating biases using als...\n",
      "Computing the cosine similarity matrix...\n",
      "Done computing similarity matrix.\n",
      "Estimating biases using als...\n",
      "Computing the cosine similarity matrix...\n",
      "Done computing similarity matrix.\n",
      "Estimating biases using als...\n",
      "Computing the cosine similarity matrix...\n",
      "Done computing similarity matrix.\n",
      "Estimating biases using als...\n",
      "Computing the cosine similarity matrix...\n",
      "Done computing similarity matrix.\n",
      "Estimating biases using als...\n",
      "Computing the cosine similarity matrix...\n",
      "Done computing similarity matrix.\n",
      "Estimating biases using als...\n",
      "Computing the cosine similarity matrix...\n",
      "Done computing similarity matrix.\n",
      "Estimating biases using als...\n",
      "Computing the msd similarity matrix...\n",
      "Done computing similarity matrix.\n",
      "Estimating biases using als...\n",
      "Computing the msd similarity matrix...\n",
      "Done computing similarity matrix.\n",
      "Estimating biases using als...\n",
      "Computing the msd similarity matrix...\n",
      "Done computing similarity matrix.\n",
      "Estimating biases using als...\n",
      "Computing the msd similarity matrix...\n",
      "Done computing similarity matrix.\n",
      "Estimating biases using als...\n",
      "Computing the msd similarity matrix...\n",
      "Done computing similarity matrix.\n",
      "Estimating biases using als...\n",
      "Computing the msd similarity matrix...\n",
      "Done computing similarity matrix.\n",
      "Estimating biases using als...\n",
      "Computing the cosine similarity matrix...\n",
      "Done computing similarity matrix.\n",
      "Estimating biases using als...\n",
      "Computing the cosine similarity matrix...\n",
      "Done computing similarity matrix.\n",
      "Estimating biases using als...\n",
      "Computing the cosine similarity matrix...\n",
      "Done computing similarity matrix.\n",
      "Estimating biases using als...\n",
      "Computing the cosine similarity matrix...\n",
      "Done computing similarity matrix.\n",
      "Estimating biases using als...\n",
      "Computing the cosine similarity matrix...\n",
      "Done computing similarity matrix.\n",
      "Estimating biases using als...\n",
      "Computing the cosine similarity matrix...\n",
      "Done computing similarity matrix.\n",
      "Estimating biases using als...\n",
      "Computing the msd similarity matrix...\n",
      "Done computing similarity matrix.\n",
      "Estimating biases using als...\n",
      "Computing the msd similarity matrix...\n",
      "Done computing similarity matrix.\n",
      "Estimating biases using als...\n",
      "Computing the msd similarity matrix...\n",
      "Done computing similarity matrix.\n",
      "Estimating biases using als...\n",
      "Computing the msd similarity matrix...\n",
      "Done computing similarity matrix.\n",
      "Estimating biases using als...\n",
      "Computing the msd similarity matrix...\n",
      "Done computing similarity matrix.\n",
      "Estimating biases using als...\n",
      "Computing the msd similarity matrix...\n",
      "Done computing similarity matrix.\n",
      "Estimating biases using als...\n",
      "Computing the cosine similarity matrix...\n",
      "Done computing similarity matrix.\n",
      "Estimating biases using als...\n",
      "Computing the cosine similarity matrix...\n",
      "Done computing similarity matrix.\n",
      "Estimating biases using als...\n",
      "Computing the cosine similarity matrix...\n",
      "Done computing similarity matrix.\n",
      "Estimating biases using als...\n",
      "Computing the cosine similarity matrix...\n",
      "Done computing similarity matrix.\n",
      "Estimating biases using als...\n",
      "Computing the cosine similarity matrix...\n",
      "Done computing similarity matrix.\n",
      "Estimating biases using als...\n",
      "Computing the cosine similarity matrix...\n",
      "Done computing similarity matrix.\n",
      "Estimating biases using als...\n",
      "Computing the msd similarity matrix...\n",
      "Done computing similarity matrix.\n",
      "Estimating biases using als...\n",
      "Computing the msd similarity matrix...\n",
      "Done computing similarity matrix.\n",
      "Estimating biases using als...\n",
      "Computing the msd similarity matrix...\n",
      "Done computing similarity matrix.\n",
      "Estimating biases using als...\n",
      "Computing the msd similarity matrix...\n",
      "Done computing similarity matrix.\n",
      "Estimating biases using als...\n",
      "Computing the msd similarity matrix...\n",
      "Done computing similarity matrix.\n",
      "Estimating biases using als...\n",
      "Computing the msd similarity matrix...\n",
      "Done computing similarity matrix.\n",
      "Estimating biases using als...\n",
      "Computing the cosine similarity matrix...\n",
      "Done computing similarity matrix.\n",
      "Estimating biases using als...\n",
      "Computing the cosine similarity matrix...\n",
      "Done computing similarity matrix.\n",
      "Estimating biases using als...\n",
      "Computing the cosine similarity matrix...\n",
      "Done computing similarity matrix.\n",
      "Estimating biases using als...\n",
      "Computing the cosine similarity matrix...\n",
      "Done computing similarity matrix.\n",
      "Estimating biases using als...\n",
      "Computing the cosine similarity matrix...\n",
      "Done computing similarity matrix.\n",
      "Estimating biases using als...\n",
      "Computing the cosine similarity matrix...\n",
      "Done computing similarity matrix.\n",
      "Estimating biases using sgd...\n",
      "Computing the msd similarity matrix...\n",
      "Done computing similarity matrix.\n",
      "Estimating biases using sgd...\n",
      "Computing the msd similarity matrix...\n",
      "Done computing similarity matrix.\n",
      "Estimating biases using sgd...\n",
      "Computing the msd similarity matrix...\n",
      "Done computing similarity matrix.\n",
      "Estimating biases using sgd...\n",
      "Computing the msd similarity matrix...\n",
      "Done computing similarity matrix.\n",
      "Estimating biases using sgd...\n",
      "Computing the msd similarity matrix...\n",
      "Done computing similarity matrix.\n",
      "Estimating biases using sgd...\n",
      "Computing the msd similarity matrix...\n",
      "Done computing similarity matrix.\n",
      "Estimating biases using sgd...\n",
      "Computing the cosine similarity matrix...\n",
      "Done computing similarity matrix.\n",
      "Estimating biases using sgd...\n",
      "Computing the cosine similarity matrix...\n",
      "Done computing similarity matrix.\n",
      "Estimating biases using sgd...\n",
      "Computing the cosine similarity matrix...\n",
      "Done computing similarity matrix.\n",
      "Estimating biases using sgd...\n",
      "Computing the cosine similarity matrix...\n",
      "Done computing similarity matrix.\n",
      "Estimating biases using sgd...\n",
      "Computing the cosine similarity matrix...\n",
      "Done computing similarity matrix.\n",
      "Estimating biases using sgd...\n",
      "Computing the cosine similarity matrix...\n",
      "Done computing similarity matrix.\n",
      "Estimating biases using sgd...\n",
      "Computing the msd similarity matrix...\n",
      "Done computing similarity matrix.\n",
      "Estimating biases using sgd...\n",
      "Computing the msd similarity matrix...\n",
      "Done computing similarity matrix.\n",
      "Estimating biases using sgd...\n",
      "Computing the msd similarity matrix...\n",
      "Done computing similarity matrix.\n",
      "Estimating biases using sgd...\n",
      "Computing the msd similarity matrix...\n",
      "Done computing similarity matrix.\n",
      "Estimating biases using sgd...\n",
      "Computing the msd similarity matrix...\n",
      "Done computing similarity matrix.\n",
      "Estimating biases using sgd...\n",
      "Computing the msd similarity matrix...\n",
      "Done computing similarity matrix.\n",
      "Estimating biases using sgd...\n",
      "Computing the cosine similarity matrix...\n",
      "Done computing similarity matrix.\n",
      "Estimating biases using sgd...\n",
      "Computing the cosine similarity matrix...\n",
      "Done computing similarity matrix.\n",
      "Estimating biases using sgd...\n",
      "Computing the cosine similarity matrix...\n",
      "Done computing similarity matrix.\n",
      "Estimating biases using sgd...\n",
      "Computing the cosine similarity matrix...\n",
      "Done computing similarity matrix.\n",
      "Estimating biases using sgd...\n",
      "Computing the cosine similarity matrix...\n",
      "Done computing similarity matrix.\n",
      "Estimating biases using sgd...\n",
      "Computing the cosine similarity matrix...\n",
      "Done computing similarity matrix.\n",
      "Estimating biases using sgd...\n",
      "Computing the msd similarity matrix...\n",
      "Done computing similarity matrix.\n",
      "Estimating biases using sgd...\n",
      "Computing the msd similarity matrix...\n",
      "Done computing similarity matrix.\n",
      "Estimating biases using sgd...\n",
      "Computing the msd similarity matrix...\n",
      "Done computing similarity matrix.\n",
      "Estimating biases using sgd...\n",
      "Computing the msd similarity matrix...\n",
      "Done computing similarity matrix.\n",
      "Estimating biases using sgd...\n",
      "Computing the msd similarity matrix...\n",
      "Done computing similarity matrix.\n",
      "Estimating biases using sgd...\n",
      "Computing the msd similarity matrix...\n",
      "Done computing similarity matrix.\n"
     ]
    },
    {
     "name": "stdout",
     "output_type": "stream",
     "text": [
      "Estimating biases using sgd...\n",
      "Computing the cosine similarity matrix...\n",
      "Done computing similarity matrix.\n",
      "Estimating biases using sgd...\n",
      "Computing the cosine similarity matrix...\n",
      "Done computing similarity matrix.\n",
      "Estimating biases using sgd...\n",
      "Computing the cosine similarity matrix...\n",
      "Done computing similarity matrix.\n",
      "Estimating biases using sgd...\n",
      "Computing the cosine similarity matrix...\n",
      "Done computing similarity matrix.\n",
      "Estimating biases using sgd...\n",
      "Computing the cosine similarity matrix...\n",
      "Done computing similarity matrix.\n",
      "Estimating biases using sgd...\n",
      "Computing the cosine similarity matrix...\n",
      "Done computing similarity matrix.\n",
      "Estimating biases using sgd...\n",
      "Computing the msd similarity matrix...\n",
      "Done computing similarity matrix.\n",
      "Estimating biases using sgd...\n",
      "Computing the msd similarity matrix...\n",
      "Done computing similarity matrix.\n",
      "Estimating biases using sgd...\n",
      "Computing the msd similarity matrix...\n",
      "Done computing similarity matrix.\n",
      "Estimating biases using sgd...\n",
      "Computing the msd similarity matrix...\n",
      "Done computing similarity matrix.\n",
      "Estimating biases using sgd...\n",
      "Computing the msd similarity matrix...\n",
      "Done computing similarity matrix.\n",
      "Estimating biases using sgd...\n",
      "Computing the msd similarity matrix...\n",
      "Done computing similarity matrix.\n",
      "Estimating biases using sgd...\n",
      "Computing the cosine similarity matrix...\n",
      "Done computing similarity matrix.\n",
      "Estimating biases using sgd...\n",
      "Computing the cosine similarity matrix...\n",
      "Done computing similarity matrix.\n",
      "Estimating biases using sgd...\n",
      "Computing the cosine similarity matrix...\n",
      "Done computing similarity matrix.\n",
      "Estimating biases using sgd...\n",
      "Computing the cosine similarity matrix...\n",
      "Done computing similarity matrix.\n",
      "Estimating biases using sgd...\n",
      "Computing the cosine similarity matrix...\n",
      "Done computing similarity matrix.\n",
      "Estimating biases using sgd...\n",
      "Computing the cosine similarity matrix...\n",
      "Done computing similarity matrix.\n",
      "Estimating biases using als...\n",
      "Computing the msd similarity matrix...\n",
      "Done computing similarity matrix.\n",
      "Biased accuracy on A,   RMSE: 0.2009\n",
      "Unbiased accuracy on B, RMSE: 0.8911\n"
     ]
    },
    {
     "data": {
      "text/plain": [
       "0.8911290992197087"
      ]
     },
     "execution_count": 75,
     "metadata": {},
     "output_type": "execute_result"
    }
   ],
   "source": [
    "import random\n",
    "\n",
    "from surprise.model_selection import GridSearchCV\n",
    "\n",
    "\n",
    "# Load the full dataset.\n",
    "data = game_data\n",
    "raw_ratings = data.raw_ratings\n",
    "\n",
    "# shuffle ratings if you want\n",
    "random.shuffle(raw_ratings)\n",
    "\n",
    "# A = 90% of the data, B = 10% of the data\n",
    "threshold = int(.9 * len(raw_ratings))\n",
    "A_raw_ratings = raw_ratings[:threshold]\n",
    "B_raw_ratings = raw_ratings[threshold:]\n",
    "\n",
    "data.raw_ratings = A_raw_ratings  # data is now the set A\n",
    "\n",
    "# Select your best algo with grid search.\n",
    "print('Grid Search...')\n",
    "param_grid = {'bsl_options': {'method': ['als', 'sgd'],\n",
    "                              'reg': [1, 2]},\n",
    "              'k': [2, 3],\n",
    "              'sim_options': {'name': ['msd', 'cosine'],\n",
    "                              'min_support': [1, 5],\n",
    "                              'user_based': [False]}\n",
    "              }\n",
    "grid_search = GridSearchCV(KNNBaseline, param_grid, measures=['rmse'], cv=3)\n",
    "grid_search.fit(data)\n",
    "\n",
    "KNN_game_algo = grid_search.best_estimator['rmse']\n",
    "\n",
    "# retrain on the whole set A\n",
    "trainset = data.build_full_trainset()\n",
    "KNN_game_algo.fit(trainset)\n",
    "\n",
    "# Compute biased accuracy on A\n",
    "game_predictions = KNN_game_algo.test(trainset.build_testset())\n",
    "print('Biased accuracy on A,', end='   ')\n",
    "accuracy.rmse(game_predictions)\n",
    "\n",
    "# Compute unbiased accuracy on B\n",
    "testset = data.construct_testset(B_raw_ratings)  # testset is now the set B\n",
    "game_predictions = KNN_game_algo.test(testset)\n",
    "print('Unbiased accuracy on B,', end=' ')\n",
    "accuracy.rmse(game_predictions)\n"
   ]
  },
  {
   "cell_type": "markdown",
   "metadata": {},
   "source": [
    "Now we're going to use the best estimator from the grid search to find the nearest neighbors of the genres and games we received as inputs from the streamers:"
   ]
  },
  {
   "cell_type": "code",
   "execution_count": 184,
   "metadata": {
    "scrolled": false
   },
   "outputs": [
    {
     "name": "stdout",
     "output_type": "stream",
     "text": [
      "Estimating biases using als...\n",
      "Computing the msd similarity matrix...\n",
      "Done computing similarity matrix.\n",
      "RMSE: 0.6572\n"
     ]
    },
    {
     "data": {
      "text/plain": [
       "0.6572131030195313"
      ]
     },
     "execution_count": 184,
     "metadata": {},
     "output_type": "execute_result"
    }
   ],
   "source": [
    "genre_trainset = genre_data.build_full_trainset()\n",
    "genre_testset = genre_trainset.build_anti_testset()\n",
    "final_genre_predictions = KNN_genre_algo.fit(genre_trainset).test(genre_testset)\n",
    "accuracy.rmse(final_genre_predictions)"
   ]
  },
  {
   "cell_type": "code",
   "execution_count": 185,
   "metadata": {},
   "outputs": [
    {
     "name": "stdout",
     "output_type": "stream",
     "text": [
      "Estimating biases using als...\n",
      "Computing the msd similarity matrix...\n",
      "Done computing similarity matrix.\n",
      "RMSE: 0.3009\n"
     ]
    },
    {
     "data": {
      "text/plain": [
       "0.3008986325312816"
      ]
     },
     "execution_count": 185,
     "metadata": {},
     "output_type": "execute_result"
    }
   ],
   "source": [
    "game_trainset = game_data.build_full_trainset()\n",
    "game_testset = game_trainset.build_anti_testset()\n",
    "final_game_predictions = KNN_game_algo.fit(game_trainset).test(game_testset)\n",
    "accuracy.rmse(final_game_predictions)"
   ]
  },
  {
   "cell_type": "markdown",
   "metadata": {},
   "source": [
    "To be able to evaluate the closest neighbors of items, we're going to make a list of every genre and game that needs to be evaluated and predict how similar they are going to be those already streamed by our target person:"
   ]
  },
  {
   "cell_type": "code",
   "execution_count": 186,
   "metadata": {},
   "outputs": [],
   "source": [
    "#produce the list of genres/games needed to be evaluated by converting all the items to their inner ids used by Surprise\n",
    "\n",
    "genre_inner_id_list = []\n",
    "for genre in full_genres:\n",
    "    inner = KNN_genre_algo.trainset.to_inner_iid(genre)\n",
    "    genre_inner_id_list.append(inner)\n",
    "\n",
    "game_inner_id_list = []\n",
    "for game in full_games:\n",
    "    inner = KNN_game_algo.trainset.to_inner_iid(game)\n",
    "    game_inner_id_list.append(inner)"
   ]
  },
  {
   "cell_type": "code",
   "execution_count": 187,
   "metadata": {},
   "outputs": [
    {
     "data": {
      "text/plain": [
       "[11, 0, 17, 3]"
      ]
     },
     "execution_count": 187,
     "metadata": {},
     "output_type": "execute_result"
    }
   ],
   "source": [
    "genre_inner_id_list"
   ]
  },
  {
   "cell_type": "code",
   "execution_count": 188,
   "metadata": {},
   "outputs": [
    {
     "data": {
      "text/plain": [
       "[8, 37, 170]"
      ]
     },
     "execution_count": 188,
     "metadata": {},
     "output_type": "execute_result"
    }
   ],
   "source": [
    "game_inner_id_list"
   ]
  },
  {
   "cell_type": "code",
   "execution_count": 189,
   "metadata": {},
   "outputs": [],
   "source": [
    "# Retrieve inner ids of the nearest neighbors of the game in question.\n",
    "genre_neighbors_list = []\n",
    "for inner in genre_inner_id_list:\n",
    "    genre_neighbors = KNN_genre_algo.get_neighbors(inner, k=3)\n",
    "    genre_neighbors_list.append(genre_neighbors)\n",
    "\n",
    "game_neighbors_list = []\n",
    "for inner in game_inner_id_list:\n",
    "    game_neighbors = KNN_game_algo.get_neighbors(inner, k=3)\n",
    "    game_neighbors_list.append(game_neighbors)"
   ]
  },
  {
   "cell_type": "code",
   "execution_count": 190,
   "metadata": {},
   "outputs": [
    {
     "name": "stdout",
     "output_type": "stream",
     "text": [
      "[[15, 7, 1], [24, 6, 16], [14, 10, 24], [26, 24, 21]]\n",
      "[[17, 35, 39], [89, 72, 144], [0, 1, 2]]\n"
     ]
    }
   ],
   "source": [
    "print(genre_neighbors_list)\n",
    "print(game_neighbors_list)"
   ]
  },
  {
   "cell_type": "code",
   "execution_count": 191,
   "metadata": {},
   "outputs": [],
   "source": [
    "df = pd.DataFrame(final_genre_predictions, columns=['uid', 'iid', 'rui', 'est', 'details'])    "
   ]
  },
  {
   "cell_type": "code",
   "execution_count": 217,
   "metadata": {
    "scrolled": true
   },
   "outputs": [],
   "source": [
    "KNN_reco_genres = df[df['uid']==streamer_name].sort_values('est', ascending = False)[['iid', 'est']]"
   ]
  },
  {
   "cell_type": "code",
   "execution_count": 202,
   "metadata": {},
   "outputs": [],
   "source": [
    "df_g = pd.DataFrame(final_game_predictions, columns=['uid', 'iid', 'rui', 'est', 'details'])   "
   ]
  },
  {
   "cell_type": "code",
   "execution_count": 216,
   "metadata": {},
   "outputs": [],
   "source": [
    "KNN_reco_games = df_g[df_g['uid']==streamer_name].sort_values('est', ascending = False)[['iid', 'est']]"
   ]
  },
  {
   "cell_type": "code",
   "execution_count": 207,
   "metadata": {},
   "outputs": [],
   "source": [
    "# prioritize closest neighbors to all original genres/games mentioned\n",
    "\n",
    "genre_final_list = []\n",
    "for item in genre_neighbors_list:\n",
    "    genre_final_list.append(item[0])\n",
    "    genre_final_list.append(item[1])\n",
    "\n",
    "game_final_list = []\n",
    "for item in game_neighbors_list:\n",
    "    game_final_list.append(item[0])\n",
    "    game_final_list.append(item[1])"
   ]
  },
  {
   "cell_type": "code",
   "execution_count": 208,
   "metadata": {},
   "outputs": [
    {
     "name": "stdout",
     "output_type": "stream",
     "text": [
      "[15, 7, 24, 6, 14, 10, 26, 24]\n",
      "[17, 35, 89, 72, 0, 1]\n"
     ]
    }
   ],
   "source": [
    "print(genre_final_list)\n",
    "print(game_final_list)"
   ]
  },
  {
   "cell_type": "code",
   "execution_count": 427,
   "metadata": {},
   "outputs": [],
   "source": [
    "#come up with a way to weigh the most frequent neighbors in all genres/games and combine with user-recommended ones."
   ]
  },
  {
   "cell_type": "code",
   "execution_count": 209,
   "metadata": {},
   "outputs": [
    {
     "name": "stdout",
     "output_type": "stream",
     "text": [
      "The nearest neighbors of your current genres are:['Driving/Racing Game', 'Simulation', 'Puzzle', 'Other', 'FPS', 'Series: Souls', 'Creative']\n",
      "The nearest neighbors of your current games are:['Diablo III: Reaper of Souls', 'FINAL FANTASY XIV Online', 'Marbles On Stream', 'Princess Connect! Re: Dive', 'Art', 'Battlefield V']\n"
     ]
    }
   ],
   "source": [
    "genres = [KNN_genre_algo.trainset.to_raw_iid(iiid) for iiid in set(genre_final_list)]\n",
    "\n",
    "games = [KNN_game_algo.trainset.to_raw_iid(iiid) for iiid in set(game_final_list)]\n",
    "print('The nearest neighbors of your current genres are:' + str(genres))\n",
    "print('The nearest neighbors of your current games are:' + str(games))"
   ]
  },
  {
   "cell_type": "code",
   "execution_count": 213,
   "metadata": {},
   "outputs": [
    {
     "data": {
      "text/plain": [
       "(['Driving/Racing Game',\n",
       "  'Simulation',\n",
       "  'Puzzle',\n",
       "  'Other',\n",
       "  'FPS',\n",
       "  'Series: Souls',\n",
       "  'Creative'],\n",
       " ['Diablo III: Reaper of Souls',\n",
       "  'FINAL FANTASY XIV Online',\n",
       "  'Marbles On Stream',\n",
       "  'Princess Connect! Re: Dive',\n",
       "  'Art',\n",
       "  'Battlefield V'])"
      ]
     },
     "execution_count": 213,
     "metadata": {},
     "output_type": "execute_result"
    }
   ],
   "source": [
    "genres, games"
   ]
  },
  {
   "cell_type": "code",
   "execution_count": 210,
   "metadata": {},
   "outputs": [
    {
     "name": "stdout",
     "output_type": "stream",
     "text": [
      "We recommend you stream the following genres: Driving/Racing Game, Other, Creative, Puzzle, Sports Game, Flight Simulator, Simulation, Hidden Objects, Visual Novel, Series: Souls, Gambling Game, FPS, Rhythm & Music Game\n",
      "We recommend you stream the following games: FINAL FANTASY XIV Online, Battlefield V, Rocket League, The Jackbox Party Pack 3, The Elder Scrolls IV: Oblivion, Minecraft, Diablo III: Reaper of Souls, Trials Rising, Art, Marbles On Stream, Hollow Knight, Visage, Don't Starve Together, Silent Hill, Diablo, Princess Connect! Re: Dive\n"
     ]
    }
   ],
   "source": [
    "# combined outputs of both methods to produce results common in both\n",
    "print(\"We recommend you stream the following genres: \" + ', '.join(item for item in set(genres + genre_user_based_list)))\n",
    "print(\"We recommend you stream the following games: \" + ', '.join(item for item in set(games + game_user_based_list)))\n"
   ]
  },
  {
   "cell_type": "code",
   "execution_count": 250,
   "metadata": {},
   "outputs": [
    {
     "name": "stdout",
     "output_type": "stream",
     "text": [
      "                    iid       est\n",
      "11       Hidden Objects  3.366298\n",
      "10        Gambling Game  2.485280\n",
      "5   Driving/Racing Game  2.074401\n",
      "34         Visual Novel  2.066298\n",
      "9      Flight Simulator  2.032965\n",
      "4              Creative  2.024459\n",
      "29           Simulation  2.002190\n",
      "30          Sports Game  1.923006\n",
      "19                Other  1.912925\n",
      "25  Rhythm & Music Game  1.905741\n",
      "16                 MOBA  1.900244\n",
      "13                  IRL  1.890285\n",
      "6      Educational Game  1.866298\n",
      "27        Series: Souls  1.862198\n",
      "18           Open World  1.849337\n",
      "20           Platformer  1.819807\n",
      "7                   FPS  1.818362\n",
      "26            Roguelike  1.816479\n",
      "0                Action  1.808367\n",
      "15               MMORPG  1.798344\n",
      "12               Horror  1.791932\n",
      "22               Puzzle  1.789946\n",
      "28              Shooter  1.788344\n",
      "23                  RPG  1.767695\n",
      "1        Adventure Game  1.750592\n",
      "8              Fighting  1.715328\n",
      "2     Card & Board Game  1.709327\n",
      "3           Compilation  1.677953\n",
      "32             Strategy  1.627300\n",
      "24                  RTS  1.618649\n",
      "31              Stealth  1.616689\n",
      "33             Survival  1.567687\n",
      "14           Indie Game  1.510588\n",
      "17         Metroidvania  1.333512\n",
      "21      Point and Click  1.000000\n",
      "                    iid       est\n",
      "11       Hidden Objects  3.366298\n",
      "10        Gambling Game  2.485280\n",
      "5   Driving/Racing Game  2.074401\n",
      "34         Visual Novel  2.066298\n",
      "9      Flight Simulator  2.032965\n",
      "4              Creative  2.024459\n",
      "29           Simulation  2.002190\n",
      "30          Sports Game  1.923006\n",
      "19                Other  1.912925\n",
      "25  Rhythm & Music Game  1.905741\n",
      "16                 MOBA  1.900244\n",
      "13                  IRL  1.890285\n",
      "6      Educational Game  1.866298\n",
      "27        Series: Souls  1.862198\n",
      "18           Open World  1.849337\n",
      "20           Platformer  1.819807\n",
      "7                   FPS  1.818362\n",
      "26            Roguelike  1.816479\n",
      "0                Action  1.808367\n",
      "15               MMORPG  1.798344\n",
      "12               Horror  1.791932\n",
      "22               Puzzle  1.789946\n",
      "28              Shooter  1.788344\n",
      "23                  RPG  1.767695\n",
      "1        Adventure Game  1.750592\n",
      "8              Fighting  1.715328\n",
      "2     Card & Board Game  1.709327\n",
      "3           Compilation  1.677953\n",
      "32             Strategy  1.627300\n",
      "24                  RTS  1.618649\n",
      "31              Stealth  1.616689\n",
      "33             Survival  1.567687\n",
      "14           Indie Game  1.510588\n",
      "17         Metroidvania  1.333512\n",
      "21      Point and Click  1.000000\n",
      "                         iid       est\n",
      "1437965       Hidden Objects  3.680949\n",
      "1437966      Point and Click  3.538541\n",
      "1437963         Visual Novel  3.526118\n",
      "1437964     Educational Game  3.480498\n",
      "1437939  Driving/Racing Game  1.939131\n",
      "1437948                  FPS  1.885585\n",
      "1437937           Open World  1.869379\n",
      "1437944              Shooter  1.853303\n",
      "1437935          Sports Game  1.851017\n",
      "1437961         Metroidvania  1.850014\n",
      "1437956        Series: Souls  1.848607\n",
      "1437946               Horror  1.840958\n",
      "1437952              Stealth  1.824164\n",
      "1437949       Adventure Game  1.804910\n",
      "1437945           Platformer  1.785446\n",
      "1437958             Creative  1.779032\n",
      "1437954            Roguelike  1.755335\n",
      "1437960             Survival  1.747161\n",
      "1437940           Simulation  1.743922\n",
      "1437934                  RPG  1.743323\n",
      "1437947                Other  1.731705\n",
      "1437936                  IRL  1.695919\n",
      "1437955          Compilation  1.687963\n",
      "1437941               MMORPG  1.681107\n",
      "1437943               Puzzle  1.660900\n",
      "1437951             Fighting  1.641373\n",
      "1437938           Indie Game  1.629025\n",
      "1437962     Flight Simulator  1.628315\n",
      "1437942             Strategy  1.604011\n",
      "1437950    Card & Board Game  1.571245\n",
      "1437957                  RTS  1.550090\n",
      "1437959  Rhythm & Music Game  1.534174\n",
      "1437953        Gambling Game  1.362671\n",
      "                                             iid       est\n",
      "7712127                 The Jackbox Party Pack 3  3.766514\n",
      "7712241  Five Nights at Freddy's VR: Help Wanted  3.733539\n",
      "7712234           The Elder Scrolls IV: Oblivion  3.682207\n",
      "7712169               Call of Duty: Black Ops II  3.644969\n",
      "7712209                                Anno 1800  3.626798\n",
      "7712220                   Golf With Your Friends  3.620961\n",
      "7711977                             Satisfactory  3.619466\n",
      "7712165                            Battlefield 4  3.616951\n",
      "7712092                            Hollow Knight  3.612642\n",
      "7712157                        Little Nightmares  3.605454\n",
      "7712153                          Team Fortress 2  3.583696\n",
      "7712191         Danganronpa: Trigger Happy Havoc  3.573721\n",
      "7712147                          Just Dance 2019  3.571828\n",
      "7712212                            Trials Rising  3.570196\n",
      "7712088                                  Outlast  3.557940\n",
      "7712243                                   Diablo  3.550991\n",
      "7712194                            City of Brass  3.545414\n",
      "7712204           Call of Duty: Modern Warfare 3  3.542175\n",
      "7712211                                   Visage  3.541748\n",
      "7712277                              Silent Hill  3.541096\n",
      "7712140                     Farming Simulator 19  3.535213\n",
      "7712111                               Subnautica  3.530785\n",
      "7712207                        Enter the Gungeon  3.529010\n",
      "7712053                                   Arma 3  3.525574\n",
      "7712196                Doki Doki Literature Club  3.519358\n",
      "7712061                               Fallout 76  3.518864\n",
      "7712154                                     Tera  3.515885\n",
      "7712200                                 BioShock  3.507163\n",
      "7712286                  Rising Storm 2: Vietnam  3.498775\n",
      "7712135                   Mount & Blade: Warband  3.497300\n",
      "...                                          ...       ...\n",
      "7712166                         Modern Warfare 2  1.981162\n",
      "7712041       Pokemon: Let's Go, Pikachu!/Eevee!  1.978622\n",
      "7712015                                  Mordhau  1.972802\n",
      "7712131                              Outer Wilds  1.970850\n",
      "7711965                           Battalion 1944  1.964248\n",
      "7712016                           Sea of Thieves  1.960977\n",
      "7712012                              Deathgarden  1.945350\n",
      "7712066                                     ASMR  1.943775\n",
      "7712089                     Warhammer: Chaosbane  1.938644\n",
      "7712077                                  FIFA 19  1.937034\n",
      "7712031                            Void Bastards  1.933044\n",
      "7712071                         Street Fighter V  1.923887\n",
      "7712064                     Old School RuneScape  1.919819\n",
      "7712065                Trover Saves the Universe  1.911279\n",
      "7711980                             StarCraft II  1.891625\n",
      "7712093                                     osu!  1.879299\n",
      "7712025                                    Slots  1.876173\n",
      "7712023                                 Tekken 7  1.861330\n",
      "7712019                     Magic: The Gathering  1.848491\n",
      "7712037                      Heroes of the Storm  1.847679\n",
      "7712021                        Super Mario Maker  1.841428\n",
      "7712118                 Granblue Fantasy: Versus  1.838874\n",
      "7711994                 A Plague Tale: Innocence  1.810401\n",
      "7712115                    Talk Shows & Podcasts  1.790673\n",
      "7712000                         Mortal Kombat 11  1.788817\n",
      "7712018                Total War: Three Kingdoms  1.767505\n",
      "7712056                                    Poker  1.712338\n",
      "7712181                          Lost Ark Online  1.687805\n",
      "7712029                                   PixARK  1.683718\n",
      "7712067                        Travel & Outdoors  1.598807\n",
      "\n",
      "[341 rows x 2 columns]\n"
     ]
    }
   ],
   "source": [
    "print(personal_genre_pred.sort_values('est', ascending = False))\n",
    "print(personal_game_pred.sort_values('est', ascending = False))\n",
    "print(KNN_reco_genres.sort_values('est', ascending = False))\n",
    "print(KNN_reco_games.sort_values('est', ascending = False))"
   ]
  },
  {
   "cell_type": "code",
   "execution_count": 252,
   "metadata": {},
   "outputs": [],
   "source": [
    "frames = [personal_genre_pred, personal_game_pred, KNN_reco_genres, KNN_reco_games]"
   ]
  },
  {
   "cell_type": "code",
   "execution_count": 253,
   "metadata": {},
   "outputs": [],
   "source": [
    "result = pd.concat(frames)"
   ]
  },
  {
   "cell_type": "code",
   "execution_count": 254,
   "metadata": {},
   "outputs": [
    {
     "data": {
      "text/html": [
       "<div>\n",
       "<style scoped>\n",
       "    .dataframe tbody tr th:only-of-type {\n",
       "        vertical-align: middle;\n",
       "    }\n",
       "\n",
       "    .dataframe tbody tr th {\n",
       "        vertical-align: top;\n",
       "    }\n",
       "\n",
       "    .dataframe thead th {\n",
       "        text-align: right;\n",
       "    }\n",
       "</style>\n",
       "<table border=\"1\" class=\"dataframe\">\n",
       "  <thead>\n",
       "    <tr style=\"text-align: right;\">\n",
       "      <th></th>\n",
       "      <th>iid</th>\n",
       "      <th>est</th>\n",
       "    </tr>\n",
       "  </thead>\n",
       "  <tbody>\n",
       "    <tr>\n",
       "      <th>0</th>\n",
       "      <td>Action</td>\n",
       "      <td>1.808367</td>\n",
       "    </tr>\n",
       "    <tr>\n",
       "      <th>1</th>\n",
       "      <td>Adventure Game</td>\n",
       "      <td>1.750592</td>\n",
       "    </tr>\n",
       "    <tr>\n",
       "      <th>2</th>\n",
       "      <td>Card &amp; Board Game</td>\n",
       "      <td>1.709327</td>\n",
       "    </tr>\n",
       "    <tr>\n",
       "      <th>3</th>\n",
       "      <td>Compilation</td>\n",
       "      <td>1.677953</td>\n",
       "    </tr>\n",
       "    <tr>\n",
       "      <th>4</th>\n",
       "      <td>Creative</td>\n",
       "      <td>2.024459</td>\n",
       "    </tr>\n",
       "    <tr>\n",
       "      <th>5</th>\n",
       "      <td>Driving/Racing Game</td>\n",
       "      <td>2.074401</td>\n",
       "    </tr>\n",
       "    <tr>\n",
       "      <th>6</th>\n",
       "      <td>Educational Game</td>\n",
       "      <td>1.866298</td>\n",
       "    </tr>\n",
       "    <tr>\n",
       "      <th>7</th>\n",
       "      <td>FPS</td>\n",
       "      <td>1.818362</td>\n",
       "    </tr>\n",
       "    <tr>\n",
       "      <th>8</th>\n",
       "      <td>Fighting</td>\n",
       "      <td>1.715328</td>\n",
       "    </tr>\n",
       "    <tr>\n",
       "      <th>9</th>\n",
       "      <td>Flight Simulator</td>\n",
       "      <td>2.032965</td>\n",
       "    </tr>\n",
       "    <tr>\n",
       "      <th>10</th>\n",
       "      <td>Gambling Game</td>\n",
       "      <td>2.485280</td>\n",
       "    </tr>\n",
       "    <tr>\n",
       "      <th>11</th>\n",
       "      <td>Hidden Objects</td>\n",
       "      <td>3.366298</td>\n",
       "    </tr>\n",
       "    <tr>\n",
       "      <th>12</th>\n",
       "      <td>Horror</td>\n",
       "      <td>1.791932</td>\n",
       "    </tr>\n",
       "    <tr>\n",
       "      <th>13</th>\n",
       "      <td>IRL</td>\n",
       "      <td>1.890285</td>\n",
       "    </tr>\n",
       "    <tr>\n",
       "      <th>14</th>\n",
       "      <td>Indie Game</td>\n",
       "      <td>1.510588</td>\n",
       "    </tr>\n",
       "    <tr>\n",
       "      <th>15</th>\n",
       "      <td>MMORPG</td>\n",
       "      <td>1.798344</td>\n",
       "    </tr>\n",
       "    <tr>\n",
       "      <th>16</th>\n",
       "      <td>MOBA</td>\n",
       "      <td>1.900244</td>\n",
       "    </tr>\n",
       "    <tr>\n",
       "      <th>17</th>\n",
       "      <td>Metroidvania</td>\n",
       "      <td>1.333512</td>\n",
       "    </tr>\n",
       "    <tr>\n",
       "      <th>18</th>\n",
       "      <td>Open World</td>\n",
       "      <td>1.849337</td>\n",
       "    </tr>\n",
       "    <tr>\n",
       "      <th>19</th>\n",
       "      <td>Other</td>\n",
       "      <td>1.912925</td>\n",
       "    </tr>\n",
       "    <tr>\n",
       "      <th>20</th>\n",
       "      <td>Platformer</td>\n",
       "      <td>1.819807</td>\n",
       "    </tr>\n",
       "    <tr>\n",
       "      <th>21</th>\n",
       "      <td>Point and Click</td>\n",
       "      <td>1.000000</td>\n",
       "    </tr>\n",
       "    <tr>\n",
       "      <th>22</th>\n",
       "      <td>Puzzle</td>\n",
       "      <td>1.789946</td>\n",
       "    </tr>\n",
       "    <tr>\n",
       "      <th>23</th>\n",
       "      <td>RPG</td>\n",
       "      <td>1.767695</td>\n",
       "    </tr>\n",
       "    <tr>\n",
       "      <th>24</th>\n",
       "      <td>RTS</td>\n",
       "      <td>1.618649</td>\n",
       "    </tr>\n",
       "    <tr>\n",
       "      <th>25</th>\n",
       "      <td>Rhythm &amp; Music Game</td>\n",
       "      <td>1.905741</td>\n",
       "    </tr>\n",
       "    <tr>\n",
       "      <th>26</th>\n",
       "      <td>Roguelike</td>\n",
       "      <td>1.816479</td>\n",
       "    </tr>\n",
       "    <tr>\n",
       "      <th>27</th>\n",
       "      <td>Series: Souls</td>\n",
       "      <td>1.862198</td>\n",
       "    </tr>\n",
       "    <tr>\n",
       "      <th>28</th>\n",
       "      <td>Shooter</td>\n",
       "      <td>1.788344</td>\n",
       "    </tr>\n",
       "    <tr>\n",
       "      <th>29</th>\n",
       "      <td>Simulation</td>\n",
       "      <td>2.002190</td>\n",
       "    </tr>\n",
       "    <tr>\n",
       "      <th>...</th>\n",
       "      <td>...</td>\n",
       "      <td>...</td>\n",
       "    </tr>\n",
       "    <tr>\n",
       "      <th>7712166</th>\n",
       "      <td>Modern Warfare 2</td>\n",
       "      <td>1.981162</td>\n",
       "    </tr>\n",
       "    <tr>\n",
       "      <th>7712041</th>\n",
       "      <td>Pokemon: Let's Go, Pikachu!/Eevee!</td>\n",
       "      <td>1.978622</td>\n",
       "    </tr>\n",
       "    <tr>\n",
       "      <th>7712015</th>\n",
       "      <td>Mordhau</td>\n",
       "      <td>1.972802</td>\n",
       "    </tr>\n",
       "    <tr>\n",
       "      <th>7712131</th>\n",
       "      <td>Outer Wilds</td>\n",
       "      <td>1.970850</td>\n",
       "    </tr>\n",
       "    <tr>\n",
       "      <th>7711965</th>\n",
       "      <td>Battalion 1944</td>\n",
       "      <td>1.964248</td>\n",
       "    </tr>\n",
       "    <tr>\n",
       "      <th>7712016</th>\n",
       "      <td>Sea of Thieves</td>\n",
       "      <td>1.960977</td>\n",
       "    </tr>\n",
       "    <tr>\n",
       "      <th>7712012</th>\n",
       "      <td>Deathgarden</td>\n",
       "      <td>1.945350</td>\n",
       "    </tr>\n",
       "    <tr>\n",
       "      <th>7712066</th>\n",
       "      <td>ASMR</td>\n",
       "      <td>1.943775</td>\n",
       "    </tr>\n",
       "    <tr>\n",
       "      <th>7712089</th>\n",
       "      <td>Warhammer: Chaosbane</td>\n",
       "      <td>1.938644</td>\n",
       "    </tr>\n",
       "    <tr>\n",
       "      <th>7712077</th>\n",
       "      <td>FIFA 19</td>\n",
       "      <td>1.937034</td>\n",
       "    </tr>\n",
       "    <tr>\n",
       "      <th>7712031</th>\n",
       "      <td>Void Bastards</td>\n",
       "      <td>1.933044</td>\n",
       "    </tr>\n",
       "    <tr>\n",
       "      <th>7712071</th>\n",
       "      <td>Street Fighter V</td>\n",
       "      <td>1.923887</td>\n",
       "    </tr>\n",
       "    <tr>\n",
       "      <th>7712064</th>\n",
       "      <td>Old School RuneScape</td>\n",
       "      <td>1.919819</td>\n",
       "    </tr>\n",
       "    <tr>\n",
       "      <th>7712065</th>\n",
       "      <td>Trover Saves the Universe</td>\n",
       "      <td>1.911279</td>\n",
       "    </tr>\n",
       "    <tr>\n",
       "      <th>7711980</th>\n",
       "      <td>StarCraft II</td>\n",
       "      <td>1.891625</td>\n",
       "    </tr>\n",
       "    <tr>\n",
       "      <th>7712093</th>\n",
       "      <td>osu!</td>\n",
       "      <td>1.879299</td>\n",
       "    </tr>\n",
       "    <tr>\n",
       "      <th>7712025</th>\n",
       "      <td>Slots</td>\n",
       "      <td>1.876173</td>\n",
       "    </tr>\n",
       "    <tr>\n",
       "      <th>7712023</th>\n",
       "      <td>Tekken 7</td>\n",
       "      <td>1.861330</td>\n",
       "    </tr>\n",
       "    <tr>\n",
       "      <th>7712019</th>\n",
       "      <td>Magic: The Gathering</td>\n",
       "      <td>1.848491</td>\n",
       "    </tr>\n",
       "    <tr>\n",
       "      <th>7712037</th>\n",
       "      <td>Heroes of the Storm</td>\n",
       "      <td>1.847679</td>\n",
       "    </tr>\n",
       "    <tr>\n",
       "      <th>7712021</th>\n",
       "      <td>Super Mario Maker</td>\n",
       "      <td>1.841428</td>\n",
       "    </tr>\n",
       "    <tr>\n",
       "      <th>7712118</th>\n",
       "      <td>Granblue Fantasy: Versus</td>\n",
       "      <td>1.838874</td>\n",
       "    </tr>\n",
       "    <tr>\n",
       "      <th>7711994</th>\n",
       "      <td>A Plague Tale: Innocence</td>\n",
       "      <td>1.810401</td>\n",
       "    </tr>\n",
       "    <tr>\n",
       "      <th>7712115</th>\n",
       "      <td>Talk Shows &amp; Podcasts</td>\n",
       "      <td>1.790673</td>\n",
       "    </tr>\n",
       "    <tr>\n",
       "      <th>7712000</th>\n",
       "      <td>Mortal Kombat 11</td>\n",
       "      <td>1.788817</td>\n",
       "    </tr>\n",
       "    <tr>\n",
       "      <th>7712018</th>\n",
       "      <td>Total War: Three Kingdoms</td>\n",
       "      <td>1.767505</td>\n",
       "    </tr>\n",
       "    <tr>\n",
       "      <th>7712056</th>\n",
       "      <td>Poker</td>\n",
       "      <td>1.712338</td>\n",
       "    </tr>\n",
       "    <tr>\n",
       "      <th>7712181</th>\n",
       "      <td>Lost Ark Online</td>\n",
       "      <td>1.687805</td>\n",
       "    </tr>\n",
       "    <tr>\n",
       "      <th>7712029</th>\n",
       "      <td>PixARK</td>\n",
       "      <td>1.683718</td>\n",
       "    </tr>\n",
       "    <tr>\n",
       "      <th>7712067</th>\n",
       "      <td>Travel &amp; Outdoors</td>\n",
       "      <td>1.598807</td>\n",
       "    </tr>\n",
       "  </tbody>\n",
       "</table>\n",
       "<p>444 rows × 2 columns</p>\n",
       "</div>"
      ],
      "text/plain": [
       "                                        iid       est\n",
       "0                                    Action  1.808367\n",
       "1                            Adventure Game  1.750592\n",
       "2                         Card & Board Game  1.709327\n",
       "3                               Compilation  1.677953\n",
       "4                                  Creative  2.024459\n",
       "5                       Driving/Racing Game  2.074401\n",
       "6                          Educational Game  1.866298\n",
       "7                                       FPS  1.818362\n",
       "8                                  Fighting  1.715328\n",
       "9                          Flight Simulator  2.032965\n",
       "10                            Gambling Game  2.485280\n",
       "11                           Hidden Objects  3.366298\n",
       "12                                   Horror  1.791932\n",
       "13                                      IRL  1.890285\n",
       "14                               Indie Game  1.510588\n",
       "15                                   MMORPG  1.798344\n",
       "16                                     MOBA  1.900244\n",
       "17                             Metroidvania  1.333512\n",
       "18                               Open World  1.849337\n",
       "19                                    Other  1.912925\n",
       "20                               Platformer  1.819807\n",
       "21                          Point and Click  1.000000\n",
       "22                                   Puzzle  1.789946\n",
       "23                                      RPG  1.767695\n",
       "24                                      RTS  1.618649\n",
       "25                      Rhythm & Music Game  1.905741\n",
       "26                                Roguelike  1.816479\n",
       "27                            Series: Souls  1.862198\n",
       "28                                  Shooter  1.788344\n",
       "29                               Simulation  2.002190\n",
       "...                                     ...       ...\n",
       "7712166                    Modern Warfare 2  1.981162\n",
       "7712041  Pokemon: Let's Go, Pikachu!/Eevee!  1.978622\n",
       "7712015                             Mordhau  1.972802\n",
       "7712131                         Outer Wilds  1.970850\n",
       "7711965                      Battalion 1944  1.964248\n",
       "7712016                      Sea of Thieves  1.960977\n",
       "7712012                         Deathgarden  1.945350\n",
       "7712066                                ASMR  1.943775\n",
       "7712089                Warhammer: Chaosbane  1.938644\n",
       "7712077                             FIFA 19  1.937034\n",
       "7712031                       Void Bastards  1.933044\n",
       "7712071                    Street Fighter V  1.923887\n",
       "7712064                Old School RuneScape  1.919819\n",
       "7712065           Trover Saves the Universe  1.911279\n",
       "7711980                        StarCraft II  1.891625\n",
       "7712093                                osu!  1.879299\n",
       "7712025                               Slots  1.876173\n",
       "7712023                            Tekken 7  1.861330\n",
       "7712019                Magic: The Gathering  1.848491\n",
       "7712037                 Heroes of the Storm  1.847679\n",
       "7712021                   Super Mario Maker  1.841428\n",
       "7712118            Granblue Fantasy: Versus  1.838874\n",
       "7711994            A Plague Tale: Innocence  1.810401\n",
       "7712115               Talk Shows & Podcasts  1.790673\n",
       "7712000                    Mortal Kombat 11  1.788817\n",
       "7712018           Total War: Three Kingdoms  1.767505\n",
       "7712056                               Poker  1.712338\n",
       "7712181                     Lost Ark Online  1.687805\n",
       "7712029                              PixARK  1.683718\n",
       "7712067                   Travel & Outdoors  1.598807\n",
       "\n",
       "[444 rows x 2 columns]"
      ]
     },
     "execution_count": 254,
     "metadata": {},
     "output_type": "execute_result"
    }
   ],
   "source": [
    "result"
   ]
  },
  {
   "cell_type": "code",
   "execution_count": null,
   "metadata": {},
   "outputs": [],
   "source": []
  }
 ],
 "metadata": {
  "kernelspec": {
   "display_name": "Python 3",
   "language": "python",
   "name": "python3"
  },
  "language_info": {
   "codemirror_mode": {
    "name": "ipython",
    "version": 3
   },
   "file_extension": ".py",
   "mimetype": "text/x-python",
   "name": "python",
   "nbconvert_exporter": "python",
   "pygments_lexer": "ipython3",
   "version": "3.7.3"
  }
 },
 "nbformat": 4,
 "nbformat_minor": 2
}
