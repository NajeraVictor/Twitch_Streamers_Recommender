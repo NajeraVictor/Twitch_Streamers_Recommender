{
 "cells": [
  {
   "cell_type": "markdown",
   "metadata": {},
   "source": [
    "Game Recommender Score = (Recommender Rating) (streamer affinity) + ((view(t)/channels(t))/(view(t-7*24)/channels(t-7*24))(game growth) + viewers in game/viewers in biggest game (game standing) - top 8 streamers market share of viewers (market penetratability)"
   ]
  },
  {
   "cell_type": "code",
   "execution_count": 13,
   "metadata": {},
   "outputs": [],
   "source": [
    "import pandas as pd\n",
    "import numpy as np\n",
    "from datetime import timedelta"
   ]
  },
  {
   "cell_type": "code",
   "execution_count": 14,
   "metadata": {
    "scrolled": true
   },
   "outputs": [],
   "source": [
    "colnames=['timestamp', 'game_name', 'hourly_channels', 'hourly_viewership'] \n",
    "sully = pd.read_csv('./Data/Natasha.csv', names=colnames, header=None)"
   ]
  },
  {
   "cell_type": "code",
   "execution_count": 15,
   "metadata": {},
   "outputs": [],
   "source": [
    "sully['timestamp'] = pd.to_datetime(sully['timestamp'])"
   ]
  },
  {
   "cell_type": "code",
   "execution_count": 50,
   "metadata": {},
   "outputs": [
    {
     "name": "stdout",
     "output_type": "stream",
     "text": [
      "<class 'pandas.core.frame.DataFrame'>\n",
      "Int64Index: 411825 entries, 110067 to 2033164\n",
      "Data columns (total 7 columns):\n",
      "timestamp                   411825 non-null datetime64[ns]\n",
      "game_name                   411825 non-null object\n",
      "hourly_channels             411825 non-null int64\n",
      "hourly_viewership           411825 non-null int64\n",
      "hourly_channels_week_ago    411825 non-null float64\n",
      "hourly_viewers_week_ago     411825 non-null float64\n",
      "game_growth                 411825 non-null float64\n",
      "dtypes: datetime64[ns](1), float64(3), int64(2), object(1)\n",
      "memory usage: 25.1+ MB\n"
     ]
    }
   ],
   "source": [
    "sully.info()"
   ]
  },
  {
   "cell_type": "code",
   "execution_count": 52,
   "metadata": {},
   "outputs": [
    {
     "data": {
      "text/plain": [
       "1316"
      ]
     },
     "execution_count": 52,
     "metadata": {},
     "output_type": "execute_result"
    }
   ],
   "source": [
    "sully['game_name'].nunique()"
   ]
  },
  {
   "cell_type": "code",
   "execution_count": 53,
   "metadata": {},
   "outputs": [],
   "source": [
    "sully = sully.sort_values(by = ['game_name', 'timestamp'])"
   ]
  },
  {
   "cell_type": "code",
   "execution_count": 54,
   "metadata": {},
   "outputs": [],
   "source": [
    "sully['hourly_viewers_week_ago'] = ''"
   ]
  },
  {
   "cell_type": "code",
   "execution_count": 55,
   "metadata": {},
   "outputs": [],
   "source": [
    "sully['hourly_channels_week_ago'] = sully['hourly_channels'] - sully['hourly_channels'].diff(periods = 168)"
   ]
  },
  {
   "cell_type": "code",
   "execution_count": 56,
   "metadata": {},
   "outputs": [],
   "source": [
    "sully['hourly_viewers_week_ago'] = sully['hourly_viewership'] - sully['hourly_viewership'].diff(periods = 168)"
   ]
  },
  {
   "cell_type": "code",
   "execution_count": 58,
   "metadata": {},
   "outputs": [],
   "source": [
    "sully['game_growth'] = (sully.hourly_viewership/sully.hourly_channels)/(sully.hourly_viewers_week_ago/sully.hourly_channels_week_ago)"
   ]
  },
  {
   "cell_type": "code",
   "execution_count": 68,
   "metadata": {},
   "outputs": [
    {
     "data": {
      "text/plain": [
       "timestamp            game_name        \n",
       "2019-05-18 11:00:00  League of Legends    703999\n",
       "2019-05-18 10:00:00  League of Legends    615259\n",
       "2019-05-18 09:00:00  League of Legends    581935\n",
       "2019-05-18 08:00:00  League of Legends    541366\n",
       "2019-05-17 13:00:00  League of Legends    535218\n",
       "2019-05-19 08:00:00  League of Legends    514463\n",
       "2019-05-19 19:00:00  Fortnite             504203\n",
       "2019-05-10 15:00:00  League of Legends    491310\n",
       "2019-05-17 12:00:00  League of Legends    487500\n",
       "2019-05-05 19:00:00  Fortnite             482610\n",
       "Name: hourly_viewership, dtype: int64"
      ]
     },
     "execution_count": 68,
     "metadata": {},
     "output_type": "execute_result"
    }
   ],
   "source": [
    "sully.groupby(by = ['timestamp','game_name']).hourly_viewership.max().sort_values(ascending = False)[:10]"
   ]
  },
  {
   "cell_type": "code",
   "execution_count": null,
   "metadata": {},
   "outputs": [],
   "source": []
  }
 ],
 "metadata": {
  "kernelspec": {
   "display_name": "Python 3",
   "language": "python",
   "name": "python3"
  },
  "language_info": {
   "codemirror_mode": {
    "name": "ipython",
    "version": 3
   },
   "file_extension": ".py",
   "mimetype": "text/x-python",
   "name": "python",
   "nbconvert_exporter": "python",
   "pygments_lexer": "ipython3",
   "version": "3.7.3"
  }
 },
 "nbformat": 4,
 "nbformat_minor": 2
}
