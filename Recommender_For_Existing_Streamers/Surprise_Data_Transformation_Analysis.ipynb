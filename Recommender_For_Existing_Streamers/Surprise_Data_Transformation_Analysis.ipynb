{
 "cells": [
  {
   "cell_type": "code",
   "execution_count": 1,
   "metadata": {},
   "outputs": [],
   "source": [
    "import pandas as pd\n",
    "import numpy as np"
   ]
  },
  {
   "cell_type": "code",
   "execution_count": 2,
   "metadata": {},
   "outputs": [],
   "source": [
    "grid = pd.read_csv('./Data/final_game_user_grid_06_07_19.csv')"
   ]
  },
  {
   "cell_type": "code",
   "execution_count": 3,
   "metadata": {},
   "outputs": [
    {
     "name": "stdout",
     "output_type": "stream",
     "text": [
      "<class 'pandas.core.frame.DataFrame'>\n",
      "RangeIndex: 1387492 entries, 0 to 1387491\n",
      "Data columns (total 7 columns):\n",
      "user_name       1387492 non-null object\n",
      "game_name       1385813 non-null object\n",
      "game_genres     1383564 non-null object\n",
      "language        1387490 non-null object\n",
      "started_at      1387492 non-null object\n",
      "viewer_count    1387492 non-null int64\n",
      "max             1387492 non-null int64\n",
      "dtypes: int64(2), object(5)\n",
      "memory usage: 74.1+ MB\n"
     ]
    }
   ],
   "source": [
    "grid.info()"
   ]
  },
  {
   "cell_type": "code",
   "execution_count": 4,
   "metadata": {},
   "outputs": [],
   "source": [
    "grid = grid.dropna()"
   ]
  },
  {
   "cell_type": "code",
   "execution_count": 5,
   "metadata": {},
   "outputs": [],
   "source": [
    "grid = grid.dropna(how='any',axis=0) "
   ]
  },
  {
   "cell_type": "code",
   "execution_count": 6,
   "metadata": {
    "scrolled": true
   },
   "outputs": [
    {
     "name": "stdout",
     "output_type": "stream",
     "text": [
      "<class 'pandas.core.frame.DataFrame'>\n",
      "Int64Index: 1383562 entries, 0 to 1387491\n",
      "Data columns (total 7 columns):\n",
      "user_name       1383562 non-null object\n",
      "game_name       1383562 non-null object\n",
      "game_genres     1383562 non-null object\n",
      "language        1383562 non-null object\n",
      "started_at      1383562 non-null object\n",
      "viewer_count    1383562 non-null int64\n",
      "max             1383562 non-null int64\n",
      "dtypes: int64(2), object(5)\n",
      "memory usage: 84.4+ MB\n"
     ]
    }
   ],
   "source": [
    "grid.info()"
   ]
  },
  {
   "cell_type": "code",
   "execution_count": 7,
   "metadata": {},
   "outputs": [
    {
     "name": "stderr",
     "output_type": "stream",
     "text": [
      "/anaconda3/lib/python3.7/site-packages/ipykernel_launcher.py:2: SettingWithCopyWarning: \n",
      "A value is trying to be set on a copy of a slice from a DataFrame\n",
      "\n",
      "See the caveats in the documentation: http://pandas.pydata.org/pandas-docs/stable/indexing.html#indexing-view-versus-copy\n",
      "  \n",
      "/anaconda3/lib/python3.7/site-packages/ipykernel_launcher.py:3: SettingWithCopyWarning: \n",
      "A value is trying to be set on a copy of a slice from a DataFrame\n",
      "\n",
      "See the caveats in the documentation: http://pandas.pydata.org/pandas-docs/stable/indexing.html#indexing-view-versus-copy\n",
      "  This is separate from the ipykernel package so we can avoid doing imports until\n",
      "/anaconda3/lib/python3.7/site-packages/ipykernel_launcher.py:4: SettingWithCopyWarning: \n",
      "A value is trying to be set on a copy of a slice from a DataFrame\n",
      "\n",
      "See the caveats in the documentation: http://pandas.pydata.org/pandas-docs/stable/indexing.html#indexing-view-versus-copy\n",
      "  after removing the cwd from sys.path.\n"
     ]
    }
   ],
   "source": [
    "#change all NONE, Null, and RETROGAMEPLACEHOLDER genres to 'Other'\n",
    "grid['game_genres'][grid['game_genres'].str.contains('NONE')==True] = 'Other'\n",
    "grid['game_genres'][grid['game_genres'].isnull()] = 'Other'\n",
    "grid['game_genres'][grid['game_genres'].str.contains('RETROGAMEPLACEHOLDER')==True] = 'Other'"
   ]
  },
  {
   "cell_type": "code",
   "execution_count": 9,
   "metadata": {},
   "outputs": [],
   "source": [
    "# To begin, we're calculating the metric we'll be using to compare users and games. Since we're focused on the streamers, we don't have the traditional \"I like this movie so I will rate it a 4.5 out of 5.0\" ratings. Instead we're calculating how many viewers each streamer attracted with a particular game compared to their max viewer potential over the last week. For each user, one game is their ultimate streaming \"5 out of 5\" benchmark, and all other games they play are compared to that one, and normalized to ratings between 1 and 5. We are also using all the genres for each game to pinpoint how successful various genres and games have been for each streamer."
   ]
  },
  {
   "cell_type": "code",
   "execution_count": 10,
   "metadata": {},
   "outputs": [],
   "source": [
    "max_value_username = pd.DataFrame(grid.groupby('user_name')['max'].max().reset_index())"
   ]
  },
  {
   "cell_type": "code",
   "execution_count": 11,
   "metadata": {},
   "outputs": [],
   "source": [
    "max_val_dict = max_value_username.groupby('user_name')['max'].apply(list).to_dict()"
   ]
  },
  {
   "cell_type": "code",
   "execution_count": 12,
   "metadata": {},
   "outputs": [],
   "source": [
    "grid['max_game'] = grid['user_name'].map(max_val_dict)"
   ]
  },
  {
   "cell_type": "code",
   "execution_count": 13,
   "metadata": {},
   "outputs": [],
   "source": [
    "grid['max_game_int'] = grid.max_game.str[0].astype(int)\n",
    "grid = grid.drop('max_game', axis = 1)"
   ]
  },
  {
   "cell_type": "code",
   "execution_count": 14,
   "metadata": {},
   "outputs": [],
   "source": [
    "grid['score'] = grid['max']/grid['max_game_int']"
   ]
  },
  {
   "cell_type": "code",
   "execution_count": 15,
   "metadata": {},
   "outputs": [],
   "source": [
    "from sklearn.preprocessing import minmax_scale\n",
    "grid['scaled_score'] = minmax_scale(grid['score'], feature_range=(1, 5))"
   ]
  },
  {
   "cell_type": "code",
   "execution_count": 16,
   "metadata": {},
   "outputs": [],
   "source": [
    "grid = grid.dropna()"
   ]
  },
  {
   "cell_type": "code",
   "execution_count": 17,
   "metadata": {},
   "outputs": [],
   "source": [
    "# now we have a listing for each user pairing them with each game they play, what genre it belongs to, and how many people watched them play each game compared to the max viewers they ever got for a stream during the week we examined."
   ]
  },
  {
   "cell_type": "code",
   "execution_count": 18,
   "metadata": {},
   "outputs": [
    {
     "data": {
      "text/html": [
       "<div>\n",
       "<style scoped>\n",
       "    .dataframe tbody tr th:only-of-type {\n",
       "        vertical-align: middle;\n",
       "    }\n",
       "\n",
       "    .dataframe tbody tr th {\n",
       "        vertical-align: top;\n",
       "    }\n",
       "\n",
       "    .dataframe thead th {\n",
       "        text-align: right;\n",
       "    }\n",
       "</style>\n",
       "<table border=\"1\" class=\"dataframe\">\n",
       "  <thead>\n",
       "    <tr style=\"text-align: right;\">\n",
       "      <th></th>\n",
       "      <th>user_name</th>\n",
       "      <th>scaled_score</th>\n",
       "    </tr>\n",
       "  </thead>\n",
       "  <tbody>\n",
       "    <tr>\n",
       "      <th>27473</th>\n",
       "      <td>Fonbet_RocketLeague</td>\n",
       "      <td>378</td>\n",
       "    </tr>\n",
       "    <tr>\n",
       "      <th>77300</th>\n",
       "      <td>StreamerHouse</td>\n",
       "      <td>375</td>\n",
       "    </tr>\n",
       "    <tr>\n",
       "      <th>123375</th>\n",
       "      <td>luke4316live</td>\n",
       "      <td>333</td>\n",
       "    </tr>\n",
       "    <tr>\n",
       "      <th>110114</th>\n",
       "      <td>gaules</td>\n",
       "      <td>315</td>\n",
       "    </tr>\n",
       "    <tr>\n",
       "      <th>27472</th>\n",
       "      <td>Fonbet_RLH</td>\n",
       "      <td>270</td>\n",
       "    </tr>\n",
       "  </tbody>\n",
       "</table>\n",
       "</div>"
      ],
      "text/plain": [
       "                  user_name  scaled_score\n",
       "27473   Fonbet_RocketLeague           378\n",
       "77300         StreamerHouse           375\n",
       "123375         luke4316live           333\n",
       "110114               gaules           315\n",
       "27472            Fonbet_RLH           270"
      ]
     },
     "execution_count": 18,
     "metadata": {},
     "output_type": "execute_result"
    }
   ],
   "source": [
    "grid.groupby('user_name')['scaled_score'].count().reset_index().sort_values('scaled_score', ascending=False)[:5]"
   ]
  },
  {
   "cell_type": "code",
   "execution_count": 19,
   "metadata": {
    "scrolled": true
   },
   "outputs": [
    {
     "data": {
      "text/html": [
       "<div>\n",
       "<style scoped>\n",
       "    .dataframe tbody tr th:only-of-type {\n",
       "        vertical-align: middle;\n",
       "    }\n",
       "\n",
       "    .dataframe tbody tr th {\n",
       "        vertical-align: top;\n",
       "    }\n",
       "\n",
       "    .dataframe thead th {\n",
       "        text-align: right;\n",
       "    }\n",
       "</style>\n",
       "<table border=\"1\" class=\"dataframe\">\n",
       "  <thead>\n",
       "    <tr style=\"text-align: right;\">\n",
       "      <th></th>\n",
       "      <th>game_genres</th>\n",
       "      <th>scaled_score</th>\n",
       "    </tr>\n",
       "  </thead>\n",
       "  <tbody>\n",
       "    <tr>\n",
       "      <th>0</th>\n",
       "      <td>Action</td>\n",
       "      <td>211633</td>\n",
       "    </tr>\n",
       "    <tr>\n",
       "      <th>28</th>\n",
       "      <td>Shooter</td>\n",
       "      <td>165931</td>\n",
       "    </tr>\n",
       "    <tr>\n",
       "      <th>7</th>\n",
       "      <td>FPS</td>\n",
       "      <td>131286</td>\n",
       "    </tr>\n",
       "    <tr>\n",
       "      <th>23</th>\n",
       "      <td>RPG</td>\n",
       "      <td>118595</td>\n",
       "    </tr>\n",
       "    <tr>\n",
       "      <th>15</th>\n",
       "      <td>MMORPG</td>\n",
       "      <td>88901</td>\n",
       "    </tr>\n",
       "  </tbody>\n",
       "</table>\n",
       "</div>"
      ],
      "text/plain": [
       "   game_genres  scaled_score\n",
       "0       Action        211633\n",
       "28     Shooter        165931\n",
       "7          FPS        131286\n",
       "23         RPG        118595\n",
       "15      MMORPG         88901"
      ]
     },
     "execution_count": 19,
     "metadata": {},
     "output_type": "execute_result"
    }
   ],
   "source": [
    "grid.groupby('game_genres')['scaled_score'].count().reset_index().sort_values('scaled_score', ascending=False)[:5]"
   ]
  },
  {
   "cell_type": "code",
   "execution_count": 20,
   "metadata": {},
   "outputs": [
    {
     "data": {
      "text/html": [
       "<div>\n",
       "<style scoped>\n",
       "    .dataframe tbody tr th:only-of-type {\n",
       "        vertical-align: middle;\n",
       "    }\n",
       "\n",
       "    .dataframe tbody tr th {\n",
       "        vertical-align: top;\n",
       "    }\n",
       "\n",
       "    .dataframe thead th {\n",
       "        text-align: right;\n",
       "    }\n",
       "</style>\n",
       "<table border=\"1\" class=\"dataframe\">\n",
       "  <thead>\n",
       "    <tr style=\"text-align: right;\">\n",
       "      <th></th>\n",
       "      <th>game_name</th>\n",
       "      <th>scaled_score</th>\n",
       "    </tr>\n",
       "  </thead>\n",
       "  <tbody>\n",
       "    <tr>\n",
       "      <th>128</th>\n",
       "      <td>Grand Theft Auto V</td>\n",
       "      <td>37860</td>\n",
       "    </tr>\n",
       "    <tr>\n",
       "      <th>180</th>\n",
       "      <td>Minecraft</td>\n",
       "      <td>35715</td>\n",
       "    </tr>\n",
       "    <tr>\n",
       "      <th>243</th>\n",
       "      <td>Rocket League</td>\n",
       "      <td>35043</td>\n",
       "    </tr>\n",
       "    <tr>\n",
       "      <th>37</th>\n",
       "      <td>Black Desert Online</td>\n",
       "      <td>33723</td>\n",
       "    </tr>\n",
       "    <tr>\n",
       "      <th>97</th>\n",
       "      <td>Escape From Tarkov</td>\n",
       "      <td>33366</td>\n",
       "    </tr>\n",
       "  </tbody>\n",
       "</table>\n",
       "</div>"
      ],
      "text/plain": [
       "               game_name  scaled_score\n",
       "128   Grand Theft Auto V         37860\n",
       "180            Minecraft         35715\n",
       "243        Rocket League         35043\n",
       "37   Black Desert Online         33723\n",
       "97    Escape From Tarkov         33366"
      ]
     },
     "execution_count": 20,
     "metadata": {},
     "output_type": "execute_result"
    }
   ],
   "source": [
    "grid.groupby('game_name')['scaled_score'].count().reset_index().sort_values('scaled_score', ascending=False)[:5]"
   ]
  },
  {
   "cell_type": "code",
   "execution_count": 21,
   "metadata": {},
   "outputs": [],
   "source": [
    "min_number_scores = 5\n",
    "filter_users = grid['user_name'].value_counts() > min_number_scores\n",
    "filter_users = filter_users[filter_users].index.tolist()"
   ]
  },
  {
   "cell_type": "code",
   "execution_count": 22,
   "metadata": {},
   "outputs": [
    {
     "name": "stdout",
     "output_type": "stream",
     "text": [
      "The original data frame shape:\t(1364027, 10)\n",
      "The new data frame shape:\t(1137673, 10)\n"
     ]
    }
   ],
   "source": [
    "grid_new = grid[(grid['user_name'].isin(filter_users))]\n",
    "print('The original data frame shape:\\t{}'.format(grid.shape))\n",
    "print('The new data frame shape:\\t{}'.format(grid_new.shape))"
   ]
  },
  {
   "cell_type": "code",
   "execution_count": 23,
   "metadata": {},
   "outputs": [],
   "source": [
    "# After reshaping the grid, we are going to extract the recommendations for game genre, game titles, and games similar to those already rated by the streamers as a three-pronged recommender approach."
   ]
  },
  {
   "cell_type": "code",
   "execution_count": 24,
   "metadata": {},
   "outputs": [],
   "source": [
    "import pickle"
   ]
  },
  {
   "cell_type": "code",
   "execution_count": 25,
   "metadata": {},
   "outputs": [],
   "source": [
    "pickle.dump(grid_new, open(\"./Data/final_grid_06_07_19.pkl\", \"wb\" ) )"
   ]
  },
  {
   "cell_type": "code",
   "execution_count": 26,
   "metadata": {},
   "outputs": [],
   "source": [
    "grid_new = pickle.load( open( \"./Data/final_grid_06_07_19.pkl\", \"rb\" ) )"
   ]
  },
  {
   "cell_type": "code",
   "execution_count": 27,
   "metadata": {},
   "outputs": [
    {
     "name": "stdout",
     "output_type": "stream",
     "text": [
      "<class 'pandas.core.frame.DataFrame'>\n",
      "Int64Index: 1137673 entries, 0 to 1387491\n",
      "Data columns (total 10 columns):\n",
      "user_name       1137673 non-null object\n",
      "game_name       1137673 non-null object\n",
      "game_genres     1137673 non-null object\n",
      "language        1137673 non-null object\n",
      "started_at      1137673 non-null object\n",
      "viewer_count    1137673 non-null int64\n",
      "max             1137673 non-null int64\n",
      "max_game_int    1137673 non-null int64\n",
      "score           1137673 non-null float64\n",
      "scaled_score    1137673 non-null float64\n",
      "dtypes: float64(2), int64(3), object(5)\n",
      "memory usage: 95.5+ MB\n"
     ]
    }
   ],
   "source": [
    "grid_new.info()"
   ]
  },
  {
   "cell_type": "code",
   "execution_count": 28,
   "metadata": {
    "scrolled": true
   },
   "outputs": [
    {
     "data": {
      "text/html": [
       "<div>\n",
       "<style scoped>\n",
       "    .dataframe tbody tr th:only-of-type {\n",
       "        vertical-align: middle;\n",
       "    }\n",
       "\n",
       "    .dataframe tbody tr th {\n",
       "        vertical-align: top;\n",
       "    }\n",
       "\n",
       "    .dataframe thead th {\n",
       "        text-align: right;\n",
       "    }\n",
       "</style>\n",
       "<table border=\"1\" class=\"dataframe\">\n",
       "  <thead>\n",
       "    <tr style=\"text-align: right;\">\n",
       "      <th></th>\n",
       "      <th>user_name</th>\n",
       "      <th>game_name</th>\n",
       "      <th>game_genres</th>\n",
       "      <th>language</th>\n",
       "      <th>started_at</th>\n",
       "      <th>viewer_count</th>\n",
       "      <th>max</th>\n",
       "      <th>max_game_int</th>\n",
       "      <th>score</th>\n",
       "      <th>scaled_score</th>\n",
       "    </tr>\n",
       "  </thead>\n",
       "  <tbody>\n",
       "    <tr>\n",
       "      <th>0</th>\n",
       "      <td>龜狗</td>\n",
       "      <td>Grand Theft Auto V</td>\n",
       "      <td>Action</td>\n",
       "      <td>zh</td>\n",
       "      <td>2019-06-06 07:30:59</td>\n",
       "      <td>1735</td>\n",
       "      <td>1735</td>\n",
       "      <td>1735</td>\n",
       "      <td>1.00000</td>\n",
       "      <td>5.000000</td>\n",
       "    </tr>\n",
       "    <tr>\n",
       "      <th>1</th>\n",
       "      <td>龜狗</td>\n",
       "      <td>Grand Theft Auto V</td>\n",
       "      <td>Open World</td>\n",
       "      <td>zh</td>\n",
       "      <td>2019-06-06 07:30:59</td>\n",
       "      <td>1735</td>\n",
       "      <td>1735</td>\n",
       "      <td>1735</td>\n",
       "      <td>1.00000</td>\n",
       "      <td>5.000000</td>\n",
       "    </tr>\n",
       "    <tr>\n",
       "      <th>2</th>\n",
       "      <td>龜狗</td>\n",
       "      <td>Grand Theft Auto V</td>\n",
       "      <td>Driving/Racing Game</td>\n",
       "      <td>zh</td>\n",
       "      <td>2019-06-06 07:30:59</td>\n",
       "      <td>1735</td>\n",
       "      <td>1735</td>\n",
       "      <td>1735</td>\n",
       "      <td>1.00000</td>\n",
       "      <td>5.000000</td>\n",
       "    </tr>\n",
       "    <tr>\n",
       "      <th>3</th>\n",
       "      <td>龜狗</td>\n",
       "      <td>Grand Theft Auto V</td>\n",
       "      <td>Open World</td>\n",
       "      <td>zh</td>\n",
       "      <td>2019-06-06 07:30:59</td>\n",
       "      <td>1589</td>\n",
       "      <td>1589</td>\n",
       "      <td>1735</td>\n",
       "      <td>0.91585</td>\n",
       "      <td>4.663401</td>\n",
       "    </tr>\n",
       "    <tr>\n",
       "      <th>4</th>\n",
       "      <td>龜狗</td>\n",
       "      <td>Grand Theft Auto V</td>\n",
       "      <td>Action</td>\n",
       "      <td>zh</td>\n",
       "      <td>2019-06-06 07:30:59</td>\n",
       "      <td>1589</td>\n",
       "      <td>1589</td>\n",
       "      <td>1735</td>\n",
       "      <td>0.91585</td>\n",
       "      <td>4.663401</td>\n",
       "    </tr>\n",
       "  </tbody>\n",
       "</table>\n",
       "</div>"
      ],
      "text/plain": [
       "  user_name           game_name          game_genres language  \\\n",
       "0        龜狗  Grand Theft Auto V               Action       zh   \n",
       "1        龜狗  Grand Theft Auto V           Open World       zh   \n",
       "2        龜狗  Grand Theft Auto V  Driving/Racing Game       zh   \n",
       "3        龜狗  Grand Theft Auto V           Open World       zh   \n",
       "4        龜狗  Grand Theft Auto V               Action       zh   \n",
       "\n",
       "            started_at  viewer_count   max  max_game_int    score  \\\n",
       "0  2019-06-06 07:30:59          1735  1735          1735  1.00000   \n",
       "1  2019-06-06 07:30:59          1735  1735          1735  1.00000   \n",
       "2  2019-06-06 07:30:59          1735  1735          1735  1.00000   \n",
       "3  2019-06-06 07:30:59          1589  1589          1735  0.91585   \n",
       "4  2019-06-06 07:30:59          1589  1589          1735  0.91585   \n",
       "\n",
       "   scaled_score  \n",
       "0      5.000000  \n",
       "1      5.000000  \n",
       "2      5.000000  \n",
       "3      4.663401  \n",
       "4      4.663401  "
      ]
     },
     "execution_count": 28,
     "metadata": {},
     "output_type": "execute_result"
    }
   ],
   "source": [
    "grid_new.head(5)"
   ]
  },
  {
   "cell_type": "code",
   "execution_count": 29,
   "metadata": {},
   "outputs": [],
   "source": [
    "# preparing for genre recommendations based on viewership scores:"
   ]
  },
  {
   "cell_type": "code",
   "execution_count": 30,
   "metadata": {
    "scrolled": true
   },
   "outputs": [],
   "source": [
    "genres = grid_new.groupby(by = ['user_name', 'game_genres'])['scaled_score'].agg([np.mean])\n",
    "games = grid_new.groupby(by = ['user_name', 'game_name'])['scaled_score'].agg([np.mean])"
   ]
  },
  {
   "cell_type": "code",
   "execution_count": 31,
   "metadata": {},
   "outputs": [
    {
     "data": {
      "text/html": [
       "<div>\n",
       "<style scoped>\n",
       "    .dataframe tbody tr th:only-of-type {\n",
       "        vertical-align: middle;\n",
       "    }\n",
       "\n",
       "    .dataframe tbody tr th {\n",
       "        vertical-align: top;\n",
       "    }\n",
       "\n",
       "    .dataframe thead th {\n",
       "        text-align: right;\n",
       "    }\n",
       "</style>\n",
       "<table border=\"1\" class=\"dataframe\">\n",
       "  <thead>\n",
       "    <tr style=\"text-align: right;\">\n",
       "      <th></th>\n",
       "      <th></th>\n",
       "      <th>mean</th>\n",
       "    </tr>\n",
       "    <tr>\n",
       "      <th>user_name</th>\n",
       "      <th>game_genres</th>\n",
       "      <th></th>\n",
       "    </tr>\n",
       "  </thead>\n",
       "  <tbody>\n",
       "    <tr>\n",
       "      <th rowspan=\"4\" valign=\"top\">00NothingLabs</th>\n",
       "      <th>Fighting</th>\n",
       "      <td>2.421053</td>\n",
       "    </tr>\n",
       "    <tr>\n",
       "      <th>Open World</th>\n",
       "      <td>1.578947</td>\n",
       "    </tr>\n",
       "    <tr>\n",
       "      <th>RPG</th>\n",
       "      <td>1.578947</td>\n",
       "    </tr>\n",
       "    <tr>\n",
       "      <th>Shooter</th>\n",
       "      <td>1.578947</td>\n",
       "    </tr>\n",
       "    <tr>\n",
       "      <th>00elu00</th>\n",
       "      <th>Action</th>\n",
       "      <td>4.000000</td>\n",
       "    </tr>\n",
       "  </tbody>\n",
       "</table>\n",
       "</div>"
      ],
      "text/plain": [
       "                               mean\n",
       "user_name     game_genres          \n",
       "00NothingLabs Fighting     2.421053\n",
       "              Open World   1.578947\n",
       "              RPG          1.578947\n",
       "              Shooter      1.578947\n",
       "00elu00       Action       4.000000"
      ]
     },
     "execution_count": 31,
     "metadata": {},
     "output_type": "execute_result"
    }
   ],
   "source": [
    "genres.head(5)"
   ]
  },
  {
   "cell_type": "code",
   "execution_count": 32,
   "metadata": {},
   "outputs": [
    {
     "data": {
      "text/html": [
       "<div>\n",
       "<style scoped>\n",
       "    .dataframe tbody tr th:only-of-type {\n",
       "        vertical-align: middle;\n",
       "    }\n",
       "\n",
       "    .dataframe tbody tr th {\n",
       "        vertical-align: top;\n",
       "    }\n",
       "\n",
       "    .dataframe thead th {\n",
       "        text-align: right;\n",
       "    }\n",
       "</style>\n",
       "<table border=\"1\" class=\"dataframe\">\n",
       "  <thead>\n",
       "    <tr style=\"text-align: right;\">\n",
       "      <th></th>\n",
       "      <th></th>\n",
       "      <th>mean</th>\n",
       "    </tr>\n",
       "    <tr>\n",
       "      <th>user_name</th>\n",
       "      <th>game_name</th>\n",
       "      <th></th>\n",
       "    </tr>\n",
       "  </thead>\n",
       "  <tbody>\n",
       "    <tr>\n",
       "      <th rowspan=\"2\" valign=\"top\">00NothingLabs</th>\n",
       "      <th>Mortal Kombat 11</th>\n",
       "      <td>2.421053</td>\n",
       "    </tr>\n",
       "    <tr>\n",
       "      <th>Tom Clancy's The Division 2</th>\n",
       "      <td>1.578947</td>\n",
       "    </tr>\n",
       "    <tr>\n",
       "      <th rowspan=\"2\" valign=\"top\">00elu00</th>\n",
       "      <th>Dead by Daylight</th>\n",
       "      <td>4.666667</td>\n",
       "    </tr>\n",
       "    <tr>\n",
       "      <th>Deathgarden</th>\n",
       "      <td>2.000000</td>\n",
       "    </tr>\n",
       "    <tr>\n",
       "      <th>01joga</th>\n",
       "      <th>PUBG MOBILE</th>\n",
       "      <td>3.750000</td>\n",
       "    </tr>\n",
       "  </tbody>\n",
       "</table>\n",
       "</div>"
      ],
      "text/plain": [
       "                                               mean\n",
       "user_name     game_name                            \n",
       "00NothingLabs Mortal Kombat 11             2.421053\n",
       "              Tom Clancy's The Division 2  1.578947\n",
       "00elu00       Dead by Daylight             4.666667\n",
       "              Deathgarden                  2.000000\n",
       "01joga        PUBG MOBILE                  3.750000"
      ]
     },
     "execution_count": 32,
     "metadata": {},
     "output_type": "execute_result"
    }
   ],
   "source": [
    "games.head(5)"
   ]
  },
  {
   "cell_type": "code",
   "execution_count": 33,
   "metadata": {},
   "outputs": [],
   "source": [
    "genres.columns = genres.columns.map(''.join)\n",
    "games.columns = games.columns.map(''.join)"
   ]
  },
  {
   "cell_type": "code",
   "execution_count": 34,
   "metadata": {},
   "outputs": [],
   "source": [
    "genres = genres.reset_index()\n",
    "games = games.reset_index()"
   ]
  },
  {
   "cell_type": "code",
   "execution_count": 35,
   "metadata": {},
   "outputs": [
    {
     "name": "stdout",
     "output_type": "stream",
     "text": [
      "<class 'pandas.core.frame.DataFrame'>\n",
      "RangeIndex: 181215 entries, 0 to 181214\n",
      "Data columns (total 3 columns):\n",
      "user_name      181215 non-null object\n",
      "game_genres    181215 non-null object\n",
      "mean           181215 non-null float64\n",
      "dtypes: float64(1), object(2)\n",
      "memory usage: 4.1+ MB\n"
     ]
    }
   ],
   "source": [
    "genres.info()"
   ]
  },
  {
   "cell_type": "code",
   "execution_count": 36,
   "metadata": {},
   "outputs": [
    {
     "name": "stdout",
     "output_type": "stream",
     "text": [
      "<class 'pandas.core.frame.DataFrame'>\n",
      "RangeIndex: 93606 entries, 0 to 93605\n",
      "Data columns (total 3 columns):\n",
      "user_name    93606 non-null object\n",
      "game_name    93606 non-null object\n",
      "mean         93606 non-null float64\n",
      "dtypes: float64(1), object(2)\n",
      "memory usage: 2.1+ MB\n"
     ]
    }
   ],
   "source": [
    "games.info()"
   ]
  },
  {
   "cell_type": "code",
   "execution_count": 37,
   "metadata": {
    "scrolled": true
   },
   "outputs": [
    {
     "data": {
      "text/html": [
       "<div>\n",
       "<style scoped>\n",
       "    .dataframe tbody tr th:only-of-type {\n",
       "        vertical-align: middle;\n",
       "    }\n",
       "\n",
       "    .dataframe tbody tr th {\n",
       "        vertical-align: top;\n",
       "    }\n",
       "\n",
       "    .dataframe thead th {\n",
       "        text-align: right;\n",
       "    }\n",
       "</style>\n",
       "<table border=\"1\" class=\"dataframe\">\n",
       "  <thead>\n",
       "    <tr style=\"text-align: right;\">\n",
       "      <th></th>\n",
       "      <th>user_name</th>\n",
       "      <th>game_genres</th>\n",
       "      <th>mean</th>\n",
       "    </tr>\n",
       "  </thead>\n",
       "  <tbody>\n",
       "    <tr>\n",
       "      <th>0</th>\n",
       "      <td>00NothingLabs</td>\n",
       "      <td>Fighting</td>\n",
       "      <td>2.421053</td>\n",
       "    </tr>\n",
       "    <tr>\n",
       "      <th>1</th>\n",
       "      <td>00NothingLabs</td>\n",
       "      <td>Open World</td>\n",
       "      <td>1.578947</td>\n",
       "    </tr>\n",
       "    <tr>\n",
       "      <th>2</th>\n",
       "      <td>00NothingLabs</td>\n",
       "      <td>RPG</td>\n",
       "      <td>1.578947</td>\n",
       "    </tr>\n",
       "    <tr>\n",
       "      <th>3</th>\n",
       "      <td>00NothingLabs</td>\n",
       "      <td>Shooter</td>\n",
       "      <td>1.578947</td>\n",
       "    </tr>\n",
       "    <tr>\n",
       "      <th>4</th>\n",
       "      <td>00elu00</td>\n",
       "      <td>Action</td>\n",
       "      <td>4.000000</td>\n",
       "    </tr>\n",
       "  </tbody>\n",
       "</table>\n",
       "</div>"
      ],
      "text/plain": [
       "       user_name game_genres      mean\n",
       "0  00NothingLabs    Fighting  2.421053\n",
       "1  00NothingLabs  Open World  1.578947\n",
       "2  00NothingLabs         RPG  1.578947\n",
       "3  00NothingLabs     Shooter  1.578947\n",
       "4        00elu00      Action  4.000000"
      ]
     },
     "execution_count": 37,
     "metadata": {},
     "output_type": "execute_result"
    }
   ],
   "source": [
    "genres.head(5)"
   ]
  },
  {
   "cell_type": "code",
   "execution_count": 38,
   "metadata": {},
   "outputs": [
    {
     "data": {
      "text/html": [
       "<div>\n",
       "<style scoped>\n",
       "    .dataframe tbody tr th:only-of-type {\n",
       "        vertical-align: middle;\n",
       "    }\n",
       "\n",
       "    .dataframe tbody tr th {\n",
       "        vertical-align: top;\n",
       "    }\n",
       "\n",
       "    .dataframe thead th {\n",
       "        text-align: right;\n",
       "    }\n",
       "</style>\n",
       "<table border=\"1\" class=\"dataframe\">\n",
       "  <thead>\n",
       "    <tr style=\"text-align: right;\">\n",
       "      <th></th>\n",
       "      <th>user_name</th>\n",
       "      <th>game_name</th>\n",
       "      <th>mean</th>\n",
       "    </tr>\n",
       "  </thead>\n",
       "  <tbody>\n",
       "    <tr>\n",
       "      <th>0</th>\n",
       "      <td>00NothingLabs</td>\n",
       "      <td>Mortal Kombat 11</td>\n",
       "      <td>2.421053</td>\n",
       "    </tr>\n",
       "    <tr>\n",
       "      <th>1</th>\n",
       "      <td>00NothingLabs</td>\n",
       "      <td>Tom Clancy's The Division 2</td>\n",
       "      <td>1.578947</td>\n",
       "    </tr>\n",
       "    <tr>\n",
       "      <th>2</th>\n",
       "      <td>00elu00</td>\n",
       "      <td>Dead by Daylight</td>\n",
       "      <td>4.666667</td>\n",
       "    </tr>\n",
       "    <tr>\n",
       "      <th>3</th>\n",
       "      <td>00elu00</td>\n",
       "      <td>Deathgarden</td>\n",
       "      <td>2.000000</td>\n",
       "    </tr>\n",
       "    <tr>\n",
       "      <th>4</th>\n",
       "      <td>01joga</td>\n",
       "      <td>PUBG MOBILE</td>\n",
       "      <td>3.750000</td>\n",
       "    </tr>\n",
       "  </tbody>\n",
       "</table>\n",
       "</div>"
      ],
      "text/plain": [
       "       user_name                    game_name      mean\n",
       "0  00NothingLabs             Mortal Kombat 11  2.421053\n",
       "1  00NothingLabs  Tom Clancy's The Division 2  1.578947\n",
       "2        00elu00             Dead by Daylight  4.666667\n",
       "3        00elu00                  Deathgarden  2.000000\n",
       "4         01joga                  PUBG MOBILE  3.750000"
      ]
     },
     "execution_count": 38,
     "metadata": {},
     "output_type": "execute_result"
    }
   ],
   "source": [
    "games.head(5)"
   ]
  },
  {
   "cell_type": "code",
   "execution_count": 39,
   "metadata": {},
   "outputs": [],
   "source": [
    "#using Surprise to predict genres/games for a streamer based on their existing genre ratings:"
   ]
  },
  {
   "cell_type": "code",
   "execution_count": 40,
   "metadata": {},
   "outputs": [],
   "source": [
    "import surprise\n",
    "from surprise import Dataset, accuracy, Reader, NMF, NormalPredictor, BaselineOnly, CoClustering, SlopeOne, SVD, KNNBaseline\n",
    "from surprise.model_selection import GridSearchCV, cross_validate, train_test_split"
   ]
  },
  {
   "cell_type": "code",
   "execution_count": 41,
   "metadata": {},
   "outputs": [],
   "source": [
    "reader = Reader(rating_scale=(1, 5))\n",
    "genre_data = Dataset.load_from_df(genres[['user_name', 'game_genres', 'mean']], reader)"
   ]
  },
  {
   "cell_type": "code",
   "execution_count": 42,
   "metadata": {},
   "outputs": [],
   "source": [
    "game_data = Dataset.load_from_df(games[['user_name', 'game_name', 'mean']], reader)"
   ]
  },
  {
   "cell_type": "code",
   "execution_count": 43,
   "metadata": {
    "scrolled": true
   },
   "outputs": [
    {
     "name": "stdout",
     "output_type": "stream",
     "text": [
      "Estimating biases using als...\n",
      "Estimating biases using als...\n",
      "Estimating biases using als...\n",
      "Estimating biases using als...\n",
      "Estimating biases using als...\n"
     ]
    },
    {
     "data": {
      "text/html": [
       "<div>\n",
       "<style scoped>\n",
       "    .dataframe tbody tr th:only-of-type {\n",
       "        vertical-align: middle;\n",
       "    }\n",
       "\n",
       "    .dataframe tbody tr th {\n",
       "        vertical-align: top;\n",
       "    }\n",
       "\n",
       "    .dataframe thead th {\n",
       "        text-align: right;\n",
       "    }\n",
       "</style>\n",
       "<table border=\"1\" class=\"dataframe\">\n",
       "  <thead>\n",
       "    <tr style=\"text-align: right;\">\n",
       "      <th></th>\n",
       "      <th>test_rmse</th>\n",
       "      <th>fit_time</th>\n",
       "      <th>test_time</th>\n",
       "    </tr>\n",
       "    <tr>\n",
       "      <th>Algorithm</th>\n",
       "      <th></th>\n",
       "      <th></th>\n",
       "      <th></th>\n",
       "    </tr>\n",
       "  </thead>\n",
       "  <tbody>\n",
       "    <tr>\n",
       "      <th>SlopeOne</th>\n",
       "      <td>0.583921</td>\n",
       "      <td>0.531420</td>\n",
       "      <td>0.389072</td>\n",
       "    </tr>\n",
       "    <tr>\n",
       "      <th>NMF</th>\n",
       "      <td>0.657008</td>\n",
       "      <td>9.962431</td>\n",
       "      <td>0.221860</td>\n",
       "    </tr>\n",
       "    <tr>\n",
       "      <th>SVD</th>\n",
       "      <td>0.686441</td>\n",
       "      <td>6.620686</td>\n",
       "      <td>0.306897</td>\n",
       "    </tr>\n",
       "    <tr>\n",
       "      <th>BaselineOnly</th>\n",
       "      <td>0.736105</td>\n",
       "      <td>0.489835</td>\n",
       "      <td>0.192276</td>\n",
       "    </tr>\n",
       "    <tr>\n",
       "      <th>CoClustering</th>\n",
       "      <td>0.769125</td>\n",
       "      <td>6.987103</td>\n",
       "      <td>0.178664</td>\n",
       "    </tr>\n",
       "    <tr>\n",
       "      <th>NormalPredictor</th>\n",
       "      <td>1.103599</td>\n",
       "      <td>0.197514</td>\n",
       "      <td>0.246395</td>\n",
       "    </tr>\n",
       "  </tbody>\n",
       "</table>\n",
       "</div>"
      ],
      "text/plain": [
       "                 test_rmse  fit_time  test_time\n",
       "Algorithm                                      \n",
       "SlopeOne          0.583921  0.531420   0.389072\n",
       "NMF               0.657008  9.962431   0.221860\n",
       "SVD               0.686441  6.620686   0.306897\n",
       "BaselineOnly      0.736105  0.489835   0.192276\n",
       "CoClustering      0.769125  6.987103   0.178664\n",
       "NormalPredictor   1.103599  0.197514   0.246395"
      ]
     },
     "execution_count": 43,
     "metadata": {},
     "output_type": "execute_result"
    }
   ],
   "source": [
    "benchmark = []\n",
    "# Iterate over all algorithms\n",
    "for algorithm in [SlopeOne(), NormalPredictor(), BaselineOnly(), NMF(), CoClustering(), SVD()]:\n",
    "\n",
    "\n",
    "    # Perform cross validation\n",
    "    results = cross_validate(algorithm, genre_data, measures=['RMSE'], cv=5, verbose=False)\n",
    "    \n",
    "    # Get results & append algorithm name\n",
    "    tmp = pd.DataFrame.from_dict(results).mean(axis=0)\n",
    "    tmp = tmp.append(pd.Series([str(algorithm).split(' ')[0].split('.')[-1]], index=['Algorithm']))\n",
    "    benchmark.append(tmp)\n",
    "    \n",
    "pd.DataFrame(benchmark).set_index('Algorithm').sort_values('test_rmse')  "
   ]
  },
  {
   "cell_type": "code",
   "execution_count": 44,
   "metadata": {},
   "outputs": [
    {
     "name": "stdout",
     "output_type": "stream",
     "text": [
      "Evaluating RMSE of algorithm SlopeOne on 5 split(s).\n",
      "\n",
      "                  Fold 1  Fold 2  Fold 3  Fold 4  Fold 5  Mean    Std     \n",
      "RMSE (testset)    0.9628  0.9649  0.9627  0.9665  0.9715  0.9657  0.0033  \n",
      "Fit time          0.42    0.44    0.44    0.43    0.41    0.43    0.01    \n",
      "Test time         0.21    0.12    0.13    0.12    0.12    0.14    0.03    \n",
      "Evaluating RMSE of algorithm NormalPredictor on 5 split(s).\n",
      "\n",
      "                  Fold 1  Fold 2  Fold 3  Fold 4  Fold 5  Mean    Std     \n",
      "RMSE (testset)    1.1558  1.1509  1.1476  1.1568  1.1587  1.1540  0.0041  \n",
      "Fit time          0.09    0.12    0.12    0.12    0.11    0.11    0.01    \n",
      "Test time         0.21    0.10    0.10    0.09    0.08    0.12    0.05    \n",
      "Estimating biases using als...\n",
      "Estimating biases using als...\n",
      "Estimating biases using als...\n",
      "Estimating biases using als...\n",
      "Estimating biases using als...\n",
      "Evaluating RMSE of algorithm BaselineOnly on 5 split(s).\n",
      "\n",
      "                  Fold 1  Fold 2  Fold 3  Fold 4  Fold 5  Mean    Std     \n",
      "RMSE (testset)    0.8027  0.7935  0.8081  0.7957  0.7944  0.7989  0.0056  \n",
      "Fit time          0.28    0.28    0.33    0.31    0.31    0.30    0.02    \n",
      "Test time         0.09    0.09    0.10    0.09    0.20    0.12    0.04    \n",
      "Evaluating RMSE of algorithm NMF on 5 split(s).\n",
      "\n",
      "                  Fold 1  Fold 2  Fold 3  Fold 4  Fold 5  Mean    Std     \n",
      "RMSE (testset)    0.9829  0.9802  0.9738  0.9803  0.9759  0.9786  0.0033  \n",
      "Fit time          6.11    6.43    6.18    6.59    6.71    6.40    0.23    \n",
      "Test time         0.09    0.09    0.08    0.13    0.10    0.10    0.02    \n",
      "Evaluating RMSE of algorithm CoClustering on 5 split(s).\n",
      "\n",
      "                  Fold 1  Fold 2  Fold 3  Fold 4  Fold 5  Mean    Std     \n",
      "RMSE (testset)    1.0257  1.0352  1.0379  1.0260  1.0303  1.0310  0.0049  \n",
      "Fit time          5.18    4.72    4.70    5.11    5.05    4.95    0.20    \n",
      "Test time         0.09    0.23    0.09    0.25    0.09    0.15    0.08    \n",
      "Evaluating RMSE of algorithm SVD on 5 split(s).\n",
      "\n",
      "                  Fold 1  Fold 2  Fold 3  Fold 4  Fold 5  Mean    Std     \n",
      "RMSE (testset)    0.8037  0.8060  0.8014  0.8035  0.8037  0.8037  0.0014  \n",
      "Fit time          3.47    3.52    3.51    3.56    3.50    3.51    0.03    \n",
      "Test time         0.27    0.09    0.10    0.09    0.10    0.13    0.07    \n"
     ]
    },
    {
     "data": {
      "text/html": [
       "<div>\n",
       "<style scoped>\n",
       "    .dataframe tbody tr th:only-of-type {\n",
       "        vertical-align: middle;\n",
       "    }\n",
       "\n",
       "    .dataframe tbody tr th {\n",
       "        vertical-align: top;\n",
       "    }\n",
       "\n",
       "    .dataframe thead th {\n",
       "        text-align: right;\n",
       "    }\n",
       "</style>\n",
       "<table border=\"1\" class=\"dataframe\">\n",
       "  <thead>\n",
       "    <tr style=\"text-align: right;\">\n",
       "      <th></th>\n",
       "      <th>test_rmse</th>\n",
       "      <th>fit_time</th>\n",
       "      <th>test_time</th>\n",
       "    </tr>\n",
       "    <tr>\n",
       "      <th>Algorithm</th>\n",
       "      <th></th>\n",
       "      <th></th>\n",
       "      <th></th>\n",
       "    </tr>\n",
       "  </thead>\n",
       "  <tbody>\n",
       "    <tr>\n",
       "      <th>BaselineOnly</th>\n",
       "      <td>0.798890</td>\n",
       "      <td>0.301758</td>\n",
       "      <td>0.115608</td>\n",
       "    </tr>\n",
       "    <tr>\n",
       "      <th>SVD</th>\n",
       "      <td>0.803675</td>\n",
       "      <td>3.511643</td>\n",
       "      <td>0.132568</td>\n",
       "    </tr>\n",
       "    <tr>\n",
       "      <th>SlopeOne</th>\n",
       "      <td>0.965683</td>\n",
       "      <td>0.430204</td>\n",
       "      <td>0.138744</td>\n",
       "    </tr>\n",
       "    <tr>\n",
       "      <th>NMF</th>\n",
       "      <td>0.978632</td>\n",
       "      <td>6.402927</td>\n",
       "      <td>0.097301</td>\n",
       "    </tr>\n",
       "    <tr>\n",
       "      <th>CoClustering</th>\n",
       "      <td>1.031011</td>\n",
       "      <td>4.950078</td>\n",
       "      <td>0.150136</td>\n",
       "    </tr>\n",
       "    <tr>\n",
       "      <th>NormalPredictor</th>\n",
       "      <td>1.153988</td>\n",
       "      <td>0.108952</td>\n",
       "      <td>0.115581</td>\n",
       "    </tr>\n",
       "  </tbody>\n",
       "</table>\n",
       "</div>"
      ],
      "text/plain": [
       "                 test_rmse  fit_time  test_time\n",
       "Algorithm                                      \n",
       "BaselineOnly      0.798890  0.301758   0.115608\n",
       "SVD               0.803675  3.511643   0.132568\n",
       "SlopeOne          0.965683  0.430204   0.138744\n",
       "NMF               0.978632  6.402927   0.097301\n",
       "CoClustering      1.031011  4.950078   0.150136\n",
       "NormalPredictor   1.153988  0.108952   0.115581"
      ]
     },
     "execution_count": 44,
     "metadata": {},
     "output_type": "execute_result"
    }
   ],
   "source": [
    "benchmark = []\n",
    "# Iterate over all algorithms\n",
    "for algorithm in [SlopeOne(), NormalPredictor(), BaselineOnly(), NMF(), CoClustering(), SVD()]:\n",
    "\n",
    "\n",
    "    # Perform cross validation\n",
    "    results = cross_validate(algorithm, game_data, measures=['RMSE'], cv=5, verbose=True)\n",
    "    \n",
    "    # Get results & append algorithm name\n",
    "    tmp = pd.DataFrame.from_dict(results).mean(axis=0)\n",
    "    tmp = tmp.append(pd.Series([str(algorithm).split(' ')[0].split('.')[-1]], index=['Algorithm']))\n",
    "    benchmark.append(tmp)\n",
    "    \n",
    "pd.DataFrame(benchmark).set_index('Algorithm').sort_values('test_rmse')  "
   ]
  },
  {
   "cell_type": "code",
   "execution_count": 45,
   "metadata": {},
   "outputs": [],
   "source": [
    "# Based on the results, we will proceed with SlopeOne for genre predictions. More information about SlopeOne can be found here: https://arxiv.org/abs/cs/0702144"
   ]
  },
  {
   "cell_type": "code",
   "execution_count": 46,
   "metadata": {},
   "outputs": [],
   "source": [
    "# Based on the results, we will proceed with BaselineOnly for game predictions."
   ]
  },
  {
   "cell_type": "code",
   "execution_count": 47,
   "metadata": {},
   "outputs": [
    {
     "name": "stdout",
     "output_type": "stream",
     "text": [
      "Evaluating RMSE of algorithm SlopeOne on 7 split(s).\n",
      "\n",
      "                  Fold 1  Fold 2  Fold 3  Fold 4  Fold 5  Fold 6  Fold 7  Mean    Std     \n",
      "RMSE (testset)    0.5703  0.5742  0.5734  0.5654  0.5614  0.5848  0.5719  0.5716  0.0068  \n",
      "Fit time          0.50    0.60    0.55    0.54    0.55    0.56    0.54    0.55    0.03    \n",
      "Test time         0.23    0.25    0.23    0.22    0.34    0.21    0.21    0.24    0.04    \n"
     ]
    },
    {
     "data": {
      "text/plain": [
       "{'test_rmse': array([0.57029229, 0.57422004, 0.57343479, 0.56542988, 0.5614175 ,\n",
       "        0.58481514, 0.57188791]),\n",
       " 'fit_time': (0.49828195571899414,\n",
       "  0.5985500812530518,\n",
       "  0.547184944152832,\n",
       "  0.5449793338775635,\n",
       "  0.5492870807647705,\n",
       "  0.5629177093505859,\n",
       "  0.5351979732513428),\n",
       " 'test_time': (0.226593017578125,\n",
       "  0.2510550022125244,\n",
       "  0.22681212425231934,\n",
       "  0.22183775901794434,\n",
       "  0.33522605895996094,\n",
       "  0.20784807205200195,\n",
       "  0.20910286903381348)}"
      ]
     },
     "execution_count": 47,
     "metadata": {},
     "output_type": "execute_result"
    }
   ],
   "source": [
    "algo_genre = SlopeOne()\n",
    "cross_validate(algo_genre, genre_data, measures=['RMSE'], cv=7, verbose=True)"
   ]
  },
  {
   "cell_type": "code",
   "execution_count": 48,
   "metadata": {},
   "outputs": [
    {
     "name": "stdout",
     "output_type": "stream",
     "text": [
      "Estimating biases using als...\n",
      "Estimating biases using als...\n",
      "Estimating biases using als...\n",
      "Estimating biases using als...\n",
      "Estimating biases using als...\n",
      "Estimating biases using als...\n",
      "Estimating biases using als...\n",
      "Evaluating RMSE of algorithm BaselineOnly on 7 split(s).\n",
      "\n",
      "                  Fold 1  Fold 2  Fold 3  Fold 4  Fold 5  Fold 6  Fold 7  Mean    Std     \n",
      "RMSE (testset)    0.8009  0.7926  0.7999  0.8008  0.7925  0.7992  0.7977  0.7977  0.0034  \n",
      "Fit time          0.17    0.20    0.20    0.20    0.19    0.19    0.21    0.20    0.01    \n",
      "Test time         0.07    0.07    0.07    0.07    0.07    0.07    0.07    0.07    0.00    \n"
     ]
    },
    {
     "data": {
      "text/plain": [
       "{'test_rmse': array([0.80085355, 0.79261895, 0.79994394, 0.80083377, 0.79254518,\n",
       "        0.79919841, 0.7977099 ]),\n",
       " 'fit_time': (0.1748201847076416,\n",
       "  0.19878029823303223,\n",
       "  0.20044803619384766,\n",
       "  0.20410799980163574,\n",
       "  0.19025087356567383,\n",
       "  0.1910839080810547,\n",
       "  0.20923995971679688),\n",
       " 'test_time': (0.06641197204589844,\n",
       "  0.07117915153503418,\n",
       "  0.07161521911621094,\n",
       "  0.07212090492248535,\n",
       "  0.0654449462890625,\n",
       "  0.06582403182983398,\n",
       "  0.07269883155822754)}"
      ]
     },
     "execution_count": 48,
     "metadata": {},
     "output_type": "execute_result"
    }
   ],
   "source": [
    "bsl_options = {'method': 'als',\n",
    "               'n_epochs': 5,\n",
    "               'reg_u': 12,\n",
    "               'reg_i': 5\n",
    "               }\n",
    "algo_games = BaselineOnly(bsl_options=bsl_options)\n",
    "cross_validate(algo_games, game_data, measures=['RMSE'], cv=7, verbose=True)"
   ]
  },
  {
   "cell_type": "code",
   "execution_count": 49,
   "metadata": {},
   "outputs": [
    {
     "name": "stdout",
     "output_type": "stream",
     "text": [
      "RMSE: 0.5921\n"
     ]
    },
    {
     "data": {
      "text/plain": [
       "0.592118245254638"
      ]
     },
     "execution_count": 49,
     "metadata": {},
     "output_type": "execute_result"
    }
   ],
   "source": [
    "genre_trainset, genre_testset = train_test_split(genre_data, test_size=0.25)\n",
    "algo_genre = SlopeOne()\n",
    "genre_predictions = algo_genre.fit(genre_trainset).test(genre_testset)\n",
    "accuracy.rmse(genre_predictions)"
   ]
  },
  {
   "cell_type": "code",
   "execution_count": 50,
   "metadata": {},
   "outputs": [
    {
     "name": "stdout",
     "output_type": "stream",
     "text": [
      "Estimating biases using als...\n",
      "RMSE: 0.7953\n"
     ]
    },
    {
     "data": {
      "text/plain": [
       "0.7952873385219098"
      ]
     },
     "execution_count": 50,
     "metadata": {},
     "output_type": "execute_result"
    }
   ],
   "source": [
    "game_trainset, game_testset = train_test_split(game_data, test_size=0.25)\n",
    "algo_games = BaselineOnly(bsl_options=bsl_options)\n",
    "game_predictions = algo_games.fit(game_trainset).test(game_testset)\n",
    "accuracy.rmse(game_predictions)"
   ]
  },
  {
   "cell_type": "code",
   "execution_count": 51,
   "metadata": {},
   "outputs": [],
   "source": [
    "pickle.dump(algo_genre, open(\"./Data/SlopeOne_genre_model.pkl\", \"wb\" ) )\n",
    "algo_genre = pickle.load( open( \"./Data/SlopeOne_genre_model.pkl\", \"rb\" ) )"
   ]
  },
  {
   "cell_type": "code",
   "execution_count": 52,
   "metadata": {},
   "outputs": [],
   "source": [
    "pickle.dump(algo_games, open(\"./Data/BaselineOnly_game_model.pkl\", \"wb\" ) )\n",
    "algo_games = pickle.load( open( \"./Data/BaselineOnly_game_model.pkl\", \"rb\" ) )"
   ]
  },
  {
   "cell_type": "code",
   "execution_count": 53,
   "metadata": {},
   "outputs": [],
   "source": [
    "pickle.dump(genre_predictions, open(\"./Data/SlopeOne_genre_model_predictions.pkl\", \"wb\" ) )\n",
    "genre_predictions = pickle.load( open( \"./Data/SlopeOne_genre_model_predictions.pkl\", \"rb\" ) )"
   ]
  },
  {
   "cell_type": "code",
   "execution_count": 54,
   "metadata": {},
   "outputs": [],
   "source": [
    "pickle.dump(game_predictions, open(\"./Data/BaselineOnly_game_model_predictions.pkl\", \"wb\" ) )\n",
    "game_predictions = pickle.load( open( \"./Data/BaselineOnly_game_model_predictions.pkl\", \"rb\" ) )"
   ]
  },
  {
   "cell_type": "code",
   "execution_count": 55,
   "metadata": {},
   "outputs": [],
   "source": [
    "pickle.dump(genres, open(\"./Data/genres.pkl\", \"wb\" ) )\n",
    "genres = pickle.load( open( \"./Data/genres.pkl\", \"rb\" ) )"
   ]
  },
  {
   "cell_type": "code",
   "execution_count": 87,
   "metadata": {},
   "outputs": [],
   "source": [
    "pickle.dump(games, open(\"./Data/games.pkl\", \"wb\" ) )\n",
    "games = pickle.load( open( \"./Data/games.pkl\", \"rb\" ) )"
   ]
  },
  {
   "cell_type": "code",
   "execution_count": 88,
   "metadata": {},
   "outputs": [
    {
     "name": "stdout",
     "output_type": "stream",
     "text": [
      "What is your streamer name? ninja\n",
      "Which game genres do you currently stream? shooter\n",
      "Which games do you currently steam? Fortnite\n"
     ]
    }
   ],
   "source": [
    "streamer_name = input('What is your streamer name? ')\n",
    "streamer_genres = list(input ('Which game genres do you currently stream? ').split(', '))\n",
    "streamer_games = list(input ('Which games do you currently steam? ').split(', '))"
   ]
  },
  {
   "cell_type": "code",
   "execution_count": 89,
   "metadata": {},
   "outputs": [
    {
     "data": {
      "text/plain": [
       "('ninja', ['shooter'], ['Fortnite'])"
      ]
     },
     "execution_count": 89,
     "metadata": {},
     "output_type": "execute_result"
    }
   ],
   "source": [
    "streamer_name, streamer_genres, streamer_games"
   ]
  },
  {
   "cell_type": "code",
   "execution_count": 90,
   "metadata": {},
   "outputs": [],
   "source": [
    "#Making genre/game predictions for a specific streamer based on their user name:"
   ]
  },
  {
   "cell_type": "code",
   "execution_count": 91,
   "metadata": {},
   "outputs": [
    {
     "data": {
      "text/html": [
       "<div>\n",
       "<style scoped>\n",
       "    .dataframe tbody tr th:only-of-type {\n",
       "        vertical-align: middle;\n",
       "    }\n",
       "\n",
       "    .dataframe tbody tr th {\n",
       "        vertical-align: top;\n",
       "    }\n",
       "\n",
       "    .dataframe thead th {\n",
       "        text-align: right;\n",
       "    }\n",
       "</style>\n",
       "<table border=\"1\" class=\"dataframe\">\n",
       "  <thead>\n",
       "    <tr style=\"text-align: right;\">\n",
       "      <th></th>\n",
       "      <th>user_name</th>\n",
       "      <th>game_genres</th>\n",
       "      <th>mean</th>\n",
       "    </tr>\n",
       "  </thead>\n",
       "  <tbody>\n",
       "    <tr>\n",
       "      <th>0</th>\n",
       "      <td>00NothingLabs</td>\n",
       "      <td>Fighting</td>\n",
       "      <td>2.421053</td>\n",
       "    </tr>\n",
       "    <tr>\n",
       "      <th>1</th>\n",
       "      <td>00NothingLabs</td>\n",
       "      <td>Open World</td>\n",
       "      <td>1.578947</td>\n",
       "    </tr>\n",
       "    <tr>\n",
       "      <th>2</th>\n",
       "      <td>00NothingLabs</td>\n",
       "      <td>RPG</td>\n",
       "      <td>1.578947</td>\n",
       "    </tr>\n",
       "    <tr>\n",
       "      <th>3</th>\n",
       "      <td>00NothingLabs</td>\n",
       "      <td>Shooter</td>\n",
       "      <td>1.578947</td>\n",
       "    </tr>\n",
       "    <tr>\n",
       "      <th>4</th>\n",
       "      <td>00elu00</td>\n",
       "      <td>Action</td>\n",
       "      <td>4.000000</td>\n",
       "    </tr>\n",
       "  </tbody>\n",
       "</table>\n",
       "</div>"
      ],
      "text/plain": [
       "       user_name game_genres      mean\n",
       "0  00NothingLabs    Fighting  2.421053\n",
       "1  00NothingLabs  Open World  1.578947\n",
       "2  00NothingLabs         RPG  1.578947\n",
       "3  00NothingLabs     Shooter  1.578947\n",
       "4        00elu00      Action  4.000000"
      ]
     },
     "execution_count": 91,
     "metadata": {},
     "output_type": "execute_result"
    }
   ],
   "source": [
    "genres.head()"
   ]
  },
  {
   "cell_type": "code",
   "execution_count": 92,
   "metadata": {},
   "outputs": [
    {
     "data": {
      "text/plain": [
       "{'shooter'}"
      ]
     },
     "execution_count": 92,
     "metadata": {},
     "output_type": "execute_result"
    }
   ],
   "source": [
    "def display_current_genres(streamer_name):\n",
    "    user_genres = list(genres[genres['user_name']==streamer_name]['game_genres'])\n",
    "    return user_genres\n",
    "recorder_genres_list = display_current_genres(streamer_name)\n",
    "full_genres = set(recorder_genres_list + streamer_genres)\n",
    "full_genres"
   ]
  },
  {
   "cell_type": "code",
   "execution_count": 93,
   "metadata": {},
   "outputs": [
    {
     "data": {
      "text/plain": [
       "{'Fortnite'}"
      ]
     },
     "execution_count": 93,
     "metadata": {},
     "output_type": "execute_result"
    }
   ],
   "source": [
    "def display_current_games(streamer_name):\n",
    "    user_games = list(games[games['user_name']==streamer_name]['game_name'])\n",
    "    return user_games\n",
    "recorder_games_list = display_current_games(streamer_name)\n",
    "full_games = set(recorder_games_list + streamer_games)\n",
    "full_games"
   ]
  },
  {
   "cell_type": "markdown",
   "metadata": {},
   "source": [
    "####  Predicting Genres for Streamers (user-based similarities) ####"
   ]
  },
  {
   "cell_type": "code",
   "execution_count": 94,
   "metadata": {},
   "outputs": [],
   "source": [
    "from collections import defaultdict"
   ]
  },
  {
   "cell_type": "code",
   "execution_count": 95,
   "metadata": {},
   "outputs": [],
   "source": [
    "def get_top_n(predictions, n=10):\n",
    "    top_n = defaultdict(list)\n",
    "    for uid, iid, true_r, est, _ in predictions:\n",
    "        top_n[uid].append((iid, est))\n",
    "\n",
    "    # Then sort the predictions for each user and retrieve the k highest ones.\n",
    "    for uid, user_ratings in top_n.items():\n",
    "        user_ratings.sort(key=lambda x: x[1], reverse=True)\n",
    "        top_n[uid] = user_ratings[:n]\n",
    "\n",
    "    return top_n"
   ]
  },
  {
   "cell_type": "code",
   "execution_count": 96,
   "metadata": {},
   "outputs": [],
   "source": [
    "iids_genre = genres['game_genres'].unique()\n",
    "iids_genre_to_predict = np.setdiff1d(iids_genre, full_genres)"
   ]
  },
  {
   "cell_type": "code",
   "execution_count": 97,
   "metadata": {},
   "outputs": [],
   "source": [
    "iids_game = games['game_name'].unique()\n",
    "iids_game_to_predict = np.setdiff1d(iids_game, full_games)"
   ]
  },
  {
   "cell_type": "code",
   "execution_count": 98,
   "metadata": {},
   "outputs": [
    {
     "data": {
      "text/plain": [
       "array(['Action', 'Adventure Game', 'Card & Board Game', 'Compilation',\n",
       "       'Creative', 'Driving/Racing Game', 'Educational Game', 'FPS',\n",
       "       'Fighting', 'Flight Simulator', 'Gambling Game', 'Hidden Objects',\n",
       "       'Horror', 'IRL', 'Indie Game', 'MMORPG', 'MOBA', 'Metroidvania',\n",
       "       'Open World', 'Other', 'Platformer', 'Point and Click', 'Puzzle',\n",
       "       'RPG', 'RTS', 'Rhythm & Music Game', 'Roguelike', 'Series: Souls',\n",
       "       'Shooter', 'Simulation', 'Sports Game', 'Stealth', 'Strategy',\n",
       "       'Survival', 'Visual Novel'], dtype=object)"
      ]
     },
     "execution_count": 98,
     "metadata": {},
     "output_type": "execute_result"
    }
   ],
   "source": [
    "iids_genre_to_predict"
   ]
  },
  {
   "cell_type": "code",
   "execution_count": 99,
   "metadata": {},
   "outputs": [
    {
     "data": {
      "text/plain": [
       "array(['7 Days to Die', 'A Hat in Time', 'A Plague Tale: Innocence',\n",
       "       'A Way Out', 'ARK', 'ASMR', 'ATLAS', 'Agar.io',\n",
       "       'Age of Empires II', 'Age of Mythology', 'Albion Online',\n",
       "       'Alien: Isolation', 'Always On', 'American Truck Simulator',\n",
       "       'Anno 1800', 'Apex Legends', 'Arena of Valor', 'Arma 3', 'Art',\n",
       "       \"Assassin's Creed II\", \"Assassin's Creed III\",\n",
       "       \"Assassin's Creed Odyssey\", 'Assetto Corsa Competizione',\n",
       "       'Astroneer', 'Auto Chess', 'BaBa Is You', 'Bad North',\n",
       "       'Banjo-Kazooie', 'Barotrauma', 'Battalion 1944', 'Battle Brothers',\n",
       "       'Battlefield 1', 'Battlefield 4', 'Battlefield V', 'Beat Saber',\n",
       "       'BioShock', 'Black Desert Online', 'Blackjack', 'Blood & Truth',\n",
       "       'Bloodborne', 'Borderlands 2', 'Brawl Stars', 'Brawlhalla',\n",
       "       'Call of Duty: Black Ops 4', 'Call of Duty: Black Ops II',\n",
       "       'Call of Duty: Black Ops III', 'Call of Duty: Modern Warfare 3',\n",
       "       'Call of Duty: Modern Warfare Remastered', 'Call of Duty: WWII',\n",
       "       'Chess', 'Choice Chamber', 'Cities: Skylines', 'City of Brass',\n",
       "       'Clash Royale', 'Code Vein', 'Conan Exiles', 'Conan Unconquered',\n",
       "       \"Conqueror's Blade\", 'Cooking Simulator',\n",
       "       'Counter-Strike: Global Offensive', 'Cuphead',\n",
       "       'Danganronpa: Trigger Happy Havoc', 'Dark Souls', 'Dark Souls II',\n",
       "       'Dark Souls III', 'Darkest Dungeon', 'Dauntless', 'DayZ',\n",
       "       'Days Gone', 'Dead by Daylight', 'Deathgarden', 'Destiny 2',\n",
       "       'Detroit: Become Human', 'Devil May Cry 5', 'Diablo',\n",
       "       'Diablo II: Lord of Destruction', 'Diablo III: Reaper of Souls',\n",
       "       'Dirt Rally 2.0', 'Divinity: Original Sin II', 'Dofus',\n",
       "       'Doki Doki Literature Club', \"Don't Starve Together\",\n",
       "       'Donkey Kong Country: Tropical Freeze', 'Doom',\n",
       "       'Doom II: Hell on Earth', 'Dota 2', 'Dragon Ball FighterZ',\n",
       "       'Dragon Ball Legends', 'Draugen', 'Dreams', 'Dungeons & Dragons',\n",
       "       'Dying Light', 'Enter the Gungeon', 'Epic Seven',\n",
       "       'Escape From Tarkov', 'Eternal', 'Euro Truck Simulator 2',\n",
       "       'Europa Universalis IV', 'F1 2018', 'FIFA 19',\n",
       "       'FINAL FANTASY XIV Online', 'FTL: Faster Than Light', 'Fallout 76',\n",
       "       'Fallout: New Vegas', 'Farming Simulator 19', 'Final Fantasy VII',\n",
       "       'Final Fantasy X', \"Five Nights at Freddy's\",\n",
       "       \"Five Nights at Freddy's VR: Help Wanted\", 'Food & Drink',\n",
       "       'Football Manager 2019', 'Forager', 'Fortnite', 'Frostpunk',\n",
       "       'Games + Demos', \"Garry's Mod\", 'Gato Roboto', 'Gears of War 4',\n",
       "       'GeoGuessr', 'Getting Over It', 'God of War',\n",
       "       'Golf With Your Friends', 'Granblue Fantasy: Versus',\n",
       "       'Grand Theft Auto V', 'Grand Theft Auto: San Andreas',\n",
       "       'Guild Wars 2', 'Gwent: The Witcher Card Game', 'Half-Life 2',\n",
       "       'Halo: The Master Chief Collection', 'Hearthstone',\n",
       "       'Hearts of Iron IV', 'Heavy Rain',\n",
       "       'Heroes of Might and Magic III: The Shadow of Death',\n",
       "       'Heroes of the Storm', 'Hitman 2', 'Hollow Knight',\n",
       "       'House Flipper', 'Human: Fall Flat', 'Hunt: Showdown', 'Inside',\n",
       "       'It Lurks Below', 'Jump King', 'Just Chatting', 'Just Dance 2019',\n",
       "       'Kantai Collection', 'Kao the Kangaroo Round 2', 'Katana Zero',\n",
       "       'Kerbal Space Program', 'Kingdom Come: Deliverance',\n",
       "       'Kingdom Hearts III', 'Layers of Fear', 'Layers of Fear 2',\n",
       "       'League of Legends', 'Left 4 Dead 2', 'Life Is Strange 2',\n",
       "       'Lineage II', 'Little Nightmares', 'Lost Ark Online',\n",
       "       'MLB The Show 19', 'Madden NFL 19', 'Magic: The Gathering',\n",
       "       'Makers & Crafting', 'MapleStory', 'Marbles On Stream',\n",
       "       'Mario Kart 8', 'Mega Man 11', 'Mega Man X',\n",
       "       'Metal Gear Rising: Revengeance', 'Metal Gear Solid',\n",
       "       'Metal Gear Solid 3: Snake Eater', 'Metin 2', 'Metro Exodus',\n",
       "       'Microsoft Flight Simulator X', 'Minecraft', 'Minion Masters',\n",
       "       'Modern Warfare 2', 'Monopoly Plus', 'Monster Hunter World',\n",
       "       'Mordhau', 'Mortal Kombat 11', 'Mount & Blade: Warband',\n",
       "       'Music & Performing Arts', 'My Summer Car', 'My Time at Portia',\n",
       "       'NBA 2K19', 'NHL 19', 'Observation', 'Old School RuneScape',\n",
       "       'Ori and the Blind Forest', 'Outer Wilds', 'Outlast', 'Outlast 2',\n",
       "       'Overwatch', 'Oxygen Not Included',\n",
       "       \"PLAYERUNKNOWN'S BATTLEGROUNDS\", 'PUBG MOBILE', 'Paladins',\n",
       "       'Parasite Eve II', 'Path of Exile', 'Penumbra: Black Plague',\n",
       "       'Persona 5', 'Phoenix Wright: Ace Attorney Trilogy HD', 'PixARK',\n",
       "       'Plants vs. Zombies: Garden Warfare 2',\n",
       "       \"Pokemon: Let's Go, Pikachu!/Eevee!\", 'Poker',\n",
       "       'Pokémon Black/White Version 2', 'Pokémon Emerald',\n",
       "       'Pokémon HeartGold/SoulSilver', 'Pokémon Stadium',\n",
       "       'Pokémon Ultra Sun/Ultra Moon',\n",
       "       'Post Scriptum: The Bloody Seventh', 'Princess Connect! Re: Dive',\n",
       "       'Project CARS 2', 'Project Winter', 'Project Zomboid',\n",
       "       'Prominence Poker', 'Pummel Party', 'Quake Champions', 'Quiplash',\n",
       "       'ROBLOX', 'Raft', 'Rage 2', 'Realm Royale',\n",
       "       'Red Dead Redemption 2', 'Rescue HQ - The Tycoon',\n",
       "       'Resident Evil 2', 'Resident Evil 3: Nemesis',\n",
       "       'Resident Evil: Code: Veronica X', 'Retro', 'RimWorld',\n",
       "       'Ring Of Elysium', 'Rising Storm 2: Vietnam', 'Risk of Rain 2',\n",
       "       'Rocket League', 'RuneScape', 'Rust', 'SCUM', 'Satisfactory',\n",
       "       'Science & Technology', 'Sea of Thieves',\n",
       "       'Sekiro: Shadows Die Twice', 'Shadowverse',\n",
       "       \"Sid Meier's Civilization V\", 'Silent Hill', 'Silent Hill 2',\n",
       "       'Slay the Spire', 'Slots', 'Smite', 'Sonic Adventure 2: Battle',\n",
       "       'Sonic Mania', 'Sonic the Hedgehog', 'Soulcalibur VI',\n",
       "       'Special Events', 'Spellbreak', 'Spelunky',\n",
       "       'Splitgate: Arena Warfare',\n",
       "       'SpongeBob SquarePants: Battle for Bikini Bottom',\n",
       "       'Sports & Fitness', 'Spyro Reignited Trilogy', 'Squad',\n",
       "       'Star Citizen', 'StarCraft', 'StarCraft II',\n",
       "       'SteamWorld Quest: Hand of Gilgamech', 'Stellaris',\n",
       "       'Street Fighter V', 'Subnautica', 'Summoners War: Sky Arena',\n",
       "       'Super Animal Royale', 'Super Bunny Man', 'Super Mario 64',\n",
       "       'Super Mario Maker', 'Super Mario World', 'Super Seducer',\n",
       "       'Super Smash Bros. Melee', 'Super Smash Bros. Ultimate',\n",
       "       'Tabletop RPGs', 'Tabletop Simulator', 'Talk Shows & Podcasts',\n",
       "       'Team Fortress 2', 'Tekken 7', 'Tera', 'Terraria', 'Tetris 99',\n",
       "       'The Binding of Isaac: Afterbirth',\n",
       "       'The Elder Scrolls III: Morrowind',\n",
       "       'The Elder Scrolls IV: Oblivion', 'The Elder Scrolls Online',\n",
       "       'The Elder Scrolls V: Skyrim', 'The Forest',\n",
       "       'The Jackbox Party Pack 3', 'The Jackbox Party Pack 4',\n",
       "       'The Jackbox Party Pack 5', 'The Joy of Creation',\n",
       "       'The King of Fighters All Star', 'The Last of Us',\n",
       "       'The Legend of Zelda: A Link to the Past',\n",
       "       'The Legend of Zelda: Breath of the Wild',\n",
       "       \"The Legend of Zelda: Link's Awakening DX\",\n",
       "       \"The Legend of Zelda: Majora's Mask\",\n",
       "       'The Legend of Zelda: Ocarina of Time',\n",
       "       'The Legend of Zelda: Skyward Sword',\n",
       "       'The Lord of the Rings Online', 'The Sims 4', 'The Witcher',\n",
       "       'The Witcher 3: Wild Hunt', 'They Are Billions', 'Tibia',\n",
       "       'Titanfall 2', \"Tom Clancy's Rainbow Six: Siege\",\n",
       "       \"Tom Clancy's The Division 2\", 'Total War: Three Kingdoms',\n",
       "       'Total War: Warhammer II', 'Tower Unite', 'TrackMania² Stadium',\n",
       "       'Transference', 'Travel & Outdoors', 'Trials Rising',\n",
       "       'Trover Saves the Universe', 'Twitch Plays', 'Twitch Sings',\n",
       "       \"Uncharted 4: A Thief's End\", 'Under Night In-Birth Exe:Late[st]',\n",
       "       'Use Your Words', 'VRChat', 'Vampire: The Masquerade', 'Visage',\n",
       "       'Void Bastards', 'WWE 2K19', 'Warcraft III: Reign of Chaos',\n",
       "       'Warcraft III: The Frozen Throne', 'Warface', 'Warframe',\n",
       "       'Warhammer: Chaosbane', 'Welcome to the Game II', 'World War Z',\n",
       "       'World of Tanks', 'World of Warcraft', 'World of Warships',\n",
       "       'Worms W.M.D', 'Wrestling', 'XERA: Survival', 'Yakuza 0',\n",
       "       'Yakuza Kiwami 2', 'Yu-Gi-Oh! Duel Links',\n",
       "       'Yu-Gi-Oh! Legacy of the Duelist', 'Yu-Gi-Oh! TRADING CARD GAME',\n",
       "       'iRacing.com', 'osu!', 'skribbl.io', 'theHunter: Call of the Wild'],\n",
       "      dtype=object)"
      ]
     },
     "execution_count": 99,
     "metadata": {},
     "output_type": "execute_result"
    }
   ],
   "source": [
    "iids_game_to_predict"
   ]
  },
  {
   "cell_type": "code",
   "execution_count": 100,
   "metadata": {},
   "outputs": [],
   "source": [
    "genre_testset_personal = [[streamer_name, iid, 0.] for iid in iids_genre_to_predict]\n",
    "game_testset_personal = [[streamer_name, iid, 0.] for iid in iids_game_to_predict]"
   ]
  },
  {
   "cell_type": "code",
   "execution_count": 101,
   "metadata": {},
   "outputs": [
    {
     "data": {
      "text/plain": [
       "[['ninja', 'Action', 0.0],\n",
       " ['ninja', 'Adventure Game', 0.0],\n",
       " ['ninja', 'Card & Board Game', 0.0],\n",
       " ['ninja', 'Compilation', 0.0],\n",
       " ['ninja', 'Creative', 0.0],\n",
       " ['ninja', 'Driving/Racing Game', 0.0],\n",
       " ['ninja', 'Educational Game', 0.0],\n",
       " ['ninja', 'FPS', 0.0],\n",
       " ['ninja', 'Fighting', 0.0],\n",
       " ['ninja', 'Flight Simulator', 0.0],\n",
       " ['ninja', 'Gambling Game', 0.0],\n",
       " ['ninja', 'Hidden Objects', 0.0],\n",
       " ['ninja', 'Horror', 0.0],\n",
       " ['ninja', 'IRL', 0.0],\n",
       " ['ninja', 'Indie Game', 0.0],\n",
       " ['ninja', 'MMORPG', 0.0],\n",
       " ['ninja', 'MOBA', 0.0],\n",
       " ['ninja', 'Metroidvania', 0.0],\n",
       " ['ninja', 'Open World', 0.0],\n",
       " ['ninja', 'Other', 0.0],\n",
       " ['ninja', 'Platformer', 0.0],\n",
       " ['ninja', 'Point and Click', 0.0],\n",
       " ['ninja', 'Puzzle', 0.0],\n",
       " ['ninja', 'RPG', 0.0],\n",
       " ['ninja', 'RTS', 0.0],\n",
       " ['ninja', 'Rhythm & Music Game', 0.0],\n",
       " ['ninja', 'Roguelike', 0.0],\n",
       " ['ninja', 'Series: Souls', 0.0],\n",
       " ['ninja', 'Shooter', 0.0],\n",
       " ['ninja', 'Simulation', 0.0],\n",
       " ['ninja', 'Sports Game', 0.0],\n",
       " ['ninja', 'Stealth', 0.0],\n",
       " ['ninja', 'Strategy', 0.0],\n",
       " ['ninja', 'Survival', 0.0],\n",
       " ['ninja', 'Visual Novel', 0.0]]"
      ]
     },
     "execution_count": 101,
     "metadata": {},
     "output_type": "execute_result"
    }
   ],
   "source": [
    "genre_testset_personal"
   ]
  },
  {
   "cell_type": "code",
   "execution_count": 102,
   "metadata": {},
   "outputs": [],
   "source": [
    "genre_predictions = algo_genre.test(genre_testset_personal)\n",
    "game_predictions = algo_games.test(game_testset_personal)"
   ]
  },
  {
   "cell_type": "code",
   "execution_count": 103,
   "metadata": {
    "scrolled": true
   },
   "outputs": [
    {
     "data": {
      "text/plain": [
       "[Prediction(uid='ninja', iid='Action', r_ui=0.0, est=3.5672893506051544, details={'was_impossible': True, 'reason': 'User and/or item is unkown.'}),\n",
       " Prediction(uid='ninja', iid='Adventure Game', r_ui=0.0, est=3.5672893506051544, details={'was_impossible': True, 'reason': 'User and/or item is unkown.'}),\n",
       " Prediction(uid='ninja', iid='Card & Board Game', r_ui=0.0, est=3.5672893506051544, details={'was_impossible': True, 'reason': 'User and/or item is unkown.'})]"
      ]
     },
     "execution_count": 103,
     "metadata": {},
     "output_type": "execute_result"
    }
   ],
   "source": [
    "genre_predictions[:3]"
   ]
  },
  {
   "cell_type": "code",
   "execution_count": 104,
   "metadata": {},
   "outputs": [
    {
     "data": {
      "text/plain": [
       "[Prediction(uid='ninja', iid='7 Days to Die', r_ui=0.0, est=3.5356776134169796, details={'was_impossible': False}),\n",
       " Prediction(uid='ninja', iid='A Hat in Time', r_ui=0.0, est=3.3132430447469505, details={'was_impossible': False}),\n",
       " Prediction(uid='ninja', iid='A Plague Tale: Innocence', r_ui=0.0, est=3.1197266151449288, details={'was_impossible': False})]"
      ]
     },
     "execution_count": 104,
     "metadata": {},
     "output_type": "execute_result"
    }
   ],
   "source": [
    "game_predictions[:3]"
   ]
  },
  {
   "cell_type": "code",
   "execution_count": 105,
   "metadata": {},
   "outputs": [],
   "source": [
    "top_n_genres = get_top_n(genre_predictions)\n",
    "top_n_games = get_top_n(game_predictions)"
   ]
  },
  {
   "cell_type": "code",
   "execution_count": 106,
   "metadata": {},
   "outputs": [
    {
     "data": {
      "text/plain": [
       "defaultdict(list,\n",
       "            {'ninja': [('Action', 3.5672893506051544),\n",
       "              ('Adventure Game', 3.5672893506051544),\n",
       "              ('Card & Board Game', 3.5672893506051544),\n",
       "              ('Compilation', 3.5672893506051544),\n",
       "              ('Creative', 3.5672893506051544),\n",
       "              ('Driving/Racing Game', 3.5672893506051544),\n",
       "              ('Educational Game', 3.5672893506051544),\n",
       "              ('FPS', 3.5672893506051544),\n",
       "              ('Fighting', 3.5672893506051544),\n",
       "              ('Flight Simulator', 3.5672893506051544)]})"
      ]
     },
     "execution_count": 106,
     "metadata": {},
     "output_type": "execute_result"
    }
   ],
   "source": [
    "top_n_genres"
   ]
  },
  {
   "cell_type": "code",
   "execution_count": 107,
   "metadata": {},
   "outputs": [
    {
     "data": {
      "text/plain": [
       "defaultdict(list,\n",
       "            {'ninja': [('Silent Hill', 4.044002331526911),\n",
       "              ('The Jackbox Party Pack 3', 4.011023346466942),\n",
       "              ('Metin 2', 3.9545480102913326),\n",
       "              ('Pokémon Ultra Sun/Ultra Moon', 3.936042687933252),\n",
       "              ('Anno 1800', 3.933875242887823),\n",
       "              ('Battlefield 1', 3.9240914744146758),\n",
       "              ('Tabletop RPGs', 3.91431490039107),\n",
       "              ('Dark Souls II', 3.909882161273136),\n",
       "              ('Minecraft', 3.905512341203254),\n",
       "              ('Danganronpa: Trigger Happy Havoc', 3.9052059116180633)]})"
      ]
     },
     "execution_count": 107,
     "metadata": {},
     "output_type": "execute_result"
    }
   ],
   "source": [
    "top_n_games"
   ]
  },
  {
   "cell_type": "code",
   "execution_count": 108,
   "metadata": {},
   "outputs": [
    {
     "name": "stdout",
     "output_type": "stream",
     "text": [
      "For ninja, the recommended genres are:['Action', 'Adventure Game', 'Card & Board Game', 'Compilation', 'Creative', 'Driving/Racing Game', 'Educational Game', 'FPS', 'Fighting', 'Flight Simulator']\n"
     ]
    },
    {
     "data": {
      "text/plain": [
       "['Action',\n",
       " 'Adventure Game',\n",
       " 'Card & Board Game',\n",
       " 'Compilation',\n",
       " 'Creative',\n",
       " 'Driving/Racing Game',\n",
       " 'Educational Game',\n",
       " 'FPS',\n",
       " 'Fighting',\n",
       " 'Flight Simulator']"
      ]
     },
     "execution_count": 108,
     "metadata": {},
     "output_type": "execute_result"
    }
   ],
   "source": [
    "for uid, user_ratings in top_n_genres.items():\n",
    "    print('For ' + uid + ', the recommended genres are:'+ str([iid for (iid, _) in user_ratings]))\n",
    "genre_user_based_list = [iid for (iid, _) in user_ratings]\n",
    "genre_user_based_list"
   ]
  },
  {
   "cell_type": "code",
   "execution_count": 109,
   "metadata": {},
   "outputs": [
    {
     "name": "stdout",
     "output_type": "stream",
     "text": [
      "For ninja, the recommended games are:['Silent Hill', 'The Jackbox Party Pack 3', 'Metin 2', 'Pokémon Ultra Sun/Ultra Moon', 'Anno 1800', 'Battlefield 1', 'Tabletop RPGs', 'Dark Souls II', 'Minecraft', 'Danganronpa: Trigger Happy Havoc']\n"
     ]
    }
   ],
   "source": [
    "for uid, user_ratings in top_n_games.items():\n",
    "    print('For ' + uid + ', the recommended games are:'+ str([iid for (iid, _) in user_ratings]))"
   ]
  },
  {
   "cell_type": "code",
   "execution_count": 110,
   "metadata": {},
   "outputs": [
    {
     "data": {
      "text/plain": [
       "['Silent Hill',\n",
       " 'The Jackbox Party Pack 3',\n",
       " 'Metin 2',\n",
       " 'Pokémon Ultra Sun/Ultra Moon',\n",
       " 'Anno 1800',\n",
       " 'Battlefield 1',\n",
       " 'Tabletop RPGs',\n",
       " 'Dark Souls II',\n",
       " 'Minecraft',\n",
       " 'Danganronpa: Trigger Happy Havoc']"
      ]
     },
     "execution_count": 110,
     "metadata": {},
     "output_type": "execute_result"
    }
   ],
   "source": [
    "game_user_based_list = [iid for (iid, _) in user_ratings]\n",
    "game_user_based_list"
   ]
  },
  {
   "cell_type": "markdown",
   "metadata": {},
   "source": [
    "#### Predicting Similar Genres Based on Current Genre/Game (item-based similarity) #### "
   ]
  },
  {
   "cell_type": "code",
   "execution_count": 111,
   "metadata": {},
   "outputs": [],
   "source": [
    "import io  # needed because of weird encoding of u.item file\n",
    "from surprise import KNNBaseline\n",
    "from surprise import Dataset\n",
    "from surprise import get_dataset_dir"
   ]
  },
  {
   "cell_type": "code",
   "execution_count": 112,
   "metadata": {
    "scrolled": true
   },
   "outputs": [],
   "source": [
    "genre_group = grid_new.groupby(by = ['game_genres', 'user_name'])['scaled_score'].agg([np.mean])\n",
    "game_group = grid_new.groupby(by = ['game_name', 'user_name'])['scaled_score'].agg([np.mean])"
   ]
  },
  {
   "cell_type": "code",
   "execution_count": 113,
   "metadata": {},
   "outputs": [],
   "source": [
    "genre_group = genre_group.reset_index()\n",
    "game_group = game_group.reset_index()"
   ]
  },
  {
   "cell_type": "code",
   "execution_count": 114,
   "metadata": {},
   "outputs": [],
   "source": [
    "pickle.dump(genre_group, open(\"./Data/genre_group.pkl\", \"wb\" ) )\n",
    "genre_group = pickle.load( open( \"./Data/genre_group.pkl\", \"rb\" ) )\n",
    "\n",
    "pickle.dump(game_group, open(\"./Data/game_group.pkl\", \"wb\" ) )\n",
    "game_group = pickle.load( open( \"./Data/game_group.pkl\", \"rb\" ) )"
   ]
  },
  {
   "cell_type": "code",
   "execution_count": 115,
   "metadata": {},
   "outputs": [],
   "source": [
    "genre_group = pickle.load( open( \"./Data/genre_group.pkl\", \"rb\" ) )\n",
    "reader = Reader(rating_scale=(1, 5))\n",
    "genre_data = Dataset.load_from_df(genre_group[['user_name', 'game_genres', 'mean']], reader)\n",
    "genre_trainset = genre_data.build_full_trainset()\n",
    "\n",
    "game_group = pickle.load( open( \"./Data/game_group.pkl\", \"rb\" ) )\n",
    "reader = Reader(rating_scale=(1, 5))\n",
    "game_data = Dataset.load_from_df(game_group[['user_name', 'game_name', 'mean']], reader)\n",
    "game_trainset = game_data.build_full_trainset()"
   ]
  },
  {
   "cell_type": "code",
   "execution_count": 116,
   "metadata": {
    "scrolled": true
   },
   "outputs": [
    {
     "data": {
      "text/plain": [
       "<surprise.prediction_algorithms.knns.KNNBaseline at 0x11b67ee10>"
      ]
     },
     "execution_count": 116,
     "metadata": {},
     "output_type": "execute_result"
    }
   ],
   "source": [
    "#Fit the KNN algorithm to the data\n",
    "sim_options = {'name': 'pearson_baseline',\n",
    "               'shrinkage': 0, 'user_based': False  # no shrinkage\n",
    "               }\n",
    "algo_genre_group = KNNBaseline(sim_options=sim_options, verbose = False)\n",
    "algo_genre_group.fit(genre_trainset)\n",
    "\n",
    "\n",
    "algo_game_group = KNNBaseline(sim_options=sim_options, verbose = False)\n",
    "algo_game_group.fit(game_trainset)"
   ]
  },
  {
   "cell_type": "code",
   "execution_count": 117,
   "metadata": {},
   "outputs": [
    {
     "ename": "ValueError",
     "evalue": "Item shooter is not part of the trainset.",
     "output_type": "error",
     "traceback": [
      "\u001b[0;31m---------------------------------------------------------------------------\u001b[0m",
      "\u001b[0;31mKeyError\u001b[0m                                  Traceback (most recent call last)",
      "\u001b[0;32m/anaconda3/lib/python3.7/site-packages/surprise/trainset.py\u001b[0m in \u001b[0;36mto_inner_iid\u001b[0;34m(self, riid)\u001b[0m\n\u001b[1;32m    150\u001b[0m         \u001b[0;32mtry\u001b[0m\u001b[0;34m:\u001b[0m\u001b[0;34m\u001b[0m\u001b[0;34m\u001b[0m\u001b[0m\n\u001b[0;32m--> 151\u001b[0;31m             \u001b[0;32mreturn\u001b[0m \u001b[0mself\u001b[0m\u001b[0;34m.\u001b[0m\u001b[0m_raw2inner_id_items\u001b[0m\u001b[0;34m[\u001b[0m\u001b[0mriid\u001b[0m\u001b[0;34m]\u001b[0m\u001b[0;34m\u001b[0m\u001b[0;34m\u001b[0m\u001b[0m\n\u001b[0m\u001b[1;32m    152\u001b[0m         \u001b[0;32mexcept\u001b[0m \u001b[0mKeyError\u001b[0m\u001b[0;34m:\u001b[0m\u001b[0;34m\u001b[0m\u001b[0;34m\u001b[0m\u001b[0m\n",
      "\u001b[0;31mKeyError\u001b[0m: 'shooter'",
      "\nDuring handling of the above exception, another exception occurred:\n",
      "\u001b[0;31mValueError\u001b[0m                                Traceback (most recent call last)",
      "\u001b[0;32m<ipython-input-117-31753545ee87>\u001b[0m in \u001b[0;36m<module>\u001b[0;34m\u001b[0m\n\u001b[1;32m      3\u001b[0m \u001b[0mgenre_inner_id_list\u001b[0m \u001b[0;34m=\u001b[0m \u001b[0;34m[\u001b[0m\u001b[0;34m]\u001b[0m\u001b[0;34m\u001b[0m\u001b[0;34m\u001b[0m\u001b[0m\n\u001b[1;32m      4\u001b[0m \u001b[0;32mfor\u001b[0m \u001b[0mgenre\u001b[0m \u001b[0;32min\u001b[0m \u001b[0mfull_genres\u001b[0m\u001b[0;34m:\u001b[0m\u001b[0;34m\u001b[0m\u001b[0;34m\u001b[0m\u001b[0m\n\u001b[0;32m----> 5\u001b[0;31m     \u001b[0minner\u001b[0m \u001b[0;34m=\u001b[0m \u001b[0malgo_genre_group\u001b[0m\u001b[0;34m.\u001b[0m\u001b[0mtrainset\u001b[0m\u001b[0;34m.\u001b[0m\u001b[0mto_inner_iid\u001b[0m\u001b[0;34m(\u001b[0m\u001b[0mgenre\u001b[0m\u001b[0;34m)\u001b[0m\u001b[0;34m\u001b[0m\u001b[0;34m\u001b[0m\u001b[0m\n\u001b[0m\u001b[1;32m      6\u001b[0m     \u001b[0mgenre_inner_id_list\u001b[0m\u001b[0;34m.\u001b[0m\u001b[0mappend\u001b[0m\u001b[0;34m(\u001b[0m\u001b[0minner\u001b[0m\u001b[0;34m)\u001b[0m\u001b[0;34m\u001b[0m\u001b[0;34m\u001b[0m\u001b[0m\n\u001b[1;32m      7\u001b[0m \u001b[0;34m\u001b[0m\u001b[0m\n",
      "\u001b[0;32m/anaconda3/lib/python3.7/site-packages/surprise/trainset.py\u001b[0m in \u001b[0;36mto_inner_iid\u001b[0;34m(self, riid)\u001b[0m\n\u001b[1;32m    152\u001b[0m         \u001b[0;32mexcept\u001b[0m \u001b[0mKeyError\u001b[0m\u001b[0;34m:\u001b[0m\u001b[0;34m\u001b[0m\u001b[0;34m\u001b[0m\u001b[0m\n\u001b[1;32m    153\u001b[0m             raise ValueError('Item ' + str(riid) +\n\u001b[0;32m--> 154\u001b[0;31m                              ' is not part of the trainset.')\n\u001b[0m\u001b[1;32m    155\u001b[0m \u001b[0;34m\u001b[0m\u001b[0m\n\u001b[1;32m    156\u001b[0m     \u001b[0;32mdef\u001b[0m \u001b[0mto_raw_iid\u001b[0m\u001b[0;34m(\u001b[0m\u001b[0mself\u001b[0m\u001b[0;34m,\u001b[0m \u001b[0miiid\u001b[0m\u001b[0;34m)\u001b[0m\u001b[0;34m:\u001b[0m\u001b[0;34m\u001b[0m\u001b[0;34m\u001b[0m\u001b[0m\n",
      "\u001b[0;31mValueError\u001b[0m: Item shooter is not part of the trainset."
     ]
    }
   ],
   "source": [
    "#produce the list of genres/games needed to be evaluated\n",
    "\n",
    "genre_inner_id_list = []\n",
    "for genre in full_genres:\n",
    "    inner = algo_genre_group.trainset.to_inner_iid(genre)\n",
    "    genre_inner_id_list.append(inner)\n",
    "\n",
    "game_inner_id_list = []\n",
    "for game in full_games:\n",
    "    inner = algo_game_group.trainset.to_inner_iid(game)\n",
    "    game_inner_id_list.append(inner)"
   ]
  },
  {
   "cell_type": "code",
   "execution_count": 118,
   "metadata": {},
   "outputs": [
    {
     "ename": "NameError",
     "evalue": "name 'game_inner_id_list' is not defined",
     "output_type": "error",
     "traceback": [
      "\u001b[0;31m---------------------------------------------------------------------------\u001b[0m",
      "\u001b[0;31mNameError\u001b[0m                                 Traceback (most recent call last)",
      "\u001b[0;32m<ipython-input-118-472ee4990596>\u001b[0m in \u001b[0;36m<module>\u001b[0;34m\u001b[0m\n\u001b[1;32m      6\u001b[0m \u001b[0;34m\u001b[0m\u001b[0m\n\u001b[1;32m      7\u001b[0m \u001b[0mgame_neighbors_list\u001b[0m \u001b[0;34m=\u001b[0m \u001b[0;34m[\u001b[0m\u001b[0;34m]\u001b[0m\u001b[0;34m\u001b[0m\u001b[0;34m\u001b[0m\u001b[0m\n\u001b[0;32m----> 8\u001b[0;31m \u001b[0;32mfor\u001b[0m \u001b[0minner\u001b[0m \u001b[0;32min\u001b[0m \u001b[0mgame_inner_id_list\u001b[0m\u001b[0;34m:\u001b[0m\u001b[0;34m\u001b[0m\u001b[0;34m\u001b[0m\u001b[0m\n\u001b[0m\u001b[1;32m      9\u001b[0m     \u001b[0mgame_neighbors\u001b[0m \u001b[0;34m=\u001b[0m \u001b[0malgo_game_group\u001b[0m\u001b[0;34m.\u001b[0m\u001b[0mget_neighbors\u001b[0m\u001b[0;34m(\u001b[0m\u001b[0minner\u001b[0m\u001b[0;34m,\u001b[0m \u001b[0mk\u001b[0m\u001b[0;34m=\u001b[0m\u001b[0;36m3\u001b[0m\u001b[0;34m)\u001b[0m\u001b[0;34m\u001b[0m\u001b[0;34m\u001b[0m\u001b[0m\n\u001b[1;32m     10\u001b[0m     \u001b[0mgame_neighbors_list\u001b[0m\u001b[0;34m.\u001b[0m\u001b[0mappend\u001b[0m\u001b[0;34m(\u001b[0m\u001b[0mgame_neighbors\u001b[0m\u001b[0;34m)\u001b[0m\u001b[0;34m\u001b[0m\u001b[0;34m\u001b[0m\u001b[0m\n",
      "\u001b[0;31mNameError\u001b[0m: name 'game_inner_id_list' is not defined"
     ]
    }
   ],
   "source": [
    "# Retrieve inner ids of the nearest neighbors of the game in question.\n",
    "genre_neighbors_list = []\n",
    "for inner in genre_inner_id_list:\n",
    "    genre_neighbors = algo_genre_group.get_neighbors(inner, k=3)\n",
    "    genre_neighbors_list.append(genre_neighbors)\n",
    "\n",
    "game_neighbors_list = []\n",
    "for inner in game_inner_id_list:\n",
    "    game_neighbors = algo_game_group.get_neighbors(inner, k=3)\n",
    "    game_neighbors_list.append(game_neighbors)"
   ]
  },
  {
   "cell_type": "code",
   "execution_count": null,
   "metadata": {},
   "outputs": [],
   "source": [
    "print(genre_neighbors_list)\n",
    "print(game_neighbors_list)"
   ]
  },
  {
   "cell_type": "code",
   "execution_count": null,
   "metadata": {},
   "outputs": [],
   "source": [
    "# prioritize closest neighbors to all original genres/games mentioned\n",
    "\n",
    "genre_final_list = []\n",
    "for item in genre_neighbors_list:\n",
    "    genre_final_list.append(item[0])\n",
    "    genre_final_list.append(item[1])\n",
    "\n",
    "game_final_list = []\n",
    "for item in game_neighbors_list:\n",
    "    game_final_list.append(item[0])\n",
    "    game_final_list.append(item[1])"
   ]
  },
  {
   "cell_type": "code",
   "execution_count": null,
   "metadata": {},
   "outputs": [],
   "source": [
    "print(genre_final_list)\n",
    "print(game_final_list)"
   ]
  },
  {
   "cell_type": "code",
   "execution_count": null,
   "metadata": {},
   "outputs": [],
   "source": [
    "#come up with a way to weigh the most frequent neighbors in all genres/games and combine with user-recommended ones."
   ]
  },
  {
   "cell_type": "code",
   "execution_count": null,
   "metadata": {},
   "outputs": [],
   "source": [
    "genres = [algo_genre_group.trainset.to_raw_iid(iiid) for iiid in set(genre_final_list)]\n",
    "\n",
    "games = [algo_game_group.trainset.to_raw_iid(iiid) for iiid in set(game_final_list)]\n",
    "print('The nearest neighbors of your current genres are:' + str(genres))\n",
    "print('The nearest neighbors of your current games are:' + str(games))"
   ]
  },
  {
   "cell_type": "code",
   "execution_count": null,
   "metadata": {},
   "outputs": [],
   "source": [
    "print (', '.join(item for item in set(genres + user_based_list)))"
   ]
  },
  {
   "cell_type": "code",
   "execution_count": null,
   "metadata": {},
   "outputs": [],
   "source": [
    "# combined outputs of both methods to produce results common in both\n",
    "print(\"We recommend you stream the following genres: \" + ', '.join(item for item in set(genres + genre_user_based_list)))\n",
    "print(\"We recommend you stream the following games: \" + ', '.join(item for item in set(games + game_user_based_list)))\n"
   ]
  },
  {
   "cell_type": "code",
   "execution_count": null,
   "metadata": {},
   "outputs": [],
   "source": []
  }
 ],
 "metadata": {
  "kernelspec": {
   "display_name": "Python 3",
   "language": "python",
   "name": "python3"
  },
  "language_info": {
   "codemirror_mode": {
    "name": "ipython",
    "version": 3
   },
   "file_extension": ".py",
   "mimetype": "text/x-python",
   "name": "python",
   "nbconvert_exporter": "python",
   "pygments_lexer": "ipython3",
   "version": "3.7.3"
  }
 },
 "nbformat": 4,
 "nbformat_minor": 2
}
