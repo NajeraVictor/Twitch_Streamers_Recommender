{
 "cells": [
  {
   "cell_type": "code",
   "execution_count": 25,
   "metadata": {},
   "outputs": [],
   "source": [
    "import requests\n",
    "import json\n",
    "import urllib\n",
    "import pandas as pd\n",
    "# import mysql.connector\n",
    "from sqlalchemy import create_engine\n",
    "import time\n",
    "import logging\n",
    "import subprocess\n",
    "import pprint\n",
    "import os\n",
    "pp = pprint.PrettyPrinter(indent=4)\n",
    "import pickle\n"
   ]
  },
  {
   "cell_type": "code",
   "execution_count": 5,
   "metadata": {},
   "outputs": [],
   "source": [
    "url = '''https://api.twitch.tv/helix/games/top?first=100'''"
   ]
  },
  {
   "cell_type": "code",
   "execution_count": null,
   "metadata": {},
   "outputs": [],
   "source": [
    "def get_top_100_games():\n",
    "    # Need to pass client ID with each request in header\n",
    "    headers = {'Client-ID': 'vb2kmh60pt0tee6o2c11ko6n2t1w9a'}\n",
    "    url = '''https://api.twitch.tv/helix/games/top?first=100'''\n",
    "    r = requests.get(url, headers=headers)\n",
    "    return r\n",
    "\n",
    "r_dict = json.loads(r.text)"
   ]
  },
  {
   "cell_type": "code",
   "execution_count": 6,
   "metadata": {},
   "outputs": [],
   "source": [
    "headers = {'Client-ID': 'vb2kmh60pt0tee6o2c11ko6n2t1w9a'}\n",
    "\n",
    "r = requests.get(url, headers=headers)"
   ]
  },
  {
   "cell_type": "code",
   "execution_count": 55,
   "metadata": {},
   "outputs": [
    {
     "data": {
      "text/plain": [
       "'29'"
      ]
     },
     "execution_count": 55,
     "metadata": {},
     "output_type": "execute_result"
    }
   ],
   "source": [
    "req.headers['Ratelimit-Remaining']"
   ]
  },
  {
   "cell_type": "code",
   "execution_count": 8,
   "metadata": {},
   "outputs": [],
   "source": [
    "r_dict = json.loads(r.text)"
   ]
  },
  {
   "cell_type": "code",
   "execution_count": 13,
   "metadata": {},
   "outputs": [
    {
     "data": {
      "text/plain": [
       "'33214'"
      ]
     },
     "execution_count": 13,
     "metadata": {},
     "output_type": "execute_result"
    }
   ],
   "source": [
    "r_dict['data'][0]['id']"
   ]
  },
  {
   "cell_type": "code",
   "execution_count": 88,
   "metadata": {},
   "outputs": [
    {
     "data": {
      "text/plain": [
       "'2019-05-31 02:15:28'"
      ]
     },
     "execution_count": 88,
     "metadata": {},
     "output_type": "execute_result"
    }
   ],
   "source": [
    "time.strftime(\"%Y-%m-%d %H:%M:%S\",time.gmtime())\n"
   ]
  },
  {
   "cell_type": "code",
   "execution_count": null,
   "metadata": {},
   "outputs": [],
   "source": [
    "def "
   ]
  },
  {
   "cell_type": "code",
   "execution_count": 63,
   "metadata": {},
   "outputs": [],
   "source": [
    "def check_api_limit_reached(req):\n",
    "    if int(req.headers['Ratelimit-Remaining']) <= 1: # No more requests, need to pause for 30s\n",
    "        print('Waiting for API limit to refresh (30s)')\n",
    "        time.sleep(30)\n",
    "        print('Continuing')\n",
    "    return req.headers['Ratelimit-Remaining']"
   ]
  },
  {
   "cell_type": "code",
   "execution_count": 115,
   "metadata": {
    "scrolled": false
   },
   "outputs": [
    {
     "name": "stdout",
     "output_type": "stream",
     "text": [
      "Waiting for API limit to refresh (30s)\n",
      "Continuing\n",
      "Waiting for API limit to refresh (30s)\n",
      "Continuing\n",
      "Waiting for API limit to refresh (30s)\n",
      "Continuing\n"
     ]
    }
   ],
   "source": [
    "stream_dict = dict()\n",
    "url = 'https://api.twitch.tv/helix/streams?first=100&gameid='\n",
    "for game in r_dict['data']:\n",
    "    req = requests.get(url + game['id'],headers=headers)\n",
    "    check_api_limit_reached(req)    \n",
    "    stream_dict[game['name']]=json.loads(req.text)\n"
   ]
  },
  {
   "cell_type": "code",
   "execution_count": 121,
   "metadata": {},
   "outputs": [],
   "source": [
    "with open(\"data_file.json\", \"w\") as write_file:\n",
    "    json.dump(stream_dict, write_file)"
   ]
  },
  {
   "cell_type": "code",
   "execution_count": 122,
   "metadata": {},
   "outputs": [],
   "source": [
    "del stream_dict"
   ]
  },
  {
   "cell_type": "code",
   "execution_count": 123,
   "metadata": {},
   "outputs": [],
   "source": [
    "with open(\"data_file.json\", \"r\") as read_file:\n",
    "    data = json.load(read_file)"
   ]
  },
  {
   "cell_type": "code",
   "execution_count": 117,
   "metadata": {},
   "outputs": [
    {
     "name": "stdout",
     "output_type": "stream",
     "text": [
      "Variable                  Type             Data/Info\n",
      "----------------------------------------------------\n",
      "check_api_limit           function         <function check_api_limit at 0x11eb45b70>\n",
      "check_api_limit_reached   function         <function check_api_limit_reached at 0x120d68f28>\n",
      "create_engine             function         <function create_engine at 0x11b2c68c8>\n",
      "game                      dict             n=3\n",
      "headers                   dict             n=1\n",
      "json                      module           <module 'json' from '/ana<...>hon3.7/json/__init__.py'>\n",
      "logging                   module           <module 'logging' from '/<...>3.7/logging/__init__.py'>\n",
      "os                        module           <module 'os' from '/anaco<...>da3/lib/python3.7/os.py'>\n",
      "output_list               list             n=99\n",
      "pd                        module           <module 'pandas' from '/a<...>ages/pandas/__init__.py'>\n",
      "pickle                    module           <module 'pickle' from '/a<...>lib/python3.7/pickle.py'>\n",
      "pp                        PrettyPrinter    <pprint.PrettyPrinter object at 0x11c34fe80>\n",
      "pprint                    module           <module 'pprint' from '/a<...>lib/python3.7/pprint.py'>\n",
      "r                         Response         <Response [200]>\n",
      "r_dict                    dict             n=2\n",
      "req                       Response         <Response [200]>\n",
      "requests                  module           <module 'requests' from '<...>es/requests/__init__.py'>\n",
      "stream_dict               dict             n=99\n",
      "subprocess                module           <module 'subprocess' from<...>python3.7/subprocess.py'>\n",
      "testrequest               str              {\"total\":6166637,\"data\":[<...>jg5MzIyMzk5MDQzNTQifX0\"}}\n",
      "tfue_id                   str              60056333\n",
      "time                      module           <module 'time' (built-in)>\n",
      "url                       str              https://api.twitch.tv/hel<...>streams?first=100&gameid=\n",
      "urllib                    module           <module 'urllib' from '/a<...>n3.7/urllib/__init__.py'>\n"
     ]
    }
   ],
   "source": [
    "whos"
   ]
  },
  {
   "cell_type": "code",
   "execution_count": 26,
   "metadata": {},
   "outputs": [],
   "source": [
    " pickle.dump(output_list, open( \"output.p\", \"wb\" ) )"
   ]
  },
  {
   "cell_type": "code",
   "execution_count": 28,
   "metadata": {},
   "outputs": [
    {
     "name": "stdout",
     "output_type": "stream",
     "text": [
      "/Users/jchow/Work/MetisCode/twitch-streamer-recommender/gitRoot/Twitch_Streamers_Recommender/Scraper_Notebook\r\n"
     ]
    }
   ],
   "source": [
    "!pwd"
   ]
  },
  {
   "cell_type": "code",
   "execution_count": 34,
   "metadata": {},
   "outputs": [],
   "source": [
    "tfue_id = output_list[0]['data'][0]['user_id']\n",
    "#[0]['user_id']"
   ]
  },
  {
   "cell_type": "code",
   "execution_count": null,
   "metadata": {},
   "outputs": [],
   "source": []
  },
  {
   "cell_type": "code",
   "execution_count": 96,
   "metadata": {},
   "outputs": [
    {
     "data": {
      "text/plain": [
       "{'total': 6166637,\n",
       " 'data': [{'from_id': '438578472',\n",
       "   'from_name': 'hentayuu',\n",
       "   'to_id': '60056333',\n",
       "   'to_name': 'Tfue',\n",
       "   'followed_at': '2019-05-31T02:15:32Z'}],\n",
       " 'pagination': {'cursor': 'eyJiIjpudWxsLCJhIjp7IkN1cnNvciI6IjE1NTkyNjg5MzIyMzk5MDQzNTQifX0'}}"
      ]
     },
     "execution_count": 96,
     "metadata": {},
     "output_type": "execute_result"
    }
   ],
   "source": [
    "json.loads(testrequest)"
   ]
  },
  {
   "cell_type": "code",
   "execution_count": 90,
   "metadata": {
    "scrolled": true
   },
   "outputs": [],
   "source": [
    "url = 'https://api.twitch.tv/helix/users/follows?first=1&to_id=' + tfue_id\n",
    "testrequest=requests.get(url,headers=headers).text"
   ]
  },
  {
   "cell_type": "code",
   "execution_count": 39,
   "metadata": {},
   "outputs": [],
   "source": [
    "# Example api ping through command line\n",
    "# !curl -H 'Client-ID: vb2kmh60pt0tee6o2c11ko6n2t1w9a' \\-X GET https://api.twitch.tv/helix/games/top"
   ]
  },
  {
   "cell_type": "code",
   "execution_count": null,
   "metadata": {},
   "outputs": [],
   "source": []
  }
 ],
 "metadata": {
  "kernelspec": {
   "display_name": "Python 3",
   "language": "python",
   "name": "python3"
  },
  "language_info": {
   "codemirror_mode": {
    "name": "ipython",
    "version": 3
   },
   "file_extension": ".py",
   "mimetype": "text/x-python",
   "name": "python",
   "nbconvert_exporter": "python",
   "pygments_lexer": "ipython3",
   "version": "3.7.3"
  }
 },
 "nbformat": 4,
 "nbformat_minor": 2
}
