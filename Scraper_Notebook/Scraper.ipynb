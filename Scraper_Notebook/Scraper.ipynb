{
 "cells": [
  {
   "cell_type": "code",
   "execution_count": 134,
   "metadata": {},
   "outputs": [],
   "source": [
    "import requests\n",
    "import json\n",
    "import time\n",
    "import pprint\n",
    "pp = pprint.PrettyPrinter(indent=4)\n"
   ]
  },
  {
   "cell_type": "code",
   "execution_count": 141,
   "metadata": {},
   "outputs": [],
   "source": [
    "# Twitch Client ID \n",
    "clientID = 'vb2kmh60pt0tee6o2c11ko6n2t1w9a'\n",
    "\n",
    "def get_top_100_games(clientID = clientID):\n",
    "    ''' Given Client ID, pings twitch API for top 100 games. Returns the entire request object'''\n",
    "    # Need to pass client ID with each request in header\n",
    "    headers = {'Client-ID': clientID}\n",
    "    url = '''https://api.twitch.tv/helix/games/top?first=100'''\n",
    "    r = requests.get(url, headers=headers)\n",
    "    return r\n",
    "\n",
    "# r_dict = json.loads(r.text)"
   ]
  },
  {
   "cell_type": "code",
   "execution_count": 8,
   "metadata": {},
   "outputs": [],
   "source": [
    "r = get_top_100_games()\n",
    "r_dict = json.loads(r.text)"
   ]
  },
  {
   "cell_type": "code",
   "execution_count": 13,
   "metadata": {},
   "outputs": [
    {
     "data": {
      "text/plain": [
       "'33214'"
      ]
     },
     "execution_count": 13,
     "metadata": {},
     "output_type": "execute_result"
    }
   ],
   "source": [
    "r_dict['data'][0]['id']"
   ]
  },
  {
   "cell_type": "code",
   "execution_count": 131,
   "metadata": {},
   "outputs": [
    {
     "data": {
      "text/plain": [
       "'2019-05-30 19:45:10'"
      ]
     },
     "execution_count": 131,
     "metadata": {},
     "output_type": "execute_result"
    }
   ],
   "source": [
    "# Use this as the time stamp \n",
    "time.strftime(\"%Y-%m-%d %H:%M:%S\",time.localtime())"
   ]
  },
  {
   "cell_type": "code",
   "execution_count": null,
   "metadata": {},
   "outputs": [],
   "source": []
  },
  {
   "cell_type": "code",
   "execution_count": 157,
   "metadata": {},
   "outputs": [],
   "source": [
    "def check_api_limit_reached(req, ignore_limit = False):\n",
    "    '''Check remaining API pings for request REQ. If API requests is <=1, wait for 30s \n",
    "    so for all requests to refill. Returns remaining requests'''\n",
    "    if int(req.headers['Ratelimit-Remaining']) <= 1: # No more requests, need to pause for 30s\n",
    "        if ignore_limit:\n",
    "            return int(req.headers['Ratelimit-Remaining'])\n",
    "        print('Waiting for API limit to refresh (30s)...')\n",
    "        time.sleep(30)\n",
    "        print('Continuing...')\n",
    "    return int(req.headers['Ratelimit-Remaining'])"
   ]
  },
  {
   "cell_type": "code",
   "execution_count": 142,
   "metadata": {},
   "outputs": [],
   "source": [
    "def get_top_100_streamers_for_each_game(game_dict):\n",
    "    '''Given the twitch response for top 100 games, this will cycle through and pull the top 100\n",
    "    streamers for each game, stored under a dict entry of the title of that game'''\n",
    "    stream_dict = dict()\n",
    "    url = 'https://api.twitch.tv/helix/streams?first=100&gameid='\n",
    "    for game in game_dict['data']:\n",
    "        req = requests.get(url + game['id'],headers=headers)\n",
    "        check_api_limit_reached(req)    \n",
    "        stream_dict[game['name']]=json.loads(req.text)\n",
    "    return stream_dict"
   ]
  },
  {
   "cell_type": "code",
   "execution_count": null,
   "metadata": {
    "scrolled": true
   },
   "outputs": [
    {
     "name": "stdout",
     "output_type": "stream",
     "text": [
      "Waiting for API limit to refresh (30s)...\n",
      "Continuing...\n",
      "Waiting for API limit to refresh (30s)...\n"
     ]
    }
   ],
   "source": [
    "stream_dict = dict()\n",
    "follower_dict = dict()\n",
    "streamer_url = 'https://api.twitch.tv/helix/streams?first=100&gameid=' # + game['id']\n",
    "follower_url = 'https://api.twitch.tv/helix/users/follows?first=1&to_id='# + game['userid']\n",
    "\n",
    "for game in r_dict['data']:\n",
    "    req = requests.get(streamer_url + game['id'],headers=headers)\n",
    "    check_api_limit_reached(req)    \n",
    "    \n",
    "    for stream in json.loads(req.text)['data']:\n",
    "        follow_req = requests.get(follower_url + stream['user_id'],headers=headers)\n",
    "        follower_dict[stream['user_id']] = json.loads(follow_req.text)['total']\n",
    "        check_api_limit_reached(follow_req)    \n",
    "\n",
    "    stream_dict[game['name']]=json.loads(req.text)\n"
   ]
  },
  {
   "cell_type": "code",
   "execution_count": 176,
   "metadata": {},
   "outputs": [
    {
     "data": {
      "text/plain": [
       "{'id': '34342686896',\n",
       " 'user_id': '229729353',\n",
       " 'user_name': 'CriticalRole',\n",
       " 'game_id': '509577',\n",
       " 'community_ids': [],\n",
       " 'type': 'live',\n",
       " 'title': 'Critical Role Campaign 2, Episode 65 (5/30 at 7pm PDT) ',\n",
       " 'viewer_count': 52383,\n",
       " 'started_at': '2019-05-31T01:39:57Z',\n",
       " 'language': 'en',\n",
       " 'thumbnail_url': 'https://static-cdn.jtvnw.net/previews-ttv/live_user_criticalrole-{width}x{height}.jpg',\n",
       " 'tag_ids': ['d35073b8-0e52-4375-9f75-3dde0c567911',\n",
       "  'd6bf03b8-42f4-4981-b070-841c7457a9aa',\n",
       "  '0cb7e377-a308-44e8-91f7-07eea1d96129',\n",
       "  '6ea6bca4-4712-4ab9-a906-e3336a9d8039']}"
      ]
     },
     "execution_count": 176,
     "metadata": {},
     "output_type": "execute_result"
    }
   ],
   "source": [
    "json.loads(req.text)['data'][0]"
   ]
  },
  {
   "cell_type": "code",
   "execution_count": 165,
   "metadata": {},
   "outputs": [
    {
     "data": {
      "text/plain": [
       "{'id': '33214',\n",
       " 'name': 'Fortnite',\n",
       " 'box_art_url': 'https://static-cdn.jtvnw.net/ttv-boxart/Fortnite-{width}x{height}.jpg'}"
      ]
     },
     "execution_count": 165,
     "metadata": {},
     "output_type": "execute_result"
    }
   ],
   "source": [
    "r_dict['data'][0]"
   ]
  },
  {
   "cell_type": "code",
   "execution_count": 143,
   "metadata": {},
   "outputs": [
    {
     "ename": "NameError",
     "evalue": "name 'stream_dict' is not defined",
     "output_type": "error",
     "traceback": [
      "\u001b[0;31m---------------------------------------------------------------------------\u001b[0m",
      "\u001b[0;31mNameError\u001b[0m                                 Traceback (most recent call last)",
      "\u001b[0;32m<ipython-input-143-96fbda80b8f5>\u001b[0m in \u001b[0;36m<module>\u001b[0;34m\u001b[0m\n\u001b[0;32m----> 1\u001b[0;31m \u001b[0mstream_dict\u001b[0m\u001b[0;34m\u001b[0m\u001b[0;34m\u001b[0m\u001b[0m\n\u001b[0m",
      "\u001b[0;31mNameError\u001b[0m: name 'stream_dict' is not defined"
     ]
    }
   ],
   "source": [
    "stream_dict"
   ]
  },
  {
   "cell_type": "code",
   "execution_count": 121,
   "metadata": {},
   "outputs": [],
   "source": [
    "with open(\"data_file.json\", \"w\") as write_file:\n",
    "    json.dump(stream_dict, write_file)"
   ]
  },
  {
   "cell_type": "code",
   "execution_count": 122,
   "metadata": {},
   "outputs": [],
   "source": [
    "del stream_dict"
   ]
  },
  {
   "cell_type": "code",
   "execution_count": 123,
   "metadata": {},
   "outputs": [],
   "source": [
    "with open(\"data_file.json\", \"r\") as read_file:\n",
    "    data = json.load(read_file)"
   ]
  },
  {
   "cell_type": "code",
   "execution_count": 160,
   "metadata": {},
   "outputs": [
    {
     "data": {
      "text/plain": [
       "'229729353'"
      ]
     },
     "execution_count": 160,
     "metadata": {},
     "output_type": "execute_result"
    }
   ],
   "source": [
    "data['Fortnite']['data'][0]['user_id']"
   ]
  },
  {
   "cell_type": "code",
   "execution_count": 158,
   "metadata": {},
   "outputs": [
    {
     "name": "stdout",
     "output_type": "stream",
     "text": [
      "Variable                              Type             Data/Info\n",
      "----------------------------------------------------------------\n",
      "check_api_limit                       function         <function check_api_limit at 0x11eb45b70>\n",
      "check_api_limit_reached               function         <function check_api_limit_reached at 0x126d38950>\n",
      "clientID                              str              vb2kmh60pt0tee6o2c11ko6n2t1w9a\n",
      "create_engine                         function         <function create_engine at 0x11b2c68c8>\n",
      "data                                  dict             n=99\n",
      "game                                  dict             n=3\n",
      "get_top_100_games                     function         <function get_top_100_games at 0x126d277b8>\n",
      "get_top_100_streamers_for_each_game   function         <function get_top_100_str<...>each_game at 0x126d279d8>\n",
      "headers                               dict             n=1\n",
      "json                                  module           <module 'json' from '/ana<...>hon3.7/json/__init__.py'>\n",
      "logging                               module           <module 'logging' from '/<...>3.7/logging/__init__.py'>\n",
      "os                                    module           <module 'os' from '/anaco<...>da3/lib/python3.7/os.py'>\n",
      "output_list                           list             n=99\n",
      "pd                                    module           <module 'pandas' from '/a<...>ages/pandas/__init__.py'>\n",
      "pickle                                module           <module 'pickle' from '/a<...>lib/python3.7/pickle.py'>\n",
      "pp                                    PrettyPrinter    <pprint.PrettyPrinter object at 0x126d313c8>\n",
      "pprint                                module           <module 'pprint' from '/a<...>lib/python3.7/pprint.py'>\n",
      "r                                     Response         <Response [200]>\n",
      "r_dict                                dict             n=2\n",
      "read_file                             TextIOWrapper    <_io.TextIOWrapper name='<...>ode='r' encoding='UTF-8'>\n",
      "req                                   Response         <Response [200]>\n",
      "requests                              module           <module 'requests' from '<...>es/requests/__init__.py'>\n",
      "subprocess                            module           <module 'subprocess' from<...>python3.7/subprocess.py'>\n",
      "testimate                             Response         <Response [200]>\n",
      "testrequest                           str              {\"total\":6166637,\"data\":[<...>jg5MzIyMzk5MDQzNTQifX0\"}}\n",
      "tfue_id                               str              60056333\n",
      "time                                  module           <module 'time' (built-in)>\n",
      "url                                   str              https://api.twitch.tv/hel<...>streams?first=100&gameid=\n",
      "urllib                                module           <module 'urllib' from '/a<...>n3.7/urllib/__init__.py'>\n",
      "write_file                            TextIOWrapper    <_io.TextIOWrapper name='<...>ode='w' encoding='UTF-8'>\n"
     ]
    }
   ],
   "source": [
    "whos"
   ]
  },
  {
   "cell_type": "code",
   "execution_count": 26,
   "metadata": {},
   "outputs": [],
   "source": [
    " pickle.dump(output_list, open( \"output.p\", \"wb\" ) )"
   ]
  },
  {
   "cell_type": "code",
   "execution_count": 28,
   "metadata": {},
   "outputs": [
    {
     "name": "stdout",
     "output_type": "stream",
     "text": [
      "/Users/jchow/Work/MetisCode/twitch-streamer-recommender/gitRoot/Twitch_Streamers_Recommender/Scraper_Notebook\r\n"
     ]
    }
   ],
   "source": [
    "!pwd"
   ]
  },
  {
   "cell_type": "code",
   "execution_count": 34,
   "metadata": {},
   "outputs": [],
   "source": [
    "tfue_id = output_list[0]['data'][0]['user_id']\n",
    "#[0]['user_id']"
   ]
  },
  {
   "cell_type": "code",
   "execution_count": 152,
   "metadata": {},
   "outputs": [
    {
     "data": {
      "text/plain": [
       "'{\"total\":6166637,\"data\":[{\"from_id\":\"438578472\",\"from_name\":\"hentayuu\",\"to_id\":\"60056333\",\"to_name\":\"Tfue\",\"followed_at\":\"2019-05-31T02:15:32Z\"}],\"pagination\":{\"cursor\":\"eyJiIjpudWxsLCJhIjp7IkN1cnNvciI6IjE1NTkyNjg5MzIyMzk5MDQzNTQifX0\"}}'"
      ]
     },
     "execution_count": 152,
     "metadata": {},
     "output_type": "execute_result"
    }
   ],
   "source": []
  },
  {
   "cell_type": "code",
   "execution_count": 153,
   "metadata": {},
   "outputs": [
    {
     "data": {
      "text/plain": [
       "6166637"
      ]
     },
     "execution_count": 153,
     "metadata": {},
     "output_type": "execute_result"
    }
   ],
   "source": [
    "json.loads(testrequest)['total']"
   ]
  },
  {
   "cell_type": "code",
   "execution_count": 90,
   "metadata": {
    "scrolled": true
   },
   "outputs": [],
   "source": [
    "url = 'https://api.twitch.tv/helix/users/follows?first=1&to_id=' + tfue_id\n",
    "testrequest=requests.get(url,headers=headers).text"
   ]
  },
  {
   "cell_type": "code",
   "execution_count": 39,
   "metadata": {},
   "outputs": [],
   "source": [
    "# Example api ping through command line\n",
    "# !curl -H 'Client-ID: vb2kmh60pt0tee6o2c11ko6n2t1w9a' \\-X GET https://api.twitch.tv/helix/games/top"
   ]
  },
  {
   "cell_type": "code",
   "execution_count": null,
   "metadata": {},
   "outputs": [],
   "source": []
  }
 ],
 "metadata": {
  "kernelspec": {
   "display_name": "Python 3",
   "language": "python",
   "name": "python3"
  },
  "language_info": {
   "codemirror_mode": {
    "name": "ipython",
    "version": 3
   },
   "file_extension": ".py",
   "mimetype": "text/x-python",
   "name": "python",
   "nbconvert_exporter": "python",
   "pygments_lexer": "ipython3",
   "version": "3.7.3"
  }
 },
 "nbformat": 4,
 "nbformat_minor": 2
}
