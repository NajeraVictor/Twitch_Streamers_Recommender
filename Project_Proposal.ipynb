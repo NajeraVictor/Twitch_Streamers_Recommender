{
 "cells": [
  {
   "cell_type": "markdown",
   "metadata": {},
   "source": [
    "## Twitch Recommender for Streamers ##\n",
    "\n",
    "For this project, we analyze the Twitch stream data to determine two things:\n",
    "\n",
    "* First step - which games are rising in popularity and have gaps in the streamer availability to be able to recommend new streamers what to begin streaming.\n",
    "* Second step - for those streamers who already stream their favorite games we intend to recommend other similarly appealing games for them to try and stream.\n",
    "\n",
    "### Aquision of the Data ###\n",
    "\n",
    "We used the Twitch API to pull in the live stream data from the Twitch website using our AWS EC2 instance and funneling the data into a POSTGRESQL database using Amazon RDS services.\n",
    "\n",
    "We collected +++ data over the course of +++ days, sending the requests to Twitch every ++++ hours."
   ]
  },
  {
   "cell_type": "markdown",
   "metadata": {},
   "source": [
    "### Analysis Steps ###\n",
    "\n",
    "To calculate which games are going to be on the rise, we first analyzed which games appeared to be increasing in viewership compared to channels providing the said games."
   ]
  },
  {
   "cell_type": "code",
   "execution_count": null,
   "metadata": {},
   "outputs": [],
   "source": [
    "Connecting to "
   ]
  },
  {
   "cell_type": "markdown",
   "metadata": {},
   "source": []
  }
 ],
 "metadata": {
  "kernelspec": {
   "display_name": "Python 3",
   "language": "python",
   "name": "python3"
  },
  "language_info": {
   "codemirror_mode": {
    "name": "ipython",
    "version": 3
   },
   "file_extension": ".py",
   "mimetype": "text/x-python",
   "name": "python",
   "nbconvert_exporter": "python",
   "pygments_lexer": "ipython3",
   "version": "3.7.3"
  }
 },
 "nbformat": 4,
 "nbformat_minor": 2
}
